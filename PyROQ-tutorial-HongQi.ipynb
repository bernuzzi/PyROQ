{
 "cells": [
  {
   "cell_type": "code",
   "execution_count": 1,
   "metadata": {},
   "outputs": [
    {
     "name": "stdout",
     "output_type": "stream",
     "text": [
      "Collecting PyROQ==0.1.17\n",
      "  Downloading https://files.pythonhosted.org/packages/b1/c9/e06ff9ea1120f1a4bf5e6f32aab07f9aad90e9950f8722fc440124be151b/PyROQ-0.1.17-py3-none-any.whl\n",
      "Installing collected packages: PyROQ\n",
      "  Found existing installation: PyROQ 0.1.14\n",
      "    Uninstalling PyROQ-0.1.14:\n",
      "      Successfully uninstalled PyROQ-0.1.14\n",
      "Successfully installed PyROQ-0.1.17\n"
     ]
    }
   ],
   "source": [
    "!pip install --user PyROQ==0.1.17"
   ]
  },
  {
   "cell_type": "code",
   "execution_count": 1,
   "metadata": {},
   "outputs": [],
   "source": [
    "import numpy\n",
    "import numpy as np\n",
    "import scipy\n",
    "%matplotlib inline\n",
    "import matplotlib\n",
    "import matplotlib.pyplot as plt\n",
    "import lal\n",
    "import lalsimulation\n",
    "from lal.lal import PC_SI as LAL_PC_SI\n",
    "import h5py\n",
    "import warnings\n",
    "import random\n",
    "warnings.filterwarnings('ignore')\n",
    "import matplotlib.pylab as pylab\n",
    "plot_params = {'legend.fontsize': 'x-large',\n",
    "          'figure.figsize': (15, 9),\n",
    "         'axes.labelsize': 'x-large',\n",
    "         'axes.titlesize':'x-large',\n",
    "         'xtick.labelsize':'x-large',\n",
    "         'ytick.labelsize':'x-large'}\n",
    "pylab.rcParams.update(plot_params)\n",
    "from mpl_toolkits.mplot3d import axes3d\n",
    "#import PyROQ.pyroq as pyroq\n",
    "import pyroq as pyroq"
   ]
  },
  {
   "cell_type": "markdown",
   "metadata": {},
   "source": [
    "# Setting up boundary conditions and tolerance requirements."
   ]
  },
  {
   "cell_type": "code",
   "execution_count": 2,
   "metadata": {},
   "outputs": [
    {
     "name": "stdout",
     "output_type": "stream",
     "text": [
      "mass-min, mass-max:  [12.011244339814313, 72.06746603888588]\n"
     ]
    }
   ],
   "source": [
    "mc_low = 20\n",
    "mc_high = 30\n",
    "q_low = 1\n",
    "q_high = 4\n",
    "s1sphere_low = [0, 0, 0]\n",
    "s1sphere_high = [0.2, numpy.pi, 2.0*numpy.pi]\n",
    "s2sphere_low = [0, 0, 0]\n",
    "s2sphere_high = [0.2, numpy.pi, 2.0*numpy.pi]\n",
    "ecc_low = 0.0\n",
    "ecc_high = 0.2\n",
    "lambda1_low = 0\n",
    "lambda1_high = 1000\n",
    "lambda2_low = 0\n",
    "lambda2_high = 1000\n",
    "iota_low = 0\n",
    "iota_high = numpy.pi\n",
    "phiref_low = 0\n",
    "phiref_high = 2*numpy.pi\n",
    "f_min = 20\n",
    "f_max = 2048\n",
    "deltaF = 0.25\n",
    "distance = 10 * LAL_PC_SI * 1.0e6  # 10 Mpc is default \n",
    "waveFlags = lal.CreateDict()\n",
    "\n",
    "\n",
    "#approximant = lalsimulation.IMRPhenomPv2_NRTidal\n",
    "approximant = lalsimulation.IMRPhenomPv2\n",
    "print(\"mass-min, mass-max: \", pyroq.massrange(mc_low, mc_high, q_low, q_high))\n",
    "\n",
    "npts = 30 # Specify the number of points for each search for a new basis element\n",
    "nts = 123 # Number of random test waveforms\n",
    "\n",
    "nbases = 100 # Specify the number of linear basis elements\n",
    "ndimlow = 60 # Starting number of basis elements used to check if tolerance is satisfied\n",
    "ndimhigh = nbases+1\n",
    "ndimstepsize = 20 # Number of linear basis elements increament to get the basis satisfying the tolerance\n",
    "tolerance = 1e-8 # Surrogage error threshold for linear basis elements\n",
    "\n",
    "nbases_quad = 80 # Specify the number of quadratic basis elements\n",
    "ndimlow_quad = 40 \n",
    "ndimhigh_quad = nbases_quad+1\n",
    "ndimstepsize_quad = 20\n",
    "tolerance_quad = 1e-6 # Surrogage error threshold for quadratic basis elements"
   ]
  },
  {
   "cell_type": "code",
   "execution_count": 3,
   "metadata": {},
   "outputs": [],
   "source": [
    "freq = numpy.arange(f_min,f_max,deltaF)\n",
    "nparams, params_low, params_high, params_start, hp1 = pyroq.initial_basis(mc_low, mc_high, q_low, q_high, s1sphere_low, s1sphere_high, \\\n",
    "                  s2sphere_low, s2sphere_high, ecc_low, ecc_high, lambda1_low, lambda1_high,\\\n",
    "                 lambda2_low, lambda2_high, iota_low, iota_high, phiref_low, phiref_high, distance, deltaF, f_min, f_max, waveFlags, approximant)\n"
   ]
  },
  {
   "cell_type": "code",
   "execution_count": 4,
   "metadata": {},
   "outputs": [
    {
     "name": "stdout",
     "output_type": "stream",
     "text": [
      "10\n"
     ]
    }
   ],
   "source": [
    "print(nparams)"
   ]
  },
  {
   "cell_type": "markdown",
   "metadata": {},
   "source": [
    "# Searching for linear basis elements to build and save linear ROQ data in local directory."
   ]
  },
  {
   "cell_type": "code",
   "execution_count": 5,
   "metadata": {},
   "outputs": [
    {
     "name": "stdout",
     "output_type": "stream",
     "text": [
      "Linear Iter:  0\n",
      "Linear Iter:  1\n",
      "Linear Iter:  2\n",
      "Linear Iter:  3\n",
      "Linear Iter:  4\n",
      "Linear Iter:  5\n",
      "Linear Iter:  6\n",
      "Linear Iter:  7\n",
      "Linear Iter:  8\n",
      "Linear Iter:  9\n",
      "Linear Iter:  10\n",
      "Linear Iter:  11\n",
      "Linear Iter:  12\n",
      "Linear Iter:  13\n",
      "Linear Iter:  14\n",
      "Linear Iter:  15\n",
      "Linear Iter:  16\n",
      "Linear Iter:  17\n",
      "Linear Iter:  18\n",
      "Linear Iter:  19\n",
      "Linear Iter:  20\n",
      "Linear Iter:  21\n",
      "Linear Iter:  22\n",
      "Linear Iter:  23\n",
      "Linear Iter:  24\n",
      "Linear Iter:  25\n",
      "Linear Iter:  26\n",
      "Linear Iter:  27\n",
      "Linear Iter:  28\n",
      "Linear Iter:  29\n",
      "Linear Iter:  30\n",
      "Linear Iter:  31\n",
      "Linear Iter:  32\n",
      "Linear Iter:  33\n",
      "Linear Iter:  34\n",
      "Linear Iter:  35\n",
      "Linear Iter:  36\n",
      "Linear Iter:  37\n",
      "Linear Iter:  38\n",
      "Linear Iter:  39\n",
      "Linear Iter:  40\n",
      "Linear Iter:  41\n",
      "Linear Iter:  42\n",
      "Linear Iter:  43\n",
      "Linear Iter:  44\n",
      "Linear Iter:  45\n",
      "Linear Iter:  46\n",
      "Linear Iter:  47\n",
      "Linear Iter:  48\n",
      "Linear Iter:  49\n",
      "Linear Iter:  50\n",
      "Linear Iter:  51\n",
      "Linear Iter:  52\n",
      "Linear Iter:  53\n",
      "Linear Iter:  54\n",
      "Linear Iter:  55\n",
      "Linear Iter:  56\n",
      "Linear Iter:  57\n",
      "Linear Iter:  58\n",
      "Linear Iter:  59\n",
      "Linear Iter:  60\n",
      "Linear Iter:  61\n",
      "Linear Iter:  62\n",
      "Linear Iter:  63\n",
      "Linear Iter:  64\n",
      "Linear Iter:  65\n",
      "Linear Iter:  66\n",
      "Linear Iter:  67\n",
      "Linear Iter:  68\n",
      "Linear Iter:  69\n",
      "Linear Iter:  70\n",
      "Linear Iter:  71\n",
      "Linear Iter:  72\n",
      "Linear Iter:  73\n",
      "Linear Iter:  74\n",
      "Linear Iter:  75\n",
      "Linear Iter:  76\n",
      "Linear Iter:  77\n",
      "Linear Iter:  78\n",
      "Linear Iter:  79\n",
      "Linear Iter:  80\n",
      "Linear Iter:  81\n",
      "Linear Iter:  82\n",
      "Linear Iter:  83\n",
      "Linear Iter:  84\n",
      "Linear Iter:  85\n",
      "Linear Iter:  86\n",
      "Linear Iter:  87\n",
      "Linear Iter:  88\n",
      "Linear Iter:  89\n",
      "Linear Iter:  90\n",
      "Linear Iter:  91\n",
      "Linear Iter:  92\n",
      "Linear Iter:  93\n",
      "Linear Iter:  94\n",
      "Linear Iter:  95\n",
      "Linear Iter:  96\n",
      "Linear Iter:  97\n",
      "Linear Iter:  98\n",
      "(100, 8112) [0.00000000e+00 2.32541168e-20 2.77169291e-20 2.34907516e-20\n",
      " 2.43781255e-20 2.38181562e-20 3.23610702e-20 2.12779551e-20\n",
      " 3.71832362e-20 2.79255010e-20 2.59894722e-20 2.48527821e-20\n",
      " 2.04810338e-20 1.58457857e-20 3.12308086e-20 3.03412271e-20\n",
      " 1.85495005e-20 3.57031718e-20 1.53081200e-20 1.87184570e-20\n",
      " 1.59974286e-20 1.29199910e-20 1.48294248e-20 4.58573278e-21\n",
      " 9.25839070e-21 4.70456143e-21 2.10807545e-21 3.25811511e-21\n",
      " 2.12793746e-21 9.78918982e-22 8.18844781e-22 2.82653373e-21\n",
      " 8.71509074e-22 7.25302382e-22 3.36470102e-22 4.17181292e-22\n",
      " 2.32511290e-22 3.03906915e-22 1.72815525e-22 3.36852018e-22\n",
      " 1.91402280e-22 1.54549534e-22 3.94486904e-22 1.14715024e-22\n",
      " 3.66471395e-22 1.68036947e-22 8.75655882e-23 3.65032999e-22\n",
      " 6.15443196e-23 1.72979081e-22 3.60835614e-23 6.52105791e-23\n",
      " 2.55504932e-23 1.69749548e-23 2.36455889e-23 1.81412554e-23\n",
      " 1.18043927e-23 1.11353573e-23 1.96610024e-23 2.14103142e-23\n",
      " 9.93846194e-24 8.53660275e-24 8.40724040e-24 1.26070732e-23\n",
      " 1.01234992e-23 1.91081656e-23 9.86289404e-24 8.37020567e-24\n",
      " 6.48964089e-24 7.28786210e-24 5.48038340e-24 5.93865384e-24\n",
      " 4.98652747e-24 5.00126412e-24 4.60383435e-24 4.45197375e-24\n",
      " 6.40095912e-24 4.19120052e-24 4.86922262e-24 7.43228850e-24\n",
      " 3.35310470e-24 5.44011096e-24 3.54972888e-24 3.29692241e-24\n",
      " 2.23640972e-24 3.04500258e-24 3.39272486e-24 3.48346144e-24\n",
      " 3.24657405e-24 2.38593708e-24 2.80766736e-24 2.79281646e-24\n",
      " 2.62739116e-24 1.78098700e-24 2.26907822e-24 1.98500015e-24\n",
      " 2.03172398e-24 1.35214350e-24 1.51086237e-24 2.24124117e-24]\n"
     ]
    }
   ],
   "source": [
    "known_bases_start = numpy.array([hp1/numpy.sqrt(numpy.vdot(hp1,hp1))])\n",
    "basis_waveforms_start = numpy.array([hp1])\n",
    "residual_modula_start = numpy.array([0.0])\n",
    "known_bases, params, residual_modula = pyroq.bases_searching_results_unnormalized(npts, nparams, nbases, known_bases_start, basis_waveforms_start, params_start, residual_modula_start, params_low, params_high, distance, deltaF, f_min, f_max, waveFlags, approximant)\n",
    "print(known_bases.shape, residual_modula)\n",
    "known_bases_copy = known_bases\n",
    "known_bases = known_bases_copy"
   ]
  },
  {
   "cell_type": "code",
   "execution_count": 6,
   "metadata": {},
   "outputs": [
    {
     "name": "stdout",
     "output_type": "stream",
     "text": [
      "60 basis elements gave 1 bad points of surrogate error >  1e-08\n",
      "80 basis elements gave 0 bad points of surrogate error >  1e-08\n",
      "Number of linear basis elements is  80 and the linear ROQ data save in B_linear.npy\n",
      "Number of basis elements:  80\n"
     ]
    }
   ],
   "source": [
    "pyroq.roqs(tolerance, freq, ndimlow, ndimhigh, ndimstepsize, known_bases, nts, nparams, params_low, params_high, distance, deltaF, f_min, f_max, waveFlags, approximant)\n",
    "b1 = numpy.load('./B_linear.npy')\n",
    "f1 = numpy.load('./fnodes_linear.npy')\n",
    "#print(b1.shape, f1.shape)\n",
    "b_linear = numpy.transpose(numpy.load('./B_linear.npy'))\n",
    "ndim = b_linear.shape[1]\n",
    "print(\"Number of basis elements: \", ndim)"
   ]
  },
  {
   "cell_type": "code",
   "execution_count": 7,
   "metadata": {},
   "outputs": [
    {
     "data": {
      "image/png": "[encoded data removed]",
      "text/plain": [
       "<Figure size 432x288 with 1 Axes>"
      ]
     },
     "metadata": {
      "needs_background": "light"
     },
     "output_type": "display_data"
    }
   ],
   "source": [
    "test_mc = 20\n",
    "test_q = 4\n",
    "test_s1 = [0.,0.2,-0.]\n",
    "test_s2 = [0.,0.15,-0.1]\n",
    "test_ecc = 0\n",
    "test_lambda1 = 0\n",
    "test_lambda2 = 0\n",
    "test_iota = 1.9\n",
    "test_phiref = 0.6\n",
    "\n",
    "ndim, inverse_V, emp_nodes = pyroq.empnodes(ndim, known_bases_copy)\n",
    "pyroq.testrep(b_linear, emp_nodes, test_mc, test_q, test_s1, test_s2, test_ecc, test_lambda1, test_lambda2, test_iota, test_phiref, distance, deltaF, f_min, f_max, waveFlags, approximant)\n",
    " "
   ]
  },
  {
   "cell_type": "markdown",
   "metadata": {},
   "source": [
    "# Searching for quadratic basis elements and build quadratic ROQ data"
   ]
  },
  {
   "cell_type": "code",
   "execution_count": 8,
   "metadata": {},
   "outputs": [
    {
     "name": "stdout",
     "output_type": "stream",
     "text": [
      "Quadratic Iter:  0\n",
      "Quadratic Iter:  1\n",
      "Quadratic Iter:  2\n",
      "Quadratic Iter:  3\n",
      "Quadratic Iter:  4\n",
      "Quadratic Iter:  5\n",
      "Quadratic Iter:  6\n",
      "Quadratic Iter:  7\n",
      "Quadratic Iter:  8\n",
      "Quadratic Iter:  9\n",
      "Quadratic Iter:  10\n",
      "Quadratic Iter:  11\n",
      "Quadratic Iter:  12\n",
      "Quadratic Iter:  13\n",
      "Quadratic Iter:  14\n",
      "Quadratic Iter:  15\n",
      "Quadratic Iter:  16\n",
      "Quadratic Iter:  17\n",
      "Quadratic Iter:  18\n",
      "Quadratic Iter:  19\n",
      "Quadratic Iter:  20\n",
      "Quadratic Iter:  21\n",
      "Quadratic Iter:  22\n",
      "Quadratic Iter:  23\n",
      "Quadratic Iter:  24\n",
      "Quadratic Iter:  25\n",
      "Quadratic Iter:  26\n",
      "Quadratic Iter:  27\n",
      "Quadratic Iter:  28\n",
      "Quadratic Iter:  29\n",
      "Quadratic Iter:  30\n",
      "Quadratic Iter:  31\n",
      "Quadratic Iter:  32\n",
      "Quadratic Iter:  33\n",
      "Quadratic Iter:  34\n",
      "Quadratic Iter:  35\n",
      "Quadratic Iter:  36\n",
      "Quadratic Iter:  37\n",
      "Quadratic Iter:  38\n",
      "Quadratic Iter:  39\n",
      "Quadratic Iter:  40\n",
      "Quadratic Iter:  41\n",
      "Quadratic Iter:  42\n",
      "Quadratic Iter:  43\n",
      "Quadratic Iter:  44\n",
      "Quadratic Iter:  45\n",
      "Quadratic Iter:  46\n",
      "Quadratic Iter:  47\n",
      "Quadratic Iter:  48\n",
      "Quadratic Iter:  49\n",
      "Quadratic Iter:  50\n",
      "Quadratic Iter:  51\n",
      "Quadratic Iter:  52\n",
      "Quadratic Iter:  53\n",
      "Quadratic Iter:  54\n",
      "Quadratic Iter:  55\n",
      "Quadratic Iter:  56\n",
      "Quadratic Iter:  57\n",
      "Quadratic Iter:  58\n",
      "Quadratic Iter:  59\n",
      "Quadratic Iter:  60\n",
      "Quadratic Iter:  61\n",
      "Quadratic Iter:  62\n",
      "Quadratic Iter:  63\n",
      "Quadratic Iter:  64\n",
      "Quadratic Iter:  65\n",
      "Quadratic Iter:  66\n",
      "Quadratic Iter:  67\n",
      "Quadratic Iter:  68\n",
      "Quadratic Iter:  69\n",
      "Quadratic Iter:  70\n",
      "Quadratic Iter:  71\n",
      "Quadratic Iter:  72\n",
      "Quadratic Iter:  73\n",
      "Quadratic Iter:  74\n",
      "Quadratic Iter:  75\n",
      "Quadratic Iter:  76\n",
      "Quadratic Iter:  77\n",
      "Quadratic Iter:  78\n"
     ]
    }
   ],
   "source": [
    "hp1_quad = (numpy.absolute(hp1))**2\n",
    "known_quad_bases_start = numpy.array([hp1_quad/numpy.sqrt(numpy.vdot(hp1_quad,hp1_quad))])\n",
    "basis_waveforms_quad_start = numpy.array([hp1_quad])\n",
    "residual_modula_start = numpy.array([0.0])\n",
    "known_quad_bases,params_quad,residual_modula_quad = pyroq.bases_searching_quadratic_results_unnormalized(npts, nparams, nbases_quad, known_quad_bases_start, basis_waveforms_quad_start, params_start, residual_modula_start, params_low, params_high, distance, deltaF, f_min, f_max, waveFlags, approximant)\n",
    "known_quad_bases_copy = known_quad_bases\n"
   ]
  },
  {
   "cell_type": "code",
   "execution_count": 9,
   "metadata": {},
   "outputs": [],
   "source": [
    "points = numpy.random.uniform(params_low, params_high, size=(npts,nparams))\n"
   ]
  },
  {
   "cell_type": "code",
   "execution_count": 10,
   "metadata": {},
   "outputs": [
    {
     "name": "stdout",
     "output_type": "stream",
     "text": [
      "3.085677581491367e+23 0.25 20 2048\n",
      "40 basis elements gave 0 bad points of surrogate error >  1e-06\n",
      "Number of quadratic basis elements is  40 and the linear ROQ data save in B_quadratic.npy\n",
      "(40, 8112) (40,)\n"
     ]
    }
   ],
   "source": [
    "known_quad_bases = known_quad_bases_copy\n",
    "print(distance, deltaF, f_min, f_max)\n",
    "pyroq.roqs_quad(tolerance_quad, freq, ndimlow_quad, ndimhigh_quad, ndimstepsize_quad, known_quad_bases, nts, nparams, params_low, params_high, distance, deltaF, f_min, f_max, waveFlags, approximant)\n",
    "b2 = numpy.load('./B_quadratic.npy')\n",
    "f2 = numpy.load('./fnodes_quadratic.npy')\n",
    "print(b2.shape, f2.shape)"
   ]
  },
  {
   "cell_type": "code",
   "execution_count": 11,
   "metadata": {},
   "outputs": [
    {
     "name": "stdout",
     "output_type": "stream",
     "text": [
      "40\n"
     ]
    },
    {
     "data": {
      "image/png": "[encoded data removed]",
      "text/plain": [
       "<Figure size 432x288 with 1 Axes>"
      ]
     },
     "metadata": {
      "needs_background": "light"
     },
     "output_type": "display_data"
    }
   ],
   "source": [
    "test_mc_quad =20\n",
    "test_q_quad = 1\n",
    "test_s1_quad = [0.0, 0.0, 0.0]\n",
    "test_s2_quad = [0.0, 0.0, 0.0]\n",
    "test_ecc_quad = 0\n",
    "test_lambda1_quad = 0\n",
    "test_lambda2_quad = 0\n",
    "test_iota_quad = 1.9\n",
    "test_phiref_quad = 0.6\n",
    "\n",
    "b_quad = numpy.transpose(numpy.load('./B_quadratic.npy'))\n",
    "ndim_quad = b_quad.shape[1]\n",
    "print(ndim_quad)\n",
    "ndim_quad, inverse_V_quad, emp_nodes_quad = pyroq.empnodes_quad(ndim_quad, known_quad_bases_copy)\n",
    "pyroq.testrep_quad(b_quad, emp_nodes_quad, test_mc_quad, test_q_quad, test_s1_quad, test_s2_quad, test_ecc_quad, test_lambda1_quad, test_lambda2_quad, test_iota_quad, test_phiref_quad, distance, deltaF, f_min, f_max, waveFlags, approximant)\n"
   ]
  },
  {
   "cell_type": "code",
   "execution_count": null,
   "metadata": {},
   "outputs": [],
   "source": []
  }
 ],
 "metadata": {
  "kernelspec": {
   "display_name": "ligo-py36",
   "language": "python",
   "name": "ligo-py36"
  },
  "language_info": {
   "codemirror_mode": {
    "name": "ipython",
    "version": 3
   },
   "file_extension": ".py",
   "mimetype": "text/x-python",
   "name": "python",
   "nbconvert_exporter": "python",
   "pygments_lexer": "ipython3",
   "version": "3.6.7"
  }
 },
 "nbformat": 4,
 "nbformat_minor": 4
}
