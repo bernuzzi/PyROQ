{
 "cells": [
  {
   "cell_type": "code",
   "execution_count": 2,
   "metadata": {},
   "outputs": [
    {
     "name": "stdout",
     "output_type": "stream",
     "text": [
      "Collecting PyROQ==0.1.19\n",
      "  Downloading https://files.pythonhosted.org/packages/63/30/2bd0cdaf450844dce0157e98506c64f16222827df76ae2c3e985363bb281/PyROQ-0.1.19-py3-none-any.whl\n",
      "Installing collected packages: PyROQ\n",
      "  Found existing installation: PyROQ 0.1.17\n",
      "    Uninstalling PyROQ-0.1.17:\n",
      "      Successfully uninstalled PyROQ-0.1.17\n",
      "Successfully installed PyROQ-0.1.19\n"
     ]
    }
   ],
   "source": [
    "!pip install --user PyROQ==0.1.19"
   ]
  },
  {
   "cell_type": "code",
   "execution_count": 1,
   "metadata": {},
   "outputs": [],
   "source": [
    "import numpy\n",
    "import numpy as np\n",
    "import scipy\n",
    "%matplotlib inline\n",
    "import matplotlib\n",
    "import matplotlib.pyplot as plt\n",
    "import lal\n",
    "import lalsimulation\n",
    "from lal.lal import PC_SI as LAL_PC_SI\n",
    "import h5py\n",
    "import warnings\n",
    "import random\n",
    "warnings.filterwarnings('ignore')\n",
    "import matplotlib.pylab as pylab\n",
    "plot_params = {'legend.fontsize': 'x-large',\n",
    "          'figure.figsize': (15, 9),\n",
    "         'axes.labelsize': 'x-large',\n",
    "         'axes.titlesize':'x-large',\n",
    "         'xtick.labelsize':'x-large',\n",
    "         'ytick.labelsize':'x-large'}\n",
    "pylab.rcParams.update(plot_params)\n",
    "from mpl_toolkits.mplot3d import axes3d\n",
    "import PyROQ.pyroq as pyroq\n",
    "#import pyroq as pyroq"
   ]
  },
  {
   "cell_type": "markdown",
   "metadata": {},
   "source": [
    "# Setting up boundary conditions and tolerance requirements."
   ]
  },
  {
   "cell_type": "code",
   "execution_count": 2,
   "metadata": {},
   "outputs": [
    {
     "name": "stdout",
     "output_type": "stream",
     "text": [
      "mass-min, mass-max:  [16.437518295172257, 49.31255488551677]\n"
     ]
    }
   ],
   "source": [
    "mc_low = 20\n",
    "mc_high = 30\n",
    "q_low = 1\n",
    "q_high = 2\n",
    "s1sphere_low = [0, 0, 0]\n",
    "s1sphere_high = [0.2, numpy.pi, 2.0*numpy.pi]\n",
    "s2sphere_low = [0, 0, 0]\n",
    "s2sphere_high = [0.2, numpy.pi, 2.0*numpy.pi]\n",
    "ecc_low = 0.0\n",
    "ecc_high = 0.2\n",
    "lambda1_low = 0\n",
    "lambda1_high = 1000\n",
    "lambda2_low = 0\n",
    "lambda2_high = 1000\n",
    "iota_low = 0\n",
    "iota_high = numpy.pi\n",
    "phiref_low = 0\n",
    "phiref_high = 2*numpy.pi\n",
    "f_min = 20\n",
    "f_max = 2048\n",
    "deltaF = 0.25\n",
    "distance = 10 * LAL_PC_SI * 1.0e6  # 10 Mpc is default \n",
    "waveFlags = lal.CreateDict()\n",
    "\n",
    "\n",
    "#approximant = lalsimulation.IMRPhenomPv2_NRTidal\n",
    "approximant = lalsimulation.IMRPhenomPv2\n",
    "print(\"mass-min, mass-max: \", pyroq.massrange(mc_low, mc_high, q_low, q_high))\n",
    "\n",
    "npts = 30 # Specify the number of points for each search for a new basis element\n",
    "nts = 123 # Number of random test waveforms\n",
    "\n",
    "nbases = 80 # Specify the number of linear basis elements\n",
    "ndimlow = 60 # Starting number of basis elements used to check if tolerance is satisfied\n",
    "ndimhigh = nbases+1\n",
    "ndimstepsize = 10 # Number of linear basis elements increament to get the basis satisfying the tolerance\n",
    "tolerance = 1e-6 # Surrogage error threshold for linear basis elements\n",
    "\n",
    "nbases_quad = 80 # Specify the number of quadratic basis elements\n",
    "ndimlow_quad = 40 \n",
    "ndimhigh_quad = nbases_quad+1\n",
    "ndimstepsize_quad = 10\n",
    "tolerance_quad = 1e-6 # Surrogage error threshold for quadratic basis elements"
   ]
  },
  {
   "cell_type": "code",
   "execution_count": 3,
   "metadata": {},
   "outputs": [],
   "source": [
    "freq = numpy.arange(f_min,f_max,deltaF)\n",
    "nparams, params_low, params_high, params_start, hp1 = pyroq.initial_basis(mc_low, mc_high, q_low, q_high, s1sphere_low, s1sphere_high, \\\n",
    "                  s2sphere_low, s2sphere_high, ecc_low, ecc_high, lambda1_low, lambda1_high,\\\n",
    "                 lambda2_low, lambda2_high, iota_low, iota_high, phiref_low, phiref_high, distance, deltaF, f_min, f_max, waveFlags, approximant)\n"
   ]
  },
  {
   "cell_type": "code",
   "execution_count": 4,
   "metadata": {},
   "outputs": [
    {
     "name": "stdout",
     "output_type": "stream",
     "text": [
      "10\n"
     ]
    }
   ],
   "source": [
    "print(nparams)"
   ]
  },
  {
   "cell_type": "markdown",
   "metadata": {},
   "source": [
    "# Searching for linear basis elements to build and save linear ROQ data in local directory."
   ]
  },
  {
   "cell_type": "code",
   "execution_count": 5,
   "metadata": {},
   "outputs": [
    {
     "name": "stdout",
     "output_type": "stream",
     "text": [
      "Linear Iter:  0\n",
      "Linear Iter:  1\n",
      "Linear Iter:  2\n",
      "Linear Iter:  3\n",
      "Linear Iter:  4\n",
      "Linear Iter:  5\n",
      "Linear Iter:  6\n",
      "Linear Iter:  7\n",
      "Linear Iter:  8\n",
      "Linear Iter:  9\n",
      "Linear Iter:  10\n",
      "Linear Iter:  11\n",
      "Linear Iter:  12\n",
      "Linear Iter:  13\n",
      "Linear Iter:  14\n",
      "Linear Iter:  15\n",
      "Linear Iter:  16\n",
      "Linear Iter:  17\n",
      "Linear Iter:  18\n",
      "Linear Iter:  19\n",
      "Linear Iter:  20\n",
      "Linear Iter:  21\n",
      "Linear Iter:  22\n",
      "Linear Iter:  23\n",
      "Linear Iter:  24\n",
      "Linear Iter:  25\n",
      "Linear Iter:  26\n",
      "Linear Iter:  27\n",
      "Linear Iter:  28\n",
      "Linear Iter:  29\n",
      "Linear Iter:  30\n",
      "Linear Iter:  31\n",
      "Linear Iter:  32\n",
      "Linear Iter:  33\n",
      "Linear Iter:  34\n",
      "Linear Iter:  35\n",
      "Linear Iter:  36\n",
      "Linear Iter:  37\n",
      "Linear Iter:  38\n",
      "Linear Iter:  39\n",
      "Linear Iter:  40\n",
      "Linear Iter:  41\n",
      "Linear Iter:  42\n",
      "Linear Iter:  43\n",
      "Linear Iter:  44\n",
      "Linear Iter:  45\n",
      "Linear Iter:  46\n",
      "Linear Iter:  47\n",
      "Linear Iter:  48\n",
      "Linear Iter:  49\n",
      "Linear Iter:  50\n",
      "Linear Iter:  51\n",
      "Linear Iter:  52\n",
      "Linear Iter:  53\n",
      "Linear Iter:  54\n",
      "Linear Iter:  55\n",
      "Linear Iter:  56\n",
      "Linear Iter:  57\n",
      "Linear Iter:  58\n",
      "Linear Iter:  59\n",
      "Linear Iter:  60\n",
      "Linear Iter:  61\n",
      "Linear Iter:  62\n",
      "Linear Iter:  63\n",
      "Linear Iter:  64\n",
      "Linear Iter:  65\n",
      "Linear Iter:  66\n",
      "Linear Iter:  67\n",
      "Linear Iter:  68\n",
      "Linear Iter:  69\n",
      "Linear Iter:  70\n",
      "Linear Iter:  71\n",
      "Linear Iter:  72\n",
      "Linear Iter:  73\n",
      "Linear Iter:  74\n",
      "Linear Iter:  75\n",
      "Linear Iter:  76\n",
      "Linear Iter:  77\n",
      "Linear Iter:  78\n",
      "(80, 8112) [0.00000000e+00 2.43070692e-20 4.42461771e-20 2.25727370e-20\n",
      " 3.96014420e-20 2.40432142e-20 3.28390696e-20 2.99090139e-20\n",
      " 2.56639530e-20 3.96403207e-20 2.06160559e-20 3.55323717e-20\n",
      " 1.81202574e-20 3.26440350e-20 2.07261221e-20 3.51321678e-20\n",
      " 2.05273881e-20 2.11378514e-20 1.86514495e-20 2.41189529e-20\n",
      " 6.65868753e-21 6.91354304e-21 4.86253523e-21 4.07217460e-21\n",
      " 2.25529488e-21 2.22228811e-21 1.88011235e-21 7.70778468e-22\n",
      " 6.22844432e-21 1.12909411e-21 8.32905043e-22 4.45699872e-22\n",
      " 2.13528519e-21 3.13080120e-22 1.88025833e-22 4.10631887e-22\n",
      " 1.97037972e-22 1.16410478e-22 1.80152699e-22 2.43110657e-22\n",
      " 1.18299648e-22 1.02231121e-22 8.93455866e-23 2.80945560e-23\n",
      " 3.58311154e-23 2.14060643e-23 2.52795068e-23 2.01061763e-23\n",
      " 1.94462099e-23 1.94713062e-23 1.10411037e-23 1.40467052e-23\n",
      " 1.78701864e-23 1.46994632e-23 9.62260515e-24 6.98366435e-24\n",
      " 1.26735945e-23 1.89817601e-23 8.46629713e-24 5.79395787e-24\n",
      " 5.02168658e-24 1.14268985e-23 1.97222796e-23 3.93980492e-24\n",
      " 4.14052321e-24 4.44221280e-24 6.55012800e-24 3.80166993e-24\n",
      " 3.33898801e-24 2.18133460e-24 2.96461053e-24 3.49820282e-24\n",
      " 4.21982463e-24 2.25836325e-24 2.63554988e-24 2.17737918e-24\n",
      " 1.82889925e-24 2.22636820e-24 2.34975615e-24 1.84159560e-24]\n"
     ]
    }
   ],
   "source": [
    "known_bases_start = numpy.array([hp1/numpy.sqrt(numpy.vdot(hp1,hp1))])\n",
    "basis_waveforms_start = numpy.array([hp1])\n",
    "residual_modula_start = numpy.array([0.0])\n",
    "known_bases, params, residual_modula = pyroq.bases_searching_results_unnormalized(npts, nparams, nbases, known_bases_start, basis_waveforms_start, params_start, residual_modula_start, params_low, params_high, distance, deltaF, f_min, f_max, waveFlags, approximant)\n",
    "print(known_bases.shape, residual_modula)\n",
    "known_bases_copy = known_bases\n",
    "known_bases = known_bases_copy"
   ]
  },
  {
   "cell_type": "code",
   "execution_count": 6,
   "metadata": {},
   "outputs": [
    {
     "name": "stdout",
     "output_type": "stream",
     "text": [
      "60 basis elements gave 0 bad points of surrogate error >  1e-06\n",
      "Number of linear basis elements is  60 and the linear ROQ data save in B_linear.npy\n",
      "Number of basis elements:  60\n"
     ]
    }
   ],
   "source": [
    "pyroq.roqs(tolerance, freq, ndimlow, ndimhigh, ndimstepsize, known_bases, nts, nparams, params_low, params_high, distance, deltaF, f_min, f_max, waveFlags, approximant)\n",
    "b1 = numpy.load('./B_linear.npy')\n",
    "f1 = numpy.load('./fnodes_linear.npy')\n",
    "#print(b1.shape, f1.shape)\n",
    "b_linear = numpy.transpose(numpy.load('./B_linear.npy'))\n",
    "ndim = b_linear.shape[1]\n",
    "print(\"Number of basis elements: \", ndim)"
   ]
  },
  {
   "cell_type": "code",
   "execution_count": 7,
   "metadata": {},
   "outputs": [
    {
     "data": {
      "image/png": "[encoded data removed]",
      "text/plain": [
       "<Figure size 432x288 with 1 Axes>"
      ]
     },
     "metadata": {
      "needs_background": "light"
     },
     "output_type": "display_data"
    }
   ],
   "source": [
    "test_mc = 20\n",
    "test_q = 4\n",
    "test_s1 = [0.,0.2,-0.]\n",
    "test_s2 = [0.,0.15,-0.1]\n",
    "test_ecc = 0\n",
    "test_lambda1 = 0\n",
    "test_lambda2 = 0\n",
    "test_iota = 1.9\n",
    "test_phiref = 0.6\n",
    "\n",
    "ndim, inverse_V, emp_nodes = pyroq.empnodes(ndim, known_bases_copy)\n",
    "pyroq.testrep(b_linear, emp_nodes, test_mc, test_q, test_s1, test_s2, test_ecc, test_lambda1, test_lambda2, test_iota, test_phiref, distance, deltaF, f_min, f_max, waveFlags, approximant)\n",
    " "
   ]
  },
  {
   "cell_type": "code",
   "execution_count": 8,
   "metadata": {},
   "outputs": [],
   "source": [
    "nsamples = 10000 # testing nsamples random samples in parameter space to see their representation surrogate errors\n",
    "surros = pyroq.surros_of_test_samples(nsamples, nparams, params_low, params_high, tolerance, ndim, known_bases_copy, distance, deltaF, f_min, f_max, waveFlags, approximant)\n",
    "# If a surrogate error is larger than tolerance, it will be reported on the screen."
   ]
  },
  {
   "cell_type": "code",
   "execution_count": 9,
   "metadata": {},
   "outputs": [
    {
     "data": {
      "image/png": "[encoded data removed]",
      "text/plain": [
       "<Figure size 432x288 with 1 Axes>"
      ]
     },
     "metadata": {
      "needs_background": "light"
     },
     "output_type": "display_data"
    }
   ],
   "source": [
    "plt.semilogy(surros,'o',color='black')\n",
    "plt.xlabel(\"Number of Random Test Points\")\n",
    "plt.ylabel(\"Surrogate Error\")\n",
    "plt.title(\"IMRPhenomPv2\")\n",
    "plt.savefig(\"SurrogateErrorsRandomTestPoints.png\")\n",
    "plt.show()"
   ]
  },
  {
   "cell_type": "markdown",
   "metadata": {},
   "source": [
    "# Searching for quadratic basis elements and build quadratic ROQ data"
   ]
  },
  {
   "cell_type": "code",
   "execution_count": 10,
   "metadata": {},
   "outputs": [
    {
     "name": "stdout",
     "output_type": "stream",
     "text": [
      "Quadratic Iter:  0\n",
      "Quadratic Iter:  1\n",
      "Quadratic Iter:  2\n",
      "Quadratic Iter:  3\n",
      "Quadratic Iter:  4\n",
      "Quadratic Iter:  5\n",
      "Quadratic Iter:  6\n",
      "Quadratic Iter:  7\n",
      "Quadratic Iter:  8\n",
      "Quadratic Iter:  9\n",
      "Quadratic Iter:  10\n",
      "Quadratic Iter:  11\n",
      "Quadratic Iter:  12\n",
      "Quadratic Iter:  13\n",
      "Quadratic Iter:  14\n",
      "Quadratic Iter:  15\n",
      "Quadratic Iter:  16\n",
      "Quadratic Iter:  17\n",
      "Quadratic Iter:  18\n",
      "Quadratic Iter:  19\n",
      "Quadratic Iter:  20\n",
      "Quadratic Iter:  21\n",
      "Quadratic Iter:  22\n",
      "Quadratic Iter:  23\n",
      "Quadratic Iter:  24\n",
      "Quadratic Iter:  25\n",
      "Quadratic Iter:  26\n",
      "Quadratic Iter:  27\n",
      "Quadratic Iter:  28\n",
      "Quadratic Iter:  29\n",
      "Quadratic Iter:  30\n",
      "Quadratic Iter:  31\n",
      "Quadratic Iter:  32\n",
      "Quadratic Iter:  33\n",
      "Quadratic Iter:  34\n",
      "Quadratic Iter:  35\n",
      "Quadratic Iter:  36\n",
      "Quadratic Iter:  37\n",
      "Quadratic Iter:  38\n",
      "Quadratic Iter:  39\n",
      "Quadratic Iter:  40\n",
      "Quadratic Iter:  41\n",
      "Quadratic Iter:  42\n",
      "Quadratic Iter:  43\n",
      "Quadratic Iter:  44\n",
      "Quadratic Iter:  45\n",
      "Quadratic Iter:  46\n",
      "Quadratic Iter:  47\n",
      "Quadratic Iter:  48\n",
      "Quadratic Iter:  49\n",
      "Quadratic Iter:  50\n",
      "Quadratic Iter:  51\n",
      "Quadratic Iter:  52\n",
      "Quadratic Iter:  53\n",
      "Quadratic Iter:  54\n",
      "Quadratic Iter:  55\n",
      "Quadratic Iter:  56\n",
      "Quadratic Iter:  57\n",
      "Quadratic Iter:  58\n",
      "Quadratic Iter:  59\n",
      "Quadratic Iter:  60\n",
      "Quadratic Iter:  61\n",
      "Quadratic Iter:  62\n",
      "Quadratic Iter:  63\n",
      "Quadratic Iter:  64\n",
      "Quadratic Iter:  65\n",
      "Quadratic Iter:  66\n",
      "Quadratic Iter:  67\n",
      "Quadratic Iter:  68\n",
      "Quadratic Iter:  69\n",
      "Quadratic Iter:  70\n",
      "Quadratic Iter:  71\n",
      "Quadratic Iter:  72\n",
      "Quadratic Iter:  73\n",
      "Quadratic Iter:  74\n",
      "Quadratic Iter:  75\n",
      "Quadratic Iter:  76\n",
      "Quadratic Iter:  77\n",
      "Quadratic Iter:  78\n"
     ]
    }
   ],
   "source": [
    "hp1_quad = (numpy.absolute(hp1))**2\n",
    "known_quad_bases_start = numpy.array([hp1_quad/numpy.sqrt(numpy.vdot(hp1_quad,hp1_quad))])\n",
    "basis_waveforms_quad_start = numpy.array([hp1_quad])\n",
    "residual_modula_start = numpy.array([0.0])\n",
    "known_quad_bases,params_quad,residual_modula_quad = pyroq.bases_searching_quadratic_results_unnormalized(npts, nparams, nbases_quad, known_quad_bases_start, basis_waveforms_quad_start, params_start, residual_modula_start, params_low, params_high, distance, deltaF, f_min, f_max, waveFlags, approximant)\n",
    "known_quad_bases_copy = known_quad_bases\n"
   ]
  },
  {
   "cell_type": "code",
   "execution_count": 11,
   "metadata": {},
   "outputs": [],
   "source": [
    "points = numpy.random.uniform(params_low, params_high, size=(npts,nparams))\n"
   ]
  },
  {
   "cell_type": "code",
   "execution_count": 12,
   "metadata": {},
   "outputs": [
    {
     "name": "stdout",
     "output_type": "stream",
     "text": [
      "3.085677581491367e+23 0.25 20 2048\n",
      "40 basis elements gave 0 bad points of surrogate error >  1e-06\n",
      "Number of quadratic basis elements is  40 and the linear ROQ data save in B_quadratic.npy\n",
      "(40, 8112) (40,)\n"
     ]
    }
   ],
   "source": [
    "known_quad_bases = known_quad_bases_copy\n",
    "print(distance, deltaF, f_min, f_max)\n",
    "pyroq.roqs_quad(tolerance_quad, freq, ndimlow_quad, ndimhigh_quad, ndimstepsize_quad, known_quad_bases, nts, nparams, params_low, params_high, distance, deltaF, f_min, f_max, waveFlags, approximant)\n",
    "b2 = numpy.load('./B_quadratic.npy')\n",
    "f2 = numpy.load('./fnodes_quadratic.npy')\n",
    "print(b2.shape, f2.shape)"
   ]
  },
  {
   "cell_type": "code",
   "execution_count": 13,
   "metadata": {},
   "outputs": [
    {
     "name": "stdout",
     "output_type": "stream",
     "text": [
      "40\n"
     ]
    },
    {
     "data": {
      "image/png": "[encoded data removed]",
      "text/plain": [
       "<Figure size 432x288 with 1 Axes>"
      ]
     },
     "metadata": {
      "needs_background": "light"
     },
     "output_type": "display_data"
    }
   ],
   "source": [
    "test_mc_quad =20\n",
    "test_q_quad = 1\n",
    "test_s1_quad = [0.0, 0.0, 0.0]\n",
    "test_s2_quad = [0.0, 0.0, 0.0]\n",
    "test_ecc_quad = 0\n",
    "test_lambda1_quad = 0\n",
    "test_lambda2_quad = 0\n",
    "test_iota_quad = 1.9\n",
    "test_phiref_quad = 0.6\n",
    "\n",
    "b_quad = numpy.transpose(numpy.load('./B_quadratic.npy'))\n",
    "ndim_quad = b_quad.shape[1]\n",
    "print(ndim_quad)\n",
    "ndim_quad, inverse_V_quad, emp_nodes_quad = pyroq.empnodes_quad(ndim_quad, known_quad_bases_copy)\n",
    "pyroq.testrep_quad(b_quad, emp_nodes_quad, test_mc_quad, test_q_quad, test_s1_quad, test_s2_quad, test_ecc_quad, test_lambda1_quad, test_lambda2_quad, test_iota_quad, test_phiref_quad, distance, deltaF, f_min, f_max, waveFlags, approximant)\n"
   ]
  },
  {
   "cell_type": "code",
   "execution_count": null,
   "metadata": {},
   "outputs": [],
   "source": []
  }
 ],
 "metadata": {
  "kernelspec": {
   "display_name": "ligo-py36",
   "language": "python",
   "name": "ligo-py36"
  },
  "language_info": {
   "codemirror_mode": {
    "name": "ipython",
    "version": 3
   },
   "file_extension": ".py",
   "mimetype": "text/x-python",
   "name": "python",
   "nbconvert_exporter": "python",
   "pygments_lexer": "ipython3",
   "version": "3.6.7"
  }
 },
 "nbformat": 4,
 "nbformat_minor": 4
}
