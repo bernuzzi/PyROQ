{
 "cells": [
  {
   "cell_type": "code",
   "execution_count": 2,
   "metadata": {},
   "outputs": [
    {
     "name": "stdout",
     "output_type": "stream",
     "text": [
      "Collecting PyROQ==0.1.19\n",
      "  Downloading https://files.pythonhosted.org/packages/63/30/2bd0cdaf450844dce0157e98506c64f16222827df76ae2c3e985363bb281/PyROQ-0.1.19-py3-none-any.whl\n",
      "Installing collected packages: PyROQ\n",
      "  Found existing installation: PyROQ 0.1.17\n",
      "    Uninstalling PyROQ-0.1.17:\n",
      "      Successfully uninstalled PyROQ-0.1.17\n",
      "Successfully installed PyROQ-0.1.19\n"
     ]
    }
   ],
   "source": [
    "!pip install --user PyROQ==0.1.19"
   ]
  },
  {
   "cell_type": "code",
   "execution_count": 1,
   "metadata": {},
   "outputs": [],
   "source": [
    "import numpy\n",
    "import numpy as np\n",
    "import scipy\n",
    "%matplotlib inline\n",
    "import matplotlib\n",
    "import matplotlib.pyplot as plt\n",
    "import lal\n",
    "import lalsimulation\n",
    "from lal.lal import PC_SI as LAL_PC_SI\n",
    "import h5py\n",
    "import warnings\n",
    "import random\n",
    "warnings.filterwarnings('ignore')\n",
    "import matplotlib.pylab as pylab\n",
    "plot_params = {'legend.fontsize': 'x-large',\n",
    "          'figure.figsize': (15, 9),\n",
    "         'axes.labelsize': 'x-large',\n",
    "         'axes.titlesize':'x-large',\n",
    "         'xtick.labelsize':'x-large',\n",
    "         'ytick.labelsize':'x-large'}\n",
    "pylab.rcParams.update(plot_params)\n",
    "from mpl_toolkits.mplot3d import axes3d\n",
    "#import PyROQ.pyroq as pyroq\n",
    "import pyroq as pyroq"
   ]
  },
  {
   "cell_type": "markdown",
   "metadata": {},
   "source": [
    "# Setting up boundary conditions and tolerance requirements."
   ]
  },
  {
   "cell_type": "code",
   "execution_count": 2,
   "metadata": {},
   "outputs": [
    {
     "name": "stdout",
     "output_type": "stream",
     "text": [
      "mass-min, mass-max:  [16.437518295172257, 49.31255488551677]\n"
     ]
    }
   ],
   "source": [
    "mc_low = 20\n",
    "mc_high = 30\n",
    "q_low = 1\n",
    "q_high = 2\n",
    "s1sphere_low = [0, 0, 0]\n",
    "s1sphere_high = [0.2, numpy.pi, 2.0*numpy.pi]\n",
    "s2sphere_low = [0, 0, 0]\n",
    "s2sphere_high = [0.2, numpy.pi, 2.0*numpy.pi]\n",
    "ecc_low = 0.0\n",
    "ecc_high = 0.2\n",
    "lambda1_low = 0\n",
    "lambda1_high = 1000\n",
    "lambda2_low = 0\n",
    "lambda2_high = 1000\n",
    "iota_low = 0\n",
    "iota_high = numpy.pi\n",
    "phiref_low = 0\n",
    "phiref_high = 2*numpy.pi\n",
    "f_min = 20\n",
    "f_max = 2048\n",
    "deltaF = 0.25\n",
    "distance = 10 * LAL_PC_SI * 1.0e6  # 10 Mpc is default \n",
    "waveFlags = lal.CreateDict()\n",
    "\n",
    "\n",
    "#approximant = lalsimulation.IMRPhenomPv2_NRTidal\n",
    "approximant = lalsimulation.IMRPhenomPv2\n",
    "print(\"mass-min, mass-max: \", pyroq.massrange(mc_low, mc_high, q_low, q_high))\n",
    "\n",
    "npts = 30 # Specify the number of points for each search for a new basis element\n",
    "nts = 123 # Number of random test waveforms\n",
    "\n",
    "nbases = 80 # Specify the number of linear basis elements\n",
    "ndimlow = 60 # Starting number of basis elements used to check if tolerance is satisfied\n",
    "ndimhigh = nbases+1\n",
    "ndimstepsize = 10 # Number of linear basis elements increament to get the basis satisfying the tolerance\n",
    "tolerance = 1e-6 # Surrogage error threshold for linear basis elements\n",
    "\n",
    "nbases_quad = 80 # Specify the number of quadratic basis elements\n",
    "ndimlow_quad = 40 \n",
    "ndimhigh_quad = nbases_quad+1\n",
    "ndimstepsize_quad = 10\n",
    "tolerance_quad = 1e-6 # Surrogage error threshold for quadratic basis elements"
   ]
  },
  {
   "cell_type": "code",
   "execution_count": 3,
   "metadata": {},
   "outputs": [],
   "source": [
    "freq = numpy.arange(f_min,f_max,deltaF)\n",
    "nparams, params_low, params_high, params_start, hp1 = pyroq.initial_basis(mc_low, mc_high, q_low, q_high, s1sphere_low, s1sphere_high, \\\n",
    "                  s2sphere_low, s2sphere_high, ecc_low, ecc_high, lambda1_low, lambda1_high,\\\n",
    "                 lambda2_low, lambda2_high, iota_low, iota_high, phiref_low, phiref_high, distance, deltaF, f_min, f_max, waveFlags, approximant)\n"
   ]
  },
  {
   "cell_type": "code",
   "execution_count": 4,
   "metadata": {},
   "outputs": [
    {
     "name": "stdout",
     "output_type": "stream",
     "text": [
      "10\n"
     ]
    }
   ],
   "source": [
    "print(nparams)"
   ]
  },
  {
   "cell_type": "markdown",
   "metadata": {},
   "source": [
    "# Search for linear basis elements to build and save linear ROQ data in the local directory."
   ]
  },
  {
   "cell_type": "code",
   "execution_count": 5,
   "metadata": {},
   "outputs": [
    {
     "name": "stdout",
     "output_type": "stream",
     "text": [
      "The params are Mc, q, s1(mag, theta, phi), s2(mag, theta, phi), iota, and phiRef\n",
      "Linear Iter:  0 [27.462564  1.812757  0.148471  3.105516  5.419509  0.078759  1.726393\n",
      "  5.398117  0.192144  1.999712]\n",
      "Linear Iter:  1 [28.403945  1.51269   0.091879  1.050601  5.44929   0.152593  1.979459\n",
      "  2.13278   0.399619  0.613535]\n",
      "Linear Iter:  2 [29.979937  1.637005  0.189713  1.588659  5.957186  0.03424   0.24138\n",
      "  1.785309  2.577393  2.440785]\n",
      "Linear Iter:  3 [2.8203946e+01 1.5621840e+00 1.3673600e-01 1.3678860e+00 1.5793040e+00\n",
      " 7.1880000e-02 1.7114310e+00 3.8598620e+00 8.3480000e-03 4.9960130e+00]\n",
      "Linear Iter:  4 [26.149394  1.63365   0.141895  2.129498  5.627421  0.099543  1.336133\n",
      "  4.981735  2.928052  4.450881]\n",
      "Linear Iter:  5 [25.139392  1.078073  0.171993  1.353299  4.134311  0.042948  1.092577\n",
      "  5.456129  2.958572  4.438517]\n",
      "Linear Iter:  6 [26.436048  1.083431  0.026897  1.147946  5.820465  0.111762  1.468656\n",
      "  5.399202  2.992868  4.134665]\n",
      "Linear Iter:  7 [25.512704  1.466657  0.106737  0.866415  6.042179  0.093306  0.799913\n",
      "  5.988058  2.573216  3.839881]\n",
      "Linear Iter:  8 [23.607944  1.218324  0.050902  0.375004  0.732554  0.114486  2.375738\n",
      "  1.147666  0.084455  1.467479]\n",
      "Linear Iter:  9 [20.401154  1.242759  0.136054  0.029326  3.933911  0.156726  2.047409\n",
      "  6.211376  0.408596  1.850198]\n",
      "Linear Iter:  10 [23.577652  1.88769   0.129388  0.774028  4.014061  0.183754  1.146554\n",
      "  1.562625  2.377556  2.551279]\n",
      "Linear Iter:  11 [21.553403  1.093521  0.104128  1.356377  3.282188  0.144075  1.534669\n",
      "  0.098911  2.842671  5.128787]\n",
      "Linear Iter:  12 [2.1208174e+01 1.8228860e+00 1.5098900e-01 9.5419500e-01 5.2459930e+00\n",
      " 1.3751000e-02 1.2688430e+00 3.2630590e+00 3.0717090e+00 1.3241270e+00]\n",
      "Linear Iter:  13 [22.187391  1.443091  0.131682  2.532352  4.321925  0.030958  0.83619\n",
      "  0.321834  0.034415  5.250472]\n",
      "Linear Iter:  14 [22.914353  1.134851  0.074429  0.354089  4.543111  0.087588  1.632826\n",
      "  1.332247  2.611353  3.048595]\n",
      "Linear Iter:  15 [20.608911  1.303705  0.127074  0.06094   2.183855  0.115867  1.050244\n",
      "  5.45489   3.091085  5.855937]\n",
      "Linear Iter:  16 [20.634161  1.910947  0.105236  0.475187  0.616248  0.162559  1.352822\n",
      "  2.44036   2.973892  2.821735]\n",
      "Linear Iter:  17 [2.9942069e+01 1.6498710e+00 7.4369000e-02 1.2714520e+00 1.0798100e-01\n",
      " 2.1880000e-03 1.3061480e+00 4.5643060e+00 2.1726050e+00 5.1004280e+00]\n",
      "Linear Iter:  18 [26.202815  1.228679  0.11713   0.649337  0.328943  0.047297  0.54425\n",
      "  5.917226  2.852764  1.108342]\n",
      "Linear Iter:  19 [21.766641  1.610085  0.090614  1.844061  3.073657  0.088629  0.023534\n",
      "  4.538477  2.076902  4.360875]\n",
      "Linear Iter:  20 [2.9959477e+01 1.5717550e+00 2.0431000e-02 2.1612730e+00 4.7664080e+00\n",
      " 1.9330100e-01 2.7081470e+00 3.3420320e+00 3.7893900e-01 1.7561160e+00]\n",
      "Linear Iter:  21 [21.279969  1.8836    0.048127  1.615827  3.722464  0.058751  2.191618\n",
      "  0.753531  2.745463  5.719667]\n",
      "Linear Iter:  22 [27.71849   1.263352  0.126435  0.114644  0.482225  0.088963  3.061593\n",
      "  0.510944  2.845314  2.19694 ]\n",
      "Linear Iter:  23 [20.118191  1.335061  0.086178  2.01325   4.716362  0.106225  1.226295\n",
      "  5.640302  2.733894  5.081218]\n",
      "Linear Iter:  24 [24.203271  1.567575  0.166789  1.103636  3.001061  0.062309  0.618816\n",
      "  1.6676    0.165056  4.573915]\n",
      "Linear Iter:  25 [20.010027  1.260415  0.046101  2.462248  5.326403  0.129056  1.358006\n",
      "  3.898813  2.878559  3.093704]\n",
      "Linear Iter:  26 [20.914683  1.026949  0.031237  2.536026  4.324466  0.082609  0.51309\n",
      "  5.885935  0.384327  0.248412]\n",
      "Linear Iter:  27 [29.840013  1.709287  0.131872  0.553667  3.331801  0.110922  0.349649\n",
      "  1.305902  0.935535  4.067597]\n",
      "Linear Iter:  28 [28.35483   1.463924  0.175771  0.035325  0.792975  0.182101  1.947062\n",
      "  5.453662  0.036931  4.204586]\n",
      "Linear Iter:  29 [29.531792  1.786941  0.177021  2.601637  1.52588   0.128497  1.780211\n",
      "  4.912936  0.957178  4.055585]\n",
      "Linear Iter:  30 [2.9075893e+01 1.5122310e+00 1.0261100e-01 1.9832500e+00 1.4261100e+00\n",
      " 5.3050000e-03 2.2470000e-03 3.6015870e+00 2.8445060e+00 5.3498420e+00]\n",
      "Linear Iter:  31 [2.0984447e+01 1.0257940e+00 1.9965200e-01 2.6570000e-03 5.6330300e-01\n",
      " 1.6288800e-01 8.0221800e-01 4.7514060e+00 1.5474980e+00 4.1396290e+00]\n",
      "Linear Iter:  32 [2.9957973e+01 1.7910700e+00 1.7218600e-01 2.6952580e+00 1.5950650e+00\n",
      " 2.2484000e-02 1.4431210e+00 7.5781100e-01 3.0841200e-01 6.2693630e+00]\n",
      "Linear Iter:  33 [20.538701  1.281626  0.194682  1.04527   2.31637   0.171468  0.215359\n",
      "  5.666228  2.602352  1.256914]\n",
      "Linear Iter:  34 [25.139613  1.475042  0.07352   2.030853  6.221076  0.108113  2.436273\n",
      "  1.675473  2.477579  5.645278]\n",
      "Linear Iter:  35 [20.107391  1.198076  0.191525  1.332656  3.389717  0.136685  0.023343\n",
      "  2.385758  0.742622  2.598806]\n",
      "Linear Iter:  36 [28.824777  1.748585  0.145848  1.863507  0.715877  0.124497  2.710285\n",
      "  3.125512  0.136379  1.223592]\n",
      "Linear Iter:  37 [27.050727  1.160109  0.192761  0.123657  3.898706  0.073118  0.627767\n",
      "  4.890594  2.437999  2.489305]\n",
      "Linear Iter:  38 [2.8798322e+01 1.9820000e+00 9.5848000e-02 1.6464630e+00 1.7736110e+00\n",
      " 2.9220000e-03 2.0828620e+00 6.0556900e-01 2.7968770e+00 3.5285870e+00]\n",
      "Linear Iter:  39 [2.0567665e+01 1.1568090e+00 1.8170000e-02 1.7253050e+00 4.4981400e+00\n",
      " 2.7292000e-02 9.5241200e-01 3.6819560e+00 2.8435170e+00 1.9853660e+00]\n",
      "Linear Iter:  40 [23.538946  1.482613  0.140571  3.046541  5.014779  0.035876  1.701411\n",
      "  3.377299  0.069652  3.873962]\n",
      "Linear Iter:  41 [2.126992e+01 1.008214e+00 1.724670e-01 1.471792e+00 9.493590e-01\n",
      " 1.174080e-01 2.967529e+00 4.562265e+00 2.009600e-02 5.361440e+00]\n",
      "Linear Iter:  42 [23.646722  1.634529  0.183666  1.692314  1.212507  0.185746  1.851612\n",
      "  2.34967   0.693642  0.202904]\n",
      "Linear Iter:  43 [22.82022   1.470386  0.087839  1.439015  0.568845  0.131227  0.826233\n",
      "  4.61002   0.059837  2.852103]\n",
      "Linear Iter:  44 [20.023719  1.338151  0.057946  1.358975  2.095118  0.142375  0.298218\n",
      "  1.353993  0.752152  0.474823]\n",
      "Linear Iter:  45 [20.684551  1.927616  0.146624  0.84098   0.156724  0.144701  0.951753\n",
      "  5.836589  0.767137  0.209207]\n",
      "Linear Iter:  46 [2.5418977e+01 1.7766310e+00 1.5768000e-02 1.4498990e+00 5.9514290e+00\n",
      " 8.0763000e-02 7.4362000e-01 1.2726030e+00 3.1303700e-01 5.2373990e+00]\n",
      "Linear Iter:  47 [29.478632  1.880904  0.044037  0.451926  1.56726   0.138856  0.280696\n",
      "  2.64578   2.180999  3.408932]\n",
      "Linear Iter:  48 [2.977291e+01 1.708675e+00 1.745090e-01 2.519551e+00 4.168230e+00\n",
      " 1.174700e-02 2.127452e+00 3.781056e+00 1.320573e+00 4.039961e+00]\n",
      "Linear Iter:  49 [27.817659  1.446108  0.178917  0.690884  3.230166  0.043644  0.725498\n",
      "  1.07112   3.045972  1.670006]\n",
      "Linear Iter:  50 [28.882234  1.996299  0.049046  1.507401  2.822501  0.132915  2.832925\n",
      "  1.698932  2.733376  3.963748]\n",
      "Linear Iter:  51 [26.919369  1.321313  0.179506  3.076882  3.386014  0.102913  1.024222\n",
      "  0.338688  0.296268  1.231162]\n",
      "Linear Iter:  52 [21.268764  1.170522  0.068842  2.750109  0.337644  0.134232  2.504015\n",
      "  0.051698  0.578663  0.279882]\n",
      "Linear Iter:  53 [28.948287  1.86825   0.198546  1.923156  1.199677  0.132607  2.340546\n",
      "  3.52489   2.292955  5.924641]\n",
      "Linear Iter:  54 [20.110588  1.706117  0.042465  1.991264  2.860311  0.171679  1.276075\n",
      "  0.172734  3.034107  4.06789 ]\n",
      "Linear Iter:  55 [22.364862  1.755096  0.142324  3.045369  2.812499  0.078463  0.676973\n",
      "  5.777     2.331305  4.757017]\n",
      "Linear Iter:  56 [24.330415  1.086923  0.179135  0.792523  0.479077  0.130602  1.721214\n",
      "  4.320143  2.752014  1.91781 ]\n",
      "Linear Iter:  57 [25.582998  1.72678   0.154579  2.549419  4.654011  0.06894   1.702715\n",
      "  2.652857  2.97837   5.074359]\n",
      "Linear Iter:  58 [21.532976  1.463003  0.164179  1.038042  4.796902  0.167429  0.203591\n",
      "  3.474424  2.798404  4.17864 ]\n",
      "Linear Iter:  59 [29.223404  1.990532  0.141978  2.452378  5.397477  0.160807  2.813569\n",
      "  2.000042  0.522174  4.728038]\n",
      "Linear Iter:  60 [29.836683  1.940278  0.162131  2.903021  2.648346  0.041659  1.44963\n",
      "  5.528891  1.264944  4.900785]\n",
      "Linear Iter:  61 [2.8314135e+01 1.0206790e+00 4.9310000e-03 2.5866110e+00 1.7097300e+00\n",
      " 1.8985100e-01 2.8120820e+00 7.3750000e-03 2.7835780e+00 2.4269850e+00]\n",
      "Linear Iter:  62 [2.6959941e+01 1.0339520e+00 1.6409700e-01 1.0367020e+00 2.6770940e+00\n",
      " 7.0844000e-02 2.7885090e+00 1.4595590e+00 7.1260000e-03 1.4715160e+00]\n",
      "Linear Iter:  63 [2.3360543e+01 1.4743140e+00 1.7508400e-01 1.7000000e-02 9.6249200e-01\n",
      " 8.1190000e-02 3.8595000e-01 4.1942810e+00 8.9096900e-01 2.9721720e+00]\n",
      "Linear Iter:  64 [22.440404  1.346411  0.164994  1.213914  0.649777  0.138079  0.350651\n",
      "  1.442148  2.280961  4.246329]\n",
      "Linear Iter:  65 [2.9847968e+01 1.9631290e+00 5.5664000e-02 1.9386940e+00 2.7755070e+00\n",
      " 8.3770000e-03 9.4013500e-01 2.1779850e+00 7.5798600e-01 4.0454620e+00]\n",
      "Linear Iter:  66 [25.180898  1.820291  0.178145  0.179666  4.187736  0.165315  1.027957\n",
      "  3.247787  0.032616  0.378245]\n",
      "Linear Iter:  67 [29.739344  1.790235  0.121758  2.818486  2.833949  0.147656  2.115719\n",
      "  2.950844  0.861962  1.876883]\n",
      "Linear Iter:  68 [29.688834  1.760875  0.131224  2.074471  5.25401   0.181753  2.136153\n",
      "  4.487703  2.355746  0.140768]\n",
      "Linear Iter:  69 [2.8772853e+01 1.0988040e+00 1.2933800e-01 5.2947300e-01 2.1237480e+00\n",
      " 2.9990000e-03 7.0581500e-01 4.7536900e-01 6.3543800e-01 2.1427640e+00]\n",
      "Linear Iter:  70 [2.1444837e+01 1.1049490e+00 1.7616700e-01 3.1202090e+00 4.3505790e+00\n",
      " 3.9061000e-02 3.9600000e-03 5.9934500e+00 2.5735600e-01 1.7559000e-02]\n",
      "Linear Iter:  71 [26.78998   1.820793  0.106714  3.138658  1.168736  0.132985  2.555259\n",
      "  5.172422  0.232887  2.462437]\n",
      "Linear Iter:  72 [2.7422994e+01 1.4378330e+00 1.8994700e-01 2.4704000e-02 3.5696910e+00\n",
      " 1.3970000e-01 1.0154900e-01 4.1527600e-01 6.0809200e-01 4.6708580e+00]\n",
      "Linear Iter:  73 [24.883569  1.90503   0.144205  0.39101   0.760822  0.150646  1.127682\n",
      "  3.222443  2.716631  5.301669]\n",
      "Linear Iter:  74 [29.511953  1.383452  0.124679  0.364438  3.417626  0.070894  0.946142\n",
      "  5.119953  2.823245  0.399875]\n",
      "Linear Iter:  75 [20.002411  1.349047  0.175974  0.855803  4.233605  0.066561  0.376658\n",
      "  1.508089  0.975833  0.820666]\n",
      "Linear Iter:  76 [2.0011239e+01 1.7828340e+00 1.5667200e-01 6.9276000e-01 1.2461140e+00\n",
      " 1.1766000e-02 1.5074050e+00 2.2605390e+00 9.6287400e-01 4.8510580e+00]\n",
      "Linear Iter:  77 [25.185536  1.053887  0.058954  0.389332  0.278797  0.199856  0.725783\n",
      "  2.509199  0.382544  1.440314]\n",
      "Linear Iter:  78 [29.868371  1.890426  0.199618  0.435303  5.161728  0.163028  0.228956\n",
      "  5.446064  0.156283  0.636512]\n",
      "(80, 8112) [0.00000000e+00 2.35404320e-20 3.99469005e-20 2.27579297e-20\n",
      " 2.93927209e-20 2.30857917e-20 2.27267538e-20 3.74224799e-20\n",
      " 3.37582440e-20 2.12702212e-20 2.18149467e-20 3.16343700e-20\n",
      " 1.93427670e-20 3.36284879e-20 2.06158969e-20 3.31952842e-20\n",
      " 1.74129265e-20 2.40907201e-20 1.23128575e-20 1.72047573e-20\n",
      " 9.32886424e-21 5.86201652e-21 5.45375477e-21 6.33089470e-21\n",
      " 2.98775677e-21 1.21438741e-21 1.76006048e-21 1.39869502e-21\n",
      " 9.43437168e-22 7.21955833e-22 2.22268735e-21 4.38881955e-22\n",
      " 2.94323175e-22 7.24778559e-22 3.97111312e-22 2.89597078e-22\n",
      " 5.01195123e-22 1.52337244e-22 7.76974838e-23 9.60249280e-23\n",
      " 4.61848387e-23 5.02451299e-23 4.23543359e-23 3.02985220e-23\n",
      " 3.73488720e-23 6.86206495e-23 2.50495686e-23 3.20367024e-23\n",
      " 2.55431952e-23 2.50518074e-23 1.02452031e-23 1.34465299e-23\n",
      " 1.37158995e-23 1.19540439e-23 8.35808253e-24 9.39950698e-24\n",
      " 5.81153218e-24 6.52098265e-24 5.86914696e-24 6.67751787e-24\n",
      " 2.74039805e-23 9.19510390e-24 6.23601809e-24 7.13490045e-24\n",
      " 4.76603745e-24 3.40665562e-24 3.71776362e-24 3.92863272e-24\n",
      " 2.74044150e-24 3.41526574e-24 3.14120338e-24 2.72034587e-24\n",
      " 1.91816118e-24 2.49222006e-24 2.29137885e-24 2.04886077e-24\n",
      " 1.87071826e-23 1.52121106e-24 3.14140241e-24 2.97824414e-24]\n"
     ]
    }
   ],
   "source": [
    "known_bases_start = numpy.array([hp1/numpy.sqrt(numpy.vdot(hp1,hp1))])\n",
    "basis_waveforms_start = numpy.array([hp1])\n",
    "residual_modula_start = numpy.array([0.0])\n",
    "known_bases, params, residual_modula = pyroq.bases_searching_results_unnormalized(npts, nparams, nbases, known_bases_start, basis_waveforms_start, params_start, residual_modula_start, params_low, params_high, distance, deltaF, f_min, f_max, waveFlags, approximant)\n",
    "print(known_bases.shape, residual_modula)\n",
    "known_bases_copy = known_bases\n",
    "known_bases = known_bases_copy"
   ]
  },
  {
   "cell_type": "code",
   "execution_count": 6,
   "metadata": {},
   "outputs": [
    {
     "name": "stdout",
     "output_type": "stream",
     "text": [
      "60 basis elements gave 0 bad points of surrogate error >  1e-06\n",
      "Number of linear basis elements is  60 and the linear ROQ data save in B_linear.npy\n",
      "Number of basis elements:  60\n"
     ]
    }
   ],
   "source": [
    "pyroq.roqs(tolerance, freq, ndimlow, ndimhigh, ndimstepsize, known_bases, nts, nparams, params_low, params_high, distance, deltaF, f_min, f_max, waveFlags, approximant)\n",
    "b1 = numpy.load('./B_linear.npy')\n",
    "f1 = numpy.load('./fnodes_linear.npy')\n",
    "#print(b1.shape, f1.shape)\n",
    "b_linear = numpy.transpose(numpy.load('./B_linear.npy'))\n",
    "ndim = b_linear.shape[1]\n",
    "print(\"Number of basis elements: \", ndim)"
   ]
  },
  {
   "cell_type": "code",
   "execution_count": 7,
   "metadata": {},
   "outputs": [
    {
     "data": {
      "image/png": "[encoded data removed]",
      "text/plain": [
       "<Figure size 432x288 with 1 Axes>"
      ]
     },
     "metadata": {
      "needs_background": "light"
     },
     "output_type": "display_data"
    }
   ],
   "source": [
    "test_mc = 20\n",
    "test_q = 4\n",
    "test_s1 = [0.,0.2,-0.]\n",
    "test_s2 = [0.,0.15,-0.1]\n",
    "test_ecc = 0\n",
    "test_lambda1 = 0\n",
    "test_lambda2 = 0\n",
    "test_iota = 1.9\n",
    "test_phiref = 0.6\n",
    "\n",
    "ndim, inverse_V, emp_nodes = pyroq.empnodes(ndim, known_bases_copy)\n",
    "pyroq.testrep(b_linear, emp_nodes, test_mc, test_q, test_s1, test_s2, test_ecc, test_lambda1, test_lambda2, test_iota, test_phiref, distance, deltaF, f_min, f_max, waveFlags, approximant)\n",
    " "
   ]
  },
  {
   "cell_type": "code",
   "execution_count": 14,
   "metadata": {},
   "outputs": [],
   "source": [
    "nsamples = 100000 # testing nsamples random samples in parameter space to see their representation surrogate errors\n",
    "surros = pyroq.surros_of_test_samples(nsamples, nparams, params_low, params_high, tolerance, ndim, known_bases_copy, distance, deltaF, f_min, f_max, waveFlags, approximant)\n",
    "# If a surrogate error is larger than tolerance, it will be reported on the screen."
   ]
  },
  {
   "cell_type": "code",
   "execution_count": 15,
   "metadata": {},
   "outputs": [
    {
     "data": {
      "image/png": "[encoded data removed]",
      "text/plain": [
       "<Figure size 432x288 with 1 Axes>"
      ]
     },
     "metadata": {
      "needs_background": "light"
     },
     "output_type": "display_data"
    }
   ],
   "source": [
    "plt.semilogy(surros,'o',color='black')\n",
    "plt.xlabel(\"Number of Random Test Points\")\n",
    "plt.ylabel(\"Surrogate Error\")\n",
    "plt.title(\"IMRPhenomPv2\")\n",
    "plt.savefig(\"SurrogateErrorsRandomTestPoints.png\")\n",
    "plt.show()"
   ]
  },
  {
   "cell_type": "markdown",
   "metadata": {},
   "source": [
    "# Search for quadratic basis elements to build & save quadratic ROQ data."
   ]
  },
  {
   "cell_type": "code",
   "execution_count": 10,
   "metadata": {},
   "outputs": [
    {
     "name": "stdout",
     "output_type": "stream",
     "text": [
      "Quadratic Iter:  0\n",
      "Quadratic Iter:  1\n",
      "Quadratic Iter:  2\n",
      "Quadratic Iter:  3\n",
      "Quadratic Iter:  4\n",
      "Quadratic Iter:  5\n",
      "Quadratic Iter:  6\n",
      "Quadratic Iter:  7\n",
      "Quadratic Iter:  8\n",
      "Quadratic Iter:  9\n",
      "Quadratic Iter:  10\n",
      "Quadratic Iter:  11\n",
      "Quadratic Iter:  12\n",
      "Quadratic Iter:  13\n",
      "Quadratic Iter:  14\n",
      "Quadratic Iter:  15\n",
      "Quadratic Iter:  16\n",
      "Quadratic Iter:  17\n",
      "Quadratic Iter:  18\n",
      "Quadratic Iter:  19\n",
      "Quadratic Iter:  20\n",
      "Quadratic Iter:  21\n",
      "Quadratic Iter:  22\n",
      "Quadratic Iter:  23\n",
      "Quadratic Iter:  24\n",
      "Quadratic Iter:  25\n",
      "Quadratic Iter:  26\n",
      "Quadratic Iter:  27\n",
      "Quadratic Iter:  28\n",
      "Quadratic Iter:  29\n",
      "Quadratic Iter:  30\n",
      "Quadratic Iter:  31\n",
      "Quadratic Iter:  32\n",
      "Quadratic Iter:  33\n",
      "Quadratic Iter:  34\n",
      "Quadratic Iter:  35\n",
      "Quadratic Iter:  36\n",
      "Quadratic Iter:  37\n",
      "Quadratic Iter:  38\n",
      "Quadratic Iter:  39\n",
      "Quadratic Iter:  40\n",
      "Quadratic Iter:  41\n",
      "Quadratic Iter:  42\n",
      "Quadratic Iter:  43\n",
      "Quadratic Iter:  44\n",
      "Quadratic Iter:  45\n",
      "Quadratic Iter:  46\n",
      "Quadratic Iter:  47\n",
      "Quadratic Iter:  48\n",
      "Quadratic Iter:  49\n",
      "Quadratic Iter:  50\n",
      "Quadratic Iter:  51\n",
      "Quadratic Iter:  52\n",
      "Quadratic Iter:  53\n",
      "Quadratic Iter:  54\n",
      "Quadratic Iter:  55\n",
      "Quadratic Iter:  56\n",
      "Quadratic Iter:  57\n",
      "Quadratic Iter:  58\n",
      "Quadratic Iter:  59\n",
      "Quadratic Iter:  60\n",
      "Quadratic Iter:  61\n",
      "Quadratic Iter:  62\n",
      "Quadratic Iter:  63\n",
      "Quadratic Iter:  64\n",
      "Quadratic Iter:  65\n",
      "Quadratic Iter:  66\n",
      "Quadratic Iter:  67\n",
      "Quadratic Iter:  68\n",
      "Quadratic Iter:  69\n",
      "Quadratic Iter:  70\n",
      "Quadratic Iter:  71\n",
      "Quadratic Iter:  72\n",
      "Quadratic Iter:  73\n",
      "Quadratic Iter:  74\n",
      "Quadratic Iter:  75\n",
      "Quadratic Iter:  76\n",
      "Quadratic Iter:  77\n",
      "Quadratic Iter:  78\n"
     ]
    }
   ],
   "source": [
    "hp1_quad = (numpy.absolute(hp1))**2\n",
    "known_quad_bases_start = numpy.array([hp1_quad/numpy.sqrt(numpy.vdot(hp1_quad,hp1_quad))])\n",
    "basis_waveforms_quad_start = numpy.array([hp1_quad])\n",
    "residual_modula_start = numpy.array([0.0])\n",
    "known_quad_bases,params_quad,residual_modula_quad = pyroq.bases_searching_quadratic_results_unnormalized(npts, nparams, nbases_quad, known_quad_bases_start, basis_waveforms_quad_start, params_start, residual_modula_start, params_low, params_high, distance, deltaF, f_min, f_max, waveFlags, approximant)\n",
    "known_quad_bases_copy = known_quad_bases\n"
   ]
  },
  {
   "cell_type": "code",
   "execution_count": 11,
   "metadata": {},
   "outputs": [],
   "source": [
    "points = numpy.random.uniform(params_low, params_high, size=(npts,nparams))\n"
   ]
  },
  {
   "cell_type": "code",
   "execution_count": 12,
   "metadata": {},
   "outputs": [
    {
     "name": "stdout",
     "output_type": "stream",
     "text": [
      "3.085677581491367e+23 0.25 20 2048\n",
      "40 basis elements gave 0 bad points of surrogate error >  1e-06\n",
      "Number of quadratic basis elements is  40 and the linear ROQ data save in B_quadratic.npy\n",
      "(40, 8112) (40,)\n"
     ]
    }
   ],
   "source": [
    "known_quad_bases = known_quad_bases_copy\n",
    "print(distance, deltaF, f_min, f_max)\n",
    "pyroq.roqs_quad(tolerance_quad, freq, ndimlow_quad, ndimhigh_quad, ndimstepsize_quad, known_quad_bases, nts, nparams, params_low, params_high, distance, deltaF, f_min, f_max, waveFlags, approximant)\n",
    "b2 = numpy.load('./B_quadratic.npy')\n",
    "f2 = numpy.load('./fnodes_quadratic.npy')\n",
    "print(b2.shape, f2.shape)"
   ]
  },
  {
   "cell_type": "code",
   "execution_count": 13,
   "metadata": {},
   "outputs": [
    {
     "name": "stdout",
     "output_type": "stream",
     "text": [
      "40\n"
     ]
    },
    {
     "data": {
      "image/png": "[encoded data removed]",
      "text/plain": [
       "<Figure size 432x288 with 1 Axes>"
      ]
     },
     "metadata": {
      "needs_background": "light"
     },
     "output_type": "display_data"
    }
   ],
   "source": [
    "test_mc_quad =20\n",
    "test_q_quad = 1\n",
    "test_s1_quad = [0.0, 0.0, 0.0]\n",
    "test_s2_quad = [0.0, 0.0, 0.0]\n",
    "test_ecc_quad = 0\n",
    "test_lambda1_quad = 0\n",
    "test_lambda2_quad = 0\n",
    "test_iota_quad = 1.9\n",
    "test_phiref_quad = 0.6\n",
    "\n",
    "b_quad = numpy.transpose(numpy.load('./B_quadratic.npy'))\n",
    "ndim_quad = b_quad.shape[1]\n",
    "print(ndim_quad)\n",
    "ndim_quad, inverse_V_quad, emp_nodes_quad = pyroq.empnodes_quad(ndim_quad, known_quad_bases_copy)\n",
    "pyroq.testrep_quad(b_quad, emp_nodes_quad, test_mc_quad, test_q_quad, test_s1_quad, test_s2_quad, test_ecc_quad, test_lambda1_quad, test_lambda2_quad, test_iota_quad, test_phiref_quad, distance, deltaF, f_min, f_max, waveFlags, approximant)\n"
   ]
  },
  {
   "cell_type": "code",
   "execution_count": null,
   "metadata": {},
   "outputs": [],
   "source": []
  }
 ],
 "metadata": {
  "kernelspec": {
   "display_name": "ligo-py36",
   "language": "python",
   "name": "ligo-py36"
  },
  "language_info": {
   "codemirror_mode": {
    "name": "ipython",
    "version": 3
   },
   "file_extension": ".py",
   "mimetype": "text/x-python",
   "name": "python",
   "nbconvert_exporter": "python",
   "pygments_lexer": "ipython3",
   "version": "3.6.7"
  }
 },
 "nbformat": 4,
 "nbformat_minor": 4
}
