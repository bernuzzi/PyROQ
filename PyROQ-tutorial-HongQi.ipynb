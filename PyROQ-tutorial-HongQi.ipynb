{
 "cells": [
  {
   "cell_type": "code",
   "execution_count": 10,
   "metadata": {},
   "outputs": [
    {
     "name": "stdout",
     "output_type": "stream",
     "text": [
      "Collecting PyROQ==0.1.14\n",
      "  Using cached https://files.pythonhosted.org/packages/f4/bd/68dda2289eac43d2f4cfa54054e75e146012ff4cdde1598981a69ad2c07e/PyROQ-0.1.14-py3-none-any.whl\n",
      "Installing collected packages: PyROQ\n",
      "  Found existing installation: PyROQ 0.1.15\n",
      "    Uninstalling PyROQ-0.1.15:\n",
      "      Successfully uninstalled PyROQ-0.1.15\n",
      "Successfully installed PyROQ-0.1.14\n"
     ]
    }
   ],
   "source": [
    "!pip install --user PyROQ==0.1.14\n"
   ]
  },
  {
   "cell_type": "code",
   "execution_count": 1,
   "metadata": {},
   "outputs": [],
   "source": [
    "import numpy\n",
    "import numpy as np\n",
    "import scipy\n",
    "%matplotlib inline\n",
    "import matplotlib\n",
    "import matplotlib.pyplot as plt\n",
    "import lal\n",
    "import lalsimulation\n",
    "from lal.lal import PC_SI as LAL_PC_SI\n",
    "import h5py\n",
    "import warnings\n",
    "import random\n",
    "warnings.filterwarnings('ignore')\n",
    "import matplotlib.pylab as pylab\n",
    "plot_params = {'legend.fontsize': 'x-large',\n",
    "          'figure.figsize': (15, 9),\n",
    "         'axes.labelsize': 'x-large',\n",
    "         'axes.titlesize':'x-large',\n",
    "         'xtick.labelsize':'x-large',\n",
    "         'ytick.labelsize':'x-large'}\n",
    "pylab.rcParams.update(plot_params)\n",
    "from mpl_toolkits.mplot3d import axes3d\n",
    "import PyROQ.pyroq as pyroq\n"
   ]
  },
  {
   "cell_type": "markdown",
   "metadata": {},
   "source": [
    "# Setting up boundary conditions and tolerance requirements."
   ]
  },
  {
   "cell_type": "code",
   "execution_count": 2,
   "metadata": {},
   "outputs": [
    {
     "name": "stdout",
     "output_type": "stream",
     "text": [
      "approximant number 72\n",
      "mass-min, mass-max:  [12.011244339814313, 72.06746603888588]\n"
     ]
    }
   ],
   "source": [
    "mc_low = 20\n",
    "mc_high = 30 \n",
    "q_low = 1\n",
    "q_high = 4\n",
    "s1sphere_low = [0, 0, 0]\n",
    "s1sphere_high = [0.2, numpy.pi, 2.0*numpy.pi]\n",
    "s2sphere_low = [0, 0, 0]\n",
    "s2sphere_high = [0.2, numpy.pi, 2.0*numpy.pi]\n",
    "ecc_low = 0.0\n",
    "ecc_high = 0.2\n",
    "lambda1_low = 0\n",
    "lambda1_high = 1000\n",
    "lambda2_low = 0\n",
    "lambda2_high = 1000\n",
    "iota_low = 0\n",
    "iota_high = numpy.pi\n",
    "phiref_low = 0\n",
    "phiref_high = 2*numpy.pi\n",
    "f_min = 20\n",
    "f_max = 2048\n",
    "deltaF = 0.25\n",
    "distance = 10 * LAL_PC_SI * 1.0e6  # 10 Mpc is default \n",
    "waveFlags = lal.CreateDict()\n",
    "\n",
    "\n",
    "#approximant = lalsimulation.IMRPhenomPv2_NRTidal\n",
    "approximant = lalsimulation.IMRPhenomPv2\n",
    "print(\"approximant number\", approximant)\n",
    "print(\"mass-min, mass-max: \", pyroq.massrange(mc_low, mc_high, q_low, q_high))\n",
    "\n",
    "npts = 30 # Specify the number of points for each search for a new basis element\n",
    "nts = 123 # Number of random test waveforms\n",
    "\n",
    "nbases = 100 # Specify the number of linear basis elements\n",
    "ndimlow = 60 # Starting number of basis elements used to check if tolerance is satisfied\n",
    "ndimhigh = nbases+1\n",
    "ndimstepsize = 20\n",
    "tolerance = 1e-6 # Surrogage error threshold for linear basis elements\n",
    "\n",
    "nbases_quad = 80 # Specify the number of quadratic basis elements\n",
    "ndimlow_quad = 40 \n",
    "ndimhigh_quad = nbases_quad+1\n",
    "ndimstepsize_quad = 20\n",
    "tolerance_quad = 1e-6 # Surrogage error threshold for quadratic basis elements"
   ]
  },
  {
   "cell_type": "code",
   "execution_count": 3,
   "metadata": {},
   "outputs": [],
   "source": [
    "freq = numpy.arange(f_min,f_max,deltaF)\n",
    "nparams, params_low, params_high, params_start, hp1 = pyroq.initial_basis(mc_low, mc_high, q_low, q_high, s1sphere_low, s1sphere_high, \\\n",
    "                  s2sphere_low, s2sphere_high, ecc_low, ecc_high, lambda1_low, lambda1_high,\\\n",
    "                 lambda2_low, lambda2_high, iota_low, iota_high, phiref_low, phiref_high,  deltaF, f_min, f_max, distance, waveFlags, approximant)\n"
   ]
  },
  {
   "cell_type": "markdown",
   "metadata": {},
   "source": [
    "# Searching for linear basis elements to build and save linear ROQ data."
   ]
  },
  {
   "cell_type": "code",
   "execution_count": 4,
   "metadata": {},
   "outputs": [
    {
     "name": "stdout",
     "output_type": "stream",
     "text": [
      "Linear Iter:  0\n",
      "Linear Iter:  1\n",
      "Linear Iter:  2\n",
      "Linear Iter:  3\n",
      "Linear Iter:  4\n",
      "Linear Iter:  5\n",
      "Linear Iter:  6\n",
      "Linear Iter:  7\n",
      "Linear Iter:  8\n",
      "Linear Iter:  9\n",
      "Linear Iter:  10\n",
      "Linear Iter:  11\n",
      "Linear Iter:  12\n",
      "Linear Iter:  13\n",
      "Linear Iter:  14\n",
      "Linear Iter:  15\n",
      "Linear Iter:  16\n",
      "Linear Iter:  17\n",
      "Linear Iter:  18\n",
      "Linear Iter:  19\n",
      "Linear Iter:  20\n",
      "Linear Iter:  21\n",
      "Linear Iter:  22\n",
      "Linear Iter:  23\n",
      "Linear Iter:  24\n",
      "Linear Iter:  25\n",
      "Linear Iter:  26\n",
      "Linear Iter:  27\n",
      "Linear Iter:  28\n",
      "Linear Iter:  29\n",
      "Linear Iter:  30\n",
      "Linear Iter:  31\n",
      "Linear Iter:  32\n",
      "Linear Iter:  33\n",
      "Linear Iter:  34\n",
      "Linear Iter:  35\n",
      "Linear Iter:  36\n",
      "Linear Iter:  37\n",
      "Linear Iter:  38\n",
      "Linear Iter:  39\n",
      "Linear Iter:  40\n",
      "Linear Iter:  41\n",
      "Linear Iter:  42\n",
      "Linear Iter:  43\n",
      "Linear Iter:  44\n",
      "Linear Iter:  45\n",
      "Linear Iter:  46\n",
      "Linear Iter:  47\n",
      "Linear Iter:  48\n",
      "Linear Iter:  49\n",
      "Linear Iter:  50\n",
      "Linear Iter:  51\n",
      "Linear Iter:  52\n",
      "Linear Iter:  53\n",
      "Linear Iter:  54\n",
      "Linear Iter:  55\n",
      "Linear Iter:  56\n",
      "Linear Iter:  57\n",
      "Linear Iter:  58\n",
      "Linear Iter:  59\n",
      "Linear Iter:  60\n",
      "Linear Iter:  61\n",
      "Linear Iter:  62\n",
      "Linear Iter:  63\n",
      "Linear Iter:  64\n",
      "Linear Iter:  65\n",
      "Linear Iter:  66\n",
      "Linear Iter:  67\n",
      "Linear Iter:  68\n",
      "Linear Iter:  69\n",
      "Linear Iter:  70\n",
      "Linear Iter:  71\n",
      "Linear Iter:  72\n",
      "Linear Iter:  73\n",
      "Linear Iter:  74\n",
      "Linear Iter:  75\n",
      "Linear Iter:  76\n",
      "Linear Iter:  77\n",
      "Linear Iter:  78\n",
      "Linear Iter:  79\n",
      "Linear Iter:  80\n",
      "Linear Iter:  81\n",
      "Linear Iter:  82\n",
      "Linear Iter:  83\n",
      "Linear Iter:  84\n",
      "Linear Iter:  85\n",
      "Linear Iter:  86\n",
      "Linear Iter:  87\n",
      "Linear Iter:  88\n",
      "Linear Iter:  89\n",
      "Linear Iter:  90\n",
      "Linear Iter:  91\n",
      "Linear Iter:  92\n",
      "Linear Iter:  93\n",
      "Linear Iter:  94\n",
      "Linear Iter:  95\n",
      "Linear Iter:  96\n",
      "Linear Iter:  97\n",
      "Linear Iter:  98\n",
      "(100, 8112) [0.00000000e+00 2.43280685e-20 2.50607397e-20 3.32185533e-20\n",
      " 3.96570155e-20 2.51813244e-20 3.70579269e-20 2.15306681e-20\n",
      " 2.41134120e-20 2.65227207e-20 2.89709407e-20 2.65821587e-20\n",
      " 2.95022745e-20 2.12577686e-20 2.88135869e-20 2.38927560e-20\n",
      " 2.06234376e-20 1.91480028e-20 1.52080339e-20 2.16735500e-20\n",
      " 1.62806413e-20 1.17440351e-20 6.83985362e-21 1.06404559e-20\n",
      " 8.00009481e-21 3.28480426e-21 1.96152695e-21 5.25446927e-21\n",
      " 1.23371930e-21 2.42587338e-21 5.49801875e-21 3.21236339e-21\n",
      " 1.15875621e-21 1.80619168e-21 5.57167219e-22 1.60966996e-21\n",
      " 9.16195939e-22 3.15831071e-22 2.64178203e-22 3.20436944e-22\n",
      " 1.80126364e-22 1.16008914e-22 1.03862107e-22 1.16085253e-22\n",
      " 1.52494103e-22 8.83623403e-23 4.87717973e-23 8.52647905e-23\n",
      " 6.06980431e-23 7.32875054e-23 5.30624428e-23 3.82667663e-23\n",
      " 2.96973369e-23 3.32047441e-23 1.91384278e-23 1.20812787e-23\n",
      " 1.49032443e-23 1.14649800e-23 1.86789797e-23 8.83467392e-24\n",
      " 1.22429345e-23 1.03634756e-23 1.34720162e-23 6.57265675e-24\n",
      " 8.42762947e-24 2.69723049e-23 9.65082328e-24 1.21923489e-23\n",
      " 4.99313284e-24 5.92064534e-24 5.84011577e-24 4.82887197e-24\n",
      " 4.91922645e-24 7.13805519e-24 4.38367426e-24 5.31698701e-23\n",
      " 3.55497867e-24 3.78938250e-24 3.35865323e-24 6.28045486e-24\n",
      " 3.39970413e-24 4.27253753e-24 3.26904941e-24 5.11434924e-24\n",
      " 4.05619137e-24 3.65559652e-24 1.96651875e-24 2.49891748e-24\n",
      " 2.99507110e-24 2.39471023e-24 3.18923094e-24 2.42441346e-24\n",
      " 1.66619184e-23 1.84627525e-24 2.53663975e-24 1.98682732e-24\n",
      " 1.63598069e-24 1.53134981e-24 1.84809878e-24 1.88244128e-24]\n"
     ]
    }
   ],
   "source": [
    "known_bases_start = numpy.array([hp1/numpy.sqrt(numpy.vdot(hp1,hp1))])\n",
    "basis_waveforms_start = numpy.array([hp1])\n",
    "residual_modula_start = numpy.array([0.0])\n",
    "known_bases, params, residual_modula = pyroq.bases_searching_results_unnormalized(npts, nparams, nbases, known_bases_start, basis_waveforms_start, params_start, residual_modula_start, params_low, params_high, deltaF, f_min, f_max, distance, waveFlags, approximant)\n",
    "print(known_bases.shape, residual_modula)\n",
    "known_bases_copy = known_bases\n",
    "known_bases = known_bases_copy"
   ]
  },
  {
   "cell_type": "code",
   "execution_count": 5,
   "metadata": {},
   "outputs": [
    {
     "name": "stdout",
     "output_type": "stream",
     "text": [
      "60 basis elements gave 0 bad points of surrogate error >  1e-06\n",
      "Number of linear basis elements is  60 and the linear ROQ data save in B_linear.npy\n",
      "Number of basis elements:  60\n"
     ]
    }
   ],
   "source": [
    "pyroq.roqs(tolerance, freq, ndimlow, ndimhigh, ndimstepsize, known_bases, nts, nparams, params_low, params_high, deltaF, f_min, f_max, distance, waveFlags, approximant)\n",
    "b1 = numpy.load('./B_linear.npy')\n",
    "f1 = numpy.load('./fnodes_linear.npy')\n",
    "#print(b1.shape, f1.shape)\n",
    "b_linear = numpy.transpose(numpy.load('./B_linear.npy'))\n",
    "ndim = b_linear.shape[1]\n",
    "print(\"Number of basis elements: \", ndim)"
   ]
  },
  {
   "cell_type": "code",
   "execution_count": 6,
   "metadata": {},
   "outputs": [
    {
     "data": {
      "image/png": "[encoded data removed]",
      "text/plain": [
       "<Figure size 432x288 with 1 Axes>"
      ]
     },
     "metadata": {
      "needs_background": "light"
     },
     "output_type": "display_data"
    }
   ],
   "source": [
    "test_mc = 20\n",
    "test_q = 4\n",
    "test_s1 = [0.,0.2,-0.]\n",
    "test_s2 = [0.,0.15,-0.1]\n",
    "test_ecc = 0\n",
    "test_lambda1 = 0\n",
    "test_lambda2 = 0\n",
    "test_iota = 1.9\n",
    "test_phiref = 0.6\n",
    "\n",
    "ndim, inverse_V, emp_nodes = pyroq.empnodes(ndim, known_bases_copy)\n",
    "pyroq.testrep(b_linear, emp_nodes, test_mc, test_q, test_s1, test_s2, test_ecc, test_lambda1, test_lambda2, test_iota, test_phiref, deltaF, f_min, f_max, distance, waveFlags, approximant)\n",
    " "
   ]
  },
  {
   "cell_type": "markdown",
   "metadata": {},
   "source": [
    "# Searching for quadratic basis elements and build quadratic ROQ data"
   ]
  },
  {
   "cell_type": "code",
   "execution_count": 7,
   "metadata": {},
   "outputs": [
    {
     "name": "stdout",
     "output_type": "stream",
     "text": [
      "Quadratic Iter:  0\n",
      "Quadratic Iter:  1\n",
      "Quadratic Iter:  2\n",
      "Quadratic Iter:  3\n",
      "Quadratic Iter:  4\n",
      "Quadratic Iter:  5\n",
      "Quadratic Iter:  6\n",
      "Quadratic Iter:  7\n",
      "Quadratic Iter:  8\n",
      "Quadratic Iter:  9\n",
      "Quadratic Iter:  10\n",
      "Quadratic Iter:  11\n",
      "Quadratic Iter:  12\n",
      "Quadratic Iter:  13\n",
      "Quadratic Iter:  14\n",
      "Quadratic Iter:  15\n",
      "Quadratic Iter:  16\n",
      "Quadratic Iter:  17\n",
      "Quadratic Iter:  18\n",
      "Quadratic Iter:  19\n",
      "Quadratic Iter:  20\n",
      "Quadratic Iter:  21\n",
      "Quadratic Iter:  22\n",
      "Quadratic Iter:  23\n",
      "Quadratic Iter:  24\n",
      "Quadratic Iter:  25\n",
      "Quadratic Iter:  26\n",
      "Quadratic Iter:  27\n",
      "Quadratic Iter:  28\n",
      "Quadratic Iter:  29\n",
      "Quadratic Iter:  30\n",
      "Quadratic Iter:  31\n",
      "Quadratic Iter:  32\n",
      "Quadratic Iter:  33\n",
      "Quadratic Iter:  34\n",
      "Quadratic Iter:  35\n",
      "Quadratic Iter:  36\n",
      "Quadratic Iter:  37\n",
      "Quadratic Iter:  38\n",
      "Quadratic Iter:  39\n",
      "Quadratic Iter:  40\n",
      "Quadratic Iter:  41\n",
      "Quadratic Iter:  42\n",
      "Quadratic Iter:  43\n",
      "Quadratic Iter:  44\n",
      "Quadratic Iter:  45\n",
      "Quadratic Iter:  46\n",
      "Quadratic Iter:  47\n",
      "Quadratic Iter:  48\n",
      "Quadratic Iter:  49\n",
      "Quadratic Iter:  50\n",
      "Quadratic Iter:  51\n",
      "Quadratic Iter:  52\n",
      "Quadratic Iter:  53\n",
      "Quadratic Iter:  54\n",
      "Quadratic Iter:  55\n",
      "Quadratic Iter:  56\n",
      "Quadratic Iter:  57\n",
      "Quadratic Iter:  58\n",
      "Quadratic Iter:  59\n",
      "Quadratic Iter:  60\n",
      "Quadratic Iter:  61\n",
      "Quadratic Iter:  62\n",
      "Quadratic Iter:  63\n",
      "Quadratic Iter:  64\n",
      "Quadratic Iter:  65\n",
      "Quadratic Iter:  66\n",
      "Quadratic Iter:  67\n",
      "Quadratic Iter:  68\n",
      "Quadratic Iter:  69\n",
      "Quadratic Iter:  70\n",
      "Quadratic Iter:  71\n",
      "Quadratic Iter:  72\n",
      "Quadratic Iter:  73\n",
      "Quadratic Iter:  74\n",
      "Quadratic Iter:  75\n",
      "Quadratic Iter:  76\n",
      "Quadratic Iter:  77\n",
      "Quadratic Iter:  78\n"
     ]
    }
   ],
   "source": [
    "hp1_quad = (numpy.absolute(hp1))**2\n",
    "#known_bases_start = numpy.array([hp1/numpy.sqrt(numpy.vdot(hp1,hp1))])\n",
    "known_quad_bases_start = numpy.array([hp1_quad/numpy.sqrt(numpy.vdot(hp1_quad,hp1_quad))])\n",
    "basis_waveforms_quad_start = numpy.array([hp1_quad])\n",
    "residual_modula_start = numpy.array([0.0])\n",
    "known_quad_bases,params_quad,residual_modula_quad = pyroq.bases_searching_quadratic_results_unnormalized(npts, nparams, nbases_quad, known_quad_bases_start, basis_waveforms_quad_start, params_start, residual_modula_start, params_low, params_high, deltaF, f_min, f_max, distance, waveFlags, approximant)\n",
    "known_quad_bases_copy = known_quad_bases\n"
   ]
  },
  {
   "cell_type": "code",
   "execution_count": 8,
   "metadata": {},
   "outputs": [],
   "source": [
    "points = numpy.random.uniform(params_low, params_high, size=(npts,nparams))\n"
   ]
  },
  {
   "cell_type": "code",
   "execution_count": 9,
   "metadata": {},
   "outputs": [
    {
     "ename": "TypeError",
     "evalue": "'float' object cannot be interpreted as an integer",
     "output_type": "error",
     "traceback": [
      "\u001b[0;31m---------------------------------------------------------------------------\u001b[0m",
      "\u001b[0;31mTypeError\u001b[0m                                 Traceback (most recent call last)",
      "\u001b[0;32m<ipython-input-9-2e956b6cd532>\u001b[0m in \u001b[0;36m<module>\u001b[0;34m\u001b[0m\n\u001b[1;32m      1\u001b[0m \u001b[0mknown_quad_bases\u001b[0m \u001b[0;34m=\u001b[0m \u001b[0mknown_quad_bases_copy\u001b[0m\u001b[0;34m\u001b[0m\u001b[0;34m\u001b[0m\u001b[0m\n\u001b[0;32m----> 2\u001b[0;31m \u001b[0mpyroq\u001b[0m\u001b[0;34m.\u001b[0m\u001b[0mroqs_quad\u001b[0m\u001b[0;34m(\u001b[0m\u001b[0mtolerance_quad\u001b[0m\u001b[0;34m,\u001b[0m \u001b[0mfreq\u001b[0m\u001b[0;34m,\u001b[0m \u001b[0mndimlow_quad\u001b[0m\u001b[0;34m,\u001b[0m \u001b[0mndimhigh_quad\u001b[0m\u001b[0;34m,\u001b[0m \u001b[0mndimstepsize_quad\u001b[0m\u001b[0;34m,\u001b[0m \u001b[0mknown_quad_bases\u001b[0m\u001b[0;34m,\u001b[0m \u001b[0mdeltaF\u001b[0m\u001b[0;34m,\u001b[0m \u001b[0mnts\u001b[0m\u001b[0;34m,\u001b[0m \u001b[0mnparams\u001b[0m\u001b[0;34m,\u001b[0m \u001b[0mparams_low\u001b[0m\u001b[0;34m,\u001b[0m \u001b[0mparams_high\u001b[0m\u001b[0;34m,\u001b[0m \u001b[0mf_min\u001b[0m\u001b[0;34m,\u001b[0m \u001b[0mf_max\u001b[0m\u001b[0;34m,\u001b[0m \u001b[0mdistance\u001b[0m\u001b[0;34m,\u001b[0m \u001b[0mwaveFlags\u001b[0m\u001b[0;34m,\u001b[0m \u001b[0mapproximant\u001b[0m\u001b[0;34m)\u001b[0m\u001b[0;34m\u001b[0m\u001b[0;34m\u001b[0m\u001b[0m\n\u001b[0m\u001b[1;32m      3\u001b[0m \u001b[0mb2\u001b[0m \u001b[0;34m=\u001b[0m \u001b[0mnumpy\u001b[0m\u001b[0;34m.\u001b[0m\u001b[0mload\u001b[0m\u001b[0;34m(\u001b[0m\u001b[0;34m'./B_quadratic.npy'\u001b[0m\u001b[0;34m)\u001b[0m\u001b[0;34m\u001b[0m\u001b[0;34m\u001b[0m\u001b[0m\n\u001b[1;32m      4\u001b[0m \u001b[0mf2\u001b[0m \u001b[0;34m=\u001b[0m \u001b[0mnumpy\u001b[0m\u001b[0;34m.\u001b[0m\u001b[0mload\u001b[0m\u001b[0;34m(\u001b[0m\u001b[0;34m'./fnodes_quadratic.npy'\u001b[0m\u001b[0;34m)\u001b[0m\u001b[0;34m\u001b[0m\u001b[0;34m\u001b[0m\u001b[0m\n\u001b[1;32m      5\u001b[0m \u001b[0mprint\u001b[0m\u001b[0;34m(\u001b[0m\u001b[0mb2\u001b[0m\u001b[0;34m.\u001b[0m\u001b[0mshape\u001b[0m\u001b[0;34m,\u001b[0m \u001b[0mf2\u001b[0m\u001b[0;34m.\u001b[0m\u001b[0mshape\u001b[0m\u001b[0;34m)\u001b[0m\u001b[0;34m\u001b[0m\u001b[0;34m\u001b[0m\u001b[0m\n",
      "\u001b[0;32m~/.local/lib/python3.6/site-packages/PyROQ/pyroq.py\u001b[0m in \u001b[0;36mroqs_quad\u001b[0;34m(tolerance_quad, freq, ndimlow_quad, ndimhigh_quad, ndimstepsize_quad, known_quad_bases_copy, nts, nparams, params_low, params_high, distance, deltaF, f_min, f_max, waveFlags, approximant)\u001b[0m\n\u001b[1;32m    397\u001b[0m     \u001b[0;32mfor\u001b[0m \u001b[0mnum\u001b[0m \u001b[0;32min\u001b[0m \u001b[0mnp\u001b[0m\u001b[0;34m.\u001b[0m\u001b[0marange\u001b[0m\u001b[0;34m(\u001b[0m\u001b[0mndimlow_quad\u001b[0m\u001b[0;34m,\u001b[0m \u001b[0mndimhigh_quad\u001b[0m\u001b[0;34m,\u001b[0m \u001b[0mndimstepsize_quad\u001b[0m\u001b[0;34m)\u001b[0m\u001b[0;34m:\u001b[0m\u001b[0;34m\u001b[0m\u001b[0;34m\u001b[0m\u001b[0m\n\u001b[1;32m    398\u001b[0m         \u001b[0mndim_quad\u001b[0m\u001b[0;34m,\u001b[0m \u001b[0minverse_V_quad\u001b[0m\u001b[0;34m,\u001b[0m \u001b[0memp_nodes_quad\u001b[0m \u001b[0;34m=\u001b[0m \u001b[0mempnodes_quad\u001b[0m\u001b[0;34m(\u001b[0m\u001b[0mnum\u001b[0m\u001b[0;34m,\u001b[0m \u001b[0mknown_quad_bases_copy\u001b[0m\u001b[0;34m)\u001b[0m\u001b[0;34m\u001b[0m\u001b[0;34m\u001b[0m\u001b[0m\n\u001b[0;32m--> 399\u001b[0;31m         \u001b[0;32mif\u001b[0m \u001b[0msurros_quad\u001b[0m\u001b[0;34m(\u001b[0m\u001b[0mtolerance_quad\u001b[0m\u001b[0;34m,\u001b[0m \u001b[0mndim_quad\u001b[0m\u001b[0;34m,\u001b[0m \u001b[0minverse_V_quad\u001b[0m\u001b[0;34m,\u001b[0m \u001b[0memp_nodes_quad\u001b[0m\u001b[0;34m,\u001b[0m \u001b[0mknown_quad_bases_copy\u001b[0m\u001b[0;34m,\u001b[0m \u001b[0mnts\u001b[0m\u001b[0;34m,\u001b[0m \u001b[0mnparams\u001b[0m\u001b[0;34m,\u001b[0m \u001b[0mparams_low\u001b[0m\u001b[0;34m,\u001b[0m \u001b[0mparams_high\u001b[0m\u001b[0;34m,\u001b[0m \u001b[0mdistance\u001b[0m\u001b[0;34m,\u001b[0m \u001b[0mdeltaF\u001b[0m\u001b[0;34m,\u001b[0m \u001b[0mf_min\u001b[0m\u001b[0;34m,\u001b[0m \u001b[0mf_max\u001b[0m\u001b[0;34m,\u001b[0m \u001b[0mwaveFlags\u001b[0m\u001b[0;34m,\u001b[0m \u001b[0mapproximant\u001b[0m\u001b[0;34m)\u001b[0m\u001b[0;34m==\u001b[0m\u001b[0;36m0\u001b[0m\u001b[0;34m:\u001b[0m\u001b[0;34m\u001b[0m\u001b[0;34m\u001b[0m\u001b[0m\n\u001b[0m\u001b[1;32m    400\u001b[0m             \u001b[0mb_quad\u001b[0m \u001b[0;34m=\u001b[0m \u001b[0mnumpy\u001b[0m\u001b[0;34m.\u001b[0m\u001b[0mdot\u001b[0m\u001b[0;34m(\u001b[0m\u001b[0mnumpy\u001b[0m\u001b[0;34m.\u001b[0m\u001b[0mtranspose\u001b[0m\u001b[0;34m(\u001b[0m\u001b[0mknown_quad_bases_copy\u001b[0m\u001b[0;34m[\u001b[0m\u001b[0;36m0\u001b[0m\u001b[0;34m:\u001b[0m\u001b[0mndim_quad\u001b[0m\u001b[0;34m]\u001b[0m\u001b[0;34m)\u001b[0m\u001b[0;34m,\u001b[0m \u001b[0minverse_V_quad\u001b[0m\u001b[0;34m)\u001b[0m\u001b[0;34m\u001b[0m\u001b[0;34m\u001b[0m\u001b[0m\n\u001b[1;32m    401\u001b[0m             \u001b[0mf_quad\u001b[0m \u001b[0;34m=\u001b[0m \u001b[0mfreq\u001b[0m\u001b[0;34m[\u001b[0m\u001b[0memp_nodes_quad\u001b[0m\u001b[0;34m]\u001b[0m\u001b[0;34m\u001b[0m\u001b[0;34m\u001b[0m\u001b[0m\n",
      "\u001b[0;32m~/.local/lib/python3.6/site-packages/PyROQ/pyroq.py\u001b[0m in \u001b[0;36msurros_quad\u001b[0;34m(tolerance_quad, ndim_quad, inverse_V_quad, emp_nodes_quad, known_quad_bases, nts, nparams, params_low, params_high, distance, deltaF, f_min, f_max, waveFlags, approximant)\u001b[0m\n\u001b[1;32m    369\u001b[0m \u001b[0;34m\u001b[0m\u001b[0m\n\u001b[1;32m    370\u001b[0m \u001b[0;32mdef\u001b[0m \u001b[0msurros_quad\u001b[0m\u001b[0;34m(\u001b[0m\u001b[0mtolerance_quad\u001b[0m\u001b[0;34m,\u001b[0m \u001b[0mndim_quad\u001b[0m\u001b[0;34m,\u001b[0m \u001b[0minverse_V_quad\u001b[0m\u001b[0;34m,\u001b[0m \u001b[0memp_nodes_quad\u001b[0m\u001b[0;34m,\u001b[0m \u001b[0mknown_quad_bases\u001b[0m\u001b[0;34m,\u001b[0m \u001b[0mnts\u001b[0m\u001b[0;34m,\u001b[0m \u001b[0mnparams\u001b[0m\u001b[0;34m,\u001b[0m \u001b[0mparams_low\u001b[0m\u001b[0;34m,\u001b[0m \u001b[0mparams_high\u001b[0m\u001b[0;34m,\u001b[0m \u001b[0mdistance\u001b[0m\u001b[0;34m,\u001b[0m \u001b[0mdeltaF\u001b[0m\u001b[0;34m,\u001b[0m \u001b[0mf_min\u001b[0m\u001b[0;34m,\u001b[0m \u001b[0mf_max\u001b[0m\u001b[0;34m,\u001b[0m \u001b[0mwaveFlags\u001b[0m\u001b[0;34m,\u001b[0m \u001b[0mapproximant\u001b[0m\u001b[0;34m)\u001b[0m\u001b[0;34m:\u001b[0m\u001b[0;34m\u001b[0m\u001b[0;34m\u001b[0m\u001b[0m\n\u001b[0;32m--> 371\u001b[0;31m     \u001b[0mtest_points\u001b[0m \u001b[0;34m=\u001b[0m \u001b[0mgenerate_params_points\u001b[0m\u001b[0;34m(\u001b[0m\u001b[0mnts\u001b[0m\u001b[0;34m,\u001b[0m \u001b[0mnparams\u001b[0m\u001b[0;34m,\u001b[0m \u001b[0mparams_low\u001b[0m\u001b[0;34m,\u001b[0m \u001b[0mparams_high\u001b[0m\u001b[0;34m)\u001b[0m\u001b[0;34m\u001b[0m\u001b[0;34m\u001b[0m\u001b[0m\n\u001b[0m\u001b[1;32m    372\u001b[0m     \u001b[0msurros\u001b[0m \u001b[0;34m=\u001b[0m \u001b[0mnumpy\u001b[0m\u001b[0;34m.\u001b[0m\u001b[0mzeros\u001b[0m\u001b[0;34m(\u001b[0m\u001b[0mnts\u001b[0m\u001b[0;34m)\u001b[0m\u001b[0;34m\u001b[0m\u001b[0;34m\u001b[0m\u001b[0m\n\u001b[1;32m    373\u001b[0m     \u001b[0mcount\u001b[0m \u001b[0;34m=\u001b[0m \u001b[0;36m0\u001b[0m\u001b[0;34m\u001b[0m\u001b[0;34m\u001b[0m\u001b[0m\n",
      "\u001b[0;32m~/.local/lib/python3.6/site-packages/PyROQ/pyroq.py\u001b[0m in \u001b[0;36mgenerate_params_points\u001b[0;34m(npts, nparams, params_low, params_high)\u001b[0m\n\u001b[1;32m     66\u001b[0m \u001b[0;34m\u001b[0m\u001b[0m\n\u001b[1;32m     67\u001b[0m \u001b[0;32mdef\u001b[0m \u001b[0mgenerate_params_points\u001b[0m\u001b[0;34m(\u001b[0m\u001b[0mnpts\u001b[0m\u001b[0;34m,\u001b[0m \u001b[0mnparams\u001b[0m\u001b[0;34m,\u001b[0m \u001b[0mparams_low\u001b[0m\u001b[0;34m,\u001b[0m \u001b[0mparams_high\u001b[0m\u001b[0;34m)\u001b[0m\u001b[0;34m:\u001b[0m\u001b[0;34m\u001b[0m\u001b[0;34m\u001b[0m\u001b[0m\n\u001b[0;32m---> 68\u001b[0;31m     \u001b[0mparamspoints\u001b[0m \u001b[0;34m=\u001b[0m \u001b[0mnumpy\u001b[0m\u001b[0;34m.\u001b[0m\u001b[0mrandom\u001b[0m\u001b[0;34m.\u001b[0m\u001b[0muniform\u001b[0m\u001b[0;34m(\u001b[0m\u001b[0mparams_low\u001b[0m\u001b[0;34m,\u001b[0m \u001b[0mparams_high\u001b[0m\u001b[0;34m,\u001b[0m \u001b[0msize\u001b[0m\u001b[0;34m=\u001b[0m\u001b[0;34m(\u001b[0m\u001b[0mnpts\u001b[0m\u001b[0;34m,\u001b[0m\u001b[0mnparams\u001b[0m\u001b[0;34m)\u001b[0m\u001b[0;34m)\u001b[0m\u001b[0;34m\u001b[0m\u001b[0;34m\u001b[0m\u001b[0m\n\u001b[0m\u001b[1;32m     69\u001b[0m     \u001b[0mparamspoints\u001b[0m \u001b[0;34m=\u001b[0m \u001b[0mparamspoints\u001b[0m\u001b[0;34m.\u001b[0m\u001b[0mround\u001b[0m\u001b[0;34m(\u001b[0m\u001b[0mdecimals\u001b[0m\u001b[0;34m=\u001b[0m\u001b[0;36m6\u001b[0m\u001b[0;34m)\u001b[0m\u001b[0;34m\u001b[0m\u001b[0;34m\u001b[0m\u001b[0m\n\u001b[1;32m     70\u001b[0m     \u001b[0;32mreturn\u001b[0m \u001b[0mparamspoints\u001b[0m\u001b[0;34m\u001b[0m\u001b[0;34m\u001b[0m\u001b[0m\n",
      "\u001b[0;32mmtrand.pyx\u001b[0m in \u001b[0;36mnumpy.random.mtrand.RandomState.uniform\u001b[0;34m()\u001b[0m\n",
      "\u001b[0;32mcommon.pyx\u001b[0m in \u001b[0;36mnumpy.random.common.cont\u001b[0;34m()\u001b[0m\n",
      "\u001b[0;32mcommon.pyx\u001b[0m in \u001b[0;36mnumpy.random.common.cont_broadcast_2\u001b[0;34m()\u001b[0m\n",
      "\u001b[0;31mTypeError\u001b[0m: 'float' object cannot be interpreted as an integer"
     ]
    }
   ],
   "source": [
    "known_quad_bases = known_quad_bases_copy\n",
    "pyroq.roqs_quad(tolerance_quad, freq, ndimlow_quad, ndimhigh_quad, ndimstepsize_quad, known_quad_bases, deltaF, nts, nparams, params_low, params_high, f_min, f_max, distance, waveFlags, approximant)\n",
    "b2 = numpy.load('./B_quadratic.npy')\n",
    "f2 = numpy.load('./fnodes_quadratic.npy')\n",
    "print(b2.shape, f2.shape)"
   ]
  },
  {
   "cell_type": "code",
   "execution_count": null,
   "metadata": {},
   "outputs": [],
   "source": [
    "test_mc_quad =20\n",
    "test_q_quad = 1\n",
    "test_s1_quad = [0.0, 0.0, 0.0]\n",
    "test_s2_quad = [0.0, 0.0, 0.0]\n",
    "test_ecc_quad = 0\n",
    "test_lambda1_quad = 0\n",
    "test_lambda2_quad = 0\n",
    "test_iota_quad = 1.9\n",
    "test_phiref_quad = 0.6\n",
    "\n",
    "b_quad = numpy.transpose(numpy.load('./B_quadratic.npy'))\n",
    "ndim_quad = b_quad.shape[1]\n",
    "print(ndim_quad)\n",
    "ndim_quad, inverse_V_quad, emp_nodes_quad = pyroq.empnodes_quad(ndim_quad, known_quad_bases_copy)\n",
    "pyroq.testrep_quad(b_quad, emp_nodes_quad, test_mc_quad, test_q_quad, test_s1_quad, test_s2_quad, test_ecc_quad, test_lambda1_quad, test_lambda2_quad, test_iota_quad, test_phiref_quad, f_min, f_max, distance, waveFlags, approximant)\n"
   ]
  },
  {
   "cell_type": "code",
   "execution_count": null,
   "metadata": {},
   "outputs": [],
   "source": []
  },
  {
   "cell_type": "code",
   "execution_count": null,
   "metadata": {},
   "outputs": [],
   "source": []
  }
 ],
 "metadata": {
  "kernelspec": {
   "display_name": "ligo-py36",
   "language": "python",
   "name": "ligo-py36"
  },
  "language_info": {
   "codemirror_mode": {
    "name": "ipython",
    "version": 3
   },
   "file_extension": ".py",
   "mimetype": "text/x-python",
   "name": "python",
   "nbconvert_exporter": "python",
   "pygments_lexer": "ipython3",
   "version": "3.6.7"
  }
 },
 "nbformat": 4,
 "nbformat_minor": 4
}
