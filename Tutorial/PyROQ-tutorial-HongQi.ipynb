{
 "cells": [
  {
   "cell_type": "code",
   "execution_count": 2,
   "metadata": {},
   "outputs": [
    {
     "name": "stdout",
     "output_type": "stream",
     "text": [
      "Collecting PyROQ==0.1.21\n",
      "  Downloading https://files.pythonhosted.org/packages/55/fb/ed8347fd90947d98db7a09ec220a0fb65ad245869c474cd292dd20ef13a5/PyROQ-0.1.21-py3-none-any.whl\n",
      "Installing collected packages: PyROQ\n",
      "  Found existing installation: PyROQ 0.1.19\n",
      "    Uninstalling PyROQ-0.1.19:\n",
      "      Successfully uninstalled PyROQ-0.1.19\n",
      "Successfully installed PyROQ-0.1.21\n"
     ]
    }
   ],
   "source": [
    "!pip install --user PyROQ==0.1.21"
   ]
  },
  {
   "cell_type": "code",
   "execution_count": 1,
   "metadata": {},
   "outputs": [],
   "source": [
    "import numpy\n",
    "import numpy as np\n",
    "import scipy\n",
    "%matplotlib inline\n",
    "import matplotlib\n",
    "import matplotlib.pyplot as plt\n",
    "import lal\n",
    "import lalsimulation\n",
    "from lal.lal import PC_SI as LAL_PC_SI\n",
    "import h5py\n",
    "import warnings\n",
    "import random\n",
    "warnings.filterwarnings('ignore')\n",
    "import matplotlib.pylab as pylab\n",
    "plot_params = {'legend.fontsize': 'x-large',\n",
    "          'figure.figsize': (15, 9),\n",
    "         'axes.labelsize': 'x-large',\n",
    "         'axes.titlesize':'x-large',\n",
    "         'xtick.labelsize':'x-large',\n",
    "         'ytick.labelsize':'x-large'}\n",
    "pylab.rcParams.update(plot_params)\n",
    "from mpl_toolkits.mplot3d import axes3d\n",
    "#import PyROQ.pyroq as pyroq\n",
    "import pyroq as pyroq"
   ]
  },
  {
   "cell_type": "markdown",
   "metadata": {},
   "source": [
    "# Setting up boundary conditions and tolerance requirements."
   ]
  },
  {
   "cell_type": "code",
   "execution_count": 12,
   "metadata": {},
   "outputs": [
    {
     "name": "stdout",
     "output_type": "stream",
     "text": [
      "mass-min, mass-max:  [16.437518295172257, 49.31255488551677]\n"
     ]
    }
   ],
   "source": [
    "mc_low = 20\n",
    "mc_high = 30\n",
    "q_low = 1\n",
    "q_high = 2\n",
    "s1sphere_low = [0, 0, 0]\n",
    "s1sphere_high = [0.2, numpy.pi, 2.0*numpy.pi]\n",
    "s2sphere_low = [0, 0, 0]\n",
    "s2sphere_high = [0.2, numpy.pi, 2.0*numpy.pi]\n",
    "ecc_low = 0.0\n",
    "ecc_high = 0.2\n",
    "lambda1_low = 0\n",
    "lambda1_high = 1000\n",
    "lambda2_low = 0\n",
    "lambda2_high = 1000\n",
    "iota_low = 0\n",
    "iota_high = numpy.pi\n",
    "phiref_low = 0\n",
    "phiref_high = 2*numpy.pi\n",
    "f_min = 20\n",
    "f_max = 1024\n",
    "deltaF = 1/4.\n",
    "distance = 10 * LAL_PC_SI * 1.0e6  # 10 Mpc is default \n",
    "waveFlags = lal.CreateDict()\n",
    "\n",
    "\n",
    "#approximant = lalsimulation.IMRPhenomPv2_NRTidal\n",
    "approximant = lalsimulation.IMRPhenomPv2\n",
    "print(\"mass-min, mass-max: \", pyroq.massrange(mc_low, mc_high, q_low, q_high))\n",
    "\n",
    "npts = 100 # Specify the number of points for each search for a new basis element\n",
    "          # For diagnostic testing, 30 -100 is fine. \n",
    "          # For real ROQs computation, this can be 300 to 1000, roughly comparable to the number of basis elments.\n",
    "          # What value to choose depends on the nature of the waveform, such as how many features it has. \n",
    "          # It also depends on the parameter space and the signal length. \n",
    "nts = 123 # Number of random test waveforms\n",
    "          # For diagnostics, 123 is fine.\n",
    "          # For real ROQs calculation, set it to be 1000000.\n",
    "\n",
    "nbases = 80 # Specify the number of linear basis elements\n",
    "ndimlow = 40 # Starting number of basis elements used to check if tolerance is satisfied\n",
    "ndimhigh = nbases+1\n",
    "ndimstepsize = 10 # Number of linear basis elements increament to get the basis satisfying the tolerance\n",
    "tolerance = 1e-8 # Surrogage error threshold for linear basis elements\n",
    "\n",
    "nbases_quad = 80 # Specify the number of quadratic basis elements, usually half of that for linear basis\n",
    "ndimlow_quad = 20 \n",
    "ndimhigh_quad = nbases_quad+1\n",
    "ndimstepsize_quad = 10\n",
    "tolerance_quad = 1e-12 # Surrogage error threshold for quadratic basis elements"
   ]
  },
  {
   "cell_type": "code",
   "execution_count": 3,
   "metadata": {},
   "outputs": [],
   "source": [
    "freq = numpy.arange(f_min,f_max,deltaF)\n",
    "nparams, params_low, params_high, params_start, hp1 = pyroq.initial_basis(mc_low, mc_high, q_low, q_high, s1sphere_low, s1sphere_high, \\\n",
    "                  s2sphere_low, s2sphere_high, ecc_low, ecc_high, lambda1_low, lambda1_high,\\\n",
    "                 lambda2_low, lambda2_high, iota_low, iota_high, phiref_low, phiref_high, distance, deltaF, f_min, f_max, waveFlags, approximant)\n"
   ]
  },
  {
   "cell_type": "code",
   "execution_count": 4,
   "metadata": {},
   "outputs": [
    {
     "name": "stdout",
     "output_type": "stream",
     "text": [
      "[24.02248868  6.00562217]\n"
     ]
    }
   ],
   "source": [
    "mmin=pyroq.get_m1m2_from_mcq(10,4)\n",
    "print(mmin)"
   ]
  },
  {
   "cell_type": "code",
   "execution_count": 5,
   "metadata": {},
   "outputs": [
    {
     "name": "stdout",
     "output_type": "stream",
     "text": [
      "10\n",
      "4016\n"
     ]
    }
   ],
   "source": [
    "print(nparams)\n",
    "print(len(freq))"
   ]
  },
  {
   "cell_type": "markdown",
   "metadata": {},
   "source": [
    "# Search for linear basis elements to build and save linear ROQ data in the local directory."
   ]
  },
  {
   "cell_type": "code",
   "execution_count": 6,
   "metadata": {},
   "outputs": [
    {
     "name": "stdout",
     "output_type": "stream",
     "text": [
      "The parameters are Mc, q, s1(mag, theta, phi), s2(mag, theta, phi), iota, and phiRef\n",
      "\n",
      "Linear Iter:  0 [29.836781  1.279821  0.155866  1.658551  5.798393  0.037466  1.628186\n",
      "  5.363982  0.269083  2.759671]\n",
      "Linear Iter:  1 [2.9468066e+01 1.9648120e+00 8.9061000e-02 1.6648000e-02 3.1803810e+00\n",
      " 5.9082000e-02 9.1157100e-01 3.6807970e+00 1.2069500e-01 5.8096210e+00]\n",
      "Linear Iter:  2 [20.44717   1.641786  0.191287  0.667797  5.546971  0.159541  1.888148\n",
      "  4.167057  2.931956  2.674447]\n",
      "Linear Iter:  3 [27.687677  1.070605  0.13942   2.467249  4.443084  0.041927  0.366413\n",
      "  4.971536  2.907217  4.101959]\n",
      "Linear Iter:  4 [26.355322  1.708944  0.077279  2.272795  2.005045  0.097709  1.829803\n",
      "  1.345091  0.200113  2.049586]\n",
      "Linear Iter:  5 [2.5266308e+01 1.8566360e+00 5.7520000e-03 1.5987160e+00 3.1237030e+00\n",
      " 1.8743600e-01 1.9848760e+00 3.6768600e+00 2.7353390e+00 4.4223760e+00]\n",
      "Linear Iter:  6 [2.5697702e+01 1.4786410e+00 3.4537000e-02 2.8865610e+00 3.3996490e+00\n",
      " 2.1265000e-02 2.5368360e+00 3.4491830e+00 4.6740100e-01 4.8106490e+00]\n",
      "Linear Iter:  7 [23.978777  1.899346  0.119834  1.067061  2.512005  0.092532  2.812035\n",
      "  4.00457   0.068147  0.457165]\n",
      "Linear Iter:  8 [2.4526651e+01 1.1421140e+00 2.3165000e-02 1.4826320e+00 3.0689600e-01\n",
      " 4.8289000e-02 1.2261420e+00 1.4236210e+00 2.9674270e+00 4.2373460e+00]\n",
      "Linear Iter:  9 [2.3500256e+01 1.2969000e+00 1.5656000e-02 2.2443800e-01 3.4212180e+00\n",
      " 9.7707000e-02 9.7221300e-01 4.8312360e+00 3.0959300e-01 6.0524330e+00]\n",
      "Linear Iter:  10 [22.86063   1.354228  0.081335  2.709483  3.910896  0.080987  0.681022\n",
      "  4.507986  2.633585  5.610576]\n",
      "Linear Iter:  11 [22.716647  1.636406  0.177626  1.002629  2.491523  0.067415  1.169243\n",
      "  0.578417  0.030527  4.623385]\n",
      "Linear Iter:  12 [22.522066  1.025326  0.177893  1.262618  3.581763  0.078431  0.05752\n",
      "  3.887202  3.101106  1.84075 ]\n",
      "Linear Iter:  13 [21.706145  1.59085   0.082312  1.881116  1.617448  0.198096  0.069721\n",
      "  1.324417  3.042688  3.443932]\n",
      "Linear Iter:  14 [20.7832    1.20384   0.134395  2.760055  0.993226  0.044623  1.223609\n",
      "  3.537273  0.481434  3.355082]\n",
      "Linear Iter:  15 [20.887653  1.757751  0.126348  0.365824  3.973384  0.157987  1.872271\n",
      "  1.726048  0.289046  2.33363 ]\n",
      "Linear Iter:  16 [20.675722  1.049379  0.07486   0.504492  2.771991  0.113664  1.815035\n",
      "  4.82698   0.588515  3.618926]\n",
      "Linear Iter:  17 [29.667109  1.944956  0.078322  2.15618   0.870107  0.121603  2.091577\n",
      "  5.271471  0.523655  0.460086]\n",
      "Linear Iter:  18 [29.981632  1.981456  0.094035  3.101443  3.729318  0.044297  2.674288\n",
      "  5.186387  0.763223  4.406399]\n",
      "Linear Iter:  19 [27.710961  1.74811   0.032115  2.017564  0.297561  0.09598   3.076889\n",
      "  0.121285  0.075707  5.763096]\n",
      "Linear Iter:  20 [24.492072  1.821132  0.160469  1.696876  2.406782  0.19747   1.58977\n",
      "  6.015892  0.127332  3.60247 ]\n",
      "Linear Iter:  21 [29.45974   1.87623   0.161046  2.716034  4.736787  0.064303  2.754795\n",
      "  2.751242  0.389176  0.902459]\n",
      "Linear Iter:  22 [20.378627  1.064803  0.178641  1.248552  0.987559  0.174748  0.189758\n",
      "  1.842179  0.65734   3.235634]\n",
      "Linear Iter:  23 [21.631774  1.575593  0.172264  3.107592  4.365931  0.131502  2.144837\n",
      "  0.097413  3.062076  3.28783 ]\n",
      "Linear Iter:  24 [2.5445928e+01 1.0225330e+00 1.9503000e-02 8.3194000e-01 6.0885480e+00\n",
      " 5.6966000e-02 1.5492610e+00 6.1162300e+00 3.0509220e+00 5.6305200e-01]\n",
      "Linear Iter:  25 [2.974109e+01 1.942040e+00 2.138600e-02 1.326186e+00 2.303800e-01\n",
      " 4.594500e-02 2.510310e-01 5.628947e+00 2.703915e+00 1.271511e+00]\n",
      "Linear Iter:  26 [20.309799  1.869497  0.181759  0.629658  5.706387  0.108082  2.403931\n",
      "  0.640469  0.706998  2.303711]\n",
      "Linear Iter:  27 [27.182657  1.495568  0.173265  1.567331  1.95475   0.059746  1.401191\n",
      "  1.800937  2.359102  3.067246]\n",
      "Linear Iter:  28 [20.006411  1.253843  0.06592   0.333815  3.098327  0.113181  0.236345\n",
      "  5.943225  0.664038  4.879845]\n",
      "Linear Iter:  29 [20.010769  1.881946  0.086679  0.248018  5.56998   0.181709  1.170139\n",
      "  1.628167  2.67619   1.839839]\n",
      "Linear Iter:  30 [2.9197199e+01 1.8999980e+00 1.6563600e-01 2.9298060e+00 1.8917500e-01\n",
      " 1.8698500e-01 2.7605480e+00 4.0441380e+00 2.8826650e+00 6.1710000e-03]\n",
      "Linear Iter:  31 [21.757803  1.423966  0.198016  0.687852  5.090956  0.110843  1.588014\n",
      "  5.558371  0.915676  4.17767 ]\n",
      "Linear Iter:  32 [27.99443   1.193739  0.050433  0.822774  2.523033  0.150797  1.085011\n",
      "  2.386182  0.26309   3.700193]\n",
      "Linear Iter:  33 [29.67166   1.940545  0.1763    2.843692  3.482247  0.169952  2.25457\n",
      "  3.748499  1.87357   6.040125]\n",
      "Linear Iter:  34 [25.581865  1.327292  0.190381  0.04052   6.008317  0.080322  0.437428\n",
      "  5.970147  0.101534  0.35922 ]\n",
      "Linear Iter:  35 [29.417733  1.114286  0.188803  1.515767  2.090691  0.177866  0.332387\n",
      "  4.623356  3.08187   0.14715 ]\n",
      "Linear Iter:  36 [2.224613e+01 1.726017e+00 1.233040e-01 1.850040e-01 5.521928e+00\n",
      " 4.152000e-03 2.620406e+00 2.515788e+00 3.080895e+00 2.981576e+00]\n",
      "Linear Iter:  37 [23.761441  1.02426   0.192338  0.066117  2.160206  0.134872  0.368047\n",
      "  5.088097  2.990905  5.493948]\n",
      "Linear Iter:  38 [27.203982  1.853307  0.170027  2.799857  2.202868  0.124023  1.897609\n",
      "  6.16749   0.043503  0.873959]\n",
      "Linear Iter:  39 [26.647754  1.788835  0.186776  2.457219  0.725685  0.029242  0.198628\n",
      "  0.109975  0.674943  3.842476]\n",
      "Linear Iter:  40 [20.011718  1.168456  0.197778  0.166548  0.723241  0.104753  2.976928\n",
      "  3.62474   2.201322  6.239961]\n",
      "Linear Iter:  41 [20.070166  1.640733  0.189879  0.695802  2.023318  0.157935  1.159011\n",
      "  5.864383  0.477965  0.15052 ]\n",
      "Linear Iter:  42 [29.758536  1.689084  0.165394  1.051991  2.641868  0.191965  0.119262\n",
      "  3.00082   0.363298  5.42977 ]\n",
      "Linear Iter:  43 [20.175485  1.023983  0.150126  2.257951  5.592561  0.110007  3.125911\n",
      "  0.45537   1.702652  0.732851]\n",
      "Linear Iter:  44 [28.677733  1.425619  0.148199  0.646862  5.769574  0.092946  2.899797\n",
      "  3.550095  0.687722  1.100444]\n",
      "Linear Iter:  45 [2.9881216e+01 1.6858520e+00 6.0110000e-02 2.4099100e+00 4.7577380e+00\n",
      " 1.9203000e-02 8.9951100e-01 2.5529180e+00 4.5084500e-01 5.3146400e-01]\n",
      "Linear Iter:  46 [23.636256  1.950095  0.182556  0.37849   2.495215  0.038455  1.54766\n",
      "  2.919212  3.105515  4.251567]\n",
      "Linear Iter:  47 [22.956806  1.406697  0.177663  0.265904  3.316467  0.141376  0.171639\n",
      "  0.34451   0.443986  2.876738]\n",
      "Linear Iter:  48 [20.276229  1.274628  0.105338  0.106952  6.010471  0.029872  2.163166\n",
      "  4.973796  0.631038  2.426769]\n",
      "Linear Iter:  49 [2.5241156e+01 1.1616520e+00 2.1060000e-03 1.6993570e+00 3.5391110e+00\n",
      " 1.6475300e-01 1.0398510e+00 3.2676570e+00 2.7606430e+00 1.7787740e+00]\n",
      "Linear Iter:  50 [24.192468  1.061853  0.095541  1.05145   4.334803  0.131625  1.803117\n",
      "  0.117073  2.995189  2.035954]\n",
      "Linear Iter:  51 [2.9845094e+01 1.0445860e+00 1.9296000e-02 2.2050880e+00 4.3146460e+00\n",
      " 7.4569000e-02 1.0135510e+00 3.6172990e+00 2.6226440e+00 3.5631460e+00]\n",
      "Linear Iter:  52 [27.194306  1.709025  0.189478  0.198574  3.186775  0.192605  1.27723\n",
      "  0.683413  0.303361  2.040912]\n",
      "Linear Iter:  53 [20.565451  1.251675  0.174918  2.640978  4.023493  0.118108  3.074474\n",
      "  3.789209  0.15372   1.754727]\n",
      "Linear Iter:  54 [20.605592  1.30683   0.153486  0.926545  5.055574  0.183603  0.154278\n",
      "  2.833885  1.039759  2.085158]\n",
      "Linear Iter:  55 [20.668038  1.521464  0.12144   2.569317  5.763729  0.191917  0.119897\n",
      "  1.342003  3.072734  4.933932]\n",
      "Linear Iter:  56 [2.9502703e+01 1.7139320e+00 1.8469200e-01 1.7358700e-01 7.4349100e-01\n",
      " 1.4732000e-02 1.7832420e+00 4.1652500e-01 2.3893500e+00 4.4457760e+00]\n",
      "Linear Iter:  57 [25.99706   1.482216  0.054845  2.762088  1.662535  0.081034  3.061414\n",
      "  2.630846  3.034478  5.878867]\n",
      "Linear Iter:  58 [29.832179  1.952625  0.096958  1.988445  2.455787  0.031224  3.137766\n",
      "  4.386158  2.176199  3.346686]\n",
      "Linear Iter:  59 [23.158662  1.484477  0.124049  2.727219  5.390328  0.124482  1.42516\n",
      "  4.375711  2.682891  1.278923]\n",
      "Linear Iter:  60 [29.379323  1.870827  0.104233  0.512397  1.813023  0.108599  0.910346\n",
      "  2.919386  0.696065  5.581391]\n",
      "Linear Iter:  61 [27.617909  1.301548  0.102288  2.694367  0.867641  0.132806  2.86847\n",
      "  2.983257  2.667731  4.201248]\n",
      "Linear Iter:  62 [28.280482  1.984845  0.112562  2.715082  1.857413  0.134302  2.836228\n",
      "  2.919718  2.485022  5.897473]\n",
      "Linear Iter:  63 [20.135599  1.370731  0.18272   0.306197  3.879288  0.187587  0.505819\n",
      "  2.766367  1.460431  1.259256]\n",
      "Linear Iter:  64 [23.684871  1.97946   0.141225  0.560134  3.093922  0.153696  0.02714\n",
      "  2.380229  3.020111  0.99741 ]\n",
      "Linear Iter:  65 [26.511704  1.183753  0.138756  1.179042  3.553283  0.143041  1.297234\n",
      "  3.758042  2.388521  5.46992 ]\n",
      "Linear Iter:  66 [2.2288883e+01 1.2672720e+00 1.0713000e-02 1.9645630e+00 2.3426130e+00\n",
      " 4.7316000e-02 1.8545550e+00 2.5208490e+00 1.2787600e-01 5.1551300e+00]\n",
      "Linear Iter:  67 [26.030077  1.965613  0.182075  0.727734  0.538786  0.128929  1.182573\n",
      "  1.070315  0.601881  5.381492]\n",
      "Linear Iter:  68 [2.1793908e+01 1.0330140e+00 1.9763900e-01 9.8666000e-01 1.8659620e+00\n",
      " 1.2345000e-02 2.9561470e+00 5.2996460e+00 2.7533920e+00 3.9592470e+00]\n",
      "Linear Iter:  69 [20.298452  1.199591  0.162967  0.523763  2.177073  0.124493  0.431234\n",
      "  0.451625  0.371212  4.798018]\n",
      "Linear Iter:  70 [20.303533  1.300357  0.10109   0.124038  3.507863  0.166491  0.354087\n",
      "  5.839577  2.83438   5.806523]\n",
      "Linear Iter:  71 [24.487383  1.865057  0.076251  2.303815  2.516131  0.028091  1.242657\n",
      "  5.320278  0.535103  1.739415]\n",
      "Linear Iter:  72 [29.050016  1.752981  0.035782  2.128108  1.062986  0.044018  0.227056\n",
      "  3.266387  0.198718  4.699401]\n",
      "Linear Iter:  73 [23.05718   1.80204   0.044861  1.3458    4.99725   0.029272  2.273675\n",
      "  0.455123  2.898471  5.512407]\n",
      "Linear Iter:  74 [29.697359  1.839444  0.176619  2.171166  1.19095   0.136637  0.376038\n",
      "  2.240765  1.743474  3.10317 ]\n",
      "Linear Iter:  75 [29.961312  1.65075   0.13145   2.41928   1.258967  0.106451  2.245057\n",
      "  2.891395  0.638627  1.704627]\n",
      "Linear Iter:  76 [22.462617  1.066426  0.18784   0.212887  0.893586  0.156462  0.563609\n",
      "  0.949667  2.276895  2.809037]\n",
      "Linear Iter:  77 [20.040127  1.835465  0.079715  0.728553  0.295754  0.175316  0.506652\n",
      "  0.257075  0.107446  3.203366]\n",
      "Linear Iter:  78 [21.790722  1.925281  0.195733  0.522408  2.177784  0.169866  0.045264\n",
      "  1.770733  0.073578  1.675396]\n",
      "(80, 4016) [0.00000000e+00 2.56766377e-20 4.72435099e-20 3.15860178e-20\n",
      " 2.43078595e-20 3.22333838e-20 2.42201506e-20 2.74799552e-20\n",
      " 2.16009353e-20 4.24009094e-20 2.10665529e-20 3.39763866e-20\n",
      " 2.11806188e-20 3.52333025e-20 2.27767537e-20 2.38475854e-20\n",
      " 2.34897756e-20 1.98581824e-20 1.66106393e-20 1.83155046e-20\n",
      " 1.03766875e-20 8.38236253e-21 1.17948653e-20 1.46065407e-20\n",
      " 2.66423503e-21 2.40548270e-21 2.37062143e-21 1.80690466e-21\n",
      " 8.12086229e-22 5.42376840e-21 5.66971259e-22 8.71210738e-22\n",
      " 1.00403409e-21 4.12717574e-22 2.88450020e-22 2.41157732e-22\n",
      " 5.67278921e-22 1.60881480e-22 1.08454944e-22 1.69824078e-22\n",
      " 5.38561857e-23 6.60829399e-23 9.97539892e-23 7.92153329e-23\n",
      " 3.27054336e-23 3.42916731e-23 3.01093684e-23 3.37915781e-23\n",
      " 2.33960446e-23 1.77365767e-23 1.64019665e-23 1.19612513e-23\n",
      " 1.27239851e-23 1.08760439e-23 1.10113298e-23 1.09895783e-23\n",
      " 1.07141630e-23 9.18100583e-24 7.42020255e-24 9.84143917e-24\n",
      " 6.10717269e-24 4.87054459e-24 4.65921904e-24 5.15801522e-24\n",
      " 2.94294559e-23 4.97195099e-24 3.41949816e-24 3.55199641e-24\n",
      " 3.47771944e-24 3.00281281e-24 3.97770356e-24 3.37910233e-24\n",
      " 2.71973015e-24 2.23668857e-24 2.37687689e-24 3.59367987e-24\n",
      " 3.13607021e-24 2.88561036e-24 2.46524694e-24 2.70058503e-24]\n"
     ]
    }
   ],
   "source": [
    "known_bases_start = numpy.array([hp1/numpy.sqrt(numpy.vdot(hp1,hp1))])\n",
    "basis_waveforms_start = numpy.array([hp1])\n",
    "residual_modula_start = numpy.array([0.0])\n",
    "known_bases, params, residual_modula = pyroq.bases_searching_results_unnormalized(npts, nparams, nbases, known_bases_start, basis_waveforms_start, params_start, residual_modula_start, params_low, params_high, distance, deltaF, f_min, f_max, waveFlags, approximant)\n",
    "print(known_bases.shape, residual_modula)\n"
   ]
  },
  {
   "cell_type": "code",
   "execution_count": 13,
   "metadata": {},
   "outputs": [
    {
     "name": "stdout",
     "output_type": "stream",
     "text": [
      "40 basis elements gave 1 bad points of surrogate error >  1e-08\n",
      "50 basis elements gave 0 bad points of surrogate error >  1e-08\n",
      "Number of linear basis elements is  50 and the linear ROQ data save in B_linear.npy\n"
     ]
    }
   ],
   "source": [
    "pyroq.roqs(tolerance, freq, ndimlow, ndimhigh, ndimstepsize, known_bases, nts, nparams, params_low, params_high, distance, deltaF, f_min, f_max, waveFlags, approximant)\n"
   ]
  },
  {
   "cell_type": "code",
   "execution_count": 14,
   "metadata": {},
   "outputs": [
    {
     "name": "stdout",
     "output_type": "stream",
     "text": [
      "[[ 1.00000000e+00+0.00000000e+00j  1.81898940e-12+1.81898940e-12j\n",
      "   1.81898940e-12-9.09494702e-13j ...  0.00000000e+00-6.82121026e-12j\n",
      "  -1.27329258e-11+4.72937245e-11j -1.09139364e-11-3.27418093e-11j]\n",
      " [-2.27373675e-13-9.09494702e-13j  1.00000000e+00+2.72848411e-12j\n",
      "  -1.09139364e-11+1.81898940e-12j ...  0.00000000e+00+4.00177669e-11j\n",
      "   2.18278728e-11-7.63975549e-11j  2.54658516e-11+1.63709046e-11j]\n",
      " [ 2.27373675e-12-1.59161573e-12j -1.81898940e-12-3.63797881e-12j\n",
      "   1.00000000e+00-8.18545232e-12j ... -1.45519152e-11-2.91038305e-11j\n",
      "   3.63797881e-12+4.36557457e-11j -2.31921149e-11-7.27595761e-12j]\n",
      " ...\n",
      " [ 0.00000000e+00+0.00000000e+00j  0.00000000e+00+0.00000000e+00j\n",
      "   0.00000000e+00+0.00000000e+00j ...  0.00000000e+00+0.00000000e+00j\n",
      "   0.00000000e+00+0.00000000e+00j  0.00000000e+00+0.00000000e+00j]\n",
      " [ 0.00000000e+00+0.00000000e+00j  0.00000000e+00+0.00000000e+00j\n",
      "   0.00000000e+00+0.00000000e+00j ...  0.00000000e+00+0.00000000e+00j\n",
      "   0.00000000e+00+0.00000000e+00j  0.00000000e+00+0.00000000e+00j]\n",
      " [ 0.00000000e+00+0.00000000e+00j  0.00000000e+00+0.00000000e+00j\n",
      "   0.00000000e+00+0.00000000e+00j ...  0.00000000e+00+0.00000000e+00j\n",
      "   0.00000000e+00+0.00000000e+00j  0.00000000e+00+0.00000000e+00j]]\n",
      "emp_nodes [   0    1    2    5    8   11   17   21   26   32   40   50   70   87\n",
      "  112  123  130  142  153  168  180  189  194  221  248  308  440  612\n",
      "  709  741  757  775  805  839  864  896  918  983 1030 1074 1113 1150\n",
      " 1189 1228 1261 1330 1407 1482 1569 1702]\n"
     ]
    }
   ],
   "source": [
    "fnodes_linear = numpy.load('./fnodes_linear.npy')\n",
    "b_linear = numpy.transpose(numpy.load('./B_linear.npy'))\n",
    "ndim = b_linear.shape[1]\n",
    "freq = numpy.arange(f_min, f_max, deltaF)\n",
    "emp_nodes = numpy.searchsorted(freq, fnodes_linear)\n",
    "print(b_linear)\n",
    "print(\"emp_nodes\", emp_nodes)"
   ]
  },
  {
   "cell_type": "code",
   "execution_count": 15,
   "metadata": {},
   "outputs": [
    {
     "data": {
      "image/png": "[encoded data removed]",
      "text/plain": [
       "<Figure size 432x288 with 1 Axes>"
      ]
     },
     "metadata": {
      "needs_background": "light"
     },
     "output_type": "display_data"
    }
   ],
   "source": [
    "test_mc = 20\n",
    "test_q = 4\n",
    "test_s1 = [0.,0.2,-0.]\n",
    "test_s2 = [0.,0.15,-0.1]\n",
    "test_ecc = 0\n",
    "test_lambda1 = 0\n",
    "test_lambda2 = 0\n",
    "test_iota = 1.9\n",
    "test_phiref = 0.6\n",
    "\n",
    "pyroq.testrep(b_linear, emp_nodes, test_mc, test_q, test_s1, test_s2, test_ecc, test_lambda1, test_lambda2, test_iota, test_phiref, distance, deltaF, f_min, f_max, waveFlags, approximant)\n"
   ]
  },
  {
   "cell_type": "code",
   "execution_count": 16,
   "metadata": {},
   "outputs": [],
   "source": [
    "nsamples = 1000 # testing nsamples random samples in parameter space to see their representation surrogate errors\n",
    "surros = pyroq.surros_of_test_samples(nsamples, nparams, params_low, params_high, tolerance, b_linear, emp_nodes, distance, deltaF, f_min, f_max, waveFlags, approximant)\n",
    "# If a surrogate error is larger than tolerance, it will be reported on the screen."
   ]
  },
  {
   "cell_type": "code",
   "execution_count": 11,
   "metadata": {},
   "outputs": [
    {
     "data": {
      "image/png": "[encoded data removed]",
      "text/plain": [
       "<Figure size 432x288 with 1 Axes>"
      ]
     },
     "metadata": {
      "needs_background": "light"
     },
     "output_type": "display_data"
    }
   ],
   "source": [
    "plt.semilogy(surros,'o',color='black')\n",
    "plt.xlabel(\"Number of Random Test Points\")\n",
    "plt.ylabel(\"Surrogate Error\")\n",
    "plt.title(\"IMRPhenomPv2\")\n",
    "plt.savefig(\"SurrogateErrorsRandomTestPoints.png\")\n",
    "plt.show()"
   ]
  },
  {
   "cell_type": "markdown",
   "metadata": {},
   "source": [
    "# Search for quadratic basis elements to build & save quadratic ROQ data."
   ]
  },
  {
   "cell_type": "code",
   "execution_count": 45,
   "metadata": {},
   "outputs": [
    {
     "name": "stdout",
     "output_type": "stream",
     "text": [
      "Quadratic Iter:  0\n",
      "Quadratic Iter:  1\n",
      "Quadratic Iter:  2\n",
      "Quadratic Iter:  3\n",
      "Quadratic Iter:  4\n",
      "Quadratic Iter:  5\n",
      "Quadratic Iter:  6\n",
      "Quadratic Iter:  7\n",
      "Quadratic Iter:  8\n",
      "Quadratic Iter:  9\n",
      "Quadratic Iter:  10\n",
      "Quadratic Iter:  11\n",
      "Quadratic Iter:  12\n",
      "Quadratic Iter:  13\n",
      "Quadratic Iter:  14\n",
      "Quadratic Iter:  15\n",
      "Quadratic Iter:  16\n",
      "Quadratic Iter:  17\n",
      "Quadratic Iter:  18\n",
      "Quadratic Iter:  19\n",
      "Quadratic Iter:  20\n",
      "Quadratic Iter:  21\n",
      "Quadratic Iter:  22\n",
      "Quadratic Iter:  23\n",
      "Quadratic Iter:  24\n",
      "Quadratic Iter:  25\n",
      "Quadratic Iter:  26\n",
      "Quadratic Iter:  27\n",
      "Quadratic Iter:  28\n",
      "Quadratic Iter:  29\n",
      "Quadratic Iter:  30\n",
      "Quadratic Iter:  31\n",
      "Quadratic Iter:  32\n",
      "Quadratic Iter:  33\n",
      "Quadratic Iter:  34\n",
      "Quadratic Iter:  35\n",
      "Quadratic Iter:  36\n",
      "Quadratic Iter:  37\n",
      "Quadratic Iter:  38\n",
      "Quadratic Iter:  39\n",
      "Quadratic Iter:  40\n",
      "Quadratic Iter:  41\n",
      "Quadratic Iter:  42\n",
      "Quadratic Iter:  43\n",
      "Quadratic Iter:  44\n",
      "Quadratic Iter:  45\n",
      "Quadratic Iter:  46\n",
      "Quadratic Iter:  47\n",
      "Quadratic Iter:  48\n",
      "Quadratic Iter:  49\n",
      "Quadratic Iter:  50\n",
      "Quadratic Iter:  51\n",
      "Quadratic Iter:  52\n",
      "Quadratic Iter:  53\n",
      "Quadratic Iter:  54\n",
      "Quadratic Iter:  55\n",
      "Quadratic Iter:  56\n",
      "Quadratic Iter:  57\n",
      "Quadratic Iter:  58\n",
      "Quadratic Iter:  59\n",
      "Quadratic Iter:  60\n",
      "Quadratic Iter:  61\n",
      "Quadratic Iter:  62\n",
      "Quadratic Iter:  63\n",
      "Quadratic Iter:  64\n",
      "Quadratic Iter:  65\n",
      "Quadratic Iter:  66\n",
      "Quadratic Iter:  67\n",
      "Quadratic Iter:  68\n",
      "Quadratic Iter:  69\n",
      "Quadratic Iter:  70\n",
      "Quadratic Iter:  71\n",
      "Quadratic Iter:  72\n",
      "Quadratic Iter:  73\n",
      "Quadratic Iter:  74\n",
      "Quadratic Iter:  75\n",
      "Quadratic Iter:  76\n",
      "Quadratic Iter:  77\n",
      "Quadratic Iter:  78\n"
     ]
    }
   ],
   "source": [
    "hp1_quad = (numpy.absolute(hp1))**2\n",
    "known_quad_bases_start = numpy.array([hp1_quad/numpy.sqrt(numpy.vdot(hp1_quad,hp1_quad))])\n",
    "basis_waveforms_quad_start = numpy.array([hp1_quad])\n",
    "residual_modula_start = numpy.array([0.0])\n",
    "known_quad_bases,params_quad,residual_modula_quad = pyroq.bases_searching_quadratic_results_unnormalized(npts, nparams, nbases_quad, known_quad_bases_start, basis_waveforms_quad_start, params_start, residual_modula_start, params_low, params_high, distance, deltaF, f_min, f_max, waveFlags, approximant)\n",
    "known_quad_bases_copy = known_quad_bases\n"
   ]
  },
  {
   "cell_type": "code",
   "execution_count": 46,
   "metadata": {},
   "outputs": [],
   "source": [
    "points = numpy.random.uniform(params_low, params_high, size=(npts,nparams))\n"
   ]
  },
  {
   "cell_type": "code",
   "execution_count": 47,
   "metadata": {},
   "outputs": [
    {
     "name": "stdout",
     "output_type": "stream",
     "text": [
      "40 basis elements gave 0 bad points of surrogate error >  1e-08\n",
      "Number of quadratic basis elements is  40 and the linear ROQ data save in B_quadratic.npy\n"
     ]
    }
   ],
   "source": [
    "pyroq.roqs_quad(tolerance_quad, freq, ndimlow_quad, ndimhigh_quad, ndimstepsize_quad, known_quad_bases, nts, nparams, params_low, params_high, distance, deltaF, f_min, f_max, waveFlags, approximant)\n"
   ]
  },
  {
   "cell_type": "code",
   "execution_count": 48,
   "metadata": {},
   "outputs": [],
   "source": [
    "fnodes_quad = numpy.load('./fnodes_quadratic.npy')\n",
    "b_quad = numpy.transpose(numpy.load('./B_quadratic.npy'))\n",
    "ndim_quad = b_quad.shape[1]\n",
    "freq = numpy.arange(f_min, f_max, deltaF)\n",
    "emp_nodes_quad = numpy.searchsorted(freq, fnodes_quad)\n"
   ]
  },
  {
   "cell_type": "code",
   "execution_count": 49,
   "metadata": {},
   "outputs": [
    {
     "data": {
      "image/png": "[encoded data removed]",
      "text/plain": [
       "<Figure size 1080x648 with 1 Axes>"
      ]
     },
     "metadata": {
      "needs_background": "light"
     },
     "output_type": "display_data"
    }
   ],
   "source": [
    "test_mc_quad =20\n",
    "test_q_quad = 1\n",
    "test_s1_quad = [0.0, 0.0, 0.0]\n",
    "test_s2_quad = [0.0, 0.0, 0.0]\n",
    "test_ecc_quad = 0\n",
    "test_lambda1_quad = 0\n",
    "test_lambda2_quad = 0\n",
    "test_iota_quad = 1.9\n",
    "test_phiref_quad = 0.6\n",
    "\n",
    "pyroq.testrep_quad(b_quad, emp_nodes_quad, test_mc_quad, test_q_quad, test_s1_quad, test_s2_quad, test_ecc_quad, test_lambda1_quad, test_lambda2_quad, test_iota_quad, test_phiref_quad, distance, deltaF, f_min, f_max, waveFlags, approximant)\n"
   ]
  },
  {
   "cell_type": "code",
   "execution_count": null,
   "metadata": {},
   "outputs": [],
   "source": []
  },
  {
   "cell_type": "code",
   "execution_count": null,
   "metadata": {},
   "outputs": [],
   "source": []
  },
  {
   "cell_type": "code",
   "execution_count": null,
   "metadata": {},
   "outputs": [],
   "source": []
  },
  {
   "cell_type": "code",
   "execution_count": null,
   "metadata": {},
   "outputs": [],
   "source": []
  }
 ],
 "metadata": {
  "kernelspec": {
   "display_name": "ligo-py36",
   "language": "python",
   "name": "ligo-py36"
  },
  "language_info": {
   "codemirror_mode": {
    "name": "ipython",
    "version": 3
   },
   "file_extension": ".py",
   "mimetype": "text/x-python",
   "name": "python",
   "nbconvert_exporter": "python",
   "pygments_lexer": "ipython3",
   "version": "3.6.7"
  }
 },
 "nbformat": 4,
 "nbformat_minor": 4
}
