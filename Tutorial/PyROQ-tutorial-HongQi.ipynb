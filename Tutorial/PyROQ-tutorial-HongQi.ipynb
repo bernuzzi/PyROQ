{
 "cells": [
  {
   "cell_type": "code",
   "execution_count": 32,
   "metadata": {},
   "outputs": [
    {
     "name": "stdout",
     "output_type": "stream",
     "text": [
      "Collecting PyROQ==0.1.23\n",
      "  Downloading https://files.pythonhosted.org/packages/71/f9/3fc06849e42f30c0c94c77a0e6b50ea622364fc7cf0cee000cda73b12c14/PyROQ-0.1.23-py3-none-any.whl\n",
      "Installing collected packages: PyROQ\n",
      "  Found existing installation: PyROQ 0.1.22\n",
      "    Uninstalling PyROQ-0.1.22:\n",
      "      Successfully uninstalled PyROQ-0.1.22\n",
      "Successfully installed PyROQ-0.1.23\n"
     ]
    }
   ],
   "source": [
    "!pip install --user PyROQ==0.1.23"
   ]
  },
  {
   "cell_type": "code",
   "execution_count": 1,
   "metadata": {},
   "outputs": [],
   "source": [
    "import numpy\n",
    "import numpy as np\n",
    "import scipy\n",
    "%matplotlib inline\n",
    "import matplotlib\n",
    "import matplotlib.pyplot as plt\n",
    "import lal\n",
    "import lalsimulation\n",
    "from lal.lal import PC_SI as LAL_PC_SI\n",
    "import h5py\n",
    "import warnings\n",
    "import random\n",
    "warnings.filterwarnings('ignore')\n",
    "import matplotlib.pylab as pylab\n",
    "plot_params = {'legend.fontsize': 'x-large',\n",
    "          'figure.figsize': (15, 9),\n",
    "         'axes.labelsize': 'x-large',\n",
    "         'axes.titlesize':'x-large',\n",
    "         'xtick.labelsize':'x-large',\n",
    "         'ytick.labelsize':'x-large'}\n",
    "pylab.rcParams.update(plot_params)\n",
    "from mpl_toolkits.mplot3d import axes3d\n",
    "#import PyROQ.pyroq as pyroq\n",
    "import pyroq as pyroq"
   ]
  },
  {
   "cell_type": "markdown",
   "metadata": {},
   "source": [
    "# Setting up boundary conditions and tolerance requirements."
   ]
  },
  {
   "cell_type": "code",
   "execution_count": 2,
   "metadata": {},
   "outputs": [
    {
     "name": "stdout",
     "output_type": "stream",
     "text": [
      "mass-min, mass-max:  [16.437518295172257, 49.31255488551677]\n"
     ]
    }
   ],
   "source": [
    "mc_low = 20\n",
    "mc_high = 30\n",
    "q_low = 1\n",
    "q_high = 2\n",
    "s1sphere_low = [0, 0, 0]\n",
    "s1sphere_high = [0.2, numpy.pi, 2.0*numpy.pi]\n",
    "s2sphere_low = [0, 0, 0]\n",
    "s2sphere_high = [0.2, numpy.pi, 2.0*numpy.pi]\n",
    "ecc_low = 0.0\n",
    "ecc_high = 0.2\n",
    "lambda1_low = 0\n",
    "lambda1_high = 1000\n",
    "lambda2_low = 0\n",
    "lambda2_high = 1000\n",
    "iota_low = 0\n",
    "iota_high = numpy.pi\n",
    "phiref_low = 0\n",
    "phiref_high = 2*numpy.pi\n",
    "f_min = 20\n",
    "f_max = 1024\n",
    "deltaF = 1/4.\n",
    "distance = 10 * LAL_PC_SI * 1.0e6  # 10 Mpc is default \n",
    "waveFlags = lal.CreateDict()\n",
    "\n",
    "approximant = lalsimulation.IMRPhenomPv2\n",
    "print(\"mass-min, mass-max: \", pyroq.massrange(mc_low, mc_high, q_low, q_high))\n",
    "\n",
    "npts = 100 # Specify the number of points for each search for a new basis element\n",
    "          # For diagnostic testing, 30 -100 is fine. \n",
    "          # For real ROQs computation, this can be 300 to 1000, roughly comparable to the number of basis elments.\n",
    "          # What value to choose depends on the nature of the waveform, such as how many features it has. \n",
    "          # It also depends on the parameter space and the signal length. \n",
    "nts = 1000 # Number of random test waveforms\n",
    "          # For diagnostics, 1000 is fine.\n",
    "          # For real ROQs calculation, set it to be 1000000.\n",
    "\n",
    "nbases = 120 # Specify the number of linear basis elements\n",
    "ndimlow = 40 # Starting number of basis elements used to check if tolerance is satisfied\n",
    "ndimhigh = nbases+1\n",
    "ndimstepsize = 10 # Number of linear basis elements increament to get the basis satisfying the tolerance\n",
    "tolerance = 1e-8 # Surrogage error threshold for linear basis elements\n",
    "\n",
    "nbases_quad = 80 # Specify the number of quadratic basis elements, depending on the tolerance_quad, usually two thirds of that for linear basis\n",
    "ndimlow_quad = 20\n",
    "ndimhigh_quad = nbases_quad+1\n",
    "ndimstepsize_quad = 10\n",
    "tolerance_quad = 1e-10 # Surrogage error threshold for quadratic basis elements"
   ]
  },
  {
   "cell_type": "code",
   "execution_count": 3,
   "metadata": {},
   "outputs": [],
   "source": [
    "freq = numpy.arange(f_min,f_max,deltaF)\n",
    "nparams, params_low, params_high, params_start, hp1 = pyroq.initial_basis(mc_low, mc_high, q_low, q_high, s1sphere_low, s1sphere_high, \\\n",
    "                  s2sphere_low, s2sphere_high, ecc_low, ecc_high, lambda1_low, lambda1_high,\\\n",
    "                 lambda2_low, lambda2_high, iota_low, iota_high, phiref_low, phiref_high, distance, deltaF, f_min, f_max, waveFlags, approximant)\n"
   ]
  },
  {
   "cell_type": "code",
   "execution_count": 4,
   "metadata": {},
   "outputs": [
    {
     "name": "stdout",
     "output_type": "stream",
     "text": [
      "[24.02248868  6.00562217]\n"
     ]
    }
   ],
   "source": [
    "mmin=pyroq.get_m1m2_from_mcq(10,4)\n",
    "print(mmin)"
   ]
  },
  {
   "cell_type": "code",
   "execution_count": 5,
   "metadata": {},
   "outputs": [
    {
     "name": "stdout",
     "output_type": "stream",
     "text": [
      "10\n",
      "4016\n"
     ]
    }
   ],
   "source": [
    "print(nparams)\n",
    "print(len(freq))"
   ]
  },
  {
   "cell_type": "markdown",
   "metadata": {},
   "source": [
    "# Search for linear basis elements to build and save linear ROQ data in the local directory."
   ]
  },
  {
   "cell_type": "code",
   "execution_count": 6,
   "metadata": {},
   "outputs": [
    {
     "name": "stdout",
     "output_type": "stream",
     "text": [
      "The parameters are Mc, q, s1(mag, theta, phi), s2(mag, theta, phi), iota, and phiRef\n",
      "\n",
      "Linear Iter:  0 [28.647549  1.068076  0.050293  1.179375  5.647693  0.154984  1.325114\n",
      "  3.248681  2.959033  4.059333]\n",
      "Linear Iter:  1 [28.927594  1.558348  0.194406  0.566081  4.447996  0.072728  2.6994\n",
      "  0.469142  0.219777  2.239435]\n",
      "Linear Iter:  2 [20.039914  1.310762  0.194598  1.541853  4.57426   0.052169  1.732226\n",
      "  1.664022  2.552588  0.204371]\n",
      "Linear Iter:  3 [27.130125  1.112592  0.058354  1.195904  5.734895  0.055681  0.991156\n",
      "  2.993456  0.105036  2.354405]\n",
      "Linear Iter:  4 [26.205935  1.183293  0.134574  2.821011  1.46541   0.084204  0.720972\n",
      "  3.101227  0.323482  0.639008]\n",
      "Linear Iter:  5 [2.9343934e+01 1.9910070e+00 2.0665000e-02 2.8410400e-01 5.5728540e+00\n",
      " 1.1432800e-01 1.9381050e+00 6.1902990e+00 7.7878000e-02 2.2432200e-01]\n",
      "Linear Iter:  6 [29.704321  1.110579  0.100754  2.46406   0.099574  0.091736  1.369133\n",
      "  3.450534  2.774926  0.69941 ]\n",
      "Linear Iter:  7 [25.309296  1.148044  0.178093  0.397753  3.320711  0.057039  1.160862\n",
      "  3.607422  3.088476  5.948643]\n",
      "Linear Iter:  8 [25.190007  1.117578  0.074372  2.625644  3.206335  0.090139  2.321973\n",
      "  3.769052  0.104612  3.482377]\n",
      "Linear Iter:  9 [23.599388  1.934292  0.04896   1.295177  0.969384  0.042648  2.142468\n",
      "  2.646171  3.051442  2.78925 ]\n",
      "Linear Iter:  10 [26.623159  1.403794  0.194466  0.110208  0.106998  0.164052  0.717828\n",
      "  1.238467  0.487274  2.362229]\n",
      "Linear Iter:  11 [22.204229  1.719669  0.195294  1.473677  1.158393  0.180642  2.84337\n",
      "  2.590185  3.083275  0.510641]\n",
      "Linear Iter:  12 [22.754273  1.532514  0.069223  0.979106  1.981253  0.145453  0.213262\n",
      "  2.794006  0.036508  6.245395]\n",
      "Linear Iter:  13 [21.358091  1.927269  0.031963  1.669091  2.074524  0.022657  1.706371\n",
      "  4.72136   3.131462  6.169765]\n",
      "Linear Iter:  14 [22.79585   1.107434  0.151822  2.931886  1.378075  0.056021  0.679923\n",
      "  1.181714  2.999729  3.528958]\n",
      "Linear Iter:  15 [20.961362  1.665295  0.080786  0.620584  5.659429  0.069575  1.894474\n",
      "  3.347221  0.293869  0.072051]\n",
      "Linear Iter:  16 [20.448881  1.860458  0.079919  2.048465  3.699559  0.194284  1.498809\n",
      "  3.954757  0.407758  1.283068]\n",
      "Linear Iter:  17 [2.1435558e+01 1.1003990e+00 1.9018000e-02 3.3876800e-01 4.0368320e+00\n",
      " 3.9779000e-02 2.2001850e+00 2.1366310e+00 2.9523760e+00 3.5776140e+00]\n",
      "Linear Iter:  18 [20.487315  1.851597  0.145834  0.413685  3.102541  0.06236   1.730226\n",
      "  0.051265  2.078265  2.951554]\n",
      "Linear Iter:  19 [20.245404  1.067149  0.096468  0.310388  6.168611  0.185587  0.149839\n",
      "  5.154997  0.52646   0.353175]\n",
      "Linear Iter:  20 [29.974565  1.552726  0.168475  2.228009  0.34145   0.035958  1.270961\n",
      "  1.195309  3.001966  5.749319]\n",
      "Linear Iter:  21 [29.79844   1.890955  0.066769  2.753238  4.177598  0.114987  2.593226\n",
      "  1.4475    2.834236  5.62758 ]\n",
      "Linear Iter:  22 [21.21121   1.052504  0.126401  0.654152  3.369659  0.137008  0.200136\n",
      "  1.99256   0.200046  4.987888]\n",
      "Linear Iter:  23 [28.834631  1.966721  0.078092  0.354203  4.107065  0.038496  2.349049\n",
      "  0.424263  0.048326  3.44869 ]\n",
      "Linear Iter:  24 [28.664988  1.752083  0.156747  2.641049  5.668975  0.125801  1.660869\n",
      "  5.100435  2.257585  4.704208]\n",
      "Linear Iter:  25 [22.757922  1.61548   0.045915  3.12443   5.122739  0.185495  2.413446\n",
      "  5.237271  0.136629  6.113914]\n",
      "Linear Iter:  26 [2.0032008e+01 1.4395980e+00 4.3783000e-02 9.3393900e-01 3.1111080e+00\n",
      " 1.7913400e-01 3.5380000e-03 1.7036440e+00 2.4699900e-01 3.1101810e+00]\n",
      "Linear Iter:  27 [20.101863  1.019965  0.073465  0.05952   0.248885  0.115073  2.847671\n",
      "  2.7038    0.158825  4.993071]\n",
      "Linear Iter:  28 [26.730917  1.189456  0.15129   0.825449  1.850761  0.160987  0.846539\n",
      "  4.312395  0.262676  4.279912]\n",
      "Linear Iter:  29 [27.480125  1.243418  0.188874  2.805981  4.82155   0.177022  2.042312\n",
      "  5.6307    3.080923  0.990829]\n",
      "Linear Iter:  30 [29.418542  1.953786  0.117444  2.9762    4.391354  0.086211  2.683074\n",
      "  3.486196  0.661652  4.161672]\n",
      "Linear Iter:  31 [22.414607  1.587818  0.023095  2.5087    3.584607  0.119298  1.268263\n",
      "  1.224337  2.659711  5.018241]\n",
      "Linear Iter:  32 [20.322574  1.059217  0.054016  2.71119   4.239647  0.107281  2.213917\n",
      "  4.946945  2.822942  5.071593]\n",
      "Linear Iter:  33 [29.997221  1.860623  0.180687  1.98454   0.119387  0.166055  2.733532\n",
      "  5.923297  0.34591   0.985155]\n",
      "Linear Iter:  34 [2.7090567e+01 1.7730540e+00 1.7814000e-02 6.9473100e-01 2.9699530e+00\n",
      " 6.5492000e-02 3.5703000e-01 2.1847720e+00 2.8758000e+00 3.0529790e+00]\n",
      "Linear Iter:  35 [29.33633   1.951675  0.096665  1.954827  1.362976  0.062638  1.380004\n",
      "  4.159455  2.586443  4.216875]\n",
      "Linear Iter:  36 [20.334002  1.209425  0.145733  0.397519  3.220957  0.070832  0.231334\n",
      "  1.850114  1.373879  5.017596]\n",
      "Linear Iter:  37 [27.578341  1.690229  0.138515  2.126799  2.466858  0.167451  2.820777\n",
      "  4.118473  0.385181  2.011119]\n",
      "Linear Iter:  38 [21.146198  1.690983  0.029871  1.934463  1.28573   0.117994  1.790491\n",
      "  0.856953  0.357747  6.134401]\n",
      "Linear Iter:  39 [24.016121  1.504366  0.141201  2.529889  2.078794  0.12824   0.838963\n",
      "  3.931954  0.544098  6.271434]\n",
      "Linear Iter:  40 [2.4016242e+01 1.9406500e+00 1.0392400e-01 2.8244570e+00 3.1752900e+00\n",
      " 1.0312000e-02 1.7456760e+00 4.0490440e+00 5.5112700e-01 5.8389590e+00]\n",
      "Linear Iter:  41 [23.613969  1.301115  0.179273  0.210888  5.613755  0.098886  3.051968\n",
      "  0.218888  2.499734  6.109838]\n",
      "Linear Iter:  42 [28.898047  1.090413  0.151147  1.322386  3.621943  0.16338   2.892654\n",
      "  2.17282   0.305051  3.616664]\n",
      "Linear Iter:  43 [20.013205  1.671861  0.174158  1.009029  3.251863  0.129183  0.595089\n",
      "  2.075151  2.929542  4.329132]\n",
      "Linear Iter:  44 [2.3152788e+01 1.8912340e+00 1.7094000e-02 1.9537070e+00 1.5070480e+00\n",
      " 1.4750100e-01 5.8316700e-01 3.2250600e+00 2.1833300e-01 2.6394880e+00]\n",
      "Linear Iter:  45 [21.334275  1.153823  0.197727  1.018714  3.318069  0.182976  0.291815\n",
      "  5.301293  3.10227   0.471863]\n",
      "Linear Iter:  46 [29.473739  1.90535   0.170193  2.165779  2.474784  0.18699   2.933226\n",
      "  4.989706  1.571088  2.900289]\n",
      "Linear Iter:  47 [27.115341  1.002501  0.151733  3.100929  4.115714  0.045885  1.364795\n",
      "  4.069883  0.977489  0.452408]\n",
      "Linear Iter:  48 [21.261973  1.015509  0.158727  1.178212  3.126935  0.069616  0.861955\n",
      "  4.001656  0.235564  4.720955]\n",
      "Linear Iter:  49 [29.909043  1.370034  0.052292  0.691793  2.213546  0.145582  0.09042\n",
      "  3.694623  2.599576  3.792668]\n",
      "Linear Iter:  50 [22.804094  1.999198  0.15184   0.398845  5.149281  0.11422   0.353063\n",
      "  5.491125  2.785006  3.13908 ]\n",
      "Linear Iter:  51 [24.664508  1.320059  0.086956  2.041081  5.503107  0.131436  2.934116\n",
      "  0.780871  2.736245  1.677344]\n",
      "Linear Iter:  52 [20.265198  1.441396  0.179025  0.437097  1.040736  0.144044  0.404135\n",
      "  3.823963  0.96172   2.727952]\n",
      "Linear Iter:  53 [26.588875  1.91015   0.088487  3.049992  1.536419  0.026646  1.786899\n",
      "  5.995006  0.047379  5.035721]\n",
      "Linear Iter:  54 [26.639917  1.778523  0.053563  2.615145  2.633106  0.138403  0.842193\n",
      "  0.642435  2.739448  5.204195]\n",
      "Linear Iter:  55 [27.908726  1.345607  0.159173  0.239853  2.648184  0.163194  0.586724\n",
      "  1.038371  2.927322  5.117324]\n",
      "Linear Iter:  56 [2.9127045e+01 1.7621130e+00 2.3576000e-02 2.3795960e+00 5.8898760e+00\n",
      " 1.9959200e-01 6.1192200e-01 3.6756970e+00 5.3494400e-01 6.2751340e+00]\n",
      "Linear Iter:  57 [20.856397  1.821723  0.162301  0.212565  4.096269  0.093617  0.838971\n",
      "  1.456328  2.917635  6.151344]\n",
      "Linear Iter:  58 [29.868164  1.745581  0.18156   0.35834   2.149326  0.066747  1.223082\n",
      "  4.81497   2.896653  2.064288]\n",
      "Linear Iter:  59 [20.250705  1.24381   0.136858  2.062621  1.841757  0.1715    2.666705\n",
      "  1.912402  0.172799  6.129767]\n",
      "Linear Iter:  60 [29.367188  1.945724  0.184829  2.641964  6.143361  0.045659  1.406842\n",
      "  5.262251  0.984452  2.329994]\n",
      "Linear Iter:  61 [20.034389  1.276134  0.106139  0.271593  4.533794  0.184814  0.040213\n",
      "  5.65917   1.659474  3.867083]\n",
      "Linear Iter:  62 [21.879252  1.611401  0.044716  1.230484  2.700985  0.09217   1.168764\n",
      "  5.595815  0.157343  1.382714]\n",
      "Linear Iter:  63 [23.759261  1.354193  0.172032  0.814534  5.168179  0.19159   0.077069\n",
      "  6.150063  2.914372  2.96054 ]\n",
      "Linear Iter:  64 [29.439692  1.057404  0.086276  1.455006  1.224377  0.191339  1.071208\n",
      "  0.225987  2.817495  4.523452]\n",
      "Linear Iter:  65 [29.728871  1.938488  0.165938  0.363571  5.455921  0.031329  0.985634\n",
      "  4.611817  2.9771    0.541918]\n",
      "Linear Iter:  66 [2.9759053e+01 1.6901790e+00 1.7792300e-01 2.4265930e+00 1.1512310e+00\n",
      " 1.3126000e-02 1.9741460e+00 4.5349550e+00 2.6083630e+00 4.7038410e+00]\n",
      "Linear Iter:  67 [23.026777  1.087407  0.095232  0.855881  4.292326  0.141925  0.955236\n",
      "  3.314075  3.031151  3.485832]\n",
      "Linear Iter:  68 [26.459827  1.97352   0.08531   0.175661  2.116765  0.128234  1.143872\n",
      "  2.228526  2.940449  0.632706]\n",
      "Linear Iter:  69 [29.894506  1.776798  0.169121  2.181481  0.968841  0.03249   2.123114\n",
      "  4.092044  2.748899  1.825718]\n",
      "Linear Iter:  70 [23.354255  1.833785  0.088164  1.490044  3.522893  0.037539  1.22424\n",
      "  3.246277  2.39647   3.103672]\n",
      "Linear Iter:  71 [2.802420e+01 1.123389e+00 1.558670e-01 1.686390e-01 6.346900e-02\n",
      " 4.300000e-03 2.981897e+00 3.548479e+00 8.022500e-02 5.296365e+00]\n",
      "Linear Iter:  72 [26.132979  1.144637  0.180911  0.078846  5.255335  0.163679  0.556945\n",
      "  5.781923  0.348724  4.924222]\n",
      "Linear Iter:  73 [22.384871  1.123293  0.05868   0.239241  6.053403  0.143829  0.121482\n",
      "  5.205409  0.108103  2.807898]\n",
      "Linear Iter:  74 [29.957996  1.131764  0.172552  2.777512  3.886002  0.061104  2.715349\n",
      "  0.648895  2.357166  1.057024]\n",
      "Linear Iter:  75 [20.400526  1.564757  0.059414  0.654719  0.89701   0.163094  0.702059\n",
      "  2.738018  2.752489  0.618993]\n",
      "Linear Iter:  76 [21.830394  1.223682  0.110036  1.856595  2.891605  0.062495  2.410552\n",
      "  5.608123  0.127216  0.090001]\n",
      "Linear Iter:  77 [24.884413  1.745283  0.039547  2.108332  0.903764  0.04056   1.34457\n",
      "  5.429103  3.041203  4.64033 ]\n",
      "Linear Iter:  78 [20.126198  1.364387  0.128578  0.157313  2.328255  0.080293  2.300141\n",
      "  1.470139  2.725943  2.560618]\n",
      "Linear Iter:  79 [28.055547  1.899671  0.121474  1.867583  5.852047  0.113862  0.165111\n",
      "  0.570694  2.467061  1.496497]\n",
      "Linear Iter:  80 [29.728887  1.805429  0.143064  2.026586  5.635112  0.198529  2.669347\n",
      "  1.491844  1.378621  0.774839]\n",
      "Linear Iter:  81 [2.4480196e+01 1.6302530e+00 1.3557000e-01 1.8665400e-01 4.0859610e+00\n",
      " 3.5410000e-03 6.2028700e-01 5.7014520e+00 3.4678400e-01 2.9079700e+00]\n",
      "Linear Iter:  82 [27.443731  1.29729   0.124703  2.594314  3.747523  0.065899  0.200987\n",
      "  3.983683  0.204812  1.053416]\n",
      "Linear Iter:  83 [20.145418  1.078557  0.122744  0.421899  1.889612  0.183512  1.074749\n",
      "  3.307575  1.675452  3.809028]\n",
      "Linear Iter:  84 [29.091862  1.516865  0.117593  0.270152  3.524595  0.193877  0.08812\n",
      "  4.259325  2.695338  1.002639]\n",
      "Linear Iter:  85 [20.574421  1.687429  0.064401  2.257295  0.529208  0.167864  0.254702\n",
      "  4.195071  0.215681  1.409033]\n",
      "Linear Iter:  86 [2.4856912e+01 1.9597080e+00 1.8684000e-01 1.7805360e+00 3.4755810e+00\n",
      " 1.1690000e-03 5.9394000e-02 6.0577300e+00 3.2734300e-01 4.8081330e+00]\n",
      "Linear Iter:  87 [25.372254  1.816847  0.118394  2.999542  0.320958  0.114239  2.024305\n",
      "  0.530443  0.433558  5.426729]\n",
      "Linear Iter:  88 [25.025956  1.70221   0.148369  0.766802  6.091911  0.058905  1.424197\n",
      "  0.630418  3.10829   6.181452]\n",
      "Linear Iter:  89 [20.089036  1.667293  0.08735   2.082316  3.348264  0.195706  1.879258\n",
      "  4.859981  2.391946  3.69899 ]\n",
      "Linear Iter:  90 [22.388188  1.747008  0.171535  0.213674  0.414     0.159579  0.364109\n",
      "  4.075149  0.664805  2.902353]\n",
      "Linear Iter:  91 [26.048116  1.467629  0.170093  2.887663  3.343245  0.16515   2.914093\n",
      "  1.989193  2.902553  3.920476]\n",
      "Linear Iter:  92 [29.884739  1.617345  0.15011   2.452046  6.066547  0.114469  2.309341\n",
      "  0.328906  2.592875  2.252253]\n",
      "Linear Iter:  93 [2.266943e+01 1.165874e+00 1.576500e-02 9.298600e-01 4.840050e-01\n",
      " 1.578400e-01 1.074036e+00 3.850297e+00 3.048733e+00 3.946553e+00]\n",
      "Linear Iter:  94 [2.3368284e+01 1.6143420e+00 2.1896000e-02 9.1681600e-01 7.1333300e-01\n",
      " 6.9257000e-02 1.9774100e+00 5.8216640e+00 2.9002280e+00 8.5839000e-01]\n",
      "Linear Iter:  95 [20.79177   1.85025   0.180257  2.937121  4.561851  0.087543  1.869842\n",
      "  3.173521  0.312621  3.332137]\n",
      "Linear Iter:  96 [22.632734  1.762567  0.118883  1.811822  2.41292   0.067308  1.077348\n",
      "  2.555736  2.81108   0.480514]\n",
      "Linear Iter:  97 [28.593222  1.622365  0.199771  1.988252  0.640134  0.193398  0.070013\n",
      "  4.9699    2.377258  1.626958]\n",
      "Linear Iter:  98 [27.828854  1.799016  0.091911  2.208715  1.68647   0.129291  2.724981\n",
      "  4.288498  0.363189  4.293716]\n",
      "Linear Iter:  99 [29.950974  1.591167  0.19235   2.910549  1.586937  0.183832  3.118769\n",
      "  3.771963  0.39555   1.093173]\n",
      "Linear Iter:  100 [21.936478  1.235261  0.152097  0.374605  0.127435  0.053715  0.28348\n",
      "  5.859287  0.828261  0.677704]\n",
      "Linear Iter:  101 [29.256789  1.602631  0.167144  0.688967  3.513844  0.113221  0.291922\n",
      "  4.523132  2.767866  1.974307]\n",
      "Linear Iter:  102 [23.492773  1.506904  0.11207   3.057919  1.023783  0.151685  2.490507\n",
      "  1.870808  0.305851  2.16182 ]\n",
      "Linear Iter:  103 [29.919739  1.858157  0.119595  3.115487  0.339489  0.140404  2.651587\n",
      "  2.89244   2.505287  5.845723]\n",
      "Linear Iter:  104 [28.316086  1.503465  0.178599  0.172029  2.24166   0.129982  1.097693\n",
      "  5.809916  0.676579  0.976385]\n",
      "Linear Iter:  105 [29.918929  1.997185  0.15834   2.776624  1.357986  0.151354  1.782329\n",
      "  3.817865  1.055018  0.540034]\n",
      "Linear Iter:  106 [21.409278  1.31015   0.038212  2.037079  2.313646  0.064149  2.98124\n",
      "  0.624538  2.883327  5.545933]\n",
      "Linear Iter:  107 [24.919107  1.951102  0.195159  0.092849  5.629345  0.165551  1.066957\n",
      "  1.697991  0.1308    2.27834 ]\n",
      "Linear Iter:  108 [2.5130567e+01 1.9890590e+00 8.2302000e-02 1.0947310e+00 3.4701170e+00\n",
      " 1.7231000e-02 1.6728400e+00 9.5863300e-01 3.1066930e+00 4.6080110e+00]\n",
      "Linear Iter:  109 [20.076662  1.060209  0.176958  0.185236  0.815541  0.057989  0.959941\n",
      "  4.594169  0.90919   4.445194]\n",
      "Linear Iter:  110 [21.966782  1.547267  0.172717  0.717047  2.612268  0.160734  0.262817\n",
      "  4.69569   2.678717  1.421143]\n",
      "Linear Iter:  111 [2.1200839e+01 1.1693220e+00 1.4412500e-01 2.4666180e+00 3.1511550e+00\n",
      " 6.6510000e-03 2.3873000e+00 6.1192820e+00 1.1700200e-01 2.2521100e-01]\n",
      "Linear Iter:  112 [2.9907421e+01 1.2903080e+00 2.2890000e-03 2.4555100e+00 4.0511930e+00\n",
      " 1.1557700e-01 1.8587630e+00 4.1492000e-01 1.2797400e-01 3.3732650e+00]\n",
      "Linear Iter:  113 [29.606673  1.560692  0.063205  1.366257  4.369575  0.188616  1.069588\n",
      "  6.121113  3.108012  1.112003]\n",
      "Linear Iter:  114 [24.470425  1.178962  0.096255  0.961318  3.180942  0.082315  0.462237\n",
      "  1.198726  0.088833  3.657938]\n",
      "Linear Iter:  115 [20.09783   1.084699  0.176683  0.33358   3.693417  0.140803  1.949092\n",
      "  0.625175  0.158984  4.895318]\n",
      "Linear Iter:  116 [24.218173  1.044413  0.048624  1.785872  0.97922   0.081855  1.390309\n",
      "  1.20317   3.117627  5.749878]\n",
      "Linear Iter:  117 [20.01312   1.544659  0.194455  2.206136  1.209879  0.074477  0.321505\n",
      "  2.60991   2.692451  2.088077]\n",
      "Linear Iter:  118 [28.434503  1.981099  0.198655  2.506812  5.419891  0.050278  1.678802\n",
      "  0.483243  2.247009  1.648643]\n",
      "(120, 4016) [0.00000000e+00 2.52993528e-20 4.40381613e-20 3.29484560e-20\n",
      " 2.45049349e-20 3.99394107e-20 2.53874112e-20 2.90608548e-20\n",
      " 2.24428286e-20 2.52399377e-20 2.70147241e-20 3.03567447e-20\n",
      " 2.00544695e-20 2.27719042e-20 2.32895333e-20 2.92677931e-20\n",
      " 2.01775915e-20 2.93821345e-20 1.77685206e-20 1.41765279e-20\n",
      " 1.35804206e-20 1.67117425e-20 2.45633604e-20 4.88908032e-21\n",
      " 2.44388480e-21 3.03973651e-21 1.70911699e-21 3.13917769e-21\n",
      " 9.89460588e-22 1.43535980e-21 7.18076389e-22 1.01673221e-21\n",
      " 6.32570064e-22 6.14013568e-22 3.03781175e-22 4.41947252e-22\n",
      " 1.61576800e-22 2.87519876e-22 1.04383641e-22 1.24913735e-22\n",
      " 8.10501657e-23 9.33564753e-23 4.03598078e-23 4.54962515e-23\n",
      " 3.99865505e-23 3.95863979e-23 3.49423733e-23 3.42522739e-23\n",
      " 1.84553246e-23 1.60746993e-23 2.00777143e-23 1.54775149e-23\n",
      " 1.03827808e-23 2.37241109e-23 9.72763349e-24 8.47582199e-24\n",
      " 9.77785878e-24 9.18926870e-24 9.79890968e-24 9.76214736e-24\n",
      " 9.99782098e-24 7.52053125e-24 2.42601044e-23 5.50708988e-24\n",
      " 7.03626605e-24 4.98465516e-24 6.13346120e-24 5.93635594e-24\n",
      " 5.59899203e-24 3.34163653e-24 4.99783880e-24 3.43241302e-24\n",
      " 2.46038105e-24 4.57147440e-24 2.55375800e-24 3.19424715e-24\n",
      " 2.55107410e-24 2.02337664e-24 1.93567049e-24 2.37838540e-24\n",
      " 1.63274077e-24 1.83124218e-24 1.51890479e-24 1.80558514e-24\n",
      " 1.97144251e-24 1.83224086e-24 2.07172810e-24 1.68502960e-24\n",
      " 1.07557587e-24 1.20972437e-24 1.17235320e-24 1.37219036e-24\n",
      " 1.05269844e-24 1.69442917e-24 9.32441208e-25 9.27155054e-25\n",
      " 1.17883658e-24 8.36910088e-25 7.68712797e-25 6.71574948e-25\n",
      " 2.05792629e-24 9.38392174e-25 8.06235733e-25 7.91865522e-25\n",
      " 8.22051724e-25 6.66213806e-25 3.62573923e-24 5.75119730e-25\n",
      " 7.31285390e-25 5.57153373e-25 6.69022602e-25 7.42134093e-25\n",
      " 7.01534366e-25 5.93677511e-25 5.53548032e-25 5.13604134e-25\n",
      " 4.91711611e-25 4.90300756e-25 4.34253033e-25 4.92576112e-25]\n"
     ]
    }
   ],
   "source": [
    "known_bases_start = numpy.array([hp1/numpy.sqrt(numpy.vdot(hp1,hp1))])\n",
    "basis_waveforms_start = numpy.array([hp1])\n",
    "residual_modula_start = numpy.array([0.0])\n",
    "known_bases, params, residual_modula = pyroq.bases_searching_results_unnormalized(npts, nparams, nbases, known_bases_start, basis_waveforms_start, params_start, residual_modula_start, params_low, params_high, distance, deltaF, f_min, f_max, waveFlags, approximant)\n",
    "print(known_bases.shape, residual_modula)\n"
   ]
  },
  {
   "cell_type": "code",
   "execution_count": 7,
   "metadata": {},
   "outputs": [
    {
     "name": "stdout",
     "output_type": "stream",
     "text": [
      "40 basis elements gave 23 bad points of surrogate error >  1e-08\n",
      "50 basis elements gave 3 bad points of surrogate error >  1e-08\n",
      "60 basis elements gave 0 bad points of surrogate error >  1e-08\n",
      "Number of linear basis elements is  60 and the linear ROQ data are saved in B_linear.npy\n"
     ]
    }
   ],
   "source": [
    "pyroq.roqs(tolerance, freq, ndimlow, ndimhigh, ndimstepsize, known_bases, nts, nparams, params_low, params_high, distance, deltaF, f_min, f_max, waveFlags, approximant)\n"
   ]
  },
  {
   "cell_type": "code",
   "execution_count": 8,
   "metadata": {},
   "outputs": [
    {
     "name": "stdout",
     "output_type": "stream",
     "text": [
      "[[ 1.00000000e+00-4.54747351e-12j  3.27418093e-11-4.00177669e-11j\n",
      "   4.00177669e-11+5.45696821e-11j ...  1.01863407e-10-4.36557457e-11j\n",
      "  -7.27595761e-11-1.45519152e-11j  1.12777343e-10+2.18278728e-11j]\n",
      " [ 1.54614099e-11+3.60955710e-12j  1.00000000e+00+5.09317033e-11j\n",
      "  -8.73114914e-11-1.59161573e-11j ... -1.27329258e-10+5.78666004e-11j\n",
      "   1.38243195e-10-2.72848411e-11j -1.81898940e-10+3.27418093e-11j]\n",
      " [ 1.81898940e-12+1.27329258e-11j -6.54836185e-11+3.63797881e-12j\n",
      "   1.00000000e+00-6.54836185e-11j ... -2.91038305e-11-2.63753464e-11j\n",
      "   7.27595761e-11+4.36557457e-11j -1.23691279e-10-4.36557457e-11j]\n",
      " ...\n",
      " [ 0.00000000e+00+0.00000000e+00j  0.00000000e+00+0.00000000e+00j\n",
      "   0.00000000e+00+0.00000000e+00j ...  0.00000000e+00+0.00000000e+00j\n",
      "   0.00000000e+00+0.00000000e+00j  0.00000000e+00+0.00000000e+00j]\n",
      " [ 0.00000000e+00+0.00000000e+00j  0.00000000e+00+0.00000000e+00j\n",
      "   0.00000000e+00+0.00000000e+00j ...  0.00000000e+00+0.00000000e+00j\n",
      "   0.00000000e+00+0.00000000e+00j  0.00000000e+00+0.00000000e+00j]\n",
      " [ 0.00000000e+00+0.00000000e+00j  0.00000000e+00+0.00000000e+00j\n",
      "   0.00000000e+00+0.00000000e+00j ...  0.00000000e+00+0.00000000e+00j\n",
      "   0.00000000e+00+0.00000000e+00j  0.00000000e+00+0.00000000e+00j]]\n",
      "emp_nodes [   0    1    2    5    7   10   14   18   25   34   39   46   59   71\n",
      "   87  112  123  129  138  145  151  157  164  173  180  190  202  211\n",
      "  216  229  248  333  480  638  726  754  775  792  819  847  868  882\n",
      "  906  933  963  984 1010 1035 1075 1097 1146 1176 1232 1260 1280 1314\n",
      " 1432 1501 1591 1806]\n"
     ]
    }
   ],
   "source": [
    "fnodes_linear = numpy.load('./fnodes_linear.npy')\n",
    "b_linear = numpy.transpose(numpy.load('./B_linear.npy'))\n",
    "ndim = b_linear.shape[1]\n",
    "freq = numpy.arange(f_min, f_max, deltaF)\n",
    "emp_nodes = numpy.searchsorted(freq, fnodes_linear)\n",
    "print(b_linear)\n",
    "print(\"emp_nodes\", emp_nodes)"
   ]
  },
  {
   "cell_type": "code",
   "execution_count": 9,
   "metadata": {},
   "outputs": [
    {
     "data": {
      "image/png": "[encoded data removed]",
      "text/plain": [
       "<Figure size 432x288 with 1 Axes>"
      ]
     },
     "metadata": {
      "needs_background": "light"
     },
     "output_type": "display_data"
    }
   ],
   "source": [
    "test_mc = 20\n",
    "test_q = 4\n",
    "test_s1 = [0.,0.2,-0.]\n",
    "test_s2 = [0.,0.15,-0.1]\n",
    "test_ecc = 0\n",
    "test_lambda1 = 0\n",
    "test_lambda2 = 0\n",
    "test_iota = 1.9\n",
    "test_phiref = 0.6\n",
    "\n",
    "pyroq.testrep(b_linear, emp_nodes, test_mc, test_q, test_s1, test_s2, test_ecc, test_lambda1, test_lambda2, test_iota, test_phiref, distance, deltaF, f_min, f_max, waveFlags, approximant)\n"
   ]
  },
  {
   "cell_type": "code",
   "execution_count": 10,
   "metadata": {},
   "outputs": [],
   "source": [
    "nsamples = 1000 # testing nsamples random samples in parameter space to see their representation surrogate errors\n",
    "surros = pyroq.surros_of_test_samples(nsamples, nparams, params_low, params_high, tolerance, b_linear, emp_nodes, distance, deltaF, f_min, f_max, waveFlags, approximant)\n",
    "# If a surrogate error is larger than tolerance, it will be reported on the screen."
   ]
  },
  {
   "cell_type": "code",
   "execution_count": 11,
   "metadata": {},
   "outputs": [
    {
     "data": {
      "image/png": "[encoded data removed]",
      "text/plain": [
       "<Figure size 432x288 with 1 Axes>"
      ]
     },
     "metadata": {
      "needs_background": "light"
     },
     "output_type": "display_data"
    }
   ],
   "source": [
    "plt.semilogy(surros,'o',color='black')\n",
    "plt.xlabel(\"Number of Random Test Points\")\n",
    "plt.ylabel(\"Surrogate Error\")\n",
    "plt.title(\"IMRPhenomPv2\")\n",
    "plt.savefig(\"SurrogateErrorsRandomTestPoints.png\")\n",
    "plt.show()"
   ]
  },
  {
   "cell_type": "markdown",
   "metadata": {},
   "source": [
    "# Search for quadratic basis elements to build & save quadratic ROQ data."
   ]
  },
  {
   "cell_type": "code",
   "execution_count": 12,
   "metadata": {},
   "outputs": [
    {
     "name": "stdout",
     "output_type": "stream",
     "text": [
      "Quadratic Iter:  0\n",
      "Quadratic Iter:  1\n",
      "Quadratic Iter:  2\n",
      "Quadratic Iter:  3\n",
      "Quadratic Iter:  4\n",
      "Quadratic Iter:  5\n",
      "Quadratic Iter:  6\n",
      "Quadratic Iter:  7\n",
      "Quadratic Iter:  8\n",
      "Quadratic Iter:  9\n",
      "Quadratic Iter:  10\n",
      "Quadratic Iter:  11\n",
      "Quadratic Iter:  12\n",
      "Quadratic Iter:  13\n",
      "Quadratic Iter:  14\n",
      "Quadratic Iter:  15\n",
      "Quadratic Iter:  16\n",
      "Quadratic Iter:  17\n",
      "Quadratic Iter:  18\n",
      "Quadratic Iter:  19\n",
      "Quadratic Iter:  20\n",
      "Quadratic Iter:  21\n",
      "Quadratic Iter:  22\n",
      "Quadratic Iter:  23\n",
      "Quadratic Iter:  24\n",
      "Quadratic Iter:  25\n",
      "Quadratic Iter:  26\n",
      "Quadratic Iter:  27\n",
      "Quadratic Iter:  28\n",
      "Quadratic Iter:  29\n",
      "Quadratic Iter:  30\n",
      "Quadratic Iter:  31\n",
      "Quadratic Iter:  32\n",
      "Quadratic Iter:  33\n",
      "Quadratic Iter:  34\n",
      "Quadratic Iter:  35\n",
      "Quadratic Iter:  36\n",
      "Quadratic Iter:  37\n",
      "Quadratic Iter:  38\n",
      "Quadratic Iter:  39\n",
      "Quadratic Iter:  40\n",
      "Quadratic Iter:  41\n",
      "Quadratic Iter:  42\n",
      "Quadratic Iter:  43\n",
      "Quadratic Iter:  44\n",
      "Quadratic Iter:  45\n",
      "Quadratic Iter:  46\n",
      "Quadratic Iter:  47\n",
      "Quadratic Iter:  48\n",
      "Quadratic Iter:  49\n",
      "Quadratic Iter:  50\n",
      "Quadratic Iter:  51\n",
      "Quadratic Iter:  52\n",
      "Quadratic Iter:  53\n",
      "Quadratic Iter:  54\n",
      "Quadratic Iter:  55\n",
      "Quadratic Iter:  56\n",
      "Quadratic Iter:  57\n",
      "Quadratic Iter:  58\n",
      "Quadratic Iter:  59\n",
      "Quadratic Iter:  60\n",
      "Quadratic Iter:  61\n",
      "Quadratic Iter:  62\n",
      "Quadratic Iter:  63\n",
      "Quadratic Iter:  64\n",
      "Quadratic Iter:  65\n",
      "Quadratic Iter:  66\n",
      "Quadratic Iter:  67\n",
      "Quadratic Iter:  68\n",
      "Quadratic Iter:  69\n",
      "Quadratic Iter:  70\n",
      "Quadratic Iter:  71\n",
      "Quadratic Iter:  72\n",
      "Quadratic Iter:  73\n",
      "Quadratic Iter:  74\n",
      "Quadratic Iter:  75\n",
      "Quadratic Iter:  76\n",
      "Quadratic Iter:  77\n",
      "Quadratic Iter:  78\n"
     ]
    }
   ],
   "source": [
    "hp1_quad = (numpy.absolute(hp1))**2\n",
    "known_quad_bases_start = numpy.array([hp1_quad/numpy.sqrt(numpy.vdot(hp1_quad,hp1_quad))])\n",
    "basis_waveforms_quad_start = numpy.array([hp1_quad])\n",
    "residual_modula_start = numpy.array([0.0])\n",
    "known_quad_bases,params_quad,residual_modula_quad = pyroq.bases_searching_quadratic_results_unnormalized(npts, nparams, nbases_quad, known_quad_bases_start, basis_waveforms_quad_start, params_start, residual_modula_start, params_low, params_high, distance, deltaF, f_min, f_max, waveFlags, approximant)\n",
    "known_quad_bases_copy = known_quad_bases\n"
   ]
  },
  {
   "cell_type": "code",
   "execution_count": 13,
   "metadata": {},
   "outputs": [],
   "source": [
    "points = numpy.random.uniform(params_low, params_high, size=(npts,nparams))\n"
   ]
  },
  {
   "cell_type": "code",
   "execution_count": 14,
   "metadata": {},
   "outputs": [
    {
     "name": "stdout",
     "output_type": "stream",
     "text": [
      "20 basis elements gave 902 bad points of surrogate error >  1e-10\n",
      "30 basis elements gave 31 bad points of surrogate error >  1e-10\n",
      "40 basis elements gave 1 bad points of surrogate error >  1e-10\n",
      "50 basis elements gave 0 bad points of surrogate error >  1e-10\n",
      "Number of quadratic basis elements is  50 and the linear ROQ data save in B_quadratic.npy\n"
     ]
    }
   ],
   "source": [
    "pyroq.roqs_quad(tolerance_quad, freq, ndimlow_quad, ndimhigh_quad, ndimstepsize_quad, known_quad_bases, nts, nparams, params_low, params_high, distance, deltaF, f_min, f_max, waveFlags, approximant)\n"
   ]
  },
  {
   "cell_type": "code",
   "execution_count": 15,
   "metadata": {},
   "outputs": [],
   "source": [
    "fnodes_quad = numpy.load('./fnodes_quadratic.npy')\n",
    "b_quad = numpy.transpose(numpy.load('./B_quadratic.npy'))\n",
    "ndim_quad = b_quad.shape[1]\n",
    "freq = numpy.arange(f_min, f_max, deltaF)\n",
    "emp_nodes_quad = numpy.searchsorted(freq, fnodes_quad)\n"
   ]
  },
  {
   "cell_type": "code",
   "execution_count": 16,
   "metadata": {},
   "outputs": [
    {
     "data": {
      "image/png": "[encoded data removed]",
      "text/plain": [
       "<Figure size 432x288 with 1 Axes>"
      ]
     },
     "metadata": {
      "needs_background": "light"
     },
     "output_type": "display_data"
    }
   ],
   "source": [
    "test_mc_quad =20\n",
    "test_q_quad = 1\n",
    "test_s1_quad = [0.0, 0.0, 0.0]\n",
    "test_s2_quad = [0.0, 0.0, 0.0]\n",
    "test_ecc_quad = 0\n",
    "test_lambda1_quad = 0\n",
    "test_lambda2_quad = 0\n",
    "test_iota_quad = 1.9\n",
    "test_phiref_quad = 0.6\n",
    "\n",
    "pyroq.testrep_quad(b_quad, emp_nodes_quad, test_mc_quad, test_q_quad, test_s1_quad, test_s2_quad, test_ecc_quad, test_lambda1_quad, test_lambda2_quad, test_iota_quad, test_phiref_quad, distance, deltaF, f_min, f_max, waveFlags, approximant)\n"
   ]
  },
  {
   "cell_type": "code",
   "execution_count": null,
   "metadata": {},
   "outputs": [],
   "source": []
  }
 ],
 "metadata": {
  "kernelspec": {
   "display_name": "ligo-py36",
   "language": "python",
   "name": "ligo-py36"
  },
  "language_info": {
   "codemirror_mode": {
    "name": "ipython",
    "version": 3
   },
   "file_extension": ".py",
   "mimetype": "text/x-python",
   "name": "python",
   "nbconvert_exporter": "python",
   "pygments_lexer": "ipython3",
   "version": "3.6.7"
  }
 },
 "nbformat": 4,
 "nbformat_minor": 4
}
