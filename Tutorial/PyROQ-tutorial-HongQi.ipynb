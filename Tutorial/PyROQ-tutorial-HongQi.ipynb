{
 "cells": [
  {
   "cell_type": "code",
   "execution_count": 19,
   "metadata": {},
   "outputs": [
    {
     "name": "stdout",
     "output_type": "stream",
     "text": [
      "Collecting PyROQ==0.1.24\n",
      "  Downloading https://files.pythonhosted.org/packages/b5/e5/2abbe09f469ed2aae96e259cc7377a7eacb30e33fbf5ed337320f6ca3fc5/PyROQ-0.1.24-py3-none-any.whl\n",
      "Installing collected packages: PyROQ\n",
      "  Found existing installation: PyROQ 0.1.23\n",
      "    Uninstalling PyROQ-0.1.23:\n",
      "      Successfully uninstalled PyROQ-0.1.23\n",
      "Successfully installed PyROQ-0.1.24\n"
     ]
    }
   ],
   "source": [
    "!pip install --user PyROQ==0.1.24"
   ]
  },
  {
   "cell_type": "code",
   "execution_count": 1,
   "metadata": {},
   "outputs": [],
   "source": [
    "import numpy\n",
    "import numpy as np\n",
    "import scipy\n",
    "%matplotlib inline\n",
    "import matplotlib\n",
    "import matplotlib.pyplot as plt\n",
    "import lal\n",
    "import lalsimulation\n",
    "from lal.lal import PC_SI as LAL_PC_SI\n",
    "import h5py\n",
    "import warnings\n",
    "import random\n",
    "warnings.filterwarnings('ignore')\n",
    "import matplotlib.pylab as pylab\n",
    "plot_params = {'legend.fontsize': 'x-large',\n",
    "          'figure.figsize': (15, 9),\n",
    "         'axes.labelsize': 'x-large',\n",
    "         'axes.titlesize':'x-large',\n",
    "         'xtick.labelsize':'x-large',\n",
    "         'ytick.labelsize':'x-large'}\n",
    "pylab.rcParams.update(plot_params)\n",
    "from mpl_toolkits.mplot3d import axes3d\n",
    "#import PyROQ.pyroq as pyroq\n",
    "import pyroq as pyroq"
   ]
  },
  {
   "cell_type": "markdown",
   "metadata": {},
   "source": [
    "# Setting up boundary conditions and tolerance requirements."
   ]
  },
  {
   "cell_type": "code",
   "execution_count": 2,
   "metadata": {},
   "outputs": [
    {
     "name": "stdout",
     "output_type": "stream",
     "text": [
      "mass-min, mass-max:  [16.437518295172257, 49.31255488551677]\n"
     ]
    }
   ],
   "source": [
    "mc_low = 20\n",
    "mc_high = 30\n",
    "q_low = 1\n",
    "q_high = 2\n",
    "s1sphere_low = [0, 0, 0]\n",
    "s1sphere_high = [0.2, numpy.pi, 2.0*numpy.pi]\n",
    "s2sphere_low = [0, 0, 0]\n",
    "s2sphere_high = [0.2, numpy.pi, 2.0*numpy.pi]\n",
    "ecc_low = 0.0\n",
    "ecc_high = 0.2\n",
    "lambda1_low = 0\n",
    "lambda1_high = 1000\n",
    "lambda2_low = 0\n",
    "lambda2_high = 1000\n",
    "iota_low = 0\n",
    "iota_high = numpy.pi\n",
    "phiref_low = 0\n",
    "phiref_high = 2*numpy.pi\n",
    "f_min = 20\n",
    "f_max = 1024\n",
    "deltaF = 1/4.\n",
    "distance = 10 * LAL_PC_SI * 1.0e6  # 10 Mpc is default \n",
    "waveFlags = lal.CreateDict()\n",
    "\n",
    "approximant = lalsimulation.IMRPhenomPv2\n",
    "print(\"mass-min, mass-max: \", pyroq.massrange(mc_low, mc_high, q_low, q_high))\n",
    "\n",
    "npts = 100 # Specify the number of points for each search for a new basis element\n",
    "          # For diagnostic testing, 30 -100 is fine. \n",
    "          # For real ROQs computation, this can be 300 to 1000, roughly comparable to the number of basis elments.\n",
    "          # What value to choose depends on the nature of the waveform, such as how many features it has. \n",
    "          # It also depends on the parameter space and the signal length. \n",
    "nts = 1000 # Number of random test waveforms\n",
    "          # For diagnostics, 1000 is fine.\n",
    "          # For real ROQs calculation, set it to be 1000000.\n",
    "\n",
    "nbases = 100 # Specify the number of linear basis elements\n",
    "ndimlow = 40 # Starting number of basis elements used to check if tolerance is satisfied\n",
    "ndimhigh = nbases+1\n",
    "ndimstepsize = 10 # Number of linear basis elements increament to get the basis satisfying the tolerance\n",
    "tolerance = 1e-8 # Surrogage error threshold for linear basis elements\n",
    "\n",
    "nbases_quad = 60 # Specify the number of quadratic basis elements, depending on the tolerance_quad, usually two thirds of that for linear basis\n",
    "ndimlow_quad = 20\n",
    "ndimhigh_quad = nbases_quad+1\n",
    "ndimstepsize_quad = 10\n",
    "tolerance_quad = 1e-10 # Surrogage error threshold for quadratic basis elements"
   ]
  },
  {
   "cell_type": "code",
   "execution_count": 3,
   "metadata": {},
   "outputs": [],
   "source": [
    "freq = numpy.arange(f_min,f_max,deltaF)\n",
    "nparams, params_low, params_high, params_start, hp1 = pyroq.initial_basis(mc_low, mc_high, q_low, q_high, s1sphere_low, s1sphere_high, \\\n",
    "                  s2sphere_low, s2sphere_high, ecc_low, ecc_high, lambda1_low, lambda1_high,\\\n",
    "                 lambda2_low, lambda2_high, iota_low, iota_high, phiref_low, phiref_high, distance, deltaF, f_min, f_max, waveFlags, approximant)\n"
   ]
  },
  {
   "cell_type": "code",
   "execution_count": 4,
   "metadata": {},
   "outputs": [
    {
     "name": "stdout",
     "output_type": "stream",
     "text": [
      "[24.02248868  6.00562217]\n"
     ]
    }
   ],
   "source": [
    "mmin=pyroq.get_m1m2_from_mcq(10,4)\n",
    "print(mmin)"
   ]
  },
  {
   "cell_type": "code",
   "execution_count": 5,
   "metadata": {},
   "outputs": [
    {
     "name": "stdout",
     "output_type": "stream",
     "text": [
      "10\n",
      "4016\n"
     ]
    }
   ],
   "source": [
    "print(nparams)\n",
    "print(len(freq))"
   ]
  },
  {
   "cell_type": "markdown",
   "metadata": {},
   "source": [
    "# Search for linear basis elements to build and save linear ROQ data in the local directory."
   ]
  },
  {
   "cell_type": "code",
   "execution_count": 6,
   "metadata": {},
   "outputs": [
    {
     "name": "stdout",
     "output_type": "stream",
     "text": [
      "The parameters are Mc, q, s1(mag, theta, phi), s2(mag, theta, phi), iota, and phiRef\n",
      "\n",
      "Linear Iter:  0 [28.606255  1.140118  0.140095  0.912845  4.681361  0.044505  0.500001\n",
      "  4.583837  0.185671  5.975186]\n",
      "Linear Iter:  1 [28.277322  1.213751  0.103921  1.088323  4.890244  0.130239  0.387585\n",
      "  2.357988  2.881528  0.23702 ]\n",
      "Linear Iter:  2 [20.018776  1.51975   0.181142  1.745595  5.4809    0.050316  0.6008\n",
      "  2.491247  2.901306  3.788818]\n",
      "Linear Iter:  3 [2.9909347e+01 1.4617950e+00 9.7425000e-02 5.7995000e-02 5.6240590e+00\n",
      " 6.5450000e-03 2.1021410e+00 2.8380900e+00 3.0123530e+00 5.3744590e+00]\n",
      "Linear Iter:  4 [29.217198  1.705436  0.132589  1.55899   0.185461  0.165812  2.677249\n",
      "  0.098486  0.371345  2.818041]\n",
      "Linear Iter:  5 [27.532488  1.52888   0.148208  0.328206  6.166629  0.107537  0.529781\n",
      "  4.189964  2.766574  4.073395]\n",
      "Linear Iter:  6 [25.348474  1.783923  0.05637   0.674612  2.468874  0.055357  2.106143\n",
      "  4.456066  3.103805  5.205139]\n",
      "Linear Iter:  7 [26.080608  1.196027  0.186943  1.155954  2.921852  0.086259  1.165262\n",
      "  2.954104  0.160947  4.986156]\n",
      "Linear Iter:  8 [2.5741478e+01 1.2232210e+00 1.6548800e-01 3.1620100e-01 3.3774230e+00\n",
      " 2.1420000e-03 1.4744800e+00 3.1478040e+00 3.0375460e+00 3.9850600e-01]\n",
      "Linear Iter:  9 [22.556755  1.004413  0.193351  0.243751  5.810887  0.171314  1.340782\n",
      "  0.232441  0.072255  0.029916]\n",
      "Linear Iter:  10 [22.276304  1.204416  0.07426   0.075582  6.121548  0.099031  0.168775\n",
      "  3.013496  2.954836  2.018772]\n",
      "Linear Iter:  11 [22.220301  1.708054  0.09165   1.972714  4.513233  0.118123  2.103815\n",
      "  2.561325  3.107175  2.696253]\n",
      "Linear Iter:  12 [2.2765436e+01 1.1382650e+00 3.9350000e-02 2.9654100e-01 4.1100450e+00\n",
      " 1.8216000e-02 3.7720300e-01 9.5615200e-01 2.5743890e+00 2.1206930e+00]\n",
      "Linear Iter:  13 [29.999863  1.936845  0.18218   1.910464  1.272841  0.113966  0.927968\n",
      "  2.745683  0.115514  1.444172]\n",
      "Linear Iter:  14 [2.4101489e+01 1.5776470e+00 1.6150200e-01 1.2577390e+00 2.9014950e+00\n",
      " 1.6797000e-02 2.1641850e+00 6.1328670e+00 2.3816400e-01 6.1537920e+00]\n",
      "Linear Iter:  15 [23.911024  1.292192  0.152411  0.943879  2.9728    0.094205  2.302637\n",
      "  6.097462  0.127401  3.367597]\n",
      "Linear Iter:  16 [29.682866  1.267897  0.142704  0.432273  1.008511  0.04361   1.211244\n",
      "  0.425614  0.034111  1.893987]\n",
      "Linear Iter:  17 [21.195899  1.582166  0.086062  0.706062  0.202342  0.166612  1.022309\n",
      "  2.741408  3.087358  5.77212 ]\n",
      "Linear Iter:  18 [20.466735  1.375925  0.047778  2.039997  6.108325  0.063874  0.583548\n",
      "  2.520144  0.943728  0.569965]\n",
      "Linear Iter:  19 [20.757338  1.585513  0.125841  1.695701  6.139162  0.174487  1.225441\n",
      "  6.094542  2.908494  5.80259 ]\n",
      "Linear Iter:  20 [20.562649  1.067813  0.191156  0.086525  4.085999  0.146622  1.542304\n",
      "  2.550919  0.411639  4.13455 ]\n",
      "Linear Iter:  21 [29.849017  1.62939   0.170936  2.554812  5.97795   0.086695  2.857464\n",
      "  0.130073  3.072898  3.837449]\n",
      "Linear Iter:  22 [20.051542  1.495156  0.181895  0.848711  5.218649  0.137179  0.54971\n",
      "  0.604451  0.966792  5.91426 ]\n",
      "Linear Iter:  23 [23.135178  1.347673  0.047304  0.829854  3.248109  0.130802  0.389623\n",
      "  5.581174  0.061882  0.343151]\n",
      "Linear Iter:  24 [29.314939  1.956695  0.116388  0.892404  0.23357   0.191686  1.73264\n",
      "  4.926485  2.587405  1.482616]\n",
      "Linear Iter:  25 [22.236783  1.122818  0.182302  0.904464  1.955045  0.186257  0.600544\n",
      "  1.808071  0.268672  1.715553]\n",
      "Linear Iter:  26 [28.670073  1.127538  0.08832   2.060642  2.464283  0.107942  1.332659\n",
      "  2.05046   2.670634  3.611139]\n",
      "Linear Iter:  27 [21.501207  1.384313  0.13145   1.500196  2.595595  0.038284  2.108163\n",
      "  4.086947  0.523719  5.861986]\n",
      "Linear Iter:  28 [20.170244  1.173044  0.109214  1.267232  0.03853   0.167191  0.845431\n",
      "  2.49389   2.83995   3.633794]\n",
      "Linear Iter:  29 [25.700853  1.795004  0.116509  2.716331  5.612613  0.095596  2.079689\n",
      "  5.075571  2.823331  4.832113]\n",
      "Linear Iter:  30 [24.248756  1.032653  0.126485  2.824008  4.249029  0.087146  1.163712\n",
      "  0.090151  3.074555  6.206889]\n",
      "Linear Iter:  31 [2.2479957e+01 1.1905100e+00 1.0824700e-01 3.2478000e-02 4.6539500e+00\n",
      " 1.1366000e-02 7.5645900e-01 2.7806160e+00 4.0687900e-01 4.0947500e+00]\n",
      "Linear Iter:  32 [29.869603  1.357255  0.107674  2.919195  2.735214  0.119857  2.23426\n",
      "  0.319673  2.972788  6.129088]\n",
      "Linear Iter:  33 [29.311373  1.827151  0.185113  2.71944   2.232408  0.161603  2.227425\n",
      "  5.538638  0.034126  2.192132]\n",
      "Linear Iter:  34 [24.675137  1.771459  0.107617  2.468177  4.846154  0.175632  0.717299\n",
      "  5.391802  0.423687  1.351615]\n",
      "Linear Iter:  35 [20.5776    1.142022  0.118314  0.843787  5.840732  0.128498  0.517979\n",
      "  2.153733  0.348285  6.068607]\n",
      "Linear Iter:  36 [29.841409  1.846805  0.097571  2.729592  0.474192  0.161971  2.859583\n",
      "  0.930552  2.045688  5.589657]\n",
      "Linear Iter:  37 [22.80429   1.473801  0.169513  2.292822  1.164173  0.1187    1.325891\n",
      "  4.743064  2.819303  4.011163]\n",
      "Linear Iter:  38 [28.091372  1.818542  0.166063  3.082083  2.500798  0.081529  2.218028\n",
      "  3.469919  0.44572   4.518591]\n",
      "Linear Iter:  39 [27.884339  1.415907  0.199018  0.45377   4.538194  0.122392  0.308949\n",
      "  2.819888  2.453396  2.370434]\n",
      "Linear Iter:  40 [20.272309  1.042645  0.071447  1.43292   3.594128  0.041591  1.113451\n",
      "  0.774     0.207969  5.036785]\n",
      "Linear Iter:  41 [2.0727274e+01 1.4783020e+00 2.0464000e-02 1.0673680e+00 5.4197270e+00\n",
      " 9.0227000e-02 7.4119200e-01 5.3428660e+00 8.0679000e-02 3.8196560e+00]\n",
      "Linear Iter:  42 [29.781114  1.705039  0.175921  1.698975  4.269149  0.136719  2.751675\n",
      "  4.974226  1.473201  1.692526]\n",
      "Linear Iter:  43 [27.545341  1.275576  0.175763  3.085717  0.505177  0.164448  2.555562\n",
      "  1.521373  2.940188  1.380104]\n",
      "Linear Iter:  44 [20.08492   1.247635  0.175742  0.872085  3.981941  0.149157  0.440207\n",
      "  3.324526  2.748721  3.306041]\n",
      "Linear Iter:  45 [26.574485  1.048544  0.109073  1.358112  1.461004  0.189414  2.737304\n",
      "  1.345124  2.442579  4.80044 ]\n",
      "Linear Iter:  46 [23.656127  1.837152  0.145165  0.355056  2.571222  0.169903  1.690678\n",
      "  4.709879  0.298585  5.733796]\n",
      "Linear Iter:  47 [25.845632  1.099291  0.183118  1.431672  1.947785  0.163787  2.467723\n",
      "  3.882644  0.128174  5.638609]\n",
      "Linear Iter:  48 [2.8539339e+01 1.9584590e+00 1.7720900e-01 1.4364000e-02 2.0137360e+00\n",
      " 6.9359000e-02 1.8326780e+00 2.2664750e+00 2.5240000e+00 6.1002100e+00]\n",
      "Linear Iter:  49 [25.888976  1.196301  0.191907  0.307487  3.710401  0.099575  1.167339\n",
      "  0.179994  3.090263  6.147203]\n",
      "Linear Iter:  50 [20.280842  1.037468  0.139303  0.069784  1.167882  0.18751   1.009597\n",
      "  3.3726    2.489514  2.344947]\n",
      "Linear Iter:  51 [29.928747  1.905214  0.193497  2.192452  4.499597  0.145029  0.348547\n",
      "  5.57184   2.374442  0.4763  ]\n",
      "Linear Iter:  52 [2.0472715e+01 1.4520100e+00 1.3629400e-01 8.3449300e-01 3.0606570e+00\n",
      " 1.3095000e-02 2.2865480e+00 2.8923620e+00 2.6988810e+00 5.3112350e+00]\n",
      "Linear Iter:  53 [29.551805  1.968784  0.196912  1.84716   0.641126  0.110222  0.287618\n",
      "  5.606144  2.222271  0.320049]\n",
      "Linear Iter:  54 [20.141273  1.254695  0.15902   2.55446   1.294462  0.18161   2.715512\n",
      "  1.709664  0.572414  1.774015]\n",
      "Linear Iter:  55 [2.9073941e+01 1.5065880e+00 1.2368600e-01 1.8256180e+00 3.8230680e+00\n",
      " 1.9960000e-03 2.4161100e+00 5.3687000e-02 3.9079600e-01 2.6584990e+00]\n",
      "Linear Iter:  56 [21.291975  1.44943   0.194141  2.898867  4.363623  0.055927  2.224597\n",
      "  5.837385  3.005386  2.42033 ]\n",
      "Linear Iter:  57 [2.8253586e+01 1.8779900e+00 2.5377000e-02 1.7523870e+00 3.4401200e-01\n",
      " 1.4722600e-01 8.3499500e-01 2.1676490e+00 4.0711300e-01 5.9753940e+00]\n",
      "Linear Iter:  58 [2.8519493e+01 1.5819680e+00 5.2189000e-02 2.1255930e+00 3.3026200e-01\n",
      " 1.6965400e-01 2.6713000e-02 2.1336980e+00 9.3944000e-02 5.3056050e+00]\n",
      "Linear Iter:  59 [24.15826   1.342651  0.119931  3.000497  0.043713  0.14879   2.015427\n",
      "  4.009976  2.891062  6.185161]\n",
      "Linear Iter:  60 [2.9914554e+01 1.9077390e+00 1.2967700e-01 1.3156830e+00 2.8400330e+00\n",
      " 2.8106000e-02 2.3046210e+00 1.7613260e+00 8.0918000e-02 3.0583690e+00]\n",
      "Linear Iter:  61 [23.75607   1.266156  0.189072  0.142118  3.573785  0.199889  0.669572\n",
      "  0.578633  0.944456  2.834509]\n",
      "Linear Iter:  62 [22.33744   1.829569  0.059263  1.326748  1.281064  0.074134  0.610642\n",
      "  3.053217  0.384944  0.226823]\n",
      "Linear Iter:  63 [26.294645  1.19242   0.122548  2.596954  0.909616  0.052125  2.498419\n",
      "  2.791929  2.744508  0.670132]\n",
      "Linear Iter:  64 [20.381553  1.443133  0.185456  3.118993  2.543912  0.098952  2.984004\n",
      "  1.404336  3.029895  0.146959]\n",
      "Linear Iter:  65 [20.769729  1.965836  0.198044  0.728429  0.25862   0.195217  1.610757\n",
      "  6.127446  0.145201  5.618825]\n",
      "Linear Iter:  66 [29.926672  1.990802  0.131292  2.84421   0.979608  0.139474  1.254052\n",
      "  4.165221  2.67143   4.225541]\n",
      "Linear Iter:  67 [22.991375  1.262341  0.097751  0.92143   3.547729  0.130331  2.229619\n",
      "  4.555516  3.037894  5.176272]\n",
      "Linear Iter:  68 [26.71163   1.429249  0.199196  0.599053  3.990152  0.087638  0.980237\n",
      "  1.791691  3.029008  3.547332]\n",
      "Linear Iter:  69 [28.915641  1.819835  0.168996  0.207233  3.363814  0.051881  1.410423\n",
      "  5.936211  0.10875   2.03554 ]\n",
      "Linear Iter:  70 [28.849496  1.964526  0.167113  2.374626  2.699913  0.042149  1.681856\n",
      "  1.061596  2.349519  5.783592]\n",
      "Linear Iter:  71 [20.012353  1.399053  0.192505  0.339551  2.503641  0.083142  0.606718\n",
      "  5.455821  2.838144  3.328916]\n",
      "Linear Iter:  72 [26.997168  1.814039  0.108615  2.156047  0.109737  0.186415  0.130371\n",
      "  1.509823  2.735625  5.932904]\n",
      "Linear Iter:  73 [29.780275  1.949886  0.084672  2.761283  5.425347  0.184443  1.094682\n",
      "  4.723087  0.839669  4.942521]\n",
      "Linear Iter:  74 [24.588171  1.992704  0.196869  0.167784  1.559167  0.169674  1.073867\n",
      "  5.766249  0.112238  5.422921]\n",
      "Linear Iter:  75 [2.0941219e+01 1.9494160e+00 8.1510000e-03 1.1340520e+00 2.1305000e+00\n",
      " 1.7118900e-01 2.9890420e+00 3.9718230e+00 2.7553770e+00 7.7019300e-01]\n",
      "Linear Iter:  76 [20.119872  1.667547  0.094063  0.057612  5.901005  0.176561  0.205819\n",
      "  1.325925  0.381403  4.8984  ]\n",
      "Linear Iter:  77 [29.529281  1.82566   0.040936  0.39808   3.474292  0.093106  2.043561\n",
      "  5.675227  3.084661  5.230927]\n",
      "Linear Iter:  78 [29.594898  1.335367  0.199738  0.754786  5.156845  0.089866  0.045432\n",
      "  4.177958  2.951005  0.31097 ]\n",
      "Linear Iter:  79 [23.971536  1.552318  0.118985  1.950752  3.043695  0.085394  1.833546\n",
      "  4.311867  3.022376  2.835672]\n",
      "Linear Iter:  80 [22.118929  1.694501  0.192429  2.39718   4.120116  0.153371  2.33794\n",
      "  5.858784  0.514941  0.69369 ]\n",
      "Linear Iter:  81 [27.846046  1.82649   0.191418  2.683905  0.595425  0.192403  1.608257\n",
      "  4.046902  0.212857  4.850156]\n",
      "Linear Iter:  82 [26.486219  1.457885  0.081669  3.103134  3.368231  0.080199  2.273926\n",
      "  5.622839  0.126868  6.205227]\n",
      "Linear Iter:  83 [29.843471  1.499615  0.173396  2.632418  1.056916  0.171608  1.384243\n",
      "  2.406559  2.081312  2.439142]\n",
      "Linear Iter:  84 [2.0474156e+01 1.9878420e+00 1.9983100e-01 6.5544300e-01 4.7994720e+00\n",
      " 1.4628000e-02 2.3856830e+00 2.8737400e+00 1.4560000e-01 2.1231030e+00]\n",
      "Linear Iter:  85 [25.721002  1.829188  0.193739  0.267355  1.742675  0.196932  0.520461\n",
      "  0.481282  0.171562  4.907919]\n",
      "Linear Iter:  86 [29.838426  1.942174  0.141098  0.376671  3.829248  0.115785  0.468476\n",
      "  2.928758  0.073383  4.525363]\n",
      "Linear Iter:  87 [22.185072  1.78084   0.196528  0.418592  1.587767  0.198248  0.640689\n",
      "  0.310331  0.246302  2.96313 ]\n",
      "Linear Iter:  88 [24.502786  1.670675  0.027393  2.037019  2.560168  0.073102  0.713601\n",
      "  5.284009  0.470523  4.691835]\n",
      "Linear Iter:  89 [25.140714  1.335969  0.17037   0.291605  0.380811  0.154589  0.548993\n",
      "  0.184449  0.475736  4.767054]\n",
      "Linear Iter:  90 [21.143996  1.864826  0.07311   1.326695  0.26323   0.192879  2.593953\n",
      "  6.249191  3.03756   5.308323]\n",
      "Linear Iter:  91 [2.0636163e+01 1.1762130e+00 2.0090000e-02 1.7987480e+00 5.5266180e+00\n",
      " 8.3295000e-02 2.8010590e+00 5.7910460e+00 2.8910430e+00 1.8041780e+00]\n",
      "Linear Iter:  92 [28.133817  1.023827  0.187265  0.895252  5.115145  0.190529  0.964648\n",
      "  5.872186  2.782709  2.343817]\n",
      "Linear Iter:  93 [20.725279  1.972122  0.171474  3.028818  5.907466  0.165623  2.583776\n",
      "  0.19459   0.413667  1.015783]\n",
      "Linear Iter:  94 [29.343053  1.002539  0.143355  1.677216  4.797356  0.194296  2.831486\n",
      "  1.86078   0.214691  6.080398]\n",
      "Linear Iter:  95 [29.140781  1.148539  0.133073  1.2505    5.768043  0.167535  0.710684\n",
      "  0.362207  2.396716  1.930091]\n",
      "Linear Iter:  96 [29.6309    1.9679    0.135215  1.227099  5.326089  0.182703  2.902468\n",
      "  2.288588  0.503369  0.702187]\n",
      "Linear Iter:  97 [21.323616  1.082527  0.051791  1.223343  5.475613  0.136869  0.634968\n",
      "  2.496549  0.392064  5.130841]\n",
      "Linear Iter:  98 [29.44373   1.88878   0.175469  0.303302  3.308695  0.130231  3.026576\n",
      "  6.046685  0.260053  4.661732]\n",
      "(100, 4016) [0.00000000e+00 2.54192519e-20 4.53725268e-20 3.21327373e-20\n",
      " 2.65787644e-20 4.08294768e-20 2.31958026e-20 3.13190077e-20\n",
      " 2.63746954e-20 2.76372503e-20 2.14995291e-20 3.65091875e-20\n",
      " 1.96025154e-20 3.21551472e-20 2.05983043e-20 2.00028180e-20\n",
      " 3.45495661e-20 2.19960596e-20 1.99120593e-20 1.77712132e-20\n",
      " 1.24608567e-20 7.82164635e-21 1.05845809e-20 7.12965447e-21\n",
      " 5.77517660e-21 3.98772172e-21 1.46569807e-21 1.57749412e-21\n",
      " 1.03443120e-21 2.17496475e-21 5.92751747e-22 7.05967340e-22\n",
      " 6.11653116e-22 7.96899910e-22 5.64796784e-22 2.39052384e-22\n",
      " 2.45830332e-22 2.18280616e-22 1.32031507e-22 1.82053240e-22\n",
      " 9.89819694e-23 9.61420216e-23 5.51922902e-23 5.39860493e-23\n",
      " 4.33732901e-23 2.45566463e-22 2.82561895e-23 2.51428685e-23\n",
      " 2.08848113e-23 2.07192117e-23 1.58197933e-23 2.11289401e-23\n",
      " 2.63150482e-23 1.51409951e-23 1.20537055e-23 1.03427297e-23\n",
      " 1.06408783e-23 8.04302593e-24 5.48449992e-24 6.61287685e-24\n",
      " 6.18171372e-24 6.30777268e-24 4.80185183e-24 4.76016708e-24\n",
      " 4.89355711e-24 5.36133684e-24 3.83148694e-24 1.52413501e-23\n",
      " 3.54931962e-24 3.02398195e-24 3.25911259e-24 2.76650329e-24\n",
      " 1.74586618e-23 2.45732366e-24 3.01492480e-24 3.51736405e-24\n",
      " 2.74746011e-24 3.73257964e-24 1.77901235e-24 2.29364495e-24\n",
      " 1.83605273e-24 1.84193389e-24 1.37864694e-24 1.58167861e-24\n",
      " 1.79399880e-24 1.45600594e-24 1.69158619e-24 1.68211321e-24\n",
      " 2.26171954e-24 1.44635397e-24 1.47829223e-24 1.32587654e-24\n",
      " 1.53417247e-24 1.39933656e-24 9.02861445e-25 1.16522252e-24\n",
      " 9.64662381e-25 1.03680307e-24 1.14320634e-24 7.53166319e-25]\n"
     ]
    }
   ],
   "source": [
    "known_bases_start = numpy.array([hp1/numpy.sqrt(numpy.vdot(hp1,hp1))])\n",
    "basis_waveforms_start = numpy.array([hp1])\n",
    "residual_modula_start = numpy.array([0.0])\n",
    "known_bases, params, residual_modula = pyroq.bases_searching_results_unnormalized(npts, nparams, nbases, known_bases_start, basis_waveforms_start, params_start, residual_modula_start, params_low, params_high, distance, deltaF, f_min, f_max, waveFlags, approximant)\n",
    "print(known_bases.shape, residual_modula)\n"
   ]
  },
  {
   "cell_type": "code",
   "execution_count": 7,
   "metadata": {},
   "outputs": [
    {
     "name": "stdout",
     "output_type": "stream",
     "text": [
      "40 basis elements gave 81 bad points of surrogate error >  1e-08\n",
      "50 basis elements gave 2 bad points of surrogate error >  1e-08\n",
      "60 basis elements gave 0 bad points of surrogate error >  1e-08\n",
      "Number of linear basis elements is  60 and the linear ROQ data are saved in B_linear.npy\n"
     ]
    }
   ],
   "source": [
    "pyroq.roqs(tolerance, freq, ndimlow, ndimhigh, ndimstepsize, known_bases, nts, nparams, params_low, params_high, distance, deltaF, f_min, f_max, waveFlags, approximant)\n"
   ]
  },
  {
   "cell_type": "code",
   "execution_count": 8,
   "metadata": {},
   "outputs": [
    {
     "name": "stdout",
     "output_type": "stream",
     "text": [
      "[[ 1.00000000e+00-9.52127266e-13j  2.61479727e-12-6.82121026e-13j\n",
      "   4.32009983e-12+9.09494702e-13j ...  2.18278728e-11-1.16415322e-10j\n",
      "  -6.18456397e-11-4.36557457e-11j  1.45519152e-11-8.73114914e-11j]\n",
      " [ 5.68434189e-13+5.00932629e-13j  1.00000000e+00+1.59161573e-12j\n",
      "  -2.55795385e-12+1.70530257e-12j ... -2.91038305e-11+2.18278728e-11j\n",
      "  -7.27595761e-12-2.36468622e-11j -2.91038305e-11-5.09317033e-11j]\n",
      " [ 7.29176472e-02-8.31773798e-03j  3.72468220e-02+4.45713310e-01j\n",
      "   1.12951050e-01-8.36206861e-01j ... -3.30848361e-01-4.05990306e-01j\n",
      "   9.60086915e-02+3.94268034e-01j -1.70172032e-02-2.67504000e-01j]\n",
      " ...\n",
      " [ 0.00000000e+00+0.00000000e+00j  0.00000000e+00+0.00000000e+00j\n",
      "   0.00000000e+00+0.00000000e+00j ...  0.00000000e+00+0.00000000e+00j\n",
      "   0.00000000e+00+0.00000000e+00j  0.00000000e+00+0.00000000e+00j]\n",
      " [ 0.00000000e+00+0.00000000e+00j  0.00000000e+00+0.00000000e+00j\n",
      "   0.00000000e+00+0.00000000e+00j ...  0.00000000e+00+0.00000000e+00j\n",
      "   0.00000000e+00+0.00000000e+00j  0.00000000e+00+0.00000000e+00j]\n",
      " [ 0.00000000e+00+0.00000000e+00j  0.00000000e+00+0.00000000e+00j\n",
      "   0.00000000e+00+0.00000000e+00j ...  0.00000000e+00+0.00000000e+00j\n",
      "   0.00000000e+00+0.00000000e+00j  0.00000000e+00+0.00000000e+00j]]\n",
      "emp_nodes [   0    1    3    6    9   13   16   21   26   32   44   53   67   88\n",
      "  108  123  131  140  151  162  177  190  203  208  214  223  229  241\n",
      "  306  445  572  667  743  760  774  791  806  827  854  870  885  902\n",
      "  914  932  961  994 1036 1055 1078 1121 1159 1184 1211 1271 1296 1353\n",
      " 1442 1521 1620 1812]\n"
     ]
    }
   ],
   "source": [
    "fnodes_linear = numpy.load('./fnodes_linear.npy')\n",
    "b_linear = numpy.transpose(numpy.load('./B_linear.npy'))\n",
    "ndim = b_linear.shape[1]\n",
    "freq = numpy.arange(f_min, f_max, deltaF)\n",
    "emp_nodes = numpy.searchsorted(freq, fnodes_linear)\n",
    "print(b_linear)\n",
    "print(\"emp_nodes\", emp_nodes)"
   ]
  },
  {
   "cell_type": "code",
   "execution_count": 9,
   "metadata": {},
   "outputs": [
    {
     "data": {
      "image/png": "[encoded data removed]",
      "text/plain": [
       "<Figure size 432x288 with 1 Axes>"
      ]
     },
     "metadata": {
      "needs_background": "light"
     },
     "output_type": "display_data"
    }
   ],
   "source": [
    "test_mc = 20\n",
    "test_q = 4\n",
    "test_s1 = [0.,0.2,-0.]\n",
    "test_s2 = [0.,0.15,-0.1]\n",
    "test_ecc = 0\n",
    "test_lambda1 = 0\n",
    "test_lambda2 = 0\n",
    "test_iota = 1.9\n",
    "test_phiref = 0.6\n",
    "\n",
    "pyroq.testrep(b_linear, emp_nodes, test_mc, test_q, test_s1, test_s2, test_ecc, test_lambda1, test_lambda2, test_iota, test_phiref, distance, deltaF, f_min, f_max, waveFlags, approximant)\n"
   ]
  },
  {
   "cell_type": "code",
   "execution_count": 10,
   "metadata": {},
   "outputs": [],
   "source": [
    "nsamples = 1000 # testing nsamples random samples in parameter space to see their representation surrogate errors\n",
    "surros = pyroq.surros_of_test_samples(nsamples, nparams, params_low, params_high, tolerance, b_linear, emp_nodes, distance, deltaF, f_min, f_max, waveFlags, approximant)\n",
    "# If a surrogate error is larger than tolerance, it will be reported on the screen."
   ]
  },
  {
   "cell_type": "code",
   "execution_count": 11,
   "metadata": {},
   "outputs": [
    {
     "data": {
      "image/png": "[encoded data removed]",
      "text/plain": [
       "<Figure size 432x288 with 1 Axes>"
      ]
     },
     "metadata": {
      "needs_background": "light"
     },
     "output_type": "display_data"
    }
   ],
   "source": [
    "plt.semilogy(surros,'o',color='black')\n",
    "plt.xlabel(\"Number of Random Test Points\")\n",
    "plt.ylabel(\"Surrogate Error\")\n",
    "plt.title(\"IMRPhenomPv2\")\n",
    "plt.savefig(\"SurrogateErrorsRandomTestPoints.png\")\n",
    "plt.show()"
   ]
  },
  {
   "cell_type": "markdown",
   "metadata": {},
   "source": [
    "# Search for quadratic basis elements to build & save quadratic ROQ data."
   ]
  },
  {
   "cell_type": "code",
   "execution_count": 12,
   "metadata": {},
   "outputs": [
    {
     "name": "stdout",
     "output_type": "stream",
     "text": [
      "Quadratic Iter:  0\n",
      "Quadratic Iter:  1\n",
      "Quadratic Iter:  2\n",
      "Quadratic Iter:  3\n",
      "Quadratic Iter:  4\n",
      "Quadratic Iter:  5\n",
      "Quadratic Iter:  6\n",
      "Quadratic Iter:  7\n",
      "Quadratic Iter:  8\n",
      "Quadratic Iter:  9\n",
      "Quadratic Iter:  10\n",
      "Quadratic Iter:  11\n",
      "Quadratic Iter:  12\n",
      "Quadratic Iter:  13\n",
      "Quadratic Iter:  14\n",
      "Quadratic Iter:  15\n",
      "Quadratic Iter:  16\n",
      "Quadratic Iter:  17\n",
      "Quadratic Iter:  18\n",
      "Quadratic Iter:  19\n",
      "Quadratic Iter:  20\n",
      "Quadratic Iter:  21\n",
      "Quadratic Iter:  22\n",
      "Quadratic Iter:  23\n",
      "Quadratic Iter:  24\n",
      "Quadratic Iter:  25\n",
      "Quadratic Iter:  26\n",
      "Quadratic Iter:  27\n",
      "Quadratic Iter:  28\n",
      "Quadratic Iter:  29\n",
      "Quadratic Iter:  30\n",
      "Quadratic Iter:  31\n",
      "Quadratic Iter:  32\n",
      "Quadratic Iter:  33\n",
      "Quadratic Iter:  34\n",
      "Quadratic Iter:  35\n",
      "Quadratic Iter:  36\n",
      "Quadratic Iter:  37\n",
      "Quadratic Iter:  38\n",
      "Quadratic Iter:  39\n",
      "Quadratic Iter:  40\n",
      "Quadratic Iter:  41\n",
      "Quadratic Iter:  42\n",
      "Quadratic Iter:  43\n",
      "Quadratic Iter:  44\n",
      "Quadratic Iter:  45\n",
      "Quadratic Iter:  46\n",
      "Quadratic Iter:  47\n",
      "Quadratic Iter:  48\n",
      "Quadratic Iter:  49\n",
      "Quadratic Iter:  50\n",
      "Quadratic Iter:  51\n",
      "Quadratic Iter:  52\n",
      "Quadratic Iter:  53\n",
      "Quadratic Iter:  54\n",
      "Quadratic Iter:  55\n",
      "Quadratic Iter:  56\n",
      "Quadratic Iter:  57\n",
      "Quadratic Iter:  58\n"
     ]
    }
   ],
   "source": [
    "hp1_quad = (numpy.absolute(hp1))**2\n",
    "known_quad_bases_start = numpy.array([hp1_quad/numpy.sqrt(numpy.vdot(hp1_quad,hp1_quad))])\n",
    "basis_waveforms_quad_start = numpy.array([hp1_quad])\n",
    "residual_modula_start = numpy.array([0.0])\n",
    "known_quad_bases,params_quad,residual_modula_quad = pyroq.bases_searching_quadratic_results_unnormalized(npts, nparams, nbases_quad, known_quad_bases_start, basis_waveforms_quad_start, params_start, residual_modula_start, params_low, params_high, distance, deltaF, f_min, f_max, waveFlags, approximant)\n",
    "known_quad_bases_copy = known_quad_bases\n"
   ]
  },
  {
   "cell_type": "code",
   "execution_count": 13,
   "metadata": {},
   "outputs": [],
   "source": [
    "points = numpy.random.uniform(params_low, params_high, size=(npts,nparams))\n"
   ]
  },
  {
   "cell_type": "code",
   "execution_count": 14,
   "metadata": {},
   "outputs": [
    {
     "name": "stdout",
     "output_type": "stream",
     "text": [
      "20 basis elements gave 858 bad points of surrogate error >  1e-10\n",
      "30 basis elements gave 8 bad points of surrogate error >  1e-10\n",
      "40 basis elements gave 5 bad points of surrogate error >  1e-10\n",
      "50 basis elements gave 3 bad points of surrogate error >  1e-10\n",
      "60 basis elements gave 0 bad points of surrogate error >  1e-10\n",
      "Number of quadratic basis elements is  60 and the linear ROQ data save in B_quadratic.npy\n"
     ]
    }
   ],
   "source": [
    "pyroq.roqs_quad(tolerance_quad, freq, ndimlow_quad, ndimhigh_quad, ndimstepsize_quad, known_quad_bases, nts, nparams, params_low, params_high, distance, deltaF, f_min, f_max, waveFlags, approximant)\n"
   ]
  },
  {
   "cell_type": "code",
   "execution_count": 15,
   "metadata": {},
   "outputs": [],
   "source": [
    "fnodes_quad = numpy.load('./fnodes_quadratic.npy')\n",
    "b_quad = numpy.transpose(numpy.load('./B_quadratic.npy'))\n",
    "ndim_quad = b_quad.shape[1]\n",
    "freq = numpy.arange(f_min, f_max, deltaF)\n",
    "emp_nodes_quad = numpy.searchsorted(freq, fnodes_quad)\n"
   ]
  },
  {
   "cell_type": "code",
   "execution_count": 16,
   "metadata": {},
   "outputs": [
    {
     "data": {
      "image/png": "[encoded data removed]",
      "text/plain": [
       "<Figure size 432x288 with 1 Axes>"
      ]
     },
     "metadata": {
      "needs_background": "light"
     },
     "output_type": "display_data"
    }
   ],
   "source": [
    "test_mc_quad =20\n",
    "test_q_quad = 1\n",
    "test_s1_quad = [0.0, 0.0, 0.0]\n",
    "test_s2_quad = [0.0, 0.0, 0.0]\n",
    "test_ecc_quad = 0\n",
    "test_lambda1_quad = 0\n",
    "test_lambda2_quad = 0\n",
    "test_iota_quad = 1.9\n",
    "test_phiref_quad = 0.6\n",
    "\n",
    "pyroq.testrep_quad(b_quad, emp_nodes_quad, test_mc_quad, test_q_quad, test_s1_quad, test_s2_quad, test_ecc_quad, test_lambda1_quad, test_lambda2_quad, test_iota_quad, test_phiref_quad, distance, deltaF, f_min, f_max, waveFlags, approximant)\n"
   ]
  },
  {
   "cell_type": "code",
   "execution_count": null,
   "metadata": {},
   "outputs": [],
   "source": []
  },
  {
   "cell_type": "code",
   "execution_count": null,
   "metadata": {},
   "outputs": [],
   "source": []
  }
 ],
 "metadata": {
  "kernelspec": {
   "display_name": "ligo-py36",
   "language": "python",
   "name": "ligo-py36"
  },
  "language_info": {
   "codemirror_mode": {
    "name": "ipython",
    "version": 3
   },
   "file_extension": ".py",
   "mimetype": "text/x-python",
   "name": "python",
   "nbconvert_exporter": "python",
   "pygments_lexer": "ipython3",
   "version": "3.6.7"
  }
 },
 "nbformat": 4,
 "nbformat_minor": 4
}
