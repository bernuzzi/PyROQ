{
 "cells": [
  {
   "cell_type": "code",
   "execution_count": 18,
   "metadata": {},
   "outputs": [
    {
     "name": "stdout",
     "output_type": "stream",
     "text": [
      "Collecting PyROQ==0.1.25\n",
      "  Downloading https://files.pythonhosted.org/packages/43/62/95ca4b782154bda1e963890e0891347d7e6f200dc4e073657824ee9a70c4/PyROQ-0.1.25-py3-none-any.whl\n",
      "Installing collected packages: PyROQ\n",
      "  Found existing installation: PyROQ 0.1.24\n",
      "    Uninstalling PyROQ-0.1.24:\n",
      "      Successfully uninstalled PyROQ-0.1.24\n",
      "Successfully installed PyROQ-0.1.25\n"
     ]
    }
   ],
   "source": [
    "!pip install --user PyROQ==0.1.25"
   ]
  },
  {
   "cell_type": "code",
   "execution_count": 1,
   "metadata": {},
   "outputs": [],
   "source": [
    "import numpy\n",
    "import numpy as np\n",
    "import scipy\n",
    "%matplotlib inline\n",
    "import matplotlib\n",
    "import matplotlib.pyplot as plt\n",
    "import lal\n",
    "import lalsimulation\n",
    "from lal.lal import PC_SI as LAL_PC_SI\n",
    "import h5py\n",
    "import warnings\n",
    "import random\n",
    "warnings.filterwarnings('ignore')\n",
    "import matplotlib.pylab as pylab\n",
    "plot_params = {'legend.fontsize': 'x-large',\n",
    "          'figure.figsize': (15, 9),\n",
    "         'axes.labelsize': 'x-large',\n",
    "         'axes.titlesize':'x-large',\n",
    "         'xtick.labelsize':'x-large',\n",
    "         'ytick.labelsize':'x-large'}\n",
    "pylab.rcParams.update(plot_params)\n",
    "from mpl_toolkits.mplot3d import axes3d\n",
    "import PyROQ.pyroq as pyroq\n",
    "#import pyroq as pyroq"
   ]
  },
  {
   "cell_type": "markdown",
   "metadata": {},
   "source": [
    "# Setting up boundary conditions and tolerance requirements."
   ]
  },
  {
   "cell_type": "code",
   "execution_count": 2,
   "metadata": {},
   "outputs": [
    {
     "name": "stdout",
     "output_type": "stream",
     "text": [
      "mass-min, mass-max:  [16.437518295172257, 49.31255488551677]\n"
     ]
    }
   ],
   "source": [
    "mc_low = 20\n",
    "mc_high = 30\n",
    "q_low = 1\n",
    "q_high = 2\n",
    "s1sphere_low = [0, 0, 0]\n",
    "s1sphere_high = [0.2, numpy.pi, 2.0*numpy.pi]\n",
    "s2sphere_low = [0, 0, 0]\n",
    "s2sphere_high = [0.2, numpy.pi, 2.0*numpy.pi]\n",
    "ecc_low = 0.0\n",
    "ecc_high = 0.2\n",
    "lambda1_low = 0\n",
    "lambda1_high = 1000\n",
    "lambda2_low = 0\n",
    "lambda2_high = 1000\n",
    "iota_low = 0\n",
    "iota_high = numpy.pi\n",
    "phiref_low = 0\n",
    "phiref_high = 2*numpy.pi\n",
    "f_min = 20\n",
    "f_max = 1024\n",
    "deltaF = 1/4.\n",
    "distance = 10 * LAL_PC_SI * 1.0e6  # 10 Mpc is default \n",
    "waveFlags = lal.CreateDict()\n",
    "\n",
    "approximant = lalsimulation.IMRPhenomPv2\n",
    "print(\"mass-min, mass-max: \", pyroq.massrange(mc_low, mc_high, q_low, q_high))\n",
    "\n",
    "npts = 100 # Specify the number of points for each search for a new basis element\n",
    "          # For diagnostic testing, 30 -100 is fine. \n",
    "          # For real ROQs computation, this can be 300 to 1000, roughly comparable to the number of basis elments.\n",
    "          # What value to choose depends on the nature of the waveform, such as how many features it has. \n",
    "          # It also depends on the parameter space and the signal length. \n",
    "nts = 1000 # Number of random test waveforms\n",
    "          # For diagnostics, 1000 is fine.\n",
    "          # For real ROQs calculation, set it to be 1000000.\n",
    "\n",
    "nbases = 100 # Specify the number of linear basis elements. Put your estimation here for the chunk of parameter space.\n",
    "ndimlow = 40 # Your estimation of fewest basis elements needed for this chunk of parameter space.\n",
    "ndimhigh = nbases+1 \n",
    "ndimstepsize = 10 # Number of linear basis elements increament to check if the basis satisfies the tolerance.\n",
    "tolerance = 1e-8 # Surrogage error threshold for linear basis elements\n",
    "\n",
    "nbases_quad = 60 # Specify the number of quadratic basis elements, depending on the tolerance_quad, usually two thirds of that for linear basis\n",
    "ndimlow_quad = 20\n",
    "ndimhigh_quad = nbases_quad+1\n",
    "ndimstepsize_quad = 10\n",
    "tolerance_quad = 1e-10 # Surrogage error threshold for quadratic basis elements"
   ]
  },
  {
   "cell_type": "code",
   "execution_count": 3,
   "metadata": {},
   "outputs": [],
   "source": [
    "freq = numpy.arange(f_min,f_max,deltaF)\n",
    "nparams, params_low, params_high, params_start, hp1 = pyroq.initial_basis(mc_low, mc_high, q_low, q_high, s1sphere_low, s1sphere_high, \\\n",
    "                  s2sphere_low, s2sphere_high, ecc_low, ecc_high, lambda1_low, lambda1_high,\\\n",
    "                 lambda2_low, lambda2_high, iota_low, iota_high, phiref_low, phiref_high, distance, deltaF, f_min, f_max, waveFlags, approximant)\n"
   ]
  },
  {
   "cell_type": "code",
   "execution_count": 4,
   "metadata": {},
   "outputs": [
    {
     "name": "stdout",
     "output_type": "stream",
     "text": [
      "[24.02248868  6.00562217]\n"
     ]
    }
   ],
   "source": [
    "mmin=pyroq.get_m1m2_from_mcq(10,4)\n",
    "print(mmin)"
   ]
  },
  {
   "cell_type": "code",
   "execution_count": 5,
   "metadata": {},
   "outputs": [
    {
     "name": "stdout",
     "output_type": "stream",
     "text": [
      "10\n",
      "4016\n"
     ]
    }
   ],
   "source": [
    "print(nparams)\n",
    "print(len(freq))"
   ]
  },
  {
   "cell_type": "markdown",
   "metadata": {},
   "source": [
    "# Search for linear basis elements to build and save linear ROQ data in the local directory."
   ]
  },
  {
   "cell_type": "code",
   "execution_count": 6,
   "metadata": {},
   "outputs": [
    {
     "name": "stdout",
     "output_type": "stream",
     "text": [
      "The parameters are Mc, q, s1(mag, theta, phi), s2(mag, theta, phi), iota, and phiRef\n",
      "\n",
      "Linear Iter:  0 [2.9160514e+01 1.1201620e+00 3.6590000e-02 3.7501200e-01 7.7774200e-01\n",
      " 1.9286000e-01 2.2214360e+00 5.8542200e+00 1.4840000e-02 2.9872610e+00]\n",
      "Linear Iter:  1 [28.158356  1.892391  0.168593  2.099998  2.98323   0.058009  1.097216\n",
      "  4.923935  2.859613  2.38755 ]\n",
      "Linear Iter:  2 [20.116899  1.743618  0.070692  0.579802  2.489543  0.063308  1.902808\n",
      "  2.011588  3.052893  2.333674]\n",
      "Linear Iter:  3 [2.7925118e+01 1.0091980e+00 2.5518000e-02 1.1042480e+00 7.7885000e-01\n",
      " 1.5834300e-01 1.1908630e+00 5.1052150e+00 3.0675330e+00 1.4240270e+00]\n",
      "Linear Iter:  4 [28.106905  1.16684   0.047885  0.967842  0.0388    0.169504  1.098119\n",
      "  2.150809  2.691675  6.032498]\n",
      "Linear Iter:  5 [25.341802  1.856885  0.054191  0.97375   5.201505  0.129822  1.847502\n",
      "  5.499063  3.086929  3.318931]\n",
      "Linear Iter:  6 [26.293059  1.012835  0.09784   0.658611  0.050196  0.127395  0.931097\n",
      "  2.099377  0.135     0.582112]\n",
      "Linear Iter:  7 [2.4944385e+01 1.4240390e+00 1.8953500e-01 9.1267500e-01 6.1044430e+00\n",
      " 2.1910000e-03 1.4272060e+00 6.2830370e+00 3.5590200e-01 2.9145400e+00]\n",
      "Linear Iter:  8 [24.983637  1.422229  0.052259  0.520274  4.713852  0.160348  0.58356\n",
      "  3.753771  2.638401  2.605784]\n",
      "Linear Iter:  9 [23.64091   1.27358   0.137384  0.225873  3.564805  0.145921  1.506307\n",
      "  4.11811   3.118867  5.292914]\n",
      "Linear Iter:  10 [23.127539  1.50468   0.103919  0.204437  1.195878  0.071276  0.133354\n",
      "  2.529501  0.295395  3.747631]\n",
      "Linear Iter:  11 [2.194985e+01 1.632068e+00 3.953600e-02 3.095670e-01 4.834544e+00\n",
      " 2.043700e-02 2.203272e+00 3.439083e+00 3.012434e+00 3.780609e+00]\n",
      "Linear Iter:  12 [21.994452  1.286079  0.045369  0.161423  3.888239  0.188606  1.947333\n",
      "  0.923063  3.085417  3.635289]\n",
      "Linear Iter:  13 [29.494225  1.969436  0.161259  2.032706  3.958519  0.09336   2.657617\n",
      "  2.678513  3.036656  2.776101]\n",
      "Linear Iter:  14 [29.211698  1.971735  0.088593  3.043287  4.487719  0.136237  2.827501\n",
      "  4.771901  0.08586   2.87741 ]\n",
      "Linear Iter:  15 [21.134515  1.050142  0.172773  1.555851  2.650705  0.108814  0.653491\n",
      "  0.340821  3.102681  5.804001]\n",
      "Linear Iter:  16 [20.56395   1.312345  0.195859  2.743909  3.765017  0.122632  0.19987\n",
      "  3.89107   3.102472  3.031399]\n",
      "Linear Iter:  17 [2.0353272e+01 1.9745700e+00 1.1784200e-01 2.5301200e-01 2.5459940e+00\n",
      " 1.4438000e-02 2.9970990e+00 4.5614980e+00 8.0110000e-03 3.4357440e+00]\n",
      "Linear Iter:  18 [23.987794  1.421328  0.036558  0.146413  1.008029  0.033503  1.054777\n",
      "  0.279387  0.263635  5.984549]\n",
      "Linear Iter:  19 [20.234136  1.327275  0.135647  1.164589  1.289509  0.192911  0.978838\n",
      "  1.767154  0.190879  1.94077 ]\n",
      "Linear Iter:  20 [2.3295326e+01 1.5306830e+00 1.4755700e-01 2.0016690e+00 2.5644000e+00\n",
      " 3.6620000e-03 1.8844410e+00 1.1442200e+00 3.9633400e-01 5.7775090e+00]\n",
      "Linear Iter:  21 [2.9044951e+01 1.8899450e+00 1.7772700e-01 9.4679100e-01 4.6028340e+00\n",
      " 1.0138500e-01 1.2447000e-02 5.7402640e+00 5.1980800e-01 1.9072190e+00]\n",
      "Linear Iter:  22 [28.942398  1.74914   0.172361  2.266403  3.839771  0.166625  1.063196\n",
      "  4.814057  0.875115  0.594191]\n",
      "Linear Iter:  23 [2.147554e+01 1.031534e+00 8.508000e-03 6.352190e-01 5.348433e+00\n",
      " 9.687500e-02 9.637420e-01 5.778954e+00 2.932296e+00 2.981104e+00]\n",
      "Linear Iter:  24 [21.405787  1.244743  0.113625  2.491603  4.041952  0.039065  0.577618\n",
      "  4.581301  2.885164  0.306869]\n",
      "Linear Iter:  25 [20.009283  1.011548  0.147586  0.498967  0.152108  0.193159  0.081109\n",
      "  4.325803  2.583177  1.42909 ]\n",
      "Linear Iter:  26 [20.063431  1.282552  0.178158  0.20869   6.01453   0.078619  1.234936\n",
      "  2.748307  0.593591  0.405581]\n",
      "Linear Iter:  27 [29.765821  1.287957  0.186832  2.503524  3.335145  0.097135  1.937177\n",
      "  4.725612  0.07991   4.967487]\n",
      "Linear Iter:  28 [22.883096  1.55085   0.190322  2.909968  0.56143   0.153624  2.841902\n",
      "  5.306204  0.282673  4.24478 ]\n",
      "Linear Iter:  29 [2.6937048e+01 1.4006960e+00 2.6911000e-02 3.9528600e-01 2.5551870e+00\n",
      " 1.2050900e-01 1.5349280e+00 5.1515790e+00 3.0474340e+00 1.8208430e+00]\n",
      "Linear Iter:  30 [29.854434  1.723787  0.045165  2.59387   0.967468  0.125476  2.963299\n",
      "  0.085495  3.024235  0.317474]\n",
      "Linear Iter:  31 [22.23153   1.24654   0.119106  0.083431  4.392731  0.176868  0.227784\n",
      "  4.260605  2.802225  2.071242]\n",
      "Linear Iter:  32 [2.6042048e+01 1.5986060e+00 2.2220000e-02 9.9193900e-01 3.9182390e+00\n",
      " 5.3344000e-02 2.3239370e+00 5.2832570e+00 9.7515000e-02 1.3934790e+00]\n",
      "Linear Iter:  33 [29.616376  1.945996  0.104897  2.295277  4.904851  0.150316  2.125192\n",
      "  6.12567   2.143059  1.006803]\n",
      "Linear Iter:  34 [2.9410861e+01 1.7288330e+00 1.0953600e-01 7.2069500e-01 3.7789140e+00\n",
      " 4.7670000e-03 1.1005500e+00 2.0656700e+00 2.5996900e-01 2.4990230e+00]\n",
      "Linear Iter:  35 [20.811908  1.197821  0.0686    1.662538  0.554149  0.148787  2.896619\n",
      "  5.778431  0.393913  4.008627]\n",
      "Linear Iter:  36 [2.4391551e+01 1.7971830e+00 1.6399000e-02 1.5984570e+00 1.1442100e+00\n",
      " 1.1431100e-01 1.2342210e+00 5.9295970e+00 8.8368000e-02 3.7820660e+00]\n",
      "Linear Iter:  37 [29.955092  1.833302  0.048916  0.964353  1.378695  0.181186  2.501214\n",
      "  5.132291  0.053798  0.593098]\n",
      "Linear Iter:  38 [20.037391  1.632859  0.135221  0.299369  5.838995  0.045609  1.184161\n",
      "  0.743384  2.758113  0.226531]\n",
      "Linear Iter:  39 [26.610426  1.429976  0.18689   2.487671  6.081451  0.170189  2.711369\n",
      "  5.153889  0.07873   2.649559]\n",
      "Linear Iter:  40 [20.710915  1.731361  0.177377  2.980895  4.863693  0.168599  0.159619\n",
      "  4.234584  0.059541  3.551293]\n",
      "Linear Iter:  41 [2.9281746e+01 1.0159460e+00 1.7962000e-02 5.5806400e-01 1.0477000e-02\n",
      " 1.0396300e-01 1.5804900e-01 6.2810600e+00 3.0134410e+00 2.4176000e+00]\n",
      "Linear Iter:  42 [20.295411  1.010833  0.115502  0.252852  2.357868  0.144406  1.154328\n",
      "  3.065019  3.084327  3.057712]\n",
      "Linear Iter:  43 [29.949765  1.9931    0.152892  2.360028  1.300481  0.114518  0.03495\n",
      "  4.934715  0.837573  2.273777]\n",
      "Linear Iter:  44 [29.104287  1.251036  0.129486  0.285003  6.162491  0.181963  0.706976\n",
      "  3.869961  3.054501  5.777437]\n",
      "Linear Iter:  45 [2.0004238e+01 1.1375910e+00 1.4619000e-02 1.2457640e+00 5.0156610e+00\n",
      " 1.2945800e-01 6.1939300e-01 4.1686600e+00 2.4761290e+00 9.9322700e-01]\n",
      "Linear Iter:  46 [20.336669  1.42087   0.034215  0.473069  4.2615    0.132205  0.985827\n",
      "  0.792949  0.322395  1.469217]\n",
      "Linear Iter:  47 [2.2956286e+01 1.0780470e+00 1.7322300e-01 1.9635000e-02 1.3488820e+00\n",
      " 8.8730000e-02 1.1272100e-01 1.1218970e+00 1.4049100e-01 3.6676010e+00]\n",
      "Linear Iter:  48 [26.04653   1.91493   0.111705  2.230169  0.860381  0.085576  2.384591\n",
      "  1.012125  0.874773  1.204053]\n",
      "Linear Iter:  49 [29.010518  1.219931  0.162961  3.044506  3.742709  0.159885  2.355291\n",
      "  1.570994  0.323353  5.490613]\n",
      "Linear Iter:  50 [29.282856  1.996924  0.170615  2.909675  3.101675  0.16928   2.649067\n",
      "  5.768213  0.172156  1.278632]\n",
      "Linear Iter:  51 [20.042902  1.055888  0.113159  0.770177  2.833277  0.029722  1.196835\n",
      "  5.487951  0.08446   1.556587]\n",
      "Linear Iter:  52 [29.94394   1.917816  0.181033  0.750932  5.50629   0.071261  2.633237\n",
      "  2.768772  2.95403   6.108636]\n",
      "Linear Iter:  53 [24.106831  1.937227  0.09955   1.107105  2.056968  0.152451  0.486807\n",
      "  2.507471  0.606453  5.427689]\n",
      "Linear Iter:  54 [28.867994  1.731208  0.199401  1.380665  0.108399  0.183168  0.606333\n",
      "  0.598589  0.123911  0.987601]\n",
      "Linear Iter:  55 [2.6878241e+01 1.4408160e+00 1.9437700e-01 5.7643600e-01 2.6278340e+00\n",
      " 1.2171000e-02 3.1169400e-01 5.0720970e+00 9.3976000e-02 6.6214700e-01]\n",
      "Linear Iter:  56 [27.452932  1.021315  0.048703  2.703934  2.139094  0.177495  2.283035\n",
      "  3.705876  2.989825  2.232481]\n",
      "Linear Iter:  57 [29.729534  1.143268  0.180293  1.668501  1.713774  0.068805  2.357707\n",
      "  5.179867  2.80377   5.347459]\n",
      "Linear Iter:  58 [2.2635416e+01 1.4226710e+00 2.1090000e-02 2.8864870e+00 3.1768900e+00\n",
      " 1.5685100e-01 2.7659290e+00 3.6010300e+00 1.3194000e-01 4.4816500e+00]\n",
      "Linear Iter:  59 [20.90302   1.10333   0.160401  0.055957  1.785155  0.15539   0.894032\n",
      "  4.798344  0.622516  1.281064]\n",
      "Linear Iter:  60 [22.175423  1.3488    0.197871  3.101471  6.158863  0.137688  2.390272\n",
      "  5.318054  3.05796   5.929144]\n",
      "Linear Iter:  61 [26.323197  1.274714  0.109379  1.56922   6.125022  0.082284  0.712869\n",
      "  1.911965  0.208223  2.138512]\n",
      "Linear Iter:  62 [24.439026  1.007797  0.137334  0.835992  3.441126  0.109357  0.806647\n",
      "  4.473981  0.50538   2.704506]\n",
      "Linear Iter:  63 [26.527646  1.808194  0.16478   2.260872  4.552052  0.170125  0.102022\n",
      "  6.181847  0.624533  2.73079 ]\n",
      "Linear Iter:  64 [22.667732  1.554708  0.128925  0.817479  5.062312  0.194449  0.148958\n",
      "  2.055211  2.989223  0.860805]\n",
      "Linear Iter:  65 [20.740999  1.720708  0.131825  0.948095  2.744181  0.131781  1.532667\n",
      "  3.536194  3.00572   1.982528]\n",
      "Linear Iter:  66 [20.495369  1.394547  0.172421  0.357747  0.470158  0.176039  0.53233\n",
      "  5.428228  2.67317   1.521899]\n",
      "Linear Iter:  67 [29.294233  1.253645  0.181437  2.058083  0.969339  0.124876  2.752602\n",
      "  0.097991  2.244041  4.668771]\n",
      "Linear Iter:  68 [22.685501  1.957051  0.158652  0.531403  6.205478  0.172995  0.343612\n",
      "  3.187929  0.21512   6.106006]\n",
      "Linear Iter:  69 [25.259078  1.489835  0.156204  2.281816  1.035224  0.04248   1.893361\n",
      "  1.355451  0.201714  1.520889]\n",
      "Linear Iter:  70 [24.140586  1.929468  0.172352  3.041657  5.661002  0.062256  2.734704\n",
      "  3.310519  2.841211  2.184191]\n",
      "Linear Iter:  71 [2.8122321e+01 1.9963090e+00 2.6530000e-03 1.4481950e+00 2.6429250e+00\n",
      " 8.4833000e-02 4.4445500e-01 4.6342880e+00 2.8502350e+00 2.0411420e+00]\n",
      "Linear Iter:  72 [28.038918  1.990895  0.173171  2.597936  3.359614  0.078914  2.787711\n",
      "  5.164463  2.659703  5.382078]\n",
      "Linear Iter:  73 [27.390314  1.336948  0.126319  0.594082  5.284822  0.157591  0.164519\n",
      "  6.04007   3.012696  5.977803]\n",
      "Linear Iter:  74 [23.168798  1.867982  0.09987   1.700973  1.815803  0.108679  1.476281\n",
      "  2.045627  0.111236  2.929279]\n",
      "Linear Iter:  75 [21.731315  1.955383  0.195445  0.056221  2.159413  0.102889  0.936271\n",
      "  2.123715  0.60635   1.700938]\n",
      "Linear Iter:  76 [26.83873   1.014183  0.139216  0.432955  6.064479  0.084215  2.862702\n",
      "  4.573754  0.096679  4.34821 ]\n",
      "Linear Iter:  77 [21.329489  1.983857  0.0391    0.539081  2.445516  0.104595  2.657633\n",
      "  4.841349  2.664255  3.986004]\n",
      "Linear Iter:  78 [2.3350308e+01 1.7160540e+00 1.8005500e-01 2.8367500e+00 2.2677710e+00\n",
      " 2.2130000e-02 1.5124330e+00 5.4284270e+00 2.9394720e+00 3.6442980e+00]\n",
      "Linear Iter:  79 [2.8908656e+01 1.9200800e+00 1.6346200e-01 2.5221970e+00 1.5891780e+00\n",
      " 1.5671900e-01 1.0848000e+00 5.2532020e+00 1.0572000e-02 2.8733580e+00]\n",
      "Linear Iter:  80 [2.1973069e+01 1.2120530e+00 2.3296000e-02 2.9531980e+00 5.5840500e-01\n",
      " 1.5270000e-03 1.3579560e+00 2.8212710e+00 3.0988490e+00 2.3680120e+00]\n",
      "Linear Iter:  81 [20.108494  1.055552  0.173893  2.839547  4.165692  0.164054  2.703945\n",
      "  6.101705  2.250304  2.206584]\n",
      "Linear Iter:  82 [20.079254  1.718356  0.199739  0.155869  1.974144  0.1891    0.997245\n",
      "  5.166594  0.263677  3.781764]\n",
      "Linear Iter:  83 [2.302397e+01 1.938106e+00 1.059690e-01 1.718067e+00 6.142989e+00\n",
      " 4.044000e-02 7.827500e-02 3.473077e+00 1.977900e-02 4.267573e+00]\n",
      "Linear Iter:  84 [2.3684225e+01 1.8783950e+00 1.9877300e-01 2.2853000e-02 6.0183910e+00\n",
      " 1.9864100e-01 1.0637400e+00 3.8661790e+00 6.9601900e-01 4.8775010e+00]\n",
      "Linear Iter:  85 [26.829818  1.988172  0.040494  0.620036  3.262303  0.031568  0.785312\n",
      "  3.944229  2.989151  2.936881]\n",
      "Linear Iter:  86 [29.865597  1.932821  0.065876  1.379799  0.988826  0.067677  0.207736\n",
      "  4.464108  3.062919  2.543159]\n",
      "Linear Iter:  87 [26.324638  1.936718  0.118931  2.631695  2.32632   0.05026   1.673024\n",
      "  6.170374  2.971954  0.899448]\n",
      "Linear Iter:  88 [29.88247   1.503268  0.144815  0.082973  3.793842  0.178255  1.023905\n",
      "  2.995156  0.329185  4.016648]\n",
      "Linear Iter:  89 [2.9792766e+01 1.5834000e+00 1.9256700e-01 2.3248220e+00 1.1387050e+00\n",
      " 9.4090000e-03 2.5606400e-01 1.5450420e+00 1.2859440e+00 5.2180720e+00]\n",
      "Linear Iter:  90 [24.715109  1.071013  0.104976  0.547183  3.873443  0.144841  2.172764\n",
      "  2.03008   2.907913  5.331116]\n",
      "Linear Iter:  91 [25.50077   1.808797  0.160644  1.097047  1.101774  0.083433  0.632203\n",
      "  3.172272  2.959368  0.621985]\n",
      "Linear Iter:  92 [2.2478849e+01 1.1456990e+00 1.2144000e-02 1.4981650e+00 4.4227240e+00\n",
      " 1.9484000e-01 2.1440390e+00 5.2561730e+00 2.8466050e+00 2.8848890e+00]\n",
      "Linear Iter:  93 [20.046422  1.40211   0.034023  0.449999  3.367519  0.053225  1.303057\n",
      "  5.137355  0.164874  1.317818]\n",
      "Linear Iter:  94 [2.9708923e+01 1.7469480e+00 3.2549000e-02 2.6047480e+00 4.0857670e+00\n",
      " 1.6204500e-01 1.5170790e+00 2.3879010e+00 1.7400000e-02 3.7415100e-01]\n",
      "Linear Iter:  95 [20.34906   1.949395  0.186893  2.463696  0.111817  0.106111  2.226482\n",
      "  2.011523  0.044361  0.606779]\n",
      "Linear Iter:  96 [25.899598  1.9995    0.146265  0.040094  3.921623  0.145426  0.478138\n",
      "  0.849558  0.604802  2.373133]\n",
      "Linear Iter:  97 [27.414726  1.946159  0.058435  2.80162   0.574267  0.13029   1.798469\n",
      "  5.185788  0.543945  1.324734]\n",
      "Linear Iter:  98 [22.915636  1.863073  0.044696  1.959772  1.437966  0.170443  0.073714\n",
      "  4.7637    2.962783  5.019351]\n",
      "(100, 4016) [0.00000000e+00 2.59269400e-20 4.62558823e-20 3.08678255e-20\n",
      " 2.54702600e-20 4.44631751e-20 2.21665763e-20 4.47486373e-20\n",
      " 2.23119359e-20 3.73172429e-20 2.17927625e-20 3.29070778e-20\n",
      " 2.28376852e-20 2.99603458e-20 2.35580515e-20 3.16515380e-20\n",
      " 2.09445561e-20 3.39745025e-20 1.49342540e-20 1.80434407e-20\n",
      " 1.25344624e-20 1.03736386e-20 3.80161513e-21 5.83648063e-21\n",
      " 2.35146213e-21 2.34328730e-21 1.45873131e-20 8.75687511e-21\n",
      " 1.04057387e-21 1.11395473e-21 6.52083118e-22 6.78869029e-22\n",
      " 8.95346538e-22 6.38585505e-22 2.81417647e-22 3.94107255e-22\n",
      " 1.10099129e-22 1.23406999e-22 1.09911721e-22 3.56176636e-22\n",
      " 1.74238524e-22 9.12524458e-23 4.19392257e-23 5.16036511e-23\n",
      " 7.88472900e-23 3.99786177e-23 2.85262949e-23 2.74399493e-23\n",
      " 3.13250707e-23 1.86866334e-23 1.59557866e-23 2.49935798e-23\n",
      " 3.83792981e-23 1.29829803e-23 1.21785719e-23 1.28566619e-23\n",
      " 1.02237481e-23 7.58393700e-24 7.25819437e-24 9.02239277e-24\n",
      " 9.27192895e-24 6.57829706e-24 6.16695441e-24 6.15836435e-24\n",
      " 4.32506615e-24 3.37176547e-24 3.44540983e-24 5.90407584e-24\n",
      " 4.41608891e-24 4.04223298e-24 3.42904478e-24 2.74789551e-24\n",
      " 3.37880453e-24 3.18660567e-24 3.64083115e-24 2.51678358e-24\n",
      " 3.26445159e-24 1.99559008e-24 2.15417784e-24 1.70927731e-24\n",
      " 1.98899658e-24 1.82300672e-24 2.15689768e-24 2.71098623e-24\n",
      " 2.01532333e-24 1.73233799e-24 1.19346119e-24 1.65044934e-24\n",
      " 1.12191581e-24 1.37609424e-24 2.01581632e-24 1.16491270e-24\n",
      " 1.18942732e-24 1.21089980e-24 1.21447556e-24 1.27585042e-24\n",
      " 9.91470061e-25 1.03561415e-24 9.40358434e-25 8.04529911e-25]\n"
     ]
    }
   ],
   "source": [
    "known_bases_start = numpy.array([hp1/numpy.sqrt(numpy.vdot(hp1,hp1))])\n",
    "basis_waveforms_start = numpy.array([hp1])\n",
    "residual_modula_start = numpy.array([0.0])\n",
    "known_bases, params, residual_modula = pyroq.bases_searching_results_unnormalized(npts, nparams, nbases, known_bases_start, basis_waveforms_start, params_start, residual_modula_start, params_low, params_high, distance, deltaF, f_min, f_max, waveFlags, approximant)\n",
    "print(known_bases.shape, residual_modula)\n"
   ]
  },
  {
   "cell_type": "code",
   "execution_count": 7,
   "metadata": {},
   "outputs": [
    {
     "name": "stdout",
     "output_type": "stream",
     "text": [
      "40 basis elements gave 159 bad points of surrogate error >  1e-08\n",
      "50 basis elements gave 7 bad points of surrogate error >  1e-08\n",
      "60 basis elements gave 2 bad points of surrogate error >  1e-08\n",
      "70 basis elements gave 0 bad points of surrogate error >  1e-08\n",
      "Number of linear basis elements is  70 and the linear ROQ data are saved in B_linear.npy\n"
     ]
    }
   ],
   "source": [
    "pyroq.roqs(tolerance, freq, ndimlow, ndimhigh, ndimstepsize, known_bases, nts, nparams, params_low, params_high, distance, deltaF, f_min, f_max, waveFlags, approximant)\n"
   ]
  },
  {
   "cell_type": "code",
   "execution_count": 8,
   "metadata": {},
   "outputs": [
    {
     "name": "stdout",
     "output_type": "stream",
     "text": [
      "[[ 1.00000000e+00+1.81898940e-11j -8.73114914e-11-5.82076609e-11j\n",
      "   1.30967237e-10-4.36557457e-11j ... -1.45519152e-10-1.52795110e-10j\n",
      "   2.03726813e-10+2.83762347e-10j -5.82076609e-10-4.22005542e-10j]\n",
      " [-3.63797881e-12-5.45696821e-12j  1.00000000e+00-1.45519152e-11j\n",
      "   0.00000000e+00+2.18278728e-11j ... -3.63797881e-11-2.91038305e-11j\n",
      "  -1.81898940e-11-1.74622983e-10j  7.27595761e-11+0.00000000e+00j]\n",
      " [ 1.81898940e-12+5.45696821e-12j -1.45519152e-11+2.18278728e-11j\n",
      "   1.00000000e+00+2.91038305e-11j ... -1.16415322e-10-5.09317033e-11j\n",
      "  -1.16415322e-10+6.36646291e-11j -2.91038305e-10-1.22099664e-10j]\n",
      " ...\n",
      " [ 0.00000000e+00+0.00000000e+00j  0.00000000e+00+0.00000000e+00j\n",
      "   0.00000000e+00+0.00000000e+00j ...  0.00000000e+00+0.00000000e+00j\n",
      "   0.00000000e+00+0.00000000e+00j  0.00000000e+00+0.00000000e+00j]\n",
      " [ 0.00000000e+00+0.00000000e+00j  0.00000000e+00+0.00000000e+00j\n",
      "   0.00000000e+00+0.00000000e+00j ...  0.00000000e+00+0.00000000e+00j\n",
      "   0.00000000e+00+0.00000000e+00j  0.00000000e+00+0.00000000e+00j]\n",
      " [ 0.00000000e+00+0.00000000e+00j  0.00000000e+00+0.00000000e+00j\n",
      "   0.00000000e+00+0.00000000e+00j ...  0.00000000e+00+0.00000000e+00j\n",
      "   0.00000000e+00+0.00000000e+00j  0.00000000e+00+0.00000000e+00j]]\n",
      "emp_nodes [   0    1    2    5    8   11   15   20   27   31   37   44   53   69\n",
      "   83   99  120  123  129  135  141  147  150  154  160  169  175  181\n",
      "  187  193  201  208  218  224  230  247  288  384  514  670  719  738\n",
      "  750  775  792  809  823  852  876  890  922  948  981 1012 1035 1063\n",
      " 1093 1108 1127 1156 1173 1211 1245 1272 1293 1330 1418 1503 1607 1800]\n"
     ]
    }
   ],
   "source": [
    "fnodes_linear = numpy.load('./fnodes_linear.npy')\n",
    "b_linear = numpy.transpose(numpy.load('./B_linear.npy'))\n",
    "ndim = b_linear.shape[1]\n",
    "freq = numpy.arange(f_min, f_max, deltaF)\n",
    "emp_nodes = numpy.searchsorted(freq, fnodes_linear)\n",
    "print(b_linear)\n",
    "print(\"emp_nodes\", emp_nodes)"
   ]
  },
  {
   "cell_type": "code",
   "execution_count": 9,
   "metadata": {},
   "outputs": [
    {
     "data": {
      "image/png": "[encoded data removed]",
      "text/plain": [
       "<Figure size 432x288 with 1 Axes>"
      ]
     },
     "metadata": {
      "needs_background": "light"
     },
     "output_type": "display_data"
    }
   ],
   "source": [
    "test_mc = 20\n",
    "test_q = 4\n",
    "test_s1 = [0.,0.2,-0.]\n",
    "test_s2 = [0.,0.15,-0.1]\n",
    "test_ecc = 0\n",
    "test_lambda1 = 0\n",
    "test_lambda2 = 0\n",
    "test_iota = 1.9\n",
    "test_phiref = 0.6\n",
    "\n",
    "pyroq.testrep(b_linear, emp_nodes, test_mc, test_q, test_s1, test_s2, test_ecc, test_lambda1, test_lambda2, test_iota, test_phiref, distance, deltaF, f_min, f_max, waveFlags, approximant)\n"
   ]
  },
  {
   "cell_type": "code",
   "execution_count": 10,
   "metadata": {},
   "outputs": [],
   "source": [
    "nsamples = 1000 # testing nsamples random samples in parameter space to see their representation surrogate errors\n",
    "surros = pyroq.surros_of_test_samples(nsamples, nparams, params_low, params_high, tolerance, b_linear, emp_nodes, distance, deltaF, f_min, f_max, waveFlags, approximant)\n",
    "# If a surrogate error is larger than tolerance, it will be reported on the screen."
   ]
  },
  {
   "cell_type": "code",
   "execution_count": 11,
   "metadata": {},
   "outputs": [
    {
     "data": {
      "image/png": "[encoded data removed]",
      "text/plain": [
       "<Figure size 432x288 with 1 Axes>"
      ]
     },
     "metadata": {
      "needs_background": "light"
     },
     "output_type": "display_data"
    }
   ],
   "source": [
    "plt.semilogy(surros,'o',color='black')\n",
    "plt.xlabel(\"Number of Random Test Points\")\n",
    "plt.ylabel(\"Surrogate Error\")\n",
    "plt.title(\"IMRPhenomPv2\")\n",
    "plt.savefig(\"SurrogateErrorsRandomTestPoints.png\")\n",
    "plt.show()"
   ]
  },
  {
   "cell_type": "markdown",
   "metadata": {},
   "source": [
    "# Search for quadratic basis elements to build & save quadratic ROQ data."
   ]
  },
  {
   "cell_type": "code",
   "execution_count": 12,
   "metadata": {},
   "outputs": [
    {
     "name": "stdout",
     "output_type": "stream",
     "text": [
      "Quadratic Iter:  0\n",
      "Quadratic Iter:  1\n",
      "Quadratic Iter:  2\n",
      "Quadratic Iter:  3\n",
      "Quadratic Iter:  4\n",
      "Quadratic Iter:  5\n",
      "Quadratic Iter:  6\n",
      "Quadratic Iter:  7\n",
      "Quadratic Iter:  8\n",
      "Quadratic Iter:  9\n",
      "Quadratic Iter:  10\n",
      "Quadratic Iter:  11\n",
      "Quadratic Iter:  12\n",
      "Quadratic Iter:  13\n",
      "Quadratic Iter:  14\n",
      "Quadratic Iter:  15\n",
      "Quadratic Iter:  16\n",
      "Quadratic Iter:  17\n",
      "Quadratic Iter:  18\n",
      "Quadratic Iter:  19\n",
      "Quadratic Iter:  20\n",
      "Quadratic Iter:  21\n",
      "Quadratic Iter:  22\n",
      "Quadratic Iter:  23\n",
      "Quadratic Iter:  24\n",
      "Quadratic Iter:  25\n",
      "Quadratic Iter:  26\n",
      "Quadratic Iter:  27\n",
      "Quadratic Iter:  28\n",
      "Quadratic Iter:  29\n",
      "Quadratic Iter:  30\n",
      "Quadratic Iter:  31\n",
      "Quadratic Iter:  32\n",
      "Quadratic Iter:  33\n",
      "Quadratic Iter:  34\n",
      "Quadratic Iter:  35\n",
      "Quadratic Iter:  36\n",
      "Quadratic Iter:  37\n",
      "Quadratic Iter:  38\n",
      "Quadratic Iter:  39\n",
      "Quadratic Iter:  40\n",
      "Quadratic Iter:  41\n",
      "Quadratic Iter:  42\n",
      "Quadratic Iter:  43\n",
      "Quadratic Iter:  44\n",
      "Quadratic Iter:  45\n",
      "Quadratic Iter:  46\n",
      "Quadratic Iter:  47\n",
      "Quadratic Iter:  48\n",
      "Quadratic Iter:  49\n",
      "Quadratic Iter:  50\n",
      "Quadratic Iter:  51\n",
      "Quadratic Iter:  52\n",
      "Quadratic Iter:  53\n",
      "Quadratic Iter:  54\n",
      "Quadratic Iter:  55\n",
      "Quadratic Iter:  56\n",
      "Quadratic Iter:  57\n",
      "Quadratic Iter:  58\n"
     ]
    }
   ],
   "source": [
    "hp1_quad = (numpy.absolute(hp1))**2\n",
    "known_quad_bases_start = numpy.array([hp1_quad/numpy.sqrt(numpy.vdot(hp1_quad,hp1_quad))])\n",
    "basis_waveforms_quad_start = numpy.array([hp1_quad])\n",
    "residual_modula_start = numpy.array([0.0])\n",
    "known_quad_bases,params_quad,residual_modula_quad = pyroq.bases_searching_quadratic_results_unnormalized(npts, nparams, nbases_quad, known_quad_bases_start, basis_waveforms_quad_start, params_start, residual_modula_start, params_low, params_high, distance, deltaF, f_min, f_max, waveFlags, approximant)\n",
    "known_quad_bases_copy = known_quad_bases\n"
   ]
  },
  {
   "cell_type": "code",
   "execution_count": 13,
   "metadata": {},
   "outputs": [],
   "source": [
    "points = numpy.random.uniform(params_low, params_high, size=(npts,nparams))\n"
   ]
  },
  {
   "cell_type": "code",
   "execution_count": 14,
   "metadata": {},
   "outputs": [
    {
     "name": "stdout",
     "output_type": "stream",
     "text": [
      "20 basis elements gave 883 bad points of surrogate error >  1e-10\n",
      "30 basis elements gave 166 bad points of surrogate error >  1e-10\n",
      "40 basis elements gave 1 bad points of surrogate error >  1e-10\n",
      "50 basis elements gave 0 bad points of surrogate error >  1e-10\n",
      "Number of quadratic basis elements is  50 and the linear ROQ data save in B_quadratic.npy\n"
     ]
    }
   ],
   "source": [
    "pyroq.roqs_quad(tolerance_quad, freq, ndimlow_quad, ndimhigh_quad, ndimstepsize_quad, known_quad_bases, nts, nparams, params_low, params_high, distance, deltaF, f_min, f_max, waveFlags, approximant)\n"
   ]
  },
  {
   "cell_type": "code",
   "execution_count": 15,
   "metadata": {},
   "outputs": [],
   "source": [
    "fnodes_quad = numpy.load('./fnodes_quadratic.npy')\n",
    "b_quad = numpy.transpose(numpy.load('./B_quadratic.npy'))\n",
    "ndim_quad = b_quad.shape[1]\n",
    "freq = numpy.arange(f_min, f_max, deltaF)\n",
    "emp_nodes_quad = numpy.searchsorted(freq, fnodes_quad)\n"
   ]
  },
  {
   "cell_type": "code",
   "execution_count": 16,
   "metadata": {},
   "outputs": [
    {
     "data": {
      "image/png": "[encoded data removed]",
      "text/plain": [
       "<Figure size 432x288 with 1 Axes>"
      ]
     },
     "metadata": {
      "needs_background": "light"
     },
     "output_type": "display_data"
    }
   ],
   "source": [
    "test_mc_quad =20\n",
    "test_q_quad = 1\n",
    "test_s1_quad = [0.0, 0.0, 0.0]\n",
    "test_s2_quad = [0.0, 0.0, 0.0]\n",
    "test_ecc_quad = 0\n",
    "test_lambda1_quad = 0\n",
    "test_lambda2_quad = 0\n",
    "test_iota_quad = 1.9\n",
    "test_phiref_quad = 0.6\n",
    "\n",
    "pyroq.testrep_quad(b_quad, emp_nodes_quad, test_mc_quad, test_q_quad, test_s1_quad, test_s2_quad, test_ecc_quad, test_lambda1_quad, test_lambda2_quad, test_iota_quad, test_phiref_quad, distance, deltaF, f_min, f_max, waveFlags, approximant)\n"
   ]
  },
  {
   "cell_type": "code",
   "execution_count": null,
   "metadata": {},
   "outputs": [],
   "source": []
  }
 ],
 "metadata": {
  "kernelspec": {
   "display_name": "ligo-py36",
   "language": "python",
   "name": "ligo-py36"
  },
  "language_info": {
   "codemirror_mode": {
    "name": "ipython",
    "version": 3
   },
   "file_extension": ".py",
   "mimetype": "text/x-python",
   "name": "python",
   "nbconvert_exporter": "python",
   "pygments_lexer": "ipython3",
   "version": "3.6.7"
  }
 },
 "nbformat": 4,
 "nbformat_minor": 4
}
