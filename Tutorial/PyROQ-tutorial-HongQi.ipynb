{
 "cells": [
  {
   "cell_type": "code",
   "execution_count": 17,
   "metadata": {},
   "outputs": [
    {
     "name": "stdout",
     "output_type": "stream",
     "text": [
      "Collecting PyROQ==0.1.22\n",
      "  Downloading https://files.pythonhosted.org/packages/07/29/7793eaab4a7337b403e89bcb469eb509be71975baed8971602ba1c670c79/PyROQ-0.1.22-py3-none-any.whl\n",
      "Installing collected packages: PyROQ\n",
      "  Found existing installation: PyROQ 0.1.21\n",
      "    Uninstalling PyROQ-0.1.21:\n",
      "      Successfully uninstalled PyROQ-0.1.21\n",
      "Successfully installed PyROQ-0.1.22\n"
     ]
    }
   ],
   "source": [
    "!pip install --user PyROQ==0.1.22"
   ]
  },
  {
   "cell_type": "code",
   "execution_count": 1,
   "metadata": {},
   "outputs": [],
   "source": [
    "import numpy\n",
    "import numpy as np\n",
    "import scipy\n",
    "%matplotlib inline\n",
    "import matplotlib\n",
    "import matplotlib.pyplot as plt\n",
    "import lal\n",
    "import lalsimulation\n",
    "from lal.lal import PC_SI as LAL_PC_SI\n",
    "import h5py\n",
    "import warnings\n",
    "import random\n",
    "warnings.filterwarnings('ignore')\n",
    "import matplotlib.pylab as pylab\n",
    "plot_params = {'legend.fontsize': 'x-large',\n",
    "          'figure.figsize': (15, 9),\n",
    "         'axes.labelsize': 'x-large',\n",
    "         'axes.titlesize':'x-large',\n",
    "         'xtick.labelsize':'x-large',\n",
    "         'ytick.labelsize':'x-large'}\n",
    "pylab.rcParams.update(plot_params)\n",
    "from mpl_toolkits.mplot3d import axes3d\n",
    "import PyROQ.pyroq as pyroq\n",
    "import pyroq as pyroq"
   ]
  },
  {
   "cell_type": "markdown",
   "metadata": {},
   "source": [
    "# Setting up boundary conditions and tolerance requirements."
   ]
  },
  {
   "cell_type": "code",
   "execution_count": 2,
   "metadata": {},
   "outputs": [
    {
     "name": "stdout",
     "output_type": "stream",
     "text": [
      "mass-min, mass-max:  [16.437518295172257, 49.31255488551677]\n"
     ]
    }
   ],
   "source": [
    "mc_low = 20\n",
    "mc_high = 30\n",
    "q_low = 1\n",
    "q_high = 2\n",
    "s1sphere_low = [0, 0, 0]\n",
    "s1sphere_high = [0.2, numpy.pi, 2.0*numpy.pi]\n",
    "s2sphere_low = [0, 0, 0]\n",
    "s2sphere_high = [0.2, numpy.pi, 2.0*numpy.pi]\n",
    "ecc_low = 0.0\n",
    "ecc_high = 0.2\n",
    "lambda1_low = 0\n",
    "lambda1_high = 1000\n",
    "lambda2_low = 0\n",
    "lambda2_high = 1000\n",
    "iota_low = 0\n",
    "iota_high = numpy.pi\n",
    "phiref_low = 0\n",
    "phiref_high = 2*numpy.pi\n",
    "f_min = 20\n",
    "f_max = 1024\n",
    "deltaF = 1/4.\n",
    "distance = 10 * LAL_PC_SI * 1.0e6  # 10 Mpc is default \n",
    "waveFlags = lal.CreateDict()\n",
    "\n",
    "\n",
    "#approximant = lalsimulation.IMRPhenomPv2_NRTidal\n",
    "approximant = lalsimulation.IMRPhenomPv2\n",
    "print(\"mass-min, mass-max: \", pyroq.massrange(mc_low, mc_high, q_low, q_high))\n",
    "\n",
    "npts = 100 # Specify the number of points for each search for a new basis element\n",
    "          # For diagnostic testing, 30 -100 is fine. \n",
    "          # For real ROQs computation, this can be 300 to 1000, roughly comparable to the number of basis elments.\n",
    "          # What value to choose depends on the nature of the waveform, such as how many features it has. \n",
    "          # It also depends on the parameter space and the signal length. \n",
    "nts = 1000 # Number of random test waveforms\n",
    "          # For diagnostics, 1000 is fine.\n",
    "          # For real ROQs calculation, set it to be 1000000.\n",
    "\n",
    "nbases = 100 # Specify the number of linear basis elements\n",
    "ndimlow = 30 # Starting number of basis elements used to check if tolerance is satisfied\n",
    "ndimhigh = nbases+1\n",
    "ndimstepsize = 10 # Number of linear basis elements increament to get the basis satisfying the tolerance\n",
    "tolerance = 1e-8 # Surrogage error threshold for linear basis elements\n",
    "\n",
    "nbases_quad = 60 # Specify the number of quadratic basis elements, usually half of that for linear basis\n",
    "ndimlow_quad = 20 \n",
    "ndimhigh_quad = nbases_quad+1\n",
    "ndimstepsize_quad = 10\n",
    "tolerance_quad = 1e-10 # Surrogage error threshold for quadratic basis elements"
   ]
  },
  {
   "cell_type": "code",
   "execution_count": 3,
   "metadata": {},
   "outputs": [],
   "source": [
    "freq = numpy.arange(f_min,f_max,deltaF)\n",
    "nparams, params_low, params_high, params_start, hp1 = pyroq.initial_basis(mc_low, mc_high, q_low, q_high, s1sphere_low, s1sphere_high, \\\n",
    "                  s2sphere_low, s2sphere_high, ecc_low, ecc_high, lambda1_low, lambda1_high,\\\n",
    "                 lambda2_low, lambda2_high, iota_low, iota_high, phiref_low, phiref_high, distance, deltaF, f_min, f_max, waveFlags, approximant)\n"
   ]
  },
  {
   "cell_type": "code",
   "execution_count": 4,
   "metadata": {},
   "outputs": [
    {
     "name": "stdout",
     "output_type": "stream",
     "text": [
      "[24.02248868  6.00562217]\n"
     ]
    }
   ],
   "source": [
    "mmin=pyroq.get_m1m2_from_mcq(10,4)\n",
    "print(mmin)"
   ]
  },
  {
   "cell_type": "code",
   "execution_count": 5,
   "metadata": {},
   "outputs": [
    {
     "name": "stdout",
     "output_type": "stream",
     "text": [
      "10\n",
      "4016\n"
     ]
    }
   ],
   "source": [
    "print(nparams)\n",
    "print(len(freq))"
   ]
  },
  {
   "cell_type": "markdown",
   "metadata": {},
   "source": [
    "# Search for linear basis elements to build and save linear ROQ data in the local directory."
   ]
  },
  {
   "cell_type": "code",
   "execution_count": 6,
   "metadata": {},
   "outputs": [
    {
     "name": "stdout",
     "output_type": "stream",
     "text": [
      "The parameters are Mc, q, s1(mag, theta, phi), s2(mag, theta, phi), iota, and phiRef\n",
      "\n",
      "Linear Iter:  0 [2.9992989e+01 1.7456470e+00 1.3722000e-02 1.7391120e+00 5.7248270e+00\n",
      " 1.7878300e-01 6.4629600e-01 5.4194960e+00 6.9602000e-02 5.9283090e+00]\n",
      "Linear Iter:  1 [28.926922  1.035241  0.128564  2.822999  3.657324  0.109731  2.092719\n",
      "  2.203124  2.96905   2.991562]\n",
      "Linear Iter:  2 [28.239887  1.074926  0.102145  0.098067  4.28432   0.106396  0.887111\n",
      "  1.63091   0.116969  3.348672]\n",
      "Linear Iter:  3 [2.6889338e+01 1.2979630e+00 2.4503000e-02 1.2826450e+00 2.1080090e+00\n",
      " 1.2268000e-01 3.0946630e+00 4.4397200e-01 7.5443100e-01 3.8877800e+00]\n",
      "Linear Iter:  4 [2.6124004e+01 1.3698160e+00 1.8167900e-01 6.5867500e-01 2.2340100e-01\n",
      " 1.8146200e-01 2.2499830e+00 3.4293710e+00 1.1778800e-01 1.7770000e-03]\n",
      "Linear Iter:  5 [25.479804  1.185978  0.171352  2.4822    1.681378  0.188613  1.489346\n",
      "  4.813041  0.132879  0.554637]\n",
      "Linear Iter:  6 [20.229782  1.94292   0.158538  0.628444  5.982524  0.026371  2.959013\n",
      "  4.66736   0.301238  3.542396]\n",
      "Linear Iter:  7 [2.5003807e+01 1.6533960e+00 1.9559100e-01 8.6422300e-01 4.5999100e+00\n",
      " 1.7314000e-02 1.6409850e+00 3.3156580e+00 3.1817300e-01 3.3668830e+00]\n",
      "Linear Iter:  8 [24.577025  1.908158  0.071888  0.215187  2.916097  0.128613  1.232909\n",
      "  5.869328  2.788796  0.626392]\n",
      "Linear Iter:  9 [2.3783129e+01 1.2968770e+00 8.5930000e-03 2.2137830e+00 7.3241700e-01\n",
      " 1.1905600e-01 3.0778800e-01 5.0484660e+00 1.5527000e-02 9.3566300e-01]\n",
      "Linear Iter:  10 [23.635847  1.773494  0.052626  0.09275   3.922645  0.185364  0.791078\n",
      "  3.129817  3.119443  3.146302]\n",
      "Linear Iter:  11 [2.0117722e+01 1.2477200e+00 1.1689000e-01 6.7185400e-01 3.1327450e+00\n",
      " 1.5988600e-01 1.0964740e+00 2.1326800e+00 1.5958000e-02 3.0425140e+00]\n",
      "Linear Iter:  12 [20.772044  1.270849  0.1816    1.299168  3.868557  0.186126  1.423067\n",
      "  0.632108  2.446646  5.311999]\n",
      "Linear Iter:  13 [22.29919   1.121302  0.042479  2.95475   0.271995  0.046064  0.627739\n",
      "  2.968995  0.122495  0.681896]\n",
      "Linear Iter:  14 [22.527406  1.151409  0.092011  1.017791  6.247721  0.039817  2.937164\n",
      "  0.907066  0.606128  3.15524 ]\n",
      "Linear Iter:  15 [22.150264  1.423022  0.136081  0.402938  0.511126  0.19928   1.128929\n",
      "  3.735227  0.359133  4.620657]\n",
      "Linear Iter:  16 [2.1683296e+01 1.2490010e+00 4.4355000e-02 1.2576450e+00 5.9993900e+00\n",
      " 1.1590800e-01 9.2300000e-03 1.3113160e+00 4.1671000e-02 1.4136000e-02]\n",
      "Linear Iter:  17 [2.0528081e+01 1.8023980e+00 1.5893700e-01 1.2180570e+00 4.2604470e+00\n",
      " 6.2930000e-03 3.1277660e+00 3.9230890e+00 4.5140300e-01 1.4134440e+00]\n",
      "Linear Iter:  18 [28.945322  1.519314  0.175901  2.662668  3.582154  0.097803  2.654479\n",
      "  5.116993  2.985607  3.228507]\n",
      "Linear Iter:  19 [28.876961  1.484546  0.196973  1.456015  1.926419  0.19106   1.99871\n",
      "  4.037591  2.754196  0.213944]\n",
      "Linear Iter:  20 [22.237352  1.162837  0.184624  1.201656  3.829736  0.065438  1.746786\n",
      "  0.761552  0.355723  5.42062 ]\n",
      "Linear Iter:  21 [29.801154  1.620558  0.167327  2.928467  3.497273  0.035214  2.587044\n",
      "  0.828298  0.686021  1.004989]\n",
      "Linear Iter:  22 [28.336166  1.569463  0.052407  1.066312  0.49308   0.161406  0.324196\n",
      "  0.872662  0.268049  3.887935]\n",
      "Linear Iter:  23 [2.9740458e+01 1.9191520e+00 1.9810200e-01 2.7451480e+00 5.1876290e+00\n",
      " 2.5803000e-02 2.6762870e+00 5.2614000e-02 2.4816200e+00 1.4359950e+00]\n",
      "Linear Iter:  24 [2.0784251e+01 1.5686180e+00 1.4816500e-01 1.8226000e-02 7.8081400e-01\n",
      " 8.8240000e-02 1.3197260e+00 1.9459020e+00 2.8996900e-01 8.0899000e-02]\n",
      "Linear Iter:  25 [22.760884  1.30513   0.115837  0.025547  1.059968  0.117771  3.052153\n",
      "  4.112635  0.245702  2.744822]\n",
      "Linear Iter:  26 [26.768309  1.903768  0.183274  2.701664  3.412943  0.18738   1.063368\n",
      "  5.628095  0.648577  0.660196]\n",
      "Linear Iter:  27 [20.127074  1.430795  0.18512   0.25516   3.062585  0.178055  0.457531\n",
      "  3.815674  1.178532  4.247272]\n",
      "Linear Iter:  28 [20.682653  1.217814  0.138906  2.319872  2.19684   0.191707  2.536547\n",
      "  4.832789  0.082611  0.745092]\n",
      "Linear Iter:  29 [29.7916    1.951658  0.090585  2.789328  3.051932  0.117715  1.046094\n",
      "  2.046171  2.033856  2.660188]\n",
      "Linear Iter:  30 [2.9900397e+01 1.9701860e+00 2.3350000e-03 4.1523000e-01 5.6655300e+00\n",
      " 2.8330000e-02 5.2495100e-01 5.0663430e+00 1.2694700e-01 5.5862870e+00]\n",
      "Linear Iter:  31 [22.991056  1.267682  0.18742   0.329825  0.593625  0.175688  0.818741\n",
      "  1.360937  0.474282  1.995418]\n",
      "Linear Iter:  32 [2.8001492e+01 1.2194380e+00 5.6430000e-03 1.3379840e+00 5.3380560e+00\n",
      " 4.9492000e-02 1.6577740e+00 2.5150530e+00 2.8811050e+00 1.9957760e+00]\n",
      "Linear Iter:  33 [2.4937071e+01 1.1932850e+00 8.3297000e-02 6.8396000e-01 3.9030160e+00\n",
      " 1.3080400e-01 2.2394000e-02 4.1146010e+00 2.4310360e+00 4.3433100e+00]\n",
      "Linear Iter:  34 [20.205666  1.165129  0.035058  1.229943  0.196139  0.194724  0.129804\n",
      "  2.532055  0.239012  0.596754]\n",
      "Linear Iter:  35 [29.019812  1.976261  0.119182  1.332764  4.612997  0.16903   0.277113\n",
      "  0.847605  0.276073  1.971327]\n",
      "Linear Iter:  36 [25.013629  1.104969  0.063913  0.942253  0.564753  0.163367  0.54344\n",
      "  4.443029  0.17177   4.903242]\n",
      "Linear Iter:  37 [29.904595  1.916838  0.144266  3.127425  0.867717  0.09964   3.130912\n",
      "  5.688344  0.092751  1.91869 ]\n",
      "Linear Iter:  38 [2.6672028e+01 1.1855310e+00 2.2682000e-02 2.1594470e+00 5.7377190e+00\n",
      " 3.9474000e-02 1.6633260e+00 5.9820070e+00 2.7906890e+00 1.8024480e+00]\n",
      "Linear Iter:  39 [20.521483  1.068911  0.049528  0.840056  3.89452   0.041069  1.703699\n",
      "  5.539551  3.075173  6.218255]\n",
      "Linear Iter:  40 [20.455264  1.836591  0.185783  0.334058  5.88652   0.049293  0.086363\n",
      "  6.07898   2.960788  1.732503]\n",
      "Linear Iter:  41 [29.603112  1.609845  0.193881  1.554773  5.134134  0.172305  0.206246\n",
      "  4.73296   1.727508  4.439637]\n",
      "Linear Iter:  42 [20.047206  1.118636  0.030986  1.054263  2.133485  0.198364  2.970565\n",
      "  3.58304   2.807004  5.725536]\n",
      "Linear Iter:  43 [20.019661  1.869973  0.062962  0.441003  3.499117  0.155802  0.321493\n",
      "  1.747826  2.312982  4.795432]\n",
      "Linear Iter:  44 [2.9259457e+01 1.2885650e+00 1.8854000e-01 9.7200000e-03 1.6020450e+00\n",
      " 6.5055000e-02 1.7635870e+00 3.0029590e+00 2.6886360e+00 1.9441000e-01]\n",
      "Linear Iter:  45 [28.728823  1.970924  0.193544  2.563355  1.689477  0.105733  2.649816\n",
      "  1.026789  1.988198  2.926481]\n",
      "Linear Iter:  46 [24.419771  1.112253  0.162896  2.247062  2.8927    0.196788  2.465575\n",
      "  3.875938  3.118621  3.349439]\n",
      "Linear Iter:  47 [24.946346  1.933344  0.035939  1.664905  3.28928   0.065475  2.229231\n",
      "  3.682641  0.070676  0.094368]\n",
      "Linear Iter:  48 [21.35003   1.679405  0.142497  2.909264  5.478328  0.04566   0.345536\n",
      "  5.669195  2.769435  0.048563]\n",
      "Linear Iter:  49 [20.482626  1.65789   0.091085  2.745396  0.384641  0.053865  2.281846\n",
      "  6.023148  0.067529  1.922066]\n",
      "Linear Iter:  50 [20.038576  1.15345   0.057583  0.4956    4.397971  0.120354  0.268696\n",
      "  6.031176  2.662784  2.023186]\n",
      "Linear Iter:  51 [23.195842  1.751666  0.161172  3.113067  5.833781  0.165276  0.678919\n",
      "  4.272704  0.158402  5.254895]\n",
      "Linear Iter:  52 [27.883689  1.083473  0.180012  0.749934  4.577201  0.185349  0.680007\n",
      "  5.539716  0.095904  0.280682]\n",
      "Linear Iter:  53 [25.763547  1.047685  0.178645  2.673018  5.738552  0.185961  1.885914\n",
      "  5.556775  3.057594  3.265531]\n",
      "Linear Iter:  54 [28.668394  1.888772  0.199144  0.175489  4.045544  0.196919  0.331847\n",
      "  4.887599  0.169696  3.000643]\n",
      "Linear Iter:  55 [29.05347   1.789105  0.066337  2.56689   2.170704  0.04062   1.856311\n",
      "  3.83913   3.054599  1.334662]\n",
      "Linear Iter:  56 [2.4102767e+01 1.0452140e+00 1.8638200e-01 2.8836020e+00 2.6541120e+00\n",
      " 6.0000000e-06 7.9547000e-02 2.3468810e+00 3.3466500e-01 3.4926510e+00]\n",
      "Linear Iter:  57 [2.1002405e+01 1.2356980e+00 5.4990000e-03 1.0692370e+00 5.5038160e+00\n",
      " 2.9524000e-02 3.0040850e+00 4.7130060e+00 3.0057190e+00 4.5180700e+00]\n",
      "Linear Iter:  58 [2.5817848e+01 1.8883660e+00 8.8747000e-02 2.5431800e+00 2.7846030e+00\n",
      " 2.3079000e-02 1.8918780e+00 4.2213660e+00 2.8669050e+00 5.9718000e+00]\n",
      "Linear Iter:  59 [28.476732  1.704163  0.032265  1.882383  1.896123  0.180546  0.3396\n",
      "  4.795815  0.14478   4.787477]\n",
      "Linear Iter:  60 [2.6385739e+01 1.9962490e+00 1.6214400e-01 7.3420000e-03 1.4075700e+00\n",
      " 1.4240000e-03 1.4574130e+00 3.3605080e+00 2.8771620e+00 3.8652700e+00]\n",
      "Linear Iter:  61 [20.41588   1.36612   0.180438  0.069182  2.122076  0.117355  2.215932\n",
      "  2.263334  2.633828  4.552888]\n",
      "Linear Iter:  62 [2.3226875e+01 1.3422560e+00 4.3060000e-03 2.0500960e+00 1.7003870e+00\n",
      " 1.8426300e-01 1.5562650e+00 6.2497100e+00 2.4709520e+00 3.7296640e+00]\n",
      "Linear Iter:  63 [29.931657  1.892364  0.16463   2.465097  4.80003   0.035312  0.733173\n",
      "  1.750994  2.382424  1.97925 ]\n",
      "Linear Iter:  64 [2.9638966e+01 1.5358450e+00 1.7765000e-02 2.3171380e+00 7.2920000e-02\n",
      " 1.0143600e-01 2.2785700e-01 2.9696530e+00 2.0875770e+00 4.8819210e+00]\n",
      "Linear Iter:  65 [22.150264  1.878755  0.160871  0.550073  0.555045  0.092669  0.446365\n",
      "  2.691507  1.022537  0.199827]\n",
      "Linear Iter:  66 [2.5600955e+01 1.4994720e+00 1.4518900e-01 3.3702300e-01 4.0973980e+00\n",
      " 1.8537700e-01 4.3796000e-02 1.0966350e+00 1.0302000e-02 4.3230600e-01]\n",
      "Linear Iter:  67 [20.310425  1.140785  0.168008  0.236307  5.021598  0.184939  0.141187\n",
      "  5.079908  2.402906  2.157604]\n",
      "Linear Iter:  68 [2.5944582e+01 1.1424130e+00 4.5440000e-03 1.7813910e+00 2.4005550e+00\n",
      " 1.3253800e-01 1.4639900e-01 2.5750100e+00 4.7789800e-01 4.2205660e+00]\n",
      "Linear Iter:  69 [29.875046  1.149577  0.154944  2.548083  0.544028  0.158748  2.745623\n",
      "  5.433401  0.927005  0.820448]\n",
      "Linear Iter:  70 [2.9735675e+01 1.4183710e+00 1.8908600e-01 1.8472210e+00 4.6412330e+00\n",
      " 1.0177100e-01 2.4716180e+00 1.5589870e+00 7.2869400e-01 7.7940000e-03]\n",
      "Linear Iter:  71 [21.913155  1.253782  0.196478  0.394842  3.004308  0.185333  0.136953\n",
      "  2.763222  3.137141  5.32621 ]\n",
      "Linear Iter:  72 [21.731665  1.019859  0.158208  2.158814  0.691859  0.081812  1.942366\n",
      "  5.708114  2.985907  1.063074]\n",
      "Linear Iter:  73 [20.057686  1.140565  0.189564  0.056039  1.499847  0.090324  0.933295\n",
      "  3.373633  2.997627  1.271959]\n",
      "Linear Iter:  74 [29.284499  1.901135  0.079729  3.121693  0.930894  0.078543  2.985619\n",
      "  6.197454  2.948326  5.15236 ]\n",
      "Linear Iter:  75 [29.99265   1.182791  0.186246  0.690556  2.925546  0.086242  1.694593\n",
      "  3.281196  0.235607  2.498459]\n",
      "Linear Iter:  76 [20.084979  1.992238  0.177683  0.31825   2.196656  0.132622  0.905022\n",
      "  2.034652  2.735748  6.123083]\n",
      "Linear Iter:  77 [24.336128  1.79077   0.147672  0.078477  3.048601  0.126617  0.962826\n",
      "  2.713161  0.496378  0.982259]\n",
      "Linear Iter:  78 [21.444056  1.954911  0.121345  1.965643  3.597136  0.132955  0.661005\n",
      "  3.897792  0.331817  0.365212]\n",
      "Linear Iter:  79 [25.744984  1.090238  0.090007  0.540363  4.533649  0.148644  0.458253\n",
      "  3.003366  0.346217  5.95805 ]\n",
      "Linear Iter:  80 [23.49499   1.239789  0.184405  0.720213  3.587657  0.190123  0.240783\n",
      "  2.945318  0.782712  1.206791]\n",
      "Linear Iter:  81 [25.340277  1.660992  0.185344  1.84794   2.547388  0.169073  1.323518\n",
      "  2.96397   2.875726  1.095254]\n",
      "Linear Iter:  82 [27.48124   1.942406  0.179382  3.060153  5.094683  0.135201  1.96502\n",
      "  3.760396  0.618147  6.012765]\n",
      "Linear Iter:  83 [29.392134  1.920172  0.184027  2.060654  0.611798  0.186993  1.059519\n",
      "  5.546122  2.111505  0.751615]\n",
      "Linear Iter:  84 [27.735272  1.936041  0.157572  2.552189  5.676457  0.190352  1.262647\n",
      "  2.197793  0.119155  5.906247]\n",
      "Linear Iter:  85 [21.005916  1.002397  0.184921  0.658425  0.597419  0.114782  1.134639\n",
      "  2.128779  2.880743  3.766275]\n",
      "Linear Iter:  86 [22.486096  1.964903  0.13113   0.748508  1.416005  0.093931  2.393556\n",
      "  3.460571  2.985905  3.726964]\n",
      "Linear Iter:  87 [21.386883  1.277857  0.179228  0.25375   5.267732  0.163019  1.290256\n",
      "  5.447158  0.495955  6.031914]\n",
      "Linear Iter:  88 [26.521678  1.938986  0.144092  2.090998  6.043233  0.156866  1.967876\n",
      "  5.243902  2.942852  2.297208]\n",
      "Linear Iter:  89 [26.082043  1.980393  0.187788  0.184477  5.880539  0.156253  1.374088\n",
      "  5.495681  0.682278  3.320519]\n",
      "Linear Iter:  90 [29.157525  1.194736  0.167022  0.497458  5.063764  0.183223  0.061392\n",
      "  4.37324   0.324771  3.027979]\n",
      "Linear Iter:  91 [2.3909417e+01 1.0225720e+00 1.3169000e-02 1.8837080e+00 1.5622530e+00\n",
      " 4.3486000e-02 2.4158900e+00 2.1927130e+00 6.7883000e-02 9.2512700e-01]\n",
      "Linear Iter:  92 [29.749428  1.988529  0.148968  1.175848  1.358156  0.048368  2.522212\n",
      "  2.841059  0.646798  1.318947]\n",
      "Linear Iter:  93 [29.957382  1.834412  0.163417  0.251875  3.741601  0.084514  2.271122\n",
      "  2.645835  2.519223  3.650911]\n",
      "Linear Iter:  94 [29.878773  1.41897   0.180125  0.634826  2.423344  0.084906  2.844664\n",
      "  2.775762  2.448286  5.171616]\n",
      "Linear Iter:  95 [27.5303    1.279363  0.171563  1.825564  2.799879  0.197395  2.368728\n",
      "  5.341159  0.083854  3.835174]\n",
      "Linear Iter:  96 [29.066338  1.975225  0.199286  3.136278  3.360616  0.198362  2.376673\n",
      "  2.152494  0.49268   4.811923]\n",
      "Linear Iter:  97 [20.990045  1.897908  0.138468  1.270542  4.771446  0.10179   1.432226\n",
      "  6.114748  0.299079  5.888691]\n",
      "Linear Iter:  98 [29.984476  1.598594  0.170222  2.016636  0.955173  0.098575  0.947332\n",
      "  6.055261  2.842806  3.543423]\n",
      "(100, 4016) [0.00000000e+00 2.61187646e-20 4.73932630e-20 2.49304372e-20\n",
      " 3.28822381e-20 2.40311088e-20 4.29516740e-20 2.97764739e-20\n",
      " 2.18806785e-20 3.90962960e-20 2.21547939e-20 3.99117119e-20\n",
      " 2.11810240e-20 2.43497930e-20 2.04683853e-20 2.20976359e-20\n",
      " 2.04602803e-20 3.06278051e-20 1.30801307e-20 1.44909906e-20\n",
      " 2.08594556e-20 9.44642930e-21 8.90809476e-21 5.92416922e-21\n",
      " 3.31749570e-21 1.88796153e-21 2.70422928e-21 2.37071427e-21\n",
      " 1.91500285e-21 9.15639085e-22 1.17071535e-21 7.52605833e-22\n",
      " 9.22416952e-22 4.87558049e-22 3.44653462e-22 4.04956572e-22\n",
      " 2.33423107e-22 1.61295139e-22 3.19394240e-22 1.20299330e-22\n",
      " 7.86764246e-23 1.12242296e-22 4.45309468e-23 3.91875042e-23\n",
      " 6.44962417e-23 3.25527852e-23 4.06468613e-23 3.33839463e-23\n",
      " 2.49359199e-23 1.97013468e-23 1.67476670e-23 2.85719245e-23\n",
      " 1.15941735e-23 1.34283869e-23 1.63483094e-23 1.09069634e-23\n",
      " 1.06142092e-23 7.62179235e-24 6.56112096e-24 6.52412112e-24\n",
      " 5.24146375e-24 6.64673566e-24 6.45572012e-24 4.56490516e-24\n",
      " 1.02319158e-23 4.16117843e-24 3.87850548e-24 4.21020897e-24\n",
      " 1.95102341e-23 4.20310786e-24 3.05247396e-24 2.93534007e-24\n",
      " 5.85303424e-24 2.31814850e-24 7.13800177e-24 2.79115640e-24\n",
      " 2.99466778e-24 3.35184246e-24 1.71535653e-24 2.10205576e-24\n",
      " 2.03024713e-24 1.63114891e-24 1.92151698e-24 2.18628535e-24\n",
      " 1.66758680e-24 1.57133245e-24 1.89882638e-24 1.80580601e-24\n",
      " 1.29883694e-24 1.31964644e-24 1.33019932e-24 1.27966683e-24\n",
      " 1.26131724e-24 1.54676767e-24 1.17844175e-24 1.25504221e-24\n",
      " 1.07202364e-24 2.39744300e-24 1.10986757e-24 8.93885865e-25]\n"
     ]
    }
   ],
   "source": [
    "known_bases_start = numpy.array([hp1/numpy.sqrt(numpy.vdot(hp1,hp1))])\n",
    "basis_waveforms_start = numpy.array([hp1])\n",
    "residual_modula_start = numpy.array([0.0])\n",
    "known_bases, params, residual_modula = pyroq.bases_searching_results_unnormalized(npts, nparams, nbases, known_bases_start, basis_waveforms_start, params_start, residual_modula_start, params_low, params_high, distance, deltaF, f_min, f_max, waveFlags, approximant)\n",
    "print(known_bases.shape, residual_modula)\n"
   ]
  },
  {
   "cell_type": "code",
   "execution_count": 7,
   "metadata": {},
   "outputs": [
    {
     "name": "stdout",
     "output_type": "stream",
     "text": [
      "30 basis elements gave 614 bad points of surrogate error >  1e-08\n",
      "40 basis elements gave 69 bad points of surrogate error >  1e-08\n",
      "50 basis elements gave 16 bad points of surrogate error >  1e-08\n",
      "60 basis elements gave 0 bad points of surrogate error >  1e-08\n",
      "Number of linear basis elements is  60 and the linear ROQ data save in B_linear.npy\n"
     ]
    }
   ],
   "source": [
    "pyroq.roqs(tolerance, freq, ndimlow, ndimhigh, ndimstepsize, known_bases, nts, nparams, params_low, params_high, distance, deltaF, f_min, f_max, waveFlags, approximant)\n"
   ]
  },
  {
   "cell_type": "code",
   "execution_count": 8,
   "metadata": {},
   "outputs": [
    {
     "name": "stdout",
     "output_type": "stream",
     "text": [
      "[[ 1.00000000e+00+2.55795385e-13j  1.02318154e-12+7.27595761e-12j\n",
      "  -7.27595761e-12-3.63797881e-12j ... -7.27595761e-12-1.40971679e-11j\n",
      "  -3.63797881e-12-7.27595761e-12j  0.00000000e+00-1.09139364e-11j]\n",
      " [-3.41060513e-12-1.81898940e-12j  1.00000000e+00-1.81898940e-12j\n",
      "  -2.27373675e-12+2.91038305e-11j ... -2.54658516e-11+3.63797881e-12j\n",
      "   5.00310904e-12+3.27418093e-11j  9.09494702e-13+3.63797881e-12j]\n",
      " [-9.09494702e-13-3.06954462e-12j -5.45696821e-12-1.09139364e-11j\n",
      "   1.00000000e+00-2.00088834e-11j ... -1.98951966e-11-1.81898940e-11j\n",
      "  -4.54747351e-12-7.27595761e-12j -1.27329258e-11+0.00000000e+00j]\n",
      " ...\n",
      " [ 0.00000000e+00+0.00000000e+00j  0.00000000e+00+0.00000000e+00j\n",
      "   0.00000000e+00+0.00000000e+00j ...  0.00000000e+00+0.00000000e+00j\n",
      "   0.00000000e+00+0.00000000e+00j  0.00000000e+00+0.00000000e+00j]\n",
      " [ 0.00000000e+00+0.00000000e+00j  0.00000000e+00+0.00000000e+00j\n",
      "   0.00000000e+00+0.00000000e+00j ...  0.00000000e+00+0.00000000e+00j\n",
      "   0.00000000e+00+0.00000000e+00j  0.00000000e+00+0.00000000e+00j]\n",
      " [ 0.00000000e+00+0.00000000e+00j  0.00000000e+00+0.00000000e+00j\n",
      "   0.00000000e+00+0.00000000e+00j ...  0.00000000e+00+0.00000000e+00j\n",
      "   0.00000000e+00+0.00000000e+00j  0.00000000e+00+0.00000000e+00j]]\n",
      "emp_nodes [   0    1    2    5    8   11   14   18   22   31   40   47   55   68\n",
      "   87  104  122  135  140  146  155  161  166  181  202  209  219  228\n",
      "  245  333  487  612  695  740  770  809  824  841  862  885  917  936\n",
      "  949  961  991 1010 1040 1083 1127 1146 1166 1182 1201 1232 1261 1289\n",
      " 1358 1430 1511 1657]\n"
     ]
    }
   ],
   "source": [
    "fnodes_linear = numpy.load('./fnodes_linear.npy')\n",
    "b_linear = numpy.transpose(numpy.load('./B_linear.npy'))\n",
    "ndim = b_linear.shape[1]\n",
    "freq = numpy.arange(f_min, f_max, deltaF)\n",
    "emp_nodes = numpy.searchsorted(freq, fnodes_linear)\n",
    "print(b_linear)\n",
    "print(\"emp_nodes\", emp_nodes)"
   ]
  },
  {
   "cell_type": "code",
   "execution_count": 9,
   "metadata": {},
   "outputs": [
    {
     "data": {
      "image/png": "[encoded data removed]",
      "text/plain": [
       "<Figure size 432x288 with 1 Axes>"
      ]
     },
     "metadata": {
      "needs_background": "light"
     },
     "output_type": "display_data"
    }
   ],
   "source": [
    "test_mc = 20\n",
    "test_q = 4\n",
    "test_s1 = [0.,0.2,-0.]\n",
    "test_s2 = [0.,0.15,-0.1]\n",
    "test_ecc = 0\n",
    "test_lambda1 = 0\n",
    "test_lambda2 = 0\n",
    "test_iota = 1.9\n",
    "test_phiref = 0.6\n",
    "\n",
    "pyroq.testrep(b_linear, emp_nodes, test_mc, test_q, test_s1, test_s2, test_ecc, test_lambda1, test_lambda2, test_iota, test_phiref, distance, deltaF, f_min, f_max, waveFlags, approximant)\n"
   ]
  },
  {
   "cell_type": "code",
   "execution_count": 10,
   "metadata": {},
   "outputs": [],
   "source": [
    "nsamples = 1000 # testing nsamples random samples in parameter space to see their representation surrogate errors\n",
    "surros = pyroq.surros_of_test_samples(nsamples, nparams, params_low, params_high, tolerance, b_linear, emp_nodes, distance, deltaF, f_min, f_max, waveFlags, approximant)\n",
    "# If a surrogate error is larger than tolerance, it will be reported on the screen."
   ]
  },
  {
   "cell_type": "code",
   "execution_count": 11,
   "metadata": {},
   "outputs": [
    {
     "data": {
      "image/png": "[encoded data removed]",
      "text/plain": [
       "<Figure size 432x288 with 1 Axes>"
      ]
     },
     "metadata": {
      "needs_background": "light"
     },
     "output_type": "display_data"
    }
   ],
   "source": [
    "plt.semilogy(surros,'o',color='black')\n",
    "plt.xlabel(\"Number of Random Test Points\")\n",
    "plt.ylabel(\"Surrogate Error\")\n",
    "plt.title(\"IMRPhenomPv2\")\n",
    "plt.savefig(\"SurrogateErrorsRandomTestPoints.png\")\n",
    "plt.show()"
   ]
  },
  {
   "cell_type": "markdown",
   "metadata": {},
   "source": [
    "# Search for quadratic basis elements to build & save quadratic ROQ data."
   ]
  },
  {
   "cell_type": "code",
   "execution_count": 12,
   "metadata": {},
   "outputs": [
    {
     "name": "stdout",
     "output_type": "stream",
     "text": [
      "Quadratic Iter:  0\n",
      "Quadratic Iter:  1\n",
      "Quadratic Iter:  2\n",
      "Quadratic Iter:  3\n",
      "Quadratic Iter:  4\n",
      "Quadratic Iter:  5\n",
      "Quadratic Iter:  6\n",
      "Quadratic Iter:  7\n",
      "Quadratic Iter:  8\n",
      "Quadratic Iter:  9\n",
      "Quadratic Iter:  10\n",
      "Quadratic Iter:  11\n",
      "Quadratic Iter:  12\n",
      "Quadratic Iter:  13\n",
      "Quadratic Iter:  14\n",
      "Quadratic Iter:  15\n",
      "Quadratic Iter:  16\n",
      "Quadratic Iter:  17\n",
      "Quadratic Iter:  18\n",
      "Quadratic Iter:  19\n",
      "Quadratic Iter:  20\n",
      "Quadratic Iter:  21\n",
      "Quadratic Iter:  22\n",
      "Quadratic Iter:  23\n",
      "Quadratic Iter:  24\n",
      "Quadratic Iter:  25\n",
      "Quadratic Iter:  26\n",
      "Quadratic Iter:  27\n",
      "Quadratic Iter:  28\n",
      "Quadratic Iter:  29\n",
      "Quadratic Iter:  30\n",
      "Quadratic Iter:  31\n",
      "Quadratic Iter:  32\n",
      "Quadratic Iter:  33\n",
      "Quadratic Iter:  34\n",
      "Quadratic Iter:  35\n",
      "Quadratic Iter:  36\n",
      "Quadratic Iter:  37\n",
      "Quadratic Iter:  38\n",
      "Quadratic Iter:  39\n",
      "Quadratic Iter:  40\n",
      "Quadratic Iter:  41\n",
      "Quadratic Iter:  42\n",
      "Quadratic Iter:  43\n",
      "Quadratic Iter:  44\n",
      "Quadratic Iter:  45\n",
      "Quadratic Iter:  46\n",
      "Quadratic Iter:  47\n",
      "Quadratic Iter:  48\n",
      "Quadratic Iter:  49\n",
      "Quadratic Iter:  50\n",
      "Quadratic Iter:  51\n",
      "Quadratic Iter:  52\n",
      "Quadratic Iter:  53\n",
      "Quadratic Iter:  54\n",
      "Quadratic Iter:  55\n",
      "Quadratic Iter:  56\n",
      "Quadratic Iter:  57\n",
      "Quadratic Iter:  58\n"
     ]
    }
   ],
   "source": [
    "hp1_quad = (numpy.absolute(hp1))**2\n",
    "known_quad_bases_start = numpy.array([hp1_quad/numpy.sqrt(numpy.vdot(hp1_quad,hp1_quad))])\n",
    "basis_waveforms_quad_start = numpy.array([hp1_quad])\n",
    "residual_modula_start = numpy.array([0.0])\n",
    "known_quad_bases,params_quad,residual_modula_quad = pyroq.bases_searching_quadratic_results_unnormalized(npts, nparams, nbases_quad, known_quad_bases_start, basis_waveforms_quad_start, params_start, residual_modula_start, params_low, params_high, distance, deltaF, f_min, f_max, waveFlags, approximant)\n",
    "known_quad_bases_copy = known_quad_bases\n"
   ]
  },
  {
   "cell_type": "code",
   "execution_count": 13,
   "metadata": {},
   "outputs": [],
   "source": [
    "points = numpy.random.uniform(params_low, params_high, size=(npts,nparams))\n"
   ]
  },
  {
   "cell_type": "code",
   "execution_count": 14,
   "metadata": {},
   "outputs": [
    {
     "name": "stdout",
     "output_type": "stream",
     "text": [
      "20 basis elements gave 687 bad points of surrogate error >  1e-10\n",
      "30 basis elements gave 137 bad points of surrogate error >  1e-10\n",
      "40 basis elements gave 8 bad points of surrogate error >  1e-10\n",
      "50 basis elements gave 4 bad points of surrogate error >  1e-10\n",
      "60 basis elements gave 0 bad points of surrogate error >  1e-10\n",
      "Number of quadratic basis elements is  60 and the linear ROQ data save in B_quadratic.npy\n"
     ]
    }
   ],
   "source": [
    "pyroq.roqs_quad(tolerance_quad, freq, ndimlow_quad, ndimhigh_quad, ndimstepsize_quad, known_quad_bases, nts, nparams, params_low, params_high, distance, deltaF, f_min, f_max, waveFlags, approximant)\n"
   ]
  },
  {
   "cell_type": "code",
   "execution_count": 15,
   "metadata": {},
   "outputs": [],
   "source": [
    "fnodes_quad = numpy.load('./fnodes_quadratic.npy')\n",
    "b_quad = numpy.transpose(numpy.load('./B_quadratic.npy'))\n",
    "ndim_quad = b_quad.shape[1]\n",
    "freq = numpy.arange(f_min, f_max, deltaF)\n",
    "emp_nodes_quad = numpy.searchsorted(freq, fnodes_quad)\n"
   ]
  },
  {
   "cell_type": "code",
   "execution_count": 16,
   "metadata": {},
   "outputs": [
    {
     "data": {
      "image/png": "[encoded data removed]",
      "text/plain": [
       "<Figure size 432x288 with 1 Axes>"
      ]
     },
     "metadata": {
      "needs_background": "light"
     },
     "output_type": "display_data"
    }
   ],
   "source": [
    "test_mc_quad =20\n",
    "test_q_quad = 1\n",
    "test_s1_quad = [0.0, 0.0, 0.0]\n",
    "test_s2_quad = [0.0, 0.0, 0.0]\n",
    "test_ecc_quad = 0\n",
    "test_lambda1_quad = 0\n",
    "test_lambda2_quad = 0\n",
    "test_iota_quad = 1.9\n",
    "test_phiref_quad = 0.6\n",
    "\n",
    "pyroq.testrep_quad(b_quad, emp_nodes_quad, test_mc_quad, test_q_quad, test_s1_quad, test_s2_quad, test_ecc_quad, test_lambda1_quad, test_lambda2_quad, test_iota_quad, test_phiref_quad, distance, deltaF, f_min, f_max, waveFlags, approximant)\n"
   ]
  },
  {
   "cell_type": "code",
   "execution_count": null,
   "metadata": {},
   "outputs": [],
   "source": []
  },
  {
   "cell_type": "code",
   "execution_count": null,
   "metadata": {},
   "outputs": [],
   "source": []
  }
 ],
 "metadata": {
  "kernelspec": {
   "display_name": "ligo-py36",
   "language": "python",
   "name": "ligo-py36"
  },
  "language_info": {
   "codemirror_mode": {
    "name": "ipython",
    "version": 3
   },
   "file_extension": ".py",
   "mimetype": "text/x-python",
   "name": "python",
   "nbconvert_exporter": "python",
   "pygments_lexer": "ipython3",
   "version": "3.6.7"
  }
 },
 "nbformat": 4,
 "nbformat_minor": 4
}
