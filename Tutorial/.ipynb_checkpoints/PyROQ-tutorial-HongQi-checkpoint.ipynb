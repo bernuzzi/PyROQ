{
 "cells": [
  {
   "cell_type": "code",
   "execution_count": 19,
   "metadata": {},
   "outputs": [
    {
     "name": "stdout",
     "output_type": "stream",
     "text": [
      "Collecting PyROQ==0.1.24\n",
      "  Downloading https://files.pythonhosted.org/packages/b5/e5/2abbe09f469ed2aae96e259cc7377a7eacb30e33fbf5ed337320f6ca3fc5/PyROQ-0.1.24-py3-none-any.whl\n",
      "Installing collected packages: PyROQ\n",
      "  Found existing installation: PyROQ 0.1.23\n",
      "    Uninstalling PyROQ-0.1.23:\n",
      "      Successfully uninstalled PyROQ-0.1.23\n",
      "Successfully installed PyROQ-0.1.24\n"
     ]
    }
   ],
   "source": [
    "!pip install --user PyROQ==0.1.24"
   ]
  },
  {
   "cell_type": "code",
   "execution_count": 1,
   "metadata": {},
   "outputs": [],
   "source": [
    "import numpy\n",
    "import numpy as np\n",
    "import scipy\n",
    "%matplotlib inline\n",
    "import matplotlib\n",
    "import matplotlib.pyplot as plt\n",
    "import lal\n",
    "import lalsimulation\n",
    "from lal.lal import PC_SI as LAL_PC_SI\n",
    "import h5py\n",
    "import warnings\n",
    "import random\n",
    "warnings.filterwarnings('ignore')\n",
    "import matplotlib.pylab as pylab\n",
    "plot_params = {'legend.fontsize': 'x-large',\n",
    "          'figure.figsize': (15, 9),\n",
    "         'axes.labelsize': 'x-large',\n",
    "         'axes.titlesize':'x-large',\n",
    "         'xtick.labelsize':'x-large',\n",
    "         'ytick.labelsize':'x-large'}\n",
    "pylab.rcParams.update(plot_params)\n",
    "from mpl_toolkits.mplot3d import axes3d\n",
    "import PyROQ.pyroq as pyroq\n",
    "#import pyroq as pyroq"
   ]
  },
  {
   "cell_type": "markdown",
   "metadata": {},
   "source": [
    "# Setting up boundary conditions and tolerance requirements."
   ]
  },
  {
   "cell_type": "code",
   "execution_count": 2,
   "metadata": {},
   "outputs": [
    {
     "name": "stdout",
     "output_type": "stream",
     "text": [
      "mass-min, mass-max:  [16.437518295172257, 49.31255488551677]\n"
     ]
    }
   ],
   "source": [
    "mc_low = 20\n",
    "mc_high = 30\n",
    "q_low = 1\n",
    "q_high = 2\n",
    "s1sphere_low = [0, 0, 0]\n",
    "s1sphere_high = [0.2, numpy.pi, 2.0*numpy.pi]\n",
    "s2sphere_low = [0, 0, 0]\n",
    "s2sphere_high = [0.2, numpy.pi, 2.0*numpy.pi]\n",
    "ecc_low = 0.0\n",
    "ecc_high = 0.2\n",
    "lambda1_low = 0\n",
    "lambda1_high = 1000\n",
    "lambda2_low = 0\n",
    "lambda2_high = 1000\n",
    "iota_low = 0\n",
    "iota_high = numpy.pi\n",
    "phiref_low = 0\n",
    "phiref_high = 2*numpy.pi\n",
    "f_min = 20\n",
    "f_max = 1024\n",
    "deltaF = 1/4.\n",
    "distance = 10 * LAL_PC_SI * 1.0e6  # 10 Mpc is default \n",
    "waveFlags = lal.CreateDict()\n",
    "\n",
    "approximant = lalsimulation.IMRPhenomPv2\n",
    "print(\"mass-min, mass-max: \", pyroq.massrange(mc_low, mc_high, q_low, q_high))\n",
    "\n",
    "npts = 100 # Specify the number of points for each search for a new basis element\n",
    "          # For diagnostic testing, 30 -100 is fine. \n",
    "          # For real ROQs computation, this can be 300 to 1000, roughly comparable to the number of basis elments.\n",
    "          # What value to choose depends on the nature of the waveform, such as how many features it has. \n",
    "          # It also depends on the parameter space and the signal length. \n",
    "nts = 1000 # Number of random test waveforms\n",
    "          # For diagnostics, 1000 is fine.\n",
    "          # For real ROQs calculation, set it to be 1000000.\n",
    "\n",
    "nbases = 100 # Specify the number of linear basis elements\n",
    "ndimlow = 40 # Starting number of basis elements used to check if tolerance is satisfied\n",
    "ndimhigh = nbases+1\n",
    "ndimstepsize = 10 # Number of linear basis elements increament to get the basis satisfying the tolerance\n",
    "tolerance = 1e-8 # Surrogage error threshold for linear basis elements\n",
    "\n",
    "nbases_quad = 60 # Specify the number of quadratic basis elements, depending on the tolerance_quad, usually two thirds of that for linear basis\n",
    "ndimlow_quad = 20\n",
    "ndimhigh_quad = nbases_quad+1\n",
    "ndimstepsize_quad = 10\n",
    "tolerance_quad = 1e-10 # Surrogage error threshold for quadratic basis elements"
   ]
  },
  {
   "cell_type": "code",
   "execution_count": 3,
   "metadata": {},
   "outputs": [],
   "source": [
    "freq = numpy.arange(f_min,f_max,deltaF)\n",
    "nparams, params_low, params_high, params_start, hp1 = pyroq.initial_basis(mc_low, mc_high, q_low, q_high, s1sphere_low, s1sphere_high, \\\n",
    "                  s2sphere_low, s2sphere_high, ecc_low, ecc_high, lambda1_low, lambda1_high,\\\n",
    "                 lambda2_low, lambda2_high, iota_low, iota_high, phiref_low, phiref_high, distance, deltaF, f_min, f_max, waveFlags, approximant)\n"
   ]
  },
  {
   "cell_type": "code",
   "execution_count": 4,
   "metadata": {},
   "outputs": [
    {
     "name": "stdout",
     "output_type": "stream",
     "text": [
      "[24.02248868  6.00562217]\n"
     ]
    }
   ],
   "source": [
    "mmin=pyroq.get_m1m2_from_mcq(10,4)\n",
    "print(mmin)"
   ]
  },
  {
   "cell_type": "code",
   "execution_count": 5,
   "metadata": {},
   "outputs": [
    {
     "name": "stdout",
     "output_type": "stream",
     "text": [
      "10\n",
      "4016\n"
     ]
    }
   ],
   "source": [
    "print(nparams)\n",
    "print(len(freq))"
   ]
  },
  {
   "cell_type": "markdown",
   "metadata": {},
   "source": [
    "# Search for linear basis elements to build and save linear ROQ data in the local directory."
   ]
  },
  {
   "cell_type": "code",
   "execution_count": 6,
   "metadata": {},
   "outputs": [
    {
     "name": "stdout",
     "output_type": "stream",
     "text": [
      "The parameters are Mc, q, s1(mag, theta, phi), s2(mag, theta, phi), iota, and phiRef\n",
      "\n",
      "Linear Iter:  0 [29.553321  1.231524  0.036799  1.3788    2.239153  0.172997  2.216392\n",
      "  1.60838   0.076602  2.585852]\n",
      "Linear Iter:  1 [2.9936964e+01 1.3243400e+00 4.3655000e-02 2.8819430e+00 3.3046770e+00\n",
      " 2.9756000e-02 1.3613940e+00 2.4698490e+00 2.9432600e+00 4.2247230e+00]\n",
      "Linear Iter:  2 [2.044956e+01 1.326672e+00 1.483270e-01 9.239120e-01 6.239430e+00\n",
      " 5.669000e-03 1.613846e+00 2.595065e+00 5.486400e-02 6.173384e+00]\n",
      "Linear Iter:  3 [26.813224  1.216458  0.166228  1.397782  3.453478  0.134596  1.044732\n",
      "  0.380205  0.130121  1.880114]\n",
      "Linear Iter:  4 [25.383436  1.363796  0.129119  2.987759  2.10709   0.029037  1.240473\n",
      "  2.524214  2.904882  0.349045]\n",
      "Linear Iter:  5 [28.544906  1.265552  0.125668  0.202792  0.940604  0.06837   1.090325\n",
      "  0.669127  0.189032  5.634288]\n",
      "Linear Iter:  6 [2.8241174e+01 1.4003510e+00 1.5801700e-01 2.6895300e-01 5.0273420e+00\n",
      " 2.3074000e-02 1.2625900e-01 6.2561750e+00 3.0590700e-01 1.3572610e+00]\n",
      "Linear Iter:  7 [2.5031171e+01 1.2642040e+00 1.5315000e-02 2.6614200e-01 3.0281970e+00\n",
      " 1.1872000e-01 1.1036500e+00 4.3307680e+00 3.2908400e-01 2.2457200e+00]\n",
      "Linear Iter:  8 [25.347196  1.158327  0.170991  1.217863  2.404349  0.085302  0.9211\n",
      "  1.081328  2.13058   4.882345]\n",
      "Linear Iter:  9 [23.352539  1.411692  0.068323  2.198543  2.561712  0.097137  0.083017\n",
      "  1.863822  0.209834  3.3498  ]\n",
      "Linear Iter:  10 [2.2655229e+01 1.9672620e+00 3.0783000e-02 8.4275400e-01 3.5951140e+00\n",
      " 6.9020000e-03 2.0669280e+00 4.2822500e+00 2.4219600e-01 6.0608270e+00]\n",
      "Linear Iter:  11 [22.148783  1.395544  0.022992  2.968245  2.600856  0.086487  3.139557\n",
      "  4.661736  0.074437  4.047505]\n",
      "Linear Iter:  12 [2.2764599e+01 1.2450200e+00 1.7414000e-02 6.6447200e-01 4.7616130e+00\n",
      " 1.3429400e-01 1.3515790e+00 5.3356900e-01 3.0231100e+00 1.3199540e+00]\n",
      "Linear Iter:  13 [21.121517  1.673541  0.057161  0.510718  4.083471  0.19512   1.098978\n",
      "  3.727672  0.081041  3.193807]\n",
      "Linear Iter:  14 [20.25746   1.81909   0.170317  1.689173  1.961725  0.142504  2.87336\n",
      "  4.018352  0.177085  1.530013]\n",
      "Linear Iter:  15 [29.876759  1.663912  0.174098  2.901763  2.135669  0.176525  2.095873\n",
      "  0.70596   3.004884  1.681459]\n",
      "Linear Iter:  16 [28.64157   1.709346  0.07713   1.577371  2.975381  0.184103  1.513109\n",
      "  0.590378  3.041452  4.400956]\n",
      "Linear Iter:  17 [21.611732  1.134872  0.062925  2.493124  1.912139  0.039834  2.405321\n",
      "  3.163041  2.924704  3.356463]\n",
      "Linear Iter:  18 [21.413554  1.531503  0.046667  0.099865  2.013288  0.132027  2.818171\n",
      "  1.473471  0.831999  5.096367]\n",
      "Linear Iter:  19 [20.516417  1.057391  0.052603  0.363013  4.720461  0.034451  2.7283\n",
      "  2.538295  3.021583  4.560883]\n",
      "Linear Iter:  20 [20.174972  1.205257  0.14873   1.485816  4.041022  0.127561  0.516431\n",
      "  1.414921  1.239903  3.90031 ]\n",
      "Linear Iter:  21 [29.789463  1.944011  0.159726  1.995352  1.37298   0.0799    0.974295\n",
      "  3.806724  2.871727  1.161494]\n",
      "Linear Iter:  22 [29.614833  1.912548  0.170997  2.916178  4.010814  0.146655  2.641439\n",
      "  0.650393  2.218371  6.27229 ]\n",
      "Linear Iter:  23 [20.28375   1.132939  0.140249  0.14728   4.682809  0.153088  0.13354\n",
      "  0.48234   0.955468  5.193627]\n",
      "Linear Iter:  24 [2.4237597e+01 1.1826160e+00 2.8632000e-02 1.8172650e+00 1.1171360e+00\n",
      " 1.6329800e-01 1.3813320e+00 5.0378970e+00 1.7150000e-02 4.6392630e+00]\n",
      "Linear Iter:  25 [27.659319  1.800752  0.075688  2.836629  2.11697   0.150399  0.975347\n",
      "  1.907636  0.183082  2.416777]\n",
      "Linear Iter:  26 [20.223869  1.489244  0.198394  0.682947  3.178623  0.13485   0.091049\n",
      "  1.279104  2.080524  6.189192]\n",
      "Linear Iter:  27 [25.670467  1.241139  0.119762  3.033089  4.677497  0.142885  0.52371\n",
      "  4.58029   2.50986   5.36345 ]\n",
      "Linear Iter:  28 [2.9412265e+01 1.8178150e+00 5.3011000e-02 1.5859000e-02 3.0201480e+00\n",
      " 6.4812000e-02 2.7367660e+00 4.7145500e+00 2.4350600e-01 4.1813380e+00]\n",
      "Linear Iter:  29 [29.359162  1.067234  0.182891  2.777161  5.844899  0.165182  3.137746\n",
      "  0.940832  0.044772  5.342655]\n",
      "Linear Iter:  30 [2.0200551e+01 1.9900370e+00 1.2713100e-01 1.2350720e+00 8.9189900e-01\n",
      " 1.6806000e-02 1.4146220e+00 3.4159720e+00 4.9926300e-01 2.8727250e+00]\n",
      "Linear Iter:  31 [24.219295  1.066923  0.196298  1.126083  5.175201  0.137739  0.244733\n",
      "  4.131792  0.708859  1.931031]\n",
      "Linear Iter:  32 [22.456068  1.516588  0.159985  0.187219  4.737889  0.08736   0.333822\n",
      "  2.213244  0.263959  5.691347]\n",
      "Linear Iter:  33 [29.754748  1.758058  0.18475   2.398918  5.575021  0.17654   0.672004\n",
      "  5.747046  0.924403  2.139039]\n",
      "Linear Iter:  34 [27.911306  1.731728  0.179188  2.786713  1.051768  0.127807  2.862918\n",
      "  0.860125  0.496107  5.045687]\n",
      "Linear Iter:  35 [20.2606    1.948788  0.149249  0.235952  2.181047  0.14782   0.934124\n",
      "  4.703554  2.818644  0.902226]\n",
      "Linear Iter:  36 [24.330539  1.135343  0.179955  0.306086  1.064698  0.121977  2.737111\n",
      "  1.184259  0.336598  2.53233 ]\n",
      "Linear Iter:  37 [2.6446832e+01 1.3988760e+00 4.4390000e-03 1.6030040e+00 3.0318630e+00\n",
      " 1.8495200e-01 2.7411700e+00 1.9488920e+00 1.8551700e-01 4.2665240e+00]\n",
      "Linear Iter:  38 [29.745556  1.479928  0.197314  3.029509  0.320988  0.036715  1.70346\n",
      "  2.018465  2.651152  4.581109]\n",
      "Linear Iter:  39 [20.414761  1.074819  0.193655  0.565246  4.679653  0.123688  0.787607\n",
      "  4.3283    2.136461  3.453095]\n",
      "Linear Iter:  40 [26.468124  1.01502   0.100577  2.706738  4.982886  0.146415  2.573993\n",
      "  4.049698  0.545297  3.353392]\n",
      "Linear Iter:  41 [2.7751513e+01 1.3328520e+00 9.4696000e-02 2.2274600e-01 4.5745010e+00\n",
      " 1.1692600e-01 7.1986900e-01 3.9512330e+00 5.5390000e-03 2.9823030e+00]\n",
      "Linear Iter:  42 [22.375243  1.892932  0.12255   2.960787  0.859821  0.064374  2.618239\n",
      "  1.270781  0.904727  0.763433]\n",
      "Linear Iter:  43 [27.342041  1.754765  0.168865  0.348338  1.90212   0.171359  0.725358\n",
      "  3.345158  2.849882  4.707046]\n",
      "Linear Iter:  44 [2.1963302e+01 1.4237160e+00 1.5449000e-01 4.4461100e-01 3.4788550e+00\n",
      " 1.3456700e-01 7.4886200e-01 2.2841200e-01 6.4656300e-01 9.2490000e-03]\n",
      "Linear Iter:  45 [29.29954   1.106216  0.136734  1.068174  4.787165  0.155599  1.096187\n",
      "  3.404573  2.690301  6.150184]\n",
      "Linear Iter:  46 [21.04208   1.291383  0.141558  0.352492  5.514362  0.161255  0.851672\n",
      "  5.112872  0.086304  5.406336]\n",
      "Linear Iter:  47 [2.0039816e+01 1.6238520e+00 1.7915400e-01 1.4309400e-01 4.3673290e+00\n",
      " 7.1600000e-03 3.0524880e+00 3.5381210e+00 2.0637630e+00 5.3931050e+00]\n",
      "Linear Iter:  48 [22.875585  1.67931   0.118329  0.149894  4.544619  0.105131  1.067514\n",
      "  4.869723  3.080015  3.514635]\n",
      "Linear Iter:  49 [27.420738  1.265342  0.11749   2.676195  4.289711  0.12048   1.34651\n",
      "  4.202083  0.132928  0.063953]\n",
      "Linear Iter:  50 [29.849912  1.936746  0.178115  0.567889  3.735834  0.076719  1.198639\n",
      "  5.855035  0.678494  3.198435]\n",
      "Linear Iter:  51 [2.0740736e+01 1.1381370e+00 3.9870000e-02 1.3286290e+00 4.0032260e+00\n",
      " 1.5826000e-02 2.6339820e+00 4.2940280e+00 4.8055400e-01 5.9582770e+00]\n",
      "Linear Iter:  52 [26.205159  1.830176  0.086565  1.871552  2.820895  0.116255  1.338267\n",
      "  2.008751  2.971058  5.958824]\n",
      "Linear Iter:  53 [20.325921  1.367706  0.128903  0.588943  1.045822  0.144043  0.841209\n",
      "  2.99452   0.071846  1.040726]\n",
      "Linear Iter:  54 [29.990806  1.890332  0.121385  2.734812  4.389039  0.05027   0.491873\n",
      "  2.804504  0.032342  3.272403]\n",
      "Linear Iter:  55 [23.762967  1.912358  0.13792   1.14483   5.521617  0.111299  0.322789\n",
      "  0.541926  0.260869  5.955142]\n",
      "Linear Iter:  56 [29.858114  1.624095  0.147311  0.276563  1.381969  0.189751  1.577719\n",
      "  4.385191  2.282198  6.194828]\n",
      "Linear Iter:  57 [27.54264   1.961837  0.085517  2.021645  1.966604  0.135115  0.773973\n",
      "  5.733701  2.761645  4.281352]\n",
      "Linear Iter:  58 [2.1615892e+01 1.0062830e+00 1.6572800e-01 8.6383500e-01 4.8569160e+00\n",
      " 1.3350000e-01 7.3611400e-01 2.3667370e+00 1.8958000e-02 5.9778670e+00]\n",
      "Linear Iter:  59 [22.648866  1.902531  0.198192  2.827295  3.11423   0.091499  2.912245\n",
      "  0.201199  2.782316  1.487414]\n",
      "Linear Iter:  60 [2.9971985e+01 1.8191360e+00 1.8035700e-01 2.5393240e+00 3.5015190e+00\n",
      " 8.2730000e-03 2.9401110e+00 3.0492670e+00 2.7843630e+00 5.0203350e+00]\n",
      "Linear Iter:  61 [29.50004   1.469709  0.161964  0.101805  1.558916  0.151661  2.383217\n",
      "  4.656994  2.780106  4.471564]\n",
      "Linear Iter:  62 [29.831188  1.745024  0.153536  2.974414  0.950532  0.19247   1.88579\n",
      "  5.811037  2.041184  2.036769]\n",
      "Linear Iter:  63 [23.99836   1.948055  0.041041  2.436883  4.985487  0.15161   1.405405\n",
      "  4.520341  3.123148  5.975797]\n",
      "Linear Iter:  64 [22.233309  1.171216  0.096519  0.549645  4.212068  0.18172   0.644192\n",
      "  4.411068  2.489467  3.183039]\n",
      "Linear Iter:  65 [24.772618  1.934775  0.174589  3.114246  3.996165  0.140928  1.555855\n",
      "  4.716207  0.067431  5.232765]\n",
      "Linear Iter:  66 [2.5291883e+01 1.8446350e+00 6.1506000e-02 2.7725500e-01 5.5631280e+00\n",
      " 1.7535800e-01 1.2364400e-01 6.5196500e-01 2.4168000e-02 1.8361080e+00]\n",
      "Linear Iter:  67 [29.638834  1.950791  0.047299  0.717377  3.476022  0.126574  1.765917\n",
      "  4.41751   0.677039  5.293421]\n",
      "Linear Iter:  68 [20.437314  1.952681  0.177885  2.166999  3.685128  0.046387  2.901497\n",
      "  3.827581  2.867877  6.223405]\n",
      "Linear Iter:  69 [29.062481  1.785436  0.072713  2.982268  5.035847  0.148401  0.305249\n",
      "  2.050258  0.216997  4.150024]\n",
      "Linear Iter:  70 [21.422212  1.17655   0.031996  3.126088  2.875497  0.145214  3.009627\n",
      "  1.268167  3.129414  4.475729]\n",
      "Linear Iter:  71 [2.9829585e+01 1.9707390e+00 1.1923900e-01 2.4276710e+00 3.1489260e+00\n",
      " 2.9483000e-02 1.5171370e+00 3.9768910e+00 2.9797520e+00 4.9758500e-01]\n",
      "Linear Iter:  72 [2.9500461e+01 1.2037400e+00 1.8003800e-01 6.6550000e-03 7.2265600e-01\n",
      " 1.5510500e-01 9.4886800e-01 2.8994800e-01 1.1819100e-01 3.2994560e+00]\n",
      "Linear Iter:  73 [21.504708  1.898514  0.125708  2.509689  4.102425  0.10387   2.606986\n",
      "  3.659213  0.387542  0.94632 ]\n",
      "Linear Iter:  74 [21.108156  1.054268  0.157976  2.107156  4.971544  0.119256  1.409421\n",
      "  5.58278   3.079682  5.209491]\n",
      "Linear Iter:  75 [20.118543  1.33414   0.196845  0.140533  5.035585  0.094762  3.125001\n",
      "  5.780563  0.418301  0.475036]\n",
      "Linear Iter:  76 [21.085731  1.108864  0.156812  0.48472   1.348233  0.180786  0.043849\n",
      "  2.231302  2.685301  3.635835]\n",
      "Linear Iter:  77 [26.286359  1.926226  0.146121  2.486674  3.618047  0.095184  2.403448\n",
      "  1.674612  0.090282  4.120462]\n",
      "Linear Iter:  78 [25.213108  1.836175  0.192092  0.60753   0.586611  0.189993  0.596126\n",
      "  3.28427   0.161821  4.756838]\n",
      "Linear Iter:  79 [28.203314  1.879513  0.19387   2.299637  2.762432  0.09725   3.009107\n",
      "  1.751616  0.777864  1.217641]\n",
      "Linear Iter:  80 [2.4607653e+01 1.3492240e+00 1.9118200e-01 2.3060030e+00 4.7825340e+00\n",
      " 1.9767000e-02 1.6638150e+00 2.7552100e-01 3.0018840e+00 3.3359980e+00]\n",
      "Linear Iter:  81 [26.560593  1.268702  0.145337  0.131559  0.633254  0.140449  1.161994\n",
      "  4.405342  0.740564  1.135517]\n",
      "Linear Iter:  82 [20.039247  1.485321  0.115289  2.097676  4.272288  0.065815  0.714393\n",
      "  3.557365  2.56666   0.882519]\n",
      "Linear Iter:  83 [24.96716   1.990307  0.164725  0.976575  1.454584  0.114987  2.184183\n",
      "  5.529082  0.025044  5.016912]\n",
      "Linear Iter:  84 [29.934853  1.910607  0.192288  2.531802  0.186885  0.106654  1.349162\n",
      "  0.709177  0.433489  3.120112]\n",
      "Linear Iter:  85 [2.2064747e+01 1.6519570e+00 1.1607000e-01 7.5164100e-01 5.9010240e+00\n",
      " 2.2160000e-03 2.8639230e+00 4.3150230e+00 3.6674300e-01 6.0879220e+00]\n",
      "Linear Iter:  86 [21.194843  1.015398  0.168052  0.308844  5.559532  0.188595  0.833692\n",
      "  3.681019  0.152212  4.869144]\n",
      "Linear Iter:  87 [20.32132   1.440895  0.074734  0.292723  0.976304  0.190959  0.575884\n",
      "  0.437611  2.815923  0.555865]\n",
      "Linear Iter:  88 [22.37138   1.731396  0.161752  2.985215  4.583372  0.145438  1.146552\n",
      "  3.70053   2.740085  1.65211 ]\n",
      "Linear Iter:  89 [28.102987  1.023109  0.17202   0.037649  4.676491  0.045725  0.858975\n",
      "  5.841858  0.243458  3.104793]\n",
      "Linear Iter:  90 [23.05003   1.988032  0.132042  0.276679  5.325292  0.189155  0.369931\n",
      "  0.416835  1.986832  1.733958]\n",
      "Linear Iter:  91 [2.9976405e+01 1.7359140e+00 1.8441900e-01 2.4606930e+00 1.6393760e+00\n",
      " 2.6639000e-02 1.2533090e+00 2.8896400e+00 2.1135080e+00 1.9394420e+00]\n",
      "Linear Iter:  92 [29.85288   1.046325  0.042817  1.26035   5.211088  0.191615  0.889038\n",
      "  1.634238  2.850522  3.62928 ]\n",
      "Linear Iter:  93 [20.132554  1.76699   0.075397  0.216265  4.651836  0.028748  0.065477\n",
      "  2.322241  2.532825  0.682933]\n",
      "Linear Iter:  94 [20.126597  1.030994  0.033569  0.07372   4.668428  0.176968  0.315918\n",
      "  6.208073  0.054608  0.077548]\n",
      "Linear Iter:  95 [21.620179  1.787139  0.033341  0.92415   4.081883  0.089928  1.566667\n",
      "  1.56564   0.094872  1.098417]\n",
      "Linear Iter:  96 [2.8500229e+01 1.8770620e+00 2.5390000e-03 1.6172240e+00 2.2527430e+00\n",
      " 1.8923300e-01 8.1307500e-01 1.1740890e+00 3.0914690e+00 9.8557800e-01]\n",
      "Linear Iter:  97 [28.577076  1.969426  0.199399  2.916288  2.635868  0.056944  1.77847\n",
      "  1.634088  0.452426  1.799117]\n",
      "Linear Iter:  98 [29.938878  1.83281   0.19786   2.403158  5.814653  0.151257  2.83493\n",
      "  1.746733  1.591259  6.170767]\n",
      "(100, 4016) [0.00000000e+00 2.58706459e-20 5.02237085e-20 3.25862941e-20\n",
      " 2.43605356e-20 3.69181718e-20 2.65258023e-20 4.30790566e-20\n",
      " 2.25772527e-20 2.24673213e-20 2.06311922e-20 3.38185548e-20\n",
      " 2.14313477e-20 2.82172652e-20 2.00270294e-20 3.08985817e-20\n",
      " 2.37476592e-20 2.19214572e-20 1.83970105e-20 2.40467117e-20\n",
      " 7.05104682e-21 9.62240773e-21 7.51922727e-21 1.67522793e-20\n",
      " 5.67625079e-21 3.06890669e-21 2.66369823e-21 3.60755462e-21\n",
      " 8.78442032e-22 8.02117790e-22 6.11947855e-22 6.85969405e-22\n",
      " 6.76566125e-22 7.71407098e-22 3.50407108e-22 2.68342440e-22\n",
      " 2.23341502e-22 1.69691865e-22 1.05769843e-22 1.33215369e-22\n",
      " 8.69933135e-23 7.37743368e-23 6.97534403e-23 3.07049935e-23\n",
      " 3.07288536e-23 4.16993358e-23 2.03968379e-23 3.67717602e-23\n",
      " 3.66679607e-23 2.55003114e-23 1.17798313e-23 1.86418784e-23\n",
      " 2.04242731e-23 1.52955678e-23 1.26905033e-23 1.75053709e-23\n",
      " 8.69840282e-24 8.74319869e-24 1.00275772e-23 8.17965605e-24\n",
      " 7.97660890e-24 7.80921130e-24 5.81607085e-24 6.50579652e-24\n",
      " 4.54923297e-24 4.50736985e-24 5.29182889e-24 3.87395868e-24\n",
      " 3.13600252e-24 3.71403020e-24 3.61553612e-24 3.67363909e-24\n",
      " 3.51774492e-24 3.20440434e-24 1.98109584e-24 2.24783159e-24\n",
      " 2.44561889e-24 3.18470162e-24 2.42081353e-24 2.12686057e-24\n",
      " 2.20235674e-24 1.87963852e-24 1.83236876e-24 1.87319215e-24\n",
      " 1.57820034e-24 2.61386984e-24 1.37862670e-24 1.66152775e-24\n",
      " 1.36613135e-24 1.24783243e-24 1.48580935e-24 1.02018715e-24\n",
      " 1.90498946e-24 1.31714300e-24 1.10461221e-24 1.38549918e-24\n",
      " 1.09650009e-24 8.37398136e-25 1.16727789e-24 2.33249426e-24]\n"
     ]
    }
   ],
   "source": [
    "known_bases_start = numpy.array([hp1/numpy.sqrt(numpy.vdot(hp1,hp1))])\n",
    "basis_waveforms_start = numpy.array([hp1])\n",
    "residual_modula_start = numpy.array([0.0])\n",
    "known_bases, params, residual_modula = pyroq.bases_searching_results_unnormalized(npts, nparams, nbases, known_bases_start, basis_waveforms_start, params_start, residual_modula_start, params_low, params_high, distance, deltaF, f_min, f_max, waveFlags, approximant)\n",
    "print(known_bases.shape, residual_modula)\n"
   ]
  },
  {
   "cell_type": "code",
   "execution_count": 7,
   "metadata": {},
   "outputs": [
    {
     "name": "stdout",
     "output_type": "stream",
     "text": [
      "40 basis elements gave 68 bad points of surrogate error >  1e-08\n",
      "50 basis elements gave 46 bad points of surrogate error >  1e-08\n",
      "60 basis elements gave 1 bad points of surrogate error >  1e-08\n",
      "70 basis elements gave 0 bad points of surrogate error >  1e-08\n",
      "Number of linear basis elements is  70 and the linear ROQ data are saved in B_linear.npy\n"
     ]
    }
   ],
   "source": [
    "pyroq.roqs(tolerance, freq, ndimlow, ndimhigh, ndimstepsize, known_bases, nts, nparams, params_low, params_high, distance, deltaF, f_min, f_max, waveFlags, approximant)\n"
   ]
  },
  {
   "cell_type": "code",
   "execution_count": 8,
   "metadata": {},
   "outputs": [
    {
     "name": "stdout",
     "output_type": "stream",
     "text": [
      "[[ 1.00000000e+00-1.95043981e-11j  8.28563884e-11+2.36468622e-11j\n",
      "  -4.36557457e-11+1.29261934e-10j ...  1.81898940e-12-3.18323146e-11j\n",
      "  -5.82076609e-11+6.54836185e-11j  8.73114914e-11+1.45519152e-11j]\n",
      " [ 1.31876732e-11+1.40971679e-11j  1.00000000e+00+5.27506927e-11j\n",
      "  -6.54836185e-11-8.54925020e-11j ...  4.55031568e-11+1.81898940e-11j\n",
      "  -2.54658516e-11-8.00355338e-11j -2.18278728e-11+1.30967237e-10j]\n",
      " [ 1.59161573e-12+1.36424205e-12j -3.63797881e-12+1.81898940e-12j\n",
      "   1.00000000e+00-2.91038305e-11j ...  0.00000000e+00+2.72848411e-12j\n",
      "  -2.91038305e-11-4.00177669e-11j -2.18278728e-11+7.27595761e-11j]\n",
      " ...\n",
      " [ 0.00000000e+00+0.00000000e+00j  0.00000000e+00+0.00000000e+00j\n",
      "   0.00000000e+00+0.00000000e+00j ...  0.00000000e+00+0.00000000e+00j\n",
      "   0.00000000e+00+0.00000000e+00j  0.00000000e+00+0.00000000e+00j]\n",
      " [ 0.00000000e+00+0.00000000e+00j  0.00000000e+00+0.00000000e+00j\n",
      "   0.00000000e+00+0.00000000e+00j ...  0.00000000e+00+0.00000000e+00j\n",
      "   0.00000000e+00+0.00000000e+00j  0.00000000e+00+0.00000000e+00j]\n",
      " [ 0.00000000e+00+0.00000000e+00j  0.00000000e+00+0.00000000e+00j\n",
      "   0.00000000e+00+0.00000000e+00j ...  0.00000000e+00+0.00000000e+00j\n",
      "   0.00000000e+00+0.00000000e+00j  0.00000000e+00+0.00000000e+00j]]\n",
      "emp_nodes [   0    1    2    5    7   10   13   17   21   27   39   48   57   68\n",
      "   86   97  111  121  126  134  138  143  150  161  173  179  186  201\n",
      "  213  217  222  229  255  297  382  451  532  656  719  740  749  764\n",
      "  789  803  811  832  851  871  886  905  921  948  966  987 1015 1037\n",
      " 1060 1082 1104 1135 1159 1188 1223 1257 1293 1331 1396 1520 1665 1854]\n"
     ]
    }
   ],
   "source": [
    "fnodes_linear = numpy.load('./fnodes_linear.npy')\n",
    "b_linear = numpy.transpose(numpy.load('./B_linear.npy'))\n",
    "ndim = b_linear.shape[1]\n",
    "freq = numpy.arange(f_min, f_max, deltaF)\n",
    "emp_nodes = numpy.searchsorted(freq, fnodes_linear)\n",
    "print(b_linear)\n",
    "print(\"emp_nodes\", emp_nodes)"
   ]
  },
  {
   "cell_type": "code",
   "execution_count": 9,
   "metadata": {},
   "outputs": [
    {
     "data": {
      "image/png": "[encoded data removed]",
      "text/plain": [
       "<Figure size 432x288 with 1 Axes>"
      ]
     },
     "metadata": {
      "needs_background": "light"
     },
     "output_type": "display_data"
    }
   ],
   "source": [
    "test_mc = 20\n",
    "test_q = 4\n",
    "test_s1 = [0.,0.2,-0.]\n",
    "test_s2 = [0.,0.15,-0.1]\n",
    "test_ecc = 0\n",
    "test_lambda1 = 0\n",
    "test_lambda2 = 0\n",
    "test_iota = 1.9\n",
    "test_phiref = 0.6\n",
    "\n",
    "pyroq.testrep(b_linear, emp_nodes, test_mc, test_q, test_s1, test_s2, test_ecc, test_lambda1, test_lambda2, test_iota, test_phiref, distance, deltaF, f_min, f_max, waveFlags, approximant)\n"
   ]
  },
  {
   "cell_type": "code",
   "execution_count": 10,
   "metadata": {},
   "outputs": [],
   "source": [
    "nsamples = 1000 # testing nsamples random samples in parameter space to see their representation surrogate errors\n",
    "surros = pyroq.surros_of_test_samples(nsamples, nparams, params_low, params_high, tolerance, b_linear, emp_nodes, distance, deltaF, f_min, f_max, waveFlags, approximant)\n",
    "# If a surrogate error is larger than tolerance, it will be reported on the screen."
   ]
  },
  {
   "cell_type": "code",
   "execution_count": 11,
   "metadata": {},
   "outputs": [
    {
     "data": {
      "image/png": "[encoded data removed]",
      "text/plain": [
       "<Figure size 432x288 with 1 Axes>"
      ]
     },
     "metadata": {
      "needs_background": "light"
     },
     "output_type": "display_data"
    }
   ],
   "source": [
    "plt.semilogy(surros,'o',color='black')\n",
    "plt.xlabel(\"Number of Random Test Points\")\n",
    "plt.ylabel(\"Surrogate Error\")\n",
    "plt.title(\"IMRPhenomPv2\")\n",
    "plt.savefig(\"SurrogateErrorsRandomTestPoints.png\")\n",
    "plt.show()"
   ]
  },
  {
   "cell_type": "markdown",
   "metadata": {},
   "source": [
    "# Search for quadratic basis elements to build & save quadratic ROQ data."
   ]
  },
  {
   "cell_type": "code",
   "execution_count": 12,
   "metadata": {},
   "outputs": [
    {
     "name": "stdout",
     "output_type": "stream",
     "text": [
      "Quadratic Iter:  0\n",
      "Quadratic Iter:  1\n",
      "Quadratic Iter:  2\n",
      "Quadratic Iter:  3\n",
      "Quadratic Iter:  4\n",
      "Quadratic Iter:  5\n",
      "Quadratic Iter:  6\n",
      "Quadratic Iter:  7\n",
      "Quadratic Iter:  8\n",
      "Quadratic Iter:  9\n",
      "Quadratic Iter:  10\n",
      "Quadratic Iter:  11\n",
      "Quadratic Iter:  12\n",
      "Quadratic Iter:  13\n",
      "Quadratic Iter:  14\n",
      "Quadratic Iter:  15\n",
      "Quadratic Iter:  16\n",
      "Quadratic Iter:  17\n",
      "Quadratic Iter:  18\n",
      "Quadratic Iter:  19\n",
      "Quadratic Iter:  20\n",
      "Quadratic Iter:  21\n",
      "Quadratic Iter:  22\n",
      "Quadratic Iter:  23\n",
      "Quadratic Iter:  24\n",
      "Quadratic Iter:  25\n",
      "Quadratic Iter:  26\n",
      "Quadratic Iter:  27\n",
      "Quadratic Iter:  28\n",
      "Quadratic Iter:  29\n",
      "Quadratic Iter:  30\n",
      "Quadratic Iter:  31\n",
      "Quadratic Iter:  32\n",
      "Quadratic Iter:  33\n",
      "Quadratic Iter:  34\n",
      "Quadratic Iter:  35\n",
      "Quadratic Iter:  36\n",
      "Quadratic Iter:  37\n",
      "Quadratic Iter:  38\n",
      "Quadratic Iter:  39\n",
      "Quadratic Iter:  40\n",
      "Quadratic Iter:  41\n",
      "Quadratic Iter:  42\n",
      "Quadratic Iter:  43\n",
      "Quadratic Iter:  44\n",
      "Quadratic Iter:  45\n",
      "Quadratic Iter:  46\n",
      "Quadratic Iter:  47\n",
      "Quadratic Iter:  48\n",
      "Quadratic Iter:  49\n",
      "Quadratic Iter:  50\n",
      "Quadratic Iter:  51\n",
      "Quadratic Iter:  52\n",
      "Quadratic Iter:  53\n",
      "Quadratic Iter:  54\n",
      "Quadratic Iter:  55\n",
      "Quadratic Iter:  56\n",
      "Quadratic Iter:  57\n",
      "Quadratic Iter:  58\n"
     ]
    }
   ],
   "source": [
    "hp1_quad = (numpy.absolute(hp1))**2\n",
    "known_quad_bases_start = numpy.array([hp1_quad/numpy.sqrt(numpy.vdot(hp1_quad,hp1_quad))])\n",
    "basis_waveforms_quad_start = numpy.array([hp1_quad])\n",
    "residual_modula_start = numpy.array([0.0])\n",
    "known_quad_bases,params_quad,residual_modula_quad = pyroq.bases_searching_quadratic_results_unnormalized(npts, nparams, nbases_quad, known_quad_bases_start, basis_waveforms_quad_start, params_start, residual_modula_start, params_low, params_high, distance, deltaF, f_min, f_max, waveFlags, approximant)\n",
    "known_quad_bases_copy = known_quad_bases\n"
   ]
  },
  {
   "cell_type": "code",
   "execution_count": 13,
   "metadata": {},
   "outputs": [],
   "source": [
    "points = numpy.random.uniform(params_low, params_high, size=(npts,nparams))\n"
   ]
  },
  {
   "cell_type": "code",
   "execution_count": 14,
   "metadata": {},
   "outputs": [
    {
     "name": "stdout",
     "output_type": "stream",
     "text": [
      "20 basis elements gave 833 bad points of surrogate error >  1e-10\n",
      "30 basis elements gave 19 bad points of surrogate error >  1e-10\n",
      "40 basis elements gave 2 bad points of surrogate error >  1e-10\n",
      "50 basis elements gave 1 bad points of surrogate error >  1e-10\n",
      "60 basis elements gave 1 bad points of surrogate error >  1e-10\n"
     ]
    }
   ],
   "source": [
    "pyroq.roqs_quad(tolerance_quad, freq, ndimlow_quad, ndimhigh_quad, ndimstepsize_quad, known_quad_bases, nts, nparams, params_low, params_high, distance, deltaF, f_min, f_max, waveFlags, approximant)\n"
   ]
  },
  {
   "cell_type": "code",
   "execution_count": 15,
   "metadata": {},
   "outputs": [],
   "source": [
    "fnodes_quad = numpy.load('./fnodes_quadratic.npy')\n",
    "b_quad = numpy.transpose(numpy.load('./B_quadratic.npy'))\n",
    "ndim_quad = b_quad.shape[1]\n",
    "freq = numpy.arange(f_min, f_max, deltaF)\n",
    "emp_nodes_quad = numpy.searchsorted(freq, fnodes_quad)\n"
   ]
  },
  {
   "cell_type": "code",
   "execution_count": 16,
   "metadata": {},
   "outputs": [
    {
     "data": {
      "image/png": "[encoded data removed]",
      "text/plain": [
       "<Figure size 432x288 with 1 Axes>"
      ]
     },
     "metadata": {
      "needs_background": "light"
     },
     "output_type": "display_data"
    }
   ],
   "source": [
    "test_mc_quad =20\n",
    "test_q_quad = 1\n",
    "test_s1_quad = [0.0, 0.0, 0.0]\n",
    "test_s2_quad = [0.0, 0.0, 0.0]\n",
    "test_ecc_quad = 0\n",
    "test_lambda1_quad = 0\n",
    "test_lambda2_quad = 0\n",
    "test_iota_quad = 1.9\n",
    "test_phiref_quad = 0.6\n",
    "\n",
    "pyroq.testrep_quad(b_quad, emp_nodes_quad, test_mc_quad, test_q_quad, test_s1_quad, test_s2_quad, test_ecc_quad, test_lambda1_quad, test_lambda2_quad, test_iota_quad, test_phiref_quad, distance, deltaF, f_min, f_max, waveFlags, approximant)\n"
   ]
  },
  {
   "cell_type": "code",
   "execution_count": null,
   "metadata": {},
   "outputs": [],
   "source": []
  }
 ],
 "metadata": {
  "kernelspec": {
   "display_name": "ligo-py36",
   "language": "python",
   "name": "ligo-py36"
  },
  "language_info": {
   "codemirror_mode": {
    "name": "ipython",
    "version": 3
   },
   "file_extension": ".py",
   "mimetype": "text/x-python",
   "name": "python",
   "nbconvert_exporter": "python",
   "pygments_lexer": "ipython3",
   "version": "3.6.7"
  }
 },
 "nbformat": 4,
 "nbformat_minor": 4
}
