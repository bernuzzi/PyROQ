{
 "cells": [
  {
   "cell_type": "code",
   "execution_count": 17,
   "metadata": {},
   "outputs": [
    {
     "name": "stdout",
     "output_type": "stream",
     "text": [
      "Collecting PyROQ==0.1.22\n",
      "  Downloading https://files.pythonhosted.org/packages/07/29/7793eaab4a7337b403e89bcb469eb509be71975baed8971602ba1c670c79/PyROQ-0.1.22-py3-none-any.whl\n",
      "Installing collected packages: PyROQ\n",
      "  Found existing installation: PyROQ 0.1.21\n",
      "    Uninstalling PyROQ-0.1.21:\n",
      "      Successfully uninstalled PyROQ-0.1.21\n",
      "Successfully installed PyROQ-0.1.22\n"
     ]
    }
   ],
   "source": [
    "!pip install --user PyROQ==0.1.22"
   ]
  },
  {
   "cell_type": "code",
   "execution_count": 17,
   "metadata": {},
   "outputs": [],
   "source": [
    "import numpy\n",
    "import numpy as np\n",
    "import scipy\n",
    "%matplotlib inline\n",
    "import matplotlib\n",
    "import matplotlib.pyplot as plt\n",
    "import lal\n",
    "import lalsimulation\n",
    "from lal.lal import PC_SI as LAL_PC_SI\n",
    "import h5py\n",
    "import warnings\n",
    "import random\n",
    "warnings.filterwarnings('ignore')\n",
    "import matplotlib.pylab as pylab\n",
    "plot_params = {'legend.fontsize': 'x-large',\n",
    "          'figure.figsize': (15, 9),\n",
    "         'axes.labelsize': 'x-large',\n",
    "         'axes.titlesize':'x-large',\n",
    "         'xtick.labelsize':'x-large',\n",
    "         'ytick.labelsize':'x-large'}\n",
    "pylab.rcParams.update(plot_params)\n",
    "from mpl_toolkits.mplot3d import axes3d\n",
    "#import PyROQ.pyroq as pyroq\n",
    "import pyroq as pyroq"
   ]
  },
  {
   "cell_type": "markdown",
   "metadata": {},
   "source": [
    "# Setting up boundary conditions and tolerance requirements."
   ]
  },
  {
   "cell_type": "code",
   "execution_count": 38,
   "metadata": {},
   "outputs": [
    {
     "name": "stdout",
     "output_type": "stream",
     "text": [
      "mass-min, mass-max:  [16.437518295172257, 49.31255488551677]\n"
     ]
    }
   ],
   "source": [
    "mc_low = 20\n",
    "mc_high = 30\n",
    "q_low = 1\n",
    "q_high = 2\n",
    "s1sphere_low = [0, 0, 0]\n",
    "s1sphere_high = [0.2, numpy.pi, 2.0*numpy.pi]\n",
    "s2sphere_low = [0, 0, 0]\n",
    "s2sphere_high = [0.2, numpy.pi, 2.0*numpy.pi]\n",
    "ecc_low = 0.0\n",
    "ecc_high = 0.2\n",
    "lambda1_low = 0\n",
    "lambda1_high = 1000\n",
    "lambda2_low = 0\n",
    "lambda2_high = 1000\n",
    "iota_low = 0\n",
    "iota_high = numpy.pi\n",
    "phiref_low = 0\n",
    "phiref_high = 2*numpy.pi\n",
    "f_min = 20\n",
    "f_max = 1024\n",
    "deltaF = 1/4.\n",
    "distance = 10 * LAL_PC_SI * 1.0e6  # 10 Mpc is default \n",
    "waveFlags = lal.CreateDict()\n",
    "\n",
    "\n",
    "#approximant = lalsimulation.IMRPhenomPv2_NRTidal\n",
    "approximant = lalsimulation.IMRPhenomPv2\n",
    "print(\"mass-min, mass-max: \", pyroq.massrange(mc_low, mc_high, q_low, q_high))\n",
    "\n",
    "npts = 100 # Specify the number of points for each search for a new basis element\n",
    "          # For diagnostic testing, 30 -100 is fine. \n",
    "          # For real ROQs computation, this can be 300 to 1000, roughly comparable to the number of basis elments.\n",
    "          # What value to choose depends on the nature of the waveform, such as how many features it has. \n",
    "          # It also depends on the parameter space and the signal length. \n",
    "nts = 1000 # Number of random test waveforms\n",
    "          # For diagnostics, 1000 is fine.\n",
    "          # For real ROQs calculation, set it to be 1000000.\n",
    "\n",
    "nbases = 100 # Specify the number of linear basis elements\n",
    "ndimlow = 30 # Starting number of basis elements used to check if tolerance is satisfied\n",
    "ndimhigh = nbases+1\n",
    "ndimstepsize = 10 # Number of linear basis elements increament to get the basis satisfying the tolerance\n",
    "tolerance = 1e-8 # Surrogage error threshold for linear basis elements\n",
    "\n",
    "nbases_quad = 60 # Specify the number of quadratic basis elements, usually half of that for linear basis\n",
    "ndimlow_quad = 20 \n",
    "ndimhigh_quad = nbases_quad+1\n",
    "ndimstepsize_quad = 10\n",
    "tolerance_quad = 1e-10 # Surrogage error threshold for quadratic basis elements"
   ]
  },
  {
   "cell_type": "code",
   "execution_count": 39,
   "metadata": {},
   "outputs": [],
   "source": [
    "freq = numpy.arange(f_min,f_max,deltaF)\n",
    "nparams, params_low, params_high, params_start, hp1 = pyroq.initial_basis(mc_low, mc_high, q_low, q_high, s1sphere_low, s1sphere_high, \\\n",
    "                  s2sphere_low, s2sphere_high, ecc_low, ecc_high, lambda1_low, lambda1_high,\\\n",
    "                 lambda2_low, lambda2_high, iota_low, iota_high, phiref_low, phiref_high, distance, deltaF, f_min, f_max, waveFlags, approximant)\n"
   ]
  },
  {
   "cell_type": "code",
   "execution_count": 40,
   "metadata": {},
   "outputs": [
    {
     "name": "stdout",
     "output_type": "stream",
     "text": [
      "[24.02248868  6.00562217]\n"
     ]
    }
   ],
   "source": [
    "mmin=pyroq.get_m1m2_from_mcq(10,4)\n",
    "print(mmin)"
   ]
  },
  {
   "cell_type": "code",
   "execution_count": 41,
   "metadata": {},
   "outputs": [
    {
     "name": "stdout",
     "output_type": "stream",
     "text": [
      "10\n",
      "4016\n"
     ]
    }
   ],
   "source": [
    "print(nparams)\n",
    "print(len(freq))"
   ]
  },
  {
   "cell_type": "markdown",
   "metadata": {},
   "source": [
    "# Search for linear basis elements to build and save linear ROQ data in the local directory."
   ]
  },
  {
   "cell_type": "code",
   "execution_count": 42,
   "metadata": {},
   "outputs": [
    {
     "name": "stdout",
     "output_type": "stream",
     "text": [
      "The parameters are Mc, q, s1(mag, theta, phi), s2(mag, theta, phi), iota, and phiRef\n",
      "\n",
      "Linear Iter:  0 [29.766733  1.943584  0.123555  0.28983   2.430086  0.147607  2.512808\n",
      "  0.759384  0.057552  6.220853]\n",
      "Linear Iter:  1 [29.402138  1.544756  0.169024  3.08886   6.280688  0.113023  0.311202\n",
      "  1.37606   0.213566  0.536273]\n",
      "Linear Iter:  2 [20.090309  1.108524  0.135088  0.331274  4.694721  0.069037  1.791337\n",
      "  3.661852  3.128042  3.280076]\n",
      "Linear Iter:  3 [28.925746  1.109742  0.097341  0.312711  5.375304  0.186956  0.194993\n",
      "  4.382643  2.965195  0.335176]\n",
      "Linear Iter:  4 [27.874668  1.017342  0.042467  3.030425  1.343576  0.088972  0.524646\n",
      "  4.262097  0.160561  0.520864]\n",
      "Linear Iter:  5 [25.809386  1.136676  0.086039  1.952923  2.691244  0.177048  2.25403\n",
      "  0.510595  0.282046  1.950099]\n",
      "Linear Iter:  6 [26.317884  1.238615  0.087258  1.05094   3.742049  0.161043  0.32008\n",
      "  0.79892   0.080322  3.604668]\n",
      "Linear Iter:  7 [2.4076632e+01 1.6963880e+00 3.7818000e-02 7.3338700e-01 3.9197800e-01\n",
      " 9.7980000e-03 2.9282110e+00 7.0228500e-01 7.7299000e-02 4.3913750e+00]\n",
      "Linear Iter:  8 [2.4779541e+01 1.5119070e+00 1.1994000e-02 1.8135800e+00 5.5846400e-01\n",
      " 9.5251000e-02 2.5992640e+00 5.0050570e+00 5.3975200e-01 3.1297110e+00]\n",
      "Linear Iter:  9 [23.325341  1.876684  0.076924  1.097197  0.235413  0.145219  1.17105\n",
      "  0.035182  3.078398  1.132028]\n",
      "Linear Iter:  10 [23.046768  1.725466  0.095974  0.66193   2.67731   0.028899  0.210893\n",
      "  6.076473  2.93954   2.416606]\n",
      "Linear Iter:  11 [22.330205  1.256021  0.08711   1.472677  1.789217  0.179092  2.341529\n",
      "  5.21691   3.08843   5.956769]\n",
      "Linear Iter:  12 [24.256676  1.128967  0.177721  0.209311  2.951767  0.158208  1.782514\n",
      "  6.072134  3.111392  2.142329]\n",
      "Linear Iter:  13 [20.82147   1.20792   0.056302  2.84444   0.278665  0.174646  0.77611\n",
      "  5.177634  0.060518  2.47158 ]\n",
      "Linear Iter:  14 [2.0892754e+01 1.1414380e+00 9.6090000e-03 2.0534980e+00 4.2240840e+00\n",
      " 9.4486000e-02 9.9048300e-01 6.5513000e-01 3.1252200e+00 1.1114280e+00]\n",
      "Linear Iter:  15 [21.148318  1.688418  0.071873  2.470488  3.272414  0.036175  2.585885\n",
      "  3.862094  2.869809  6.037481]\n",
      "Linear Iter:  16 [21.234202  1.443217  0.035709  1.473518  2.36707   0.143839  2.005443\n",
      "  5.870273  0.66805   1.77408 ]\n",
      "Linear Iter:  17 [2.9606312e+01 1.8828060e+00 1.7022200e-01 2.9957690e+00 5.0149970e+00\n",
      " 6.2870000e-03 2.7109010e+00 9.4836000e-01 5.5711400e-01 3.4694940e+00]\n",
      "Linear Iter:  18 [28.483431  1.997275  0.14392   1.541995  2.240236  0.146977  0.088073\n",
      "  2.941108  3.087253  5.885936]\n",
      "Linear Iter:  19 [21.769612  1.055796  0.088959  1.394051  5.871575  0.179815  2.140727\n",
      "  1.356903  3.011917  3.797602]\n",
      "Linear Iter:  20 [20.136091  1.219509  0.176153  1.669068  3.907554  0.039148  2.224511\n",
      "  4.833257  0.123217  1.975135]\n",
      "Linear Iter:  21 [29.895311  1.557609  0.129884  2.169212  1.03944   0.154651  2.81064\n",
      "  2.748698  0.260626  1.039186]\n",
      "Linear Iter:  22 [29.582051  1.595747  0.175984  1.296408  6.213147  0.081403  0.937819\n",
      "  4.947066  2.948957  2.266813]\n",
      "Linear Iter:  23 [20.170964  1.094129  0.168746  2.687262  6.043722  0.101782  0.650567\n",
      "  5.39674   0.122936  4.437412]\n",
      "Linear Iter:  24 [26.72072   1.391913  0.105325  0.514817  3.113136  0.02693   2.806158\n",
      "  1.571636  3.091289  6.144835]\n",
      "Linear Iter:  25 [20.033101  1.305305  0.179628  1.308525  1.347107  0.102189  0.676529\n",
      "  5.671364  2.204306  3.806799]\n",
      "Linear Iter:  26 [2.4843626e+01 1.7311560e+00 1.8953400e-01 2.1264200e-01 3.7630600e+00\n",
      " 1.1665100e-01 1.4640740e+00 6.0297310e+00 2.5470310e+00 1.9241000e-02]\n",
      "Linear Iter:  27 [20.498046  1.1341    0.190992  0.152273  1.221801  0.190122  0.22147\n",
      "  1.505289  2.292757  3.403942]\n",
      "Linear Iter:  28 [24.994043  1.289014  0.146471  0.591582  1.103309  0.042223  2.901918\n",
      "  0.804478  2.730619  4.792815]\n",
      "Linear Iter:  29 [2.9551409e+01 1.5718860e+00 1.4402900e-01 2.6929880e+00 1.6818310e+00\n",
      " 2.1359000e-02 2.7452640e+00 5.7347120e+00 1.0974000e-02 1.3207640e+00]\n",
      "Linear Iter:  30 [2.8100628e+01 1.5547440e+00 2.1226000e-02 2.5722910e+00 2.9296030e+00\n",
      " 1.8803000e-02 3.3410300e-01 4.0716350e+00 7.0653000e-02 7.8716000e-02]\n",
      "Linear Iter:  31 [23.179455  1.432844  0.167656  2.249478  0.92343   0.148939  2.086447\n",
      "  2.526205  2.663846  3.301062]\n",
      "Linear Iter:  32 [21.286929  1.051047  0.046352  1.484473  4.08676   0.054699  1.075899\n",
      "  3.3932    0.504921  2.576121]\n",
      "Linear Iter:  33 [28.588561  1.049882  0.059027  0.562656  0.91783   0.158909  2.8615\n",
      "  1.492243  2.944315  4.779006]\n",
      "Linear Iter:  34 [2.6733252e+01 1.9030780e+00 9.8050000e-03 1.6231140e+00 5.4789440e+00\n",
      " 1.8550900e-01 2.1851690e+00 4.2973290e+00 2.4138300e-01 3.3294920e+00]\n",
      "Linear Iter:  35 [20.237624  1.239142  0.078794  1.220191  5.182236  0.176806  0.137437\n",
      "  1.479695  0.363254  5.990128]\n",
      "Linear Iter:  36 [21.116992  1.347835  0.150419  0.394879  1.546888  0.192932  0.365852\n",
      "  4.036307  0.482334  5.537624]\n",
      "Linear Iter:  37 [29.873076  1.310805  0.136494  3.001258  3.739414  0.15027   2.378728\n",
      "  1.206199  0.636083  2.980973]\n",
      "Linear Iter:  38 [29.940424  1.806577  0.138862  2.265715  1.821731  0.065221  2.128599\n",
      "  6.25439   2.490022  4.902276]\n",
      "Linear Iter:  39 [22.219927  1.153061  0.124765  0.719779  3.613035  0.050035  2.607882\n",
      "  5.452261  0.056824  5.605028]\n",
      "Linear Iter:  40 [28.013759  1.95595   0.195048  2.005499  0.553973  0.065643  2.514729\n",
      "  4.650581  2.56968   3.131364]\n",
      "Linear Iter:  41 [23.272496  1.530768  0.128369  0.239885  0.39451   0.053129  3.008767\n",
      "  2.92463   2.517506  4.615506]\n",
      "Linear Iter:  42 [29.928242  1.07817   0.191723  2.272337  3.406948  0.0591    2.592155\n",
      "  6.139799  1.439935  1.865727]\n",
      "Linear Iter:  43 [29.328073  1.97508   0.082852  0.699078  5.796146  0.193013  3.055563\n",
      "  3.978721  2.981506  4.361328]\n",
      "Linear Iter:  44 [22.864787  1.910987  0.158428  2.432037  0.274351  0.161436  2.608745\n",
      "  3.254431  2.98955   0.109083]\n",
      "Linear Iter:  45 [29.899001  1.887737  0.199725  2.787526  0.977074  0.167749  2.626498\n",
      "  3.479876  1.357015  5.4236  ]\n",
      "Linear Iter:  46 [2.6708952e+01 1.7379410e+00 1.9423200e-01 1.3914460e+00 5.8284690e+00\n",
      " 1.5629000e-02 2.4436800e-01 1.0664520e+00 2.9244340e+00 4.7205550e+00]\n",
      "Linear Iter:  47 [20.78321   1.658846  0.184819  0.052206  5.82792   0.156501  0.175865\n",
      "  4.228445  2.7635    4.08799 ]\n",
      "Linear Iter:  48 [2.2711974e+01 1.1648590e+00 1.2800000e-01 1.5275570e+00 5.5702290e+00\n",
      " 1.5555000e-02 1.1569000e-02 2.1868990e+00 2.5088370e+00 5.8503800e+00]\n",
      "Linear Iter:  49 [24.471245  1.792242  0.159888  2.967675  3.202714  0.084924  1.624077\n",
      "  2.777129  3.013434  5.630821]\n",
      "Linear Iter:  50 [20.67042   1.048314  0.076603  0.709231  3.381362  0.029984  0.0692\n",
      "  3.742873  0.201046  3.407572]\n",
      "Linear Iter:  51 [22.123793  1.597568  0.182305  0.6433    4.425392  0.085979  0.698152\n",
      "  3.852893  0.375918  3.677749]\n",
      "Linear Iter:  52 [21.776353  1.44437   0.182174  0.206703  0.759772  0.023897  1.664329\n",
      "  0.378849  3.039486  2.740933]\n",
      "Linear Iter:  53 [28.216589  1.624997  0.180577  0.761723  4.789652  0.132614  0.351195\n",
      "  1.483784  0.053617  3.680061]\n",
      "Linear Iter:  54 [2.663898e+01 1.502339e+00 9.818700e-02 5.173200e-02 3.037711e+00\n",
      " 1.218600e-02 1.545530e-01 2.526179e+00 7.722880e-01 1.649481e+00]\n",
      "Linear Iter:  55 [29.891988  1.090566  0.104213  3.135782  5.431328  0.057654  2.759805\n",
      "  2.901659  2.962983  6.020907]\n",
      "Linear Iter:  56 [2.977454e+01 1.840619e+00 1.703500e-01 3.635930e-01 3.414052e+00\n",
      " 1.961800e-02 4.953050e-01 1.044255e+00 2.505396e+00 5.622166e+00]\n",
      "Linear Iter:  57 [20.260459  1.913135  0.124049  1.601252  3.982555  0.185723  1.967506\n",
      "  3.359729  3.004262  4.783235]\n",
      "Linear Iter:  58 [25.484897  1.989327  0.146508  0.097345  3.401542  0.107142  1.495977\n",
      "  0.891817  2.90934   4.365249]\n",
      "Linear Iter:  59 [24.099456  1.697271  0.121175  0.189229  3.283523  0.050629  1.481736\n",
      "  3.366922  0.449064  1.226682]\n",
      "Linear Iter:  60 [2.9963804e+01 1.9201390e+00 1.4807100e-01 2.7301170e+00 4.1933270e+00\n",
      " 2.5193000e-02 6.3480700e-01 4.0638540e+00 2.4685500e+00 4.3043130e+00]\n",
      "Linear Iter:  61 [2.1102857e+01 1.9620380e+00 1.8360900e-01 2.9635600e+00 1.0428930e+00\n",
      " 6.5110000e-03 1.6886200e+00 3.3907900e+00 4.2156300e-01 6.1514830e+00]\n",
      "Linear Iter:  62 [28.275315  1.567749  0.11536   0.49521   5.267684  0.053637  2.985716\n",
      "  5.320037  0.429896  2.419834]\n",
      "Linear Iter:  63 [28.207863  1.96984   0.169652  3.091886  0.893324  0.033779  1.570759\n",
      "  3.534888  3.115117  0.953244]\n",
      "Linear Iter:  64 [20.20705   1.014703  0.179722  0.649824  6.12094   0.19583   0.865357\n",
      "  5.377041  2.051294  5.084856]\n",
      "Linear Iter:  65 [20.150855  1.017658  0.194574  1.955187  6.068583  0.071256  2.909418\n",
      "  3.618157  2.820162  4.455038]\n",
      "Linear Iter:  66 [2.8006896e+01 1.7639090e+00 1.6658500e-01 2.9412060e+00 2.7772160e+00\n",
      " 1.3059000e-01 2.4133940e+00 5.6859610e+00 1.4499000e-02 3.1788080e+00]\n",
      "Linear Iter:  67 [24.127647  1.948503  0.1443    2.600395  2.587685  0.124807  0.791745\n",
      "  5.453589  0.2436    3.123365]\n",
      "Linear Iter:  68 [22.083311  1.857575  0.095787  2.906941  4.745543  0.115045  1.695207\n",
      "  4.927516  0.327549  3.138753]\n",
      "Linear Iter:  69 [20.19714   1.745168  0.180144  0.81954   5.338792  0.177672  0.925726\n",
      "  5.19087   2.994076  5.929521]\n",
      "Linear Iter:  70 [24.673704  1.127413  0.139142  2.894678  5.771822  0.114995  2.016148\n",
      "  6.214846  2.979463  2.600592]\n",
      "Linear Iter:  71 [20.62779   1.784906  0.136059  2.106862  2.306057  0.167537  0.788004\n",
      "  0.730924  0.045639  2.149386]\n",
      "Linear Iter:  72 [28.923804  1.826382  0.165568  2.563671  6.149788  0.13079   3.034151\n",
      "  4.038126  0.4143    2.358723]\n",
      "Linear Iter:  73 [2.0038899e+01 1.4356390e+00 1.3425500e-01 1.1085000e-02 6.1734780e+00\n",
      " 1.7482100e-01 6.0769700e-01 2.4029920e+00 1.3218080e+00 5.3056770e+00]\n",
      "Linear Iter:  74 [21.592856  1.39066   0.167596  0.156485  1.314352  0.171833  1.225681\n",
      "  5.473104  0.055208  2.166029]\n",
      "Linear Iter:  75 [28.147436  1.220163  0.149267  0.581236  1.462682  0.135856  0.215345\n",
      "  2.452904  0.463603  5.070731]\n",
      "Linear Iter:  76 [26.936813  1.153982  0.167063  2.382538  0.134458  0.104206  1.510651\n",
      "  2.940961  0.492902  2.728411]\n",
      "Linear Iter:  77 [29.939984  1.129265  0.154761  1.87003   4.851203  0.070586  2.245252\n",
      "  5.411765  1.718272  0.872945]\n",
      "Linear Iter:  78 [27.244801  1.897967  0.146432  2.288011  4.297071  0.143622  0.900821\n",
      "  2.715795  2.797223  5.212002]\n",
      "Linear Iter:  79 [23.696664  1.139377  0.185861  0.030582  3.790363  0.175955  0.175789\n",
      "  2.687277  0.036944  3.854699]\n",
      "Linear Iter:  80 [2.4650466e+01 1.4921140e+00 1.9613600e-01 2.2890000e-03 1.5716680e+00\n",
      " 1.6889100e-01 3.7076200e-01 1.3693400e+00 2.7454700e-01 1.9640480e+00]\n",
      "Linear Iter:  81 [25.945268  1.071155  0.060808  0.539157  5.078037  0.167115  0.751168\n",
      "  5.820928  0.272403  2.570242]\n",
      "Linear Iter:  82 [2.6492375e+01 1.3263300e+00 8.8935000e-02 2.3799100e-01 5.2455780e+00\n",
      " 8.9176000e-02 4.9767800e-01 3.7438800e-01 2.5760000e-03 2.4316480e+00]\n",
      "Linear Iter:  83 [29.999495  1.899557  0.114299  1.359616  4.192951  0.129023  2.212597\n",
      "  3.516714  2.633334  3.983161]\n",
      "Linear Iter:  84 [28.665884  1.414129  0.130159  2.138364  2.000168  0.110084  1.669972\n",
      "  0.62629   2.695853  3.175032]\n",
      "Linear Iter:  85 [26.811915  1.603661  0.151563  0.149913  3.501595  0.198313  1.070315\n",
      "  1.451654  3.117424  4.404662]\n",
      "Linear Iter:  86 [20.057623  1.363705  0.156478  0.602007  2.735635  0.15857   0.208627\n",
      "  5.171104  1.040942  3.663541]\n",
      "Linear Iter:  87 [29.898086  1.791812  0.140195  1.167252  0.477705  0.083811  0.125439\n",
      "  1.938903  0.091069  3.185766]\n",
      "Linear Iter:  88 [20.026465  1.603715  0.086377  0.203754  1.274931  0.160844  0.884528\n",
      "  6.271282  2.990015  2.427879]\n",
      "Linear Iter:  89 [29.27832   1.133256  0.087186  0.123713  2.432243  0.18093   0.530633\n",
      "  2.143794  3.029888  1.472956]\n",
      "Linear Iter:  90 [24.91998   1.017441  0.179962  3.083287  6.28147   0.090235  2.048527\n",
      "  3.73993   2.88027   5.586128]\n",
      "Linear Iter:  91 [20.636809  1.732587  0.171047  0.176874  1.270863  0.137405  0.17512\n",
      "  3.699206  0.306866  2.372206]\n",
      "Linear Iter:  92 [20.855013  1.103276  0.025197  0.386088  0.650107  0.157773  3.087026\n",
      "  6.030478  0.274854  0.390541]\n",
      "Linear Iter:  93 [21.485181  1.98812   0.163067  0.841033  0.193613  0.19173   1.111159\n",
      "  3.015472  2.77412   5.67265 ]\n",
      "Linear Iter:  94 [2.3434904e+01 1.3887950e+00 8.1700000e-04 7.3078100e-01 2.2316560e+00\n",
      " 2.3968000e-02 2.6054350e+00 3.3148000e-01 2.6719150e+00 3.3273240e+00]\n",
      "Linear Iter:  95 [26.692699  1.948041  0.103204  3.038491  1.53565   0.196548  2.938035\n",
      "  2.894891  0.202236  3.546589]\n",
      "Linear Iter:  96 [2.4094741e+01 1.1966460e+00 1.8256700e-01 3.9687900e-01 2.0591470e+00\n",
      " 1.9843900e-01 2.1517500e-01 6.4830000e-03 3.0534790e+00 4.5922530e+00]\n",
      "Linear Iter:  97 [21.91166   1.105051  0.175408  0.876946  1.80953   0.191813  0.226749\n",
      "  1.614254  2.468486  3.024089]\n",
      "Linear Iter:  98 [2.9039193e+01 1.0831650e+00 1.3090000e-02 9.0495200e-01 1.3647180e+00\n",
      " 1.7690100e-01 2.5028800e-01 4.5949210e+00 2.8865770e+00 4.7684600e-01]\n",
      "(100, 4016) [0.00000000e+00 2.58846648e-20 4.82489340e-20 3.61002099e-20\n",
      " 2.57602655e-20 4.76238824e-20 2.19218912e-20 3.80697473e-20\n",
      " 2.28392065e-20 2.65517653e-20 2.53082508e-20 2.91656395e-20\n",
      " 2.58723643e-20 2.39743436e-20 1.99513046e-20 3.30818375e-20\n",
      " 1.84134260e-20 2.86046013e-20 1.98165579e-20 2.61004393e-20\n",
      " 1.10065009e-20 1.01371930e-20 9.77391772e-21 6.10536561e-21\n",
      " 6.17110034e-21 3.59002636e-21 2.14321809e-21 1.50554019e-21\n",
      " 3.48648698e-21 9.93608000e-22 7.10056883e-22 8.07639714e-22\n",
      " 4.91621265e-22 6.53586809e-22 2.78370667e-22 3.82739586e-22\n",
      " 1.98204773e-22 3.31707710e-22 1.02868645e-22 1.73033955e-22\n",
      " 8.78996721e-23 1.04887410e-22 7.25165228e-23 3.39651619e-23\n",
      " 3.99613722e-23 3.08128087e-23 6.69189866e-23 3.43299397e-23\n",
      " 4.63919728e-23 2.19370010e-23 1.59282414e-23 1.66854294e-23\n",
      " 1.12621715e-23 1.38508292e-23 1.27109858e-23 9.55570997e-24\n",
      " 8.99610108e-24 1.11920841e-23 8.51474243e-24 7.10412551e-24\n",
      " 6.21051133e-24 8.59436163e-24 4.43668590e-24 4.46670308e-24\n",
      " 7.91608123e-24 8.70866160e-24 4.80886533e-24 4.45943606e-24\n",
      " 4.19799745e-24 3.11698807e-24 3.83924757e-24 2.77527155e-24\n",
      " 2.26734160e-24 3.85211879e-24 6.36445715e-24 2.24614284e-24\n",
      " 2.16326408e-24 2.65192446e-24 1.86431469e-24 1.94163122e-24\n",
      " 4.36988904e-24 1.93582538e-24 1.77369682e-24 1.73323055e-24\n",
      " 1.55665083e-24 1.89358354e-24 1.28589887e-24 6.43196039e-24\n",
      " 1.37093544e-24 1.22139030e-24 1.45641974e-24 1.50124484e-24\n",
      " 1.34355282e-24 1.23070844e-24 1.31804460e-24 9.02807401e-25\n",
      " 1.18483346e-24 1.24124036e-24 1.90931524e-24 8.02929284e-25]\n"
     ]
    }
   ],
   "source": [
    "known_bases_start = numpy.array([hp1/numpy.sqrt(numpy.vdot(hp1,hp1))])\n",
    "basis_waveforms_start = numpy.array([hp1])\n",
    "residual_modula_start = numpy.array([0.0])\n",
    "known_bases, params, residual_modula = pyroq.bases_searching_results_unnormalized(npts, nparams, nbases, known_bases_start, basis_waveforms_start, params_start, residual_modula_start, params_low, params_high, distance, deltaF, f_min, f_max, waveFlags, approximant)\n",
    "print(known_bases.shape, residual_modula)\n"
   ]
  },
  {
   "cell_type": "code",
   "execution_count": 43,
   "metadata": {},
   "outputs": [
    {
     "name": "stdout",
     "output_type": "stream",
     "text": [
      "30 basis elements gave 563 bad points of surrogate error >  1e-08\n",
      "40 basis elements gave 37 bad points of surrogate error >  1e-08\n",
      "50 basis elements gave 0 bad points of surrogate error >  1e-08\n",
      "Number of linear basis elements is  50 and the linear ROQ data save in B_linear.npy\n"
     ]
    }
   ],
   "source": [
    "pyroq.roqs(tolerance, freq, ndimlow, ndimhigh, ndimstepsize, known_bases, nts, nparams, params_low, params_high, distance, deltaF, f_min, f_max, waveFlags, approximant)\n"
   ]
  },
  {
   "cell_type": "code",
   "execution_count": 44,
   "metadata": {},
   "outputs": [
    {
     "name": "stdout",
     "output_type": "stream",
     "text": [
      "[[ 1.00000000e+00-2.72848411e-12j  2.18278728e-11-3.63797881e-12j\n",
      "  -2.18278728e-11-7.27595761e-12j ... -4.91127139e-11-1.45519152e-11j\n",
      "   0.00000000e+00+5.45696821e-11j  1.45519152e-11-1.45519152e-11j]\n",
      " [ 3.63797881e-12+2.27373675e-12j  1.00000000e+00+7.27595761e-12j\n",
      "  -1.45519152e-11+1.45519152e-11j ...  4.36557457e-11-3.63797881e-12j\n",
      "  -1.45519152e-11-3.63797881e-11j -3.63797881e-11+1.45519152e-11j]\n",
      " [-3.80850906e-12+1.81898940e-12j  1.45519152e-11+9.72022463e-12j\n",
      "   1.00000000e+00-2.18278728e-11j ... -1.45519152e-11+8.73114914e-11j\n",
      "   5.82076609e-11-5.09317033e-11j  2.91038305e-11-4.36557457e-11j]\n",
      " ...\n",
      " [ 0.00000000e+00+0.00000000e+00j  0.00000000e+00+0.00000000e+00j\n",
      "   0.00000000e+00+0.00000000e+00j ...  0.00000000e+00+0.00000000e+00j\n",
      "   0.00000000e+00+0.00000000e+00j  0.00000000e+00+0.00000000e+00j]\n",
      " [ 0.00000000e+00+0.00000000e+00j  0.00000000e+00+0.00000000e+00j\n",
      "   0.00000000e+00+0.00000000e+00j ...  0.00000000e+00+0.00000000e+00j\n",
      "   0.00000000e+00+0.00000000e+00j  0.00000000e+00+0.00000000e+00j]\n",
      " [ 0.00000000e+00+0.00000000e+00j  0.00000000e+00+0.00000000e+00j\n",
      "   0.00000000e+00+0.00000000e+00j ...  0.00000000e+00+0.00000000e+00j\n",
      "   0.00000000e+00+0.00000000e+00j  0.00000000e+00+0.00000000e+00j]]\n",
      "emp_nodes [   0    1    2    5    7   10   13   16   24   30   36   45   53   74\n",
      "   93  107  119  132  145  165  176  193  207  220  251  330  463  665\n",
      "  739  760  773  783  803  841  904  948  978 1005 1031 1056 1080 1124\n",
      " 1149 1194 1250 1288 1382 1458 1561 1698]\n"
     ]
    }
   ],
   "source": [
    "fnodes_linear = numpy.load('./fnodes_linear.npy')\n",
    "b_linear = numpy.transpose(numpy.load('./B_linear.npy'))\n",
    "ndim = b_linear.shape[1]\n",
    "freq = numpy.arange(f_min, f_max, deltaF)\n",
    "emp_nodes = numpy.searchsorted(freq, fnodes_linear)\n",
    "print(b_linear)\n",
    "print(\"emp_nodes\", emp_nodes)"
   ]
  },
  {
   "cell_type": "code",
   "execution_count": null,
   "metadata": {},
   "outputs": [],
   "source": [
    "test_mc = 20\n",
    "test_q = 4\n",
    "test_s1 = [0.,0.2,-0.]\n",
    "test_s2 = [0.,0.15,-0.1]\n",
    "test_ecc = 0\n",
    "test_lambda1 = 0\n",
    "test_lambda2 = 0\n",
    "test_iota = 1.9\n",
    "test_phiref = 0.6\n",
    "\n",
    "pyroq.testrep(b_linear, emp_nodes, test_mc, test_q, test_s1, test_s2, test_ecc, test_lambda1, test_lambda2, test_iota, test_phiref, distance, deltaF, f_min, f_max, waveFlags, approximant)\n"
   ]
  },
  {
   "cell_type": "code",
   "execution_count": 37,
   "metadata": {},
   "outputs": [],
   "source": [
    "nsamples = 1000 # testing nsamples random samples in parameter space to see their representation surrogate errors\n",
    "surros = pyroq.surros_of_test_samples(nsamples, nparams, params_low, params_high, tolerance, b_linear, emp_nodes, distance, deltaF, f_min, f_max, waveFlags, approximant)\n",
    "# If a surrogate error is larger than tolerance, it will be reported on the screen."
   ]
  },
  {
   "cell_type": "code",
   "execution_count": 11,
   "metadata": {},
   "outputs": [
    {
     "data": {
      "image/png": "[encoded data removed]",
      "text/plain": [
       "<Figure size 432x288 with 1 Axes>"
      ]
     },
     "metadata": {
      "needs_background": "light"
     },
     "output_type": "display_data"
    }
   ],
   "source": [
    "plt.semilogy(surros,'o',color='black')\n",
    "plt.xlabel(\"Number of Random Test Points\")\n",
    "plt.ylabel(\"Surrogate Error\")\n",
    "plt.title(\"IMRPhenomPv2\")\n",
    "plt.savefig(\"SurrogateErrorsRandomTestPoints.png\")\n",
    "plt.show()"
   ]
  },
  {
   "cell_type": "markdown",
   "metadata": {},
   "source": [
    "# Search for quadratic basis elements to build & save quadratic ROQ data."
   ]
  },
  {
   "cell_type": "code",
   "execution_count": 12,
   "metadata": {},
   "outputs": [
    {
     "name": "stdout",
     "output_type": "stream",
     "text": [
      "Quadratic Iter:  0\n",
      "Quadratic Iter:  1\n",
      "Quadratic Iter:  2\n",
      "Quadratic Iter:  3\n",
      "Quadratic Iter:  4\n",
      "Quadratic Iter:  5\n",
      "Quadratic Iter:  6\n",
      "Quadratic Iter:  7\n",
      "Quadratic Iter:  8\n",
      "Quadratic Iter:  9\n",
      "Quadratic Iter:  10\n",
      "Quadratic Iter:  11\n",
      "Quadratic Iter:  12\n",
      "Quadratic Iter:  13\n",
      "Quadratic Iter:  14\n",
      "Quadratic Iter:  15\n",
      "Quadratic Iter:  16\n",
      "Quadratic Iter:  17\n",
      "Quadratic Iter:  18\n",
      "Quadratic Iter:  19\n",
      "Quadratic Iter:  20\n",
      "Quadratic Iter:  21\n",
      "Quadratic Iter:  22\n",
      "Quadratic Iter:  23\n",
      "Quadratic Iter:  24\n",
      "Quadratic Iter:  25\n",
      "Quadratic Iter:  26\n",
      "Quadratic Iter:  27\n",
      "Quadratic Iter:  28\n",
      "Quadratic Iter:  29\n",
      "Quadratic Iter:  30\n",
      "Quadratic Iter:  31\n",
      "Quadratic Iter:  32\n",
      "Quadratic Iter:  33\n",
      "Quadratic Iter:  34\n",
      "Quadratic Iter:  35\n",
      "Quadratic Iter:  36\n",
      "Quadratic Iter:  37\n",
      "Quadratic Iter:  38\n",
      "Quadratic Iter:  39\n",
      "Quadratic Iter:  40\n",
      "Quadratic Iter:  41\n",
      "Quadratic Iter:  42\n",
      "Quadratic Iter:  43\n",
      "Quadratic Iter:  44\n",
      "Quadratic Iter:  45\n",
      "Quadratic Iter:  46\n",
      "Quadratic Iter:  47\n",
      "Quadratic Iter:  48\n",
      "Quadratic Iter:  49\n",
      "Quadratic Iter:  50\n",
      "Quadratic Iter:  51\n",
      "Quadratic Iter:  52\n",
      "Quadratic Iter:  53\n",
      "Quadratic Iter:  54\n",
      "Quadratic Iter:  55\n",
      "Quadratic Iter:  56\n",
      "Quadratic Iter:  57\n",
      "Quadratic Iter:  58\n"
     ]
    }
   ],
   "source": [
    "hp1_quad = (numpy.absolute(hp1))**2\n",
    "known_quad_bases_start = numpy.array([hp1_quad/numpy.sqrt(numpy.vdot(hp1_quad,hp1_quad))])\n",
    "basis_waveforms_quad_start = numpy.array([hp1_quad])\n",
    "residual_modula_start = numpy.array([0.0])\n",
    "known_quad_bases,params_quad,residual_modula_quad = pyroq.bases_searching_quadratic_results_unnormalized(npts, nparams, nbases_quad, known_quad_bases_start, basis_waveforms_quad_start, params_start, residual_modula_start, params_low, params_high, distance, deltaF, f_min, f_max, waveFlags, approximant)\n",
    "known_quad_bases_copy = known_quad_bases\n"
   ]
  },
  {
   "cell_type": "code",
   "execution_count": 13,
   "metadata": {},
   "outputs": [],
   "source": [
    "points = numpy.random.uniform(params_low, params_high, size=(npts,nparams))\n"
   ]
  },
  {
   "cell_type": "code",
   "execution_count": 14,
   "metadata": {},
   "outputs": [
    {
     "name": "stdout",
     "output_type": "stream",
     "text": [
      "20 basis elements gave 687 bad points of surrogate error >  1e-10\n",
      "30 basis elements gave 137 bad points of surrogate error >  1e-10\n",
      "40 basis elements gave 8 bad points of surrogate error >  1e-10\n",
      "50 basis elements gave 4 bad points of surrogate error >  1e-10\n",
      "60 basis elements gave 0 bad points of surrogate error >  1e-10\n",
      "Number of quadratic basis elements is  60 and the linear ROQ data save in B_quadratic.npy\n"
     ]
    }
   ],
   "source": [
    "pyroq.roqs_quad(tolerance_quad, freq, ndimlow_quad, ndimhigh_quad, ndimstepsize_quad, known_quad_bases, nts, nparams, params_low, params_high, distance, deltaF, f_min, f_max, waveFlags, approximant)\n"
   ]
  },
  {
   "cell_type": "code",
   "execution_count": 15,
   "metadata": {},
   "outputs": [],
   "source": [
    "fnodes_quad = numpy.load('./fnodes_quadratic.npy')\n",
    "b_quad = numpy.transpose(numpy.load('./B_quadratic.npy'))\n",
    "ndim_quad = b_quad.shape[1]\n",
    "freq = numpy.arange(f_min, f_max, deltaF)\n",
    "emp_nodes_quad = numpy.searchsorted(freq, fnodes_quad)\n"
   ]
  },
  {
   "cell_type": "code",
   "execution_count": 16,
   "metadata": {},
   "outputs": [
    {
     "data": {
      "image/png": "[encoded data removed]",
      "text/plain": [
       "<Figure size 432x288 with 1 Axes>"
      ]
     },
     "metadata": {
      "needs_background": "light"
     },
     "output_type": "display_data"
    }
   ],
   "source": [
    "test_mc_quad =20\n",
    "test_q_quad = 1\n",
    "test_s1_quad = [0.0, 0.0, 0.0]\n",
    "test_s2_quad = [0.0, 0.0, 0.0]\n",
    "test_ecc_quad = 0\n",
    "test_lambda1_quad = 0\n",
    "test_lambda2_quad = 0\n",
    "test_iota_quad = 1.9\n",
    "test_phiref_quad = 0.6\n",
    "\n",
    "pyroq.testrep_quad(b_quad, emp_nodes_quad, test_mc_quad, test_q_quad, test_s1_quad, test_s2_quad, test_ecc_quad, test_lambda1_quad, test_lambda2_quad, test_iota_quad, test_phiref_quad, distance, deltaF, f_min, f_max, waveFlags, approximant)\n"
   ]
  },
  {
   "cell_type": "code",
   "execution_count": null,
   "metadata": {},
   "outputs": [],
   "source": []
  },
  {
   "cell_type": "code",
   "execution_count": null,
   "metadata": {},
   "outputs": [],
   "source": []
  }
 ],
 "metadata": {
  "kernelspec": {
   "display_name": "ligo-py36",
   "language": "python",
   "name": "ligo-py36"
  },
  "language_info": {
   "codemirror_mode": {
    "name": "ipython",
    "version": 3
   },
   "file_extension": ".py",
   "mimetype": "text/x-python",
   "name": "python",
   "nbconvert_exporter": "python",
   "pygments_lexer": "ipython3",
   "version": "3.6.7"
  }
 },
 "nbformat": 4,
 "nbformat_minor": 4
}
